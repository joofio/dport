{
 "cells": [
  {
   "cell_type": "code",
   "execution_count": 1,
   "metadata": {},
   "outputs": [],
   "source": [
    "import pandas as pd\n",
    "import plotly.express as px\n",
    "from sklearn.neighbors import KNeighborsClassifier\n",
    "\n",
    "\n",
    "country = pd.read_csv('portugalworldpop.csv')\n"
   ]
  },
  {
   "cell_type": "code",
   "execution_count": 2,
   "metadata": {},
   "outputs": [],
   "source": [
    "def FetchGeotype(row):\n",
    "    if row['Z'] > 1500:\n",
    "        return 1\n",
    "    if row['Z'] == 0: ## unknown thar I want to cluster in 1 or 2\n",
    "        return 0\n",
    "    else:\n",
    "        return 2\n",
    "\n",
    "country['type_geo'] = country.apply(FetchGeotype, axis=1)"
   ]
  },
  {
   "cell_type": "code",
   "execution_count": 3,
   "metadata": {},
   "outputs": [
    {
     "data": {
      "application/vnd.plotly.v1+json": {
       "config": {
        "plotlyServerURL": "https://plot.ly"
       },
       "data": [
        {
         "hovertemplate": "Y=%{lat}<br>X=%{lon}<br>type_geo=%{marker.color}<extra></extra>",
         "lat": [
          39.82041669713844,
          39.81208336383844,
          39.803750030538446,
          39.803750030538446,
          39.79541669723845,
          39.79541669723845,
          39.78708336393844,
          39.78708336393844,
          39.78708336393844,
          39.77875003063844,
          39.77875003063844,
          39.77875003063844,
          39.77041669733844,
          39.77041669733844,
          39.77041669733844,
          39.762083364038446,
          39.762083364038446,
          39.753750030738445,
          39.753750030738445,
          39.74541669743844,
          39.74541669743844,
          39.74541669743844,
          39.74541669743844,
          39.73708336413844,
          39.73708336413844,
          39.73708336413844,
          39.72875003083844,
          39.72875003083844,
          39.72875003083844,
          39.72041669753844,
          39.72041669753844,
          39.72041669753844,
          39.72041669753844,
          39.712083364238445,
          39.712083364238445,
          39.712083364238445,
          39.712083364238445,
          39.70375003093845,
          39.70375003093845,
          39.70375003093845
         ],
         "legendgroup": "",
         "lon": [
          -9.005416634124979,
          -9.005416634124979,
          -9.01374996742498,
          -9.005416634124979,
          -9.01374996742498,
          -9.005416634124979,
          -9.022083300724985,
          -9.01374996742498,
          -9.005416634124979,
          -9.022083300724985,
          -9.01374996742498,
          -9.005416634124979,
          -9.022083300724985,
          -9.01374996742498,
          -9.005416634124979,
          -9.01374996742498,
          -9.005416634124979,
          -9.01374996742498,
          -9.005416634124979,
          -9.030416634024979,
          -9.022083300724985,
          -9.01374996742498,
          -9.005416634124979,
          -9.022083300724985,
          -9.01374996742498,
          -9.005416634124979,
          -9.022083300724985,
          -9.01374996742498,
          -9.005416634124979,
          -9.030416634024979,
          -9.022083300724985,
          -9.01374996742498,
          -9.005416634124979,
          -9.030416634024979,
          -9.022083300724985,
          -9.01374996742498,
          -9.005416634124979,
          -9.030416634024979,
          -9.022083300724985,
          -9.01374996742498
         ],
         "marker": {
          "color": [
           0,
           0,
           0,
           0,
           0,
           0,
           0,
           0,
           0,
           0,
           0,
           0,
           0,
           0,
           0,
           0,
           0,
           0,
           0,
           0,
           0,
           0,
           0,
           0,
           0,
           0,
           0,
           0,
           0,
           0,
           0,
           0,
           0,
           0,
           0,
           0,
           0,
           0,
           0,
           0
          ],
          "coloraxis": "coloraxis"
         },
         "mode": "markers",
         "name": "",
         "showlegend": false,
         "subplot": "mapbox",
         "type": "scattermapbox"
        }
       ],
       "layout": {
        "coloraxis": {
         "colorbar": {
          "title": {
           "text": "type_geo"
          }
         },
         "colorscale": [
          [
           0,
           "orange"
          ],
          [
           1,
           "red"
          ]
         ]
        },
        "height": 800,
        "legend": {
         "tracegroupgap": 0
        },
        "mapbox": {
         "center": {
          "lat": 39.75229169741094,
          "lon": -9.01437496742248
         },
         "domain": {
          "x": [
           0,
           1
          ],
          "y": [
           0,
           1
          ]
         },
         "style": "open-street-map",
         "zoom": 8
        },
        "margin": {
         "b": 0,
         "l": 0,
         "r": 0,
         "t": 0
        },
        "template": {
         "data": {
          "bar": [
           {
            "error_x": {
             "color": "#2a3f5f"
            },
            "error_y": {
             "color": "#2a3f5f"
            },
            "marker": {
             "line": {
              "color": "#E5ECF6",
              "width": 0.5
             },
             "pattern": {
              "fillmode": "overlay",
              "size": 10,
              "solidity": 0.2
             }
            },
            "type": "bar"
           }
          ],
          "barpolar": [
           {
            "marker": {
             "line": {
              "color": "#E5ECF6",
              "width": 0.5
             },
             "pattern": {
              "fillmode": "overlay",
              "size": 10,
              "solidity": 0.2
             }
            },
            "type": "barpolar"
           }
          ],
          "carpet": [
           {
            "aaxis": {
             "endlinecolor": "#2a3f5f",
             "gridcolor": "white",
             "linecolor": "white",
             "minorgridcolor": "white",
             "startlinecolor": "#2a3f5f"
            },
            "baxis": {
             "endlinecolor": "#2a3f5f",
             "gridcolor": "white",
             "linecolor": "white",
             "minorgridcolor": "white",
             "startlinecolor": "#2a3f5f"
            },
            "type": "carpet"
           }
          ],
          "choropleth": [
           {
            "colorbar": {
             "outlinewidth": 0,
             "ticks": ""
            },
            "type": "choropleth"
           }
          ],
          "contour": [
           {
            "colorbar": {
             "outlinewidth": 0,
             "ticks": ""
            },
            "colorscale": [
             [
              0,
              "#0d0887"
             ],
             [
              0.1111111111111111,
              "#46039f"
             ],
             [
              0.2222222222222222,
              "#7201a8"
             ],
             [
              0.3333333333333333,
              "#9c179e"
             ],
             [
              0.4444444444444444,
              "#bd3786"
             ],
             [
              0.5555555555555556,
              "#d8576b"
             ],
             [
              0.6666666666666666,
              "#ed7953"
             ],
             [
              0.7777777777777778,
              "#fb9f3a"
             ],
             [
              0.8888888888888888,
              "#fdca26"
             ],
             [
              1,
              "#f0f921"
             ]
            ],
            "type": "contour"
           }
          ],
          "contourcarpet": [
           {
            "colorbar": {
             "outlinewidth": 0,
             "ticks": ""
            },
            "type": "contourcarpet"
           }
          ],
          "heatmap": [
           {
            "colorbar": {
             "outlinewidth": 0,
             "ticks": ""
            },
            "colorscale": [
             [
              0,
              "#0d0887"
             ],
             [
              0.1111111111111111,
              "#46039f"
             ],
             [
              0.2222222222222222,
              "#7201a8"
             ],
             [
              0.3333333333333333,
              "#9c179e"
             ],
             [
              0.4444444444444444,
              "#bd3786"
             ],
             [
              0.5555555555555556,
              "#d8576b"
             ],
             [
              0.6666666666666666,
              "#ed7953"
             ],
             [
              0.7777777777777778,
              "#fb9f3a"
             ],
             [
              0.8888888888888888,
              "#fdca26"
             ],
             [
              1,
              "#f0f921"
             ]
            ],
            "type": "heatmap"
           }
          ],
          "heatmapgl": [
           {
            "colorbar": {
             "outlinewidth": 0,
             "ticks": ""
            },
            "colorscale": [
             [
              0,
              "#0d0887"
             ],
             [
              0.1111111111111111,
              "#46039f"
             ],
             [
              0.2222222222222222,
              "#7201a8"
             ],
             [
              0.3333333333333333,
              "#9c179e"
             ],
             [
              0.4444444444444444,
              "#bd3786"
             ],
             [
              0.5555555555555556,
              "#d8576b"
             ],
             [
              0.6666666666666666,
              "#ed7953"
             ],
             [
              0.7777777777777778,
              "#fb9f3a"
             ],
             [
              0.8888888888888888,
              "#fdca26"
             ],
             [
              1,
              "#f0f921"
             ]
            ],
            "type": "heatmapgl"
           }
          ],
          "histogram": [
           {
            "marker": {
             "pattern": {
              "fillmode": "overlay",
              "size": 10,
              "solidity": 0.2
             }
            },
            "type": "histogram"
           }
          ],
          "histogram2d": [
           {
            "colorbar": {
             "outlinewidth": 0,
             "ticks": ""
            },
            "colorscale": [
             [
              0,
              "#0d0887"
             ],
             [
              0.1111111111111111,
              "#46039f"
             ],
             [
              0.2222222222222222,
              "#7201a8"
             ],
             [
              0.3333333333333333,
              "#9c179e"
             ],
             [
              0.4444444444444444,
              "#bd3786"
             ],
             [
              0.5555555555555556,
              "#d8576b"
             ],
             [
              0.6666666666666666,
              "#ed7953"
             ],
             [
              0.7777777777777778,
              "#fb9f3a"
             ],
             [
              0.8888888888888888,
              "#fdca26"
             ],
             [
              1,
              "#f0f921"
             ]
            ],
            "type": "histogram2d"
           }
          ],
          "histogram2dcontour": [
           {
            "colorbar": {
             "outlinewidth": 0,
             "ticks": ""
            },
            "colorscale": [
             [
              0,
              "#0d0887"
             ],
             [
              0.1111111111111111,
              "#46039f"
             ],
             [
              0.2222222222222222,
              "#7201a8"
             ],
             [
              0.3333333333333333,
              "#9c179e"
             ],
             [
              0.4444444444444444,
              "#bd3786"
             ],
             [
              0.5555555555555556,
              "#d8576b"
             ],
             [
              0.6666666666666666,
              "#ed7953"
             ],
             [
              0.7777777777777778,
              "#fb9f3a"
             ],
             [
              0.8888888888888888,
              "#fdca26"
             ],
             [
              1,
              "#f0f921"
             ]
            ],
            "type": "histogram2dcontour"
           }
          ],
          "mesh3d": [
           {
            "colorbar": {
             "outlinewidth": 0,
             "ticks": ""
            },
            "type": "mesh3d"
           }
          ],
          "parcoords": [
           {
            "line": {
             "colorbar": {
              "outlinewidth": 0,
              "ticks": ""
             }
            },
            "type": "parcoords"
           }
          ],
          "pie": [
           {
            "automargin": true,
            "type": "pie"
           }
          ],
          "scatter": [
           {
            "marker": {
             "colorbar": {
              "outlinewidth": 0,
              "ticks": ""
             }
            },
            "type": "scatter"
           }
          ],
          "scatter3d": [
           {
            "line": {
             "colorbar": {
              "outlinewidth": 0,
              "ticks": ""
             }
            },
            "marker": {
             "colorbar": {
              "outlinewidth": 0,
              "ticks": ""
             }
            },
            "type": "scatter3d"
           }
          ],
          "scattercarpet": [
           {
            "marker": {
             "colorbar": {
              "outlinewidth": 0,
              "ticks": ""
             }
            },
            "type": "scattercarpet"
           }
          ],
          "scattergeo": [
           {
            "marker": {
             "colorbar": {
              "outlinewidth": 0,
              "ticks": ""
             }
            },
            "type": "scattergeo"
           }
          ],
          "scattergl": [
           {
            "marker": {
             "colorbar": {
              "outlinewidth": 0,
              "ticks": ""
             }
            },
            "type": "scattergl"
           }
          ],
          "scattermapbox": [
           {
            "marker": {
             "colorbar": {
              "outlinewidth": 0,
              "ticks": ""
             }
            },
            "type": "scattermapbox"
           }
          ],
          "scatterpolar": [
           {
            "marker": {
             "colorbar": {
              "outlinewidth": 0,
              "ticks": ""
             }
            },
            "type": "scatterpolar"
           }
          ],
          "scatterpolargl": [
           {
            "marker": {
             "colorbar": {
              "outlinewidth": 0,
              "ticks": ""
             }
            },
            "type": "scatterpolargl"
           }
          ],
          "scatterternary": [
           {
            "marker": {
             "colorbar": {
              "outlinewidth": 0,
              "ticks": ""
             }
            },
            "type": "scatterternary"
           }
          ],
          "surface": [
           {
            "colorbar": {
             "outlinewidth": 0,
             "ticks": ""
            },
            "colorscale": [
             [
              0,
              "#0d0887"
             ],
             [
              0.1111111111111111,
              "#46039f"
             ],
             [
              0.2222222222222222,
              "#7201a8"
             ],
             [
              0.3333333333333333,
              "#9c179e"
             ],
             [
              0.4444444444444444,
              "#bd3786"
             ],
             [
              0.5555555555555556,
              "#d8576b"
             ],
             [
              0.6666666666666666,
              "#ed7953"
             ],
             [
              0.7777777777777778,
              "#fb9f3a"
             ],
             [
              0.8888888888888888,
              "#fdca26"
             ],
             [
              1,
              "#f0f921"
             ]
            ],
            "type": "surface"
           }
          ],
          "table": [
           {
            "cells": {
             "fill": {
              "color": "#EBF0F8"
             },
             "line": {
              "color": "white"
             }
            },
            "header": {
             "fill": {
              "color": "#C8D4E3"
             },
             "line": {
              "color": "white"
             }
            },
            "type": "table"
           }
          ]
         },
         "layout": {
          "annotationdefaults": {
           "arrowcolor": "#2a3f5f",
           "arrowhead": 0,
           "arrowwidth": 1
          },
          "autotypenumbers": "strict",
          "coloraxis": {
           "colorbar": {
            "outlinewidth": 0,
            "ticks": ""
           }
          },
          "colorscale": {
           "diverging": [
            [
             0,
             "#8e0152"
            ],
            [
             0.1,
             "#c51b7d"
            ],
            [
             0.2,
             "#de77ae"
            ],
            [
             0.3,
             "#f1b6da"
            ],
            [
             0.4,
             "#fde0ef"
            ],
            [
             0.5,
             "#f7f7f7"
            ],
            [
             0.6,
             "#e6f5d0"
            ],
            [
             0.7,
             "#b8e186"
            ],
            [
             0.8,
             "#7fbc41"
            ],
            [
             0.9,
             "#4d9221"
            ],
            [
             1,
             "#276419"
            ]
           ],
           "sequential": [
            [
             0,
             "#0d0887"
            ],
            [
             0.1111111111111111,
             "#46039f"
            ],
            [
             0.2222222222222222,
             "#7201a8"
            ],
            [
             0.3333333333333333,
             "#9c179e"
            ],
            [
             0.4444444444444444,
             "#bd3786"
            ],
            [
             0.5555555555555556,
             "#d8576b"
            ],
            [
             0.6666666666666666,
             "#ed7953"
            ],
            [
             0.7777777777777778,
             "#fb9f3a"
            ],
            [
             0.8888888888888888,
             "#fdca26"
            ],
            [
             1,
             "#f0f921"
            ]
           ],
           "sequentialminus": [
            [
             0,
             "#0d0887"
            ],
            [
             0.1111111111111111,
             "#46039f"
            ],
            [
             0.2222222222222222,
             "#7201a8"
            ],
            [
             0.3333333333333333,
             "#9c179e"
            ],
            [
             0.4444444444444444,
             "#bd3786"
            ],
            [
             0.5555555555555556,
             "#d8576b"
            ],
            [
             0.6666666666666666,
             "#ed7953"
            ],
            [
             0.7777777777777778,
             "#fb9f3a"
            ],
            [
             0.8888888888888888,
             "#fdca26"
            ],
            [
             1,
             "#f0f921"
            ]
           ]
          },
          "colorway": [
           "#636efa",
           "#EF553B",
           "#00cc96",
           "#ab63fa",
           "#FFA15A",
           "#19d3f3",
           "#FF6692",
           "#B6E880",
           "#FF97FF",
           "#FECB52"
          ],
          "font": {
           "color": "#2a3f5f"
          },
          "geo": {
           "bgcolor": "white",
           "lakecolor": "white",
           "landcolor": "#E5ECF6",
           "showlakes": true,
           "showland": true,
           "subunitcolor": "white"
          },
          "hoverlabel": {
           "align": "left"
          },
          "hovermode": "closest",
          "mapbox": {
           "style": "light"
          },
          "paper_bgcolor": "white",
          "plot_bgcolor": "#E5ECF6",
          "polar": {
           "angularaxis": {
            "gridcolor": "white",
            "linecolor": "white",
            "ticks": ""
           },
           "bgcolor": "#E5ECF6",
           "radialaxis": {
            "gridcolor": "white",
            "linecolor": "white",
            "ticks": ""
           }
          },
          "scene": {
           "xaxis": {
            "backgroundcolor": "#E5ECF6",
            "gridcolor": "white",
            "gridwidth": 2,
            "linecolor": "white",
            "showbackground": true,
            "ticks": "",
            "zerolinecolor": "white"
           },
           "yaxis": {
            "backgroundcolor": "#E5ECF6",
            "gridcolor": "white",
            "gridwidth": 2,
            "linecolor": "white",
            "showbackground": true,
            "ticks": "",
            "zerolinecolor": "white"
           },
           "zaxis": {
            "backgroundcolor": "#E5ECF6",
            "gridcolor": "white",
            "gridwidth": 2,
            "linecolor": "white",
            "showbackground": true,
            "ticks": "",
            "zerolinecolor": "white"
           }
          },
          "shapedefaults": {
           "line": {
            "color": "#2a3f5f"
           }
          },
          "ternary": {
           "aaxis": {
            "gridcolor": "white",
            "linecolor": "white",
            "ticks": ""
           },
           "baxis": {
            "gridcolor": "white",
            "linecolor": "white",
            "ticks": ""
           },
           "bgcolor": "#E5ECF6",
           "caxis": {
            "gridcolor": "white",
            "linecolor": "white",
            "ticks": ""
           }
          },
          "title": {
           "x": 0.05
          },
          "xaxis": {
           "automargin": true,
           "gridcolor": "white",
           "linecolor": "white",
           "ticks": "",
           "title": {
            "standoff": 15
           },
           "zerolinecolor": "white",
           "zerolinewidth": 2
          },
          "yaxis": {
           "automargin": true,
           "gridcolor": "white",
           "linecolor": "white",
           "ticks": "",
           "title": {
            "standoff": 15
           },
           "zerolinecolor": "white",
           "zerolinewidth": 2
          }
         }
        },
        "width": 800
       }
      }
     },
     "metadata": {},
     "output_type": "display_data"
    }
   ],
   "source": [
    "\n",
    "unknown = country[country['type_geo'] == 0]\n",
    "unknown = unknown[(unknown.Y <= 39.87042) & (unknown.Y >= 39.70375) & (unknown.X <= -9.0030417) & (unknown.X >= -9.030417)] ## small sample to test\n",
    "\n",
    "country.dropna(axis=0, how='any', thresh=None, subset=None, inplace=True)\n",
    "color_scale = [(0, 'orange'), (1,'red')]\n",
    "\n",
    "fig = px.scatter_mapbox(unknown, lat=\"Y\", lon=\"X\", color=\"type_geo\", color_continuous_scale=color_scale, zoom=8, height=800, width=800)\n",
    "\n",
    "fig.update_layout(mapbox_style=\"open-street-map\")\n",
    "fig.update_layout(margin={\"r\":0,\"t\":0,\"l\":0,\"b\":0})\n",
    "fig.show()\n"
   ]
  },
  {
   "cell_type": "code",
   "execution_count": 5,
   "metadata": {},
   "outputs": [
    {
     "data": {
      "text/html": [
       "<div>\n",
       "<style scoped>\n",
       "    .dataframe tbody tr th:only-of-type {\n",
       "        vertical-align: middle;\n",
       "    }\n",
       "\n",
       "    .dataframe tbody tr th {\n",
       "        vertical-align: top;\n",
       "    }\n",
       "\n",
       "    .dataframe thead th {\n",
       "        text-align: right;\n",
       "    }\n",
       "</style>\n",
       "<table border=\"1\" class=\"dataframe\">\n",
       "  <thead>\n",
       "    <tr style=\"text-align: right;\">\n",
       "      <th></th>\n",
       "      <th>X</th>\n",
       "      <th>Y</th>\n",
       "    </tr>\n",
       "  </thead>\n",
       "  <tbody>\n",
       "    <tr>\n",
       "      <th>0</th>\n",
       "      <td>-8.197083</td>\n",
       "      <td>42.153750</td>\n",
       "    </tr>\n",
       "    <tr>\n",
       "      <th>1</th>\n",
       "      <td>-8.205417</td>\n",
       "      <td>42.145417</td>\n",
       "    </tr>\n",
       "    <tr>\n",
       "      <th>2</th>\n",
       "      <td>-8.197083</td>\n",
       "      <td>42.145417</td>\n",
       "    </tr>\n",
       "    <tr>\n",
       "      <th>3</th>\n",
       "      <td>-8.255417</td>\n",
       "      <td>42.137083</td>\n",
       "    </tr>\n",
       "    <tr>\n",
       "      <th>4</th>\n",
       "      <td>-8.247083</td>\n",
       "      <td>42.137083</td>\n",
       "    </tr>\n",
       "    <tr>\n",
       "      <th>...</th>\n",
       "      <td>...</td>\n",
       "      <td>...</td>\n",
       "    </tr>\n",
       "    <tr>\n",
       "      <th>140704</th>\n",
       "      <td>-15.863750</td>\n",
       "      <td>30.137083</td>\n",
       "    </tr>\n",
       "    <tr>\n",
       "      <th>140705</th>\n",
       "      <td>-16.038750</td>\n",
       "      <td>30.037083</td>\n",
       "    </tr>\n",
       "    <tr>\n",
       "      <th>140706</th>\n",
       "      <td>-16.030417</td>\n",
       "      <td>30.037083</td>\n",
       "    </tr>\n",
       "    <tr>\n",
       "      <th>140707</th>\n",
       "      <td>-16.022083</td>\n",
       "      <td>30.037083</td>\n",
       "    </tr>\n",
       "    <tr>\n",
       "      <th>140708</th>\n",
       "      <td>-16.030417</td>\n",
       "      <td>30.028750</td>\n",
       "    </tr>\n",
       "  </tbody>\n",
       "</table>\n",
       "<p>140709 rows × 2 columns</p>\n",
       "</div>"
      ],
      "text/plain": [
       "                X          Y\n",
       "0       -8.197083  42.153750\n",
       "1       -8.205417  42.145417\n",
       "2       -8.197083  42.145417\n",
       "3       -8.255417  42.137083\n",
       "4       -8.247083  42.137083\n",
       "...           ...        ...\n",
       "140704 -15.863750  30.137083\n",
       "140705 -16.038750  30.037083\n",
       "140706 -16.030417  30.037083\n",
       "140707 -16.022083  30.037083\n",
       "140708 -16.030417  30.028750\n",
       "\n",
       "[140709 rows x 2 columns]"
      ]
     },
     "execution_count": 5,
     "metadata": {},
     "output_type": "execute_result"
    }
   ],
   "source": [
    "country[['X','Y']]"
   ]
  },
  {
   "cell_type": "code",
   "execution_count": 4,
   "metadata": {},
   "outputs": [
    {
     "name": "stderr",
     "output_type": "stream",
     "text": [
      "/opt/homebrew/Caskroom/miniforge/base/envs/py3/lib/python3.9/site-packages/sklearn/neighbors/_classification.py:198: DataConversionWarning:\n",
      "\n",
      "A column-vector y was passed when a 1d array was expected. Please change the shape of y to (n_samples,), for example using ravel().\n",
      "\n",
      "/var/folders/8g/rym67m5d29dcjm2td47sgb_m0000gn/T/ipykernel_29122/413030651.py:7: SettingWithCopyWarning:\n",
      "\n",
      "\n",
      "A value is trying to be set on a copy of a slice from a DataFrame.\n",
      "Try using .loc[row_indexer,col_indexer] = value instead\n",
      "\n",
      "See the caveats in the documentation: https://pandas.pydata.org/pandas-docs/stable/user_guide/indexing.html#returning-a-view-versus-a-copy\n",
      "\n",
      "/opt/homebrew/Caskroom/miniforge/base/envs/py3/lib/python3.9/site-packages/sklearn/neighbors/_classification.py:198: DataConversionWarning:\n",
      "\n",
      "A column-vector y was passed when a 1d array was expected. Please change the shape of y to (n_samples,), for example using ravel().\n",
      "\n",
      "/var/folders/8g/rym67m5d29dcjm2td47sgb_m0000gn/T/ipykernel_29122/413030651.py:25: SettingWithCopyWarning:\n",
      "\n",
      "\n",
      "A value is trying to be set on a copy of a slice from a DataFrame.\n",
      "Try using .loc[row_indexer,col_indexer] = value instead\n",
      "\n",
      "See the caveats in the documentation: https://pandas.pydata.org/pandas-docs/stable/user_guide/indexing.html#returning-a-view-versus-a-copy\n",
      "\n",
      "/var/folders/8g/rym67m5d29dcjm2td47sgb_m0000gn/T/ipykernel_29122/413030651.py:16: FutureWarning:\n",
      "\n",
      "Passing 'suffixes' which cause duplicate columns {'type_geo_y'} in the result is deprecated and will raise a MergeError in a future version.\n",
      "\n",
      "/opt/homebrew/Caskroom/miniforge/base/envs/py3/lib/python3.9/site-packages/sklearn/neighbors/_classification.py:198: DataConversionWarning:\n",
      "\n",
      "A column-vector y was passed when a 1d array was expected. Please change the shape of y to (n_samples,), for example using ravel().\n",
      "\n"
     ]
    },
    {
     "name": "stdout",
     "output_type": "stream",
     "text": [
      "15041\n"
     ]
    },
    {
     "name": "stderr",
     "output_type": "stream",
     "text": [
      "/var/folders/8g/rym67m5d29dcjm2td47sgb_m0000gn/T/ipykernel_29122/413030651.py:25: SettingWithCopyWarning:\n",
      "\n",
      "\n",
      "A value is trying to be set on a copy of a slice from a DataFrame.\n",
      "Try using .loc[row_indexer,col_indexer] = value instead\n",
      "\n",
      "See the caveats in the documentation: https://pandas.pydata.org/pandas-docs/stable/user_guide/indexing.html#returning-a-view-versus-a-copy\n",
      "\n",
      "/var/folders/8g/rym67m5d29dcjm2td47sgb_m0000gn/T/ipykernel_29122/413030651.py:16: FutureWarning:\n",
      "\n",
      "Passing 'suffixes' which cause duplicate columns {'Z_y', 'type_geo_y'} in the result is deprecated and will raise a MergeError in a future version.\n",
      "\n",
      "/opt/homebrew/Caskroom/miniforge/base/envs/py3/lib/python3.9/site-packages/sklearn/neighbors/_classification.py:198: DataConversionWarning:\n",
      "\n",
      "A column-vector y was passed when a 1d array was expected. Please change the shape of y to (n_samples,), for example using ravel().\n",
      "\n"
     ]
    },
    {
     "name": "stdout",
     "output_type": "stream",
     "text": [
      "17377\n"
     ]
    },
    {
     "name": "stderr",
     "output_type": "stream",
     "text": [
      "/var/folders/8g/rym67m5d29dcjm2td47sgb_m0000gn/T/ipykernel_29122/413030651.py:25: SettingWithCopyWarning:\n",
      "\n",
      "\n",
      "A value is trying to be set on a copy of a slice from a DataFrame.\n",
      "Try using .loc[row_indexer,col_indexer] = value instead\n",
      "\n",
      "See the caveats in the documentation: https://pandas.pydata.org/pandas-docs/stable/user_guide/indexing.html#returning-a-view-versus-a-copy\n",
      "\n",
      "/var/folders/8g/rym67m5d29dcjm2td47sgb_m0000gn/T/ipykernel_29122/413030651.py:16: FutureWarning:\n",
      "\n",
      "Passing 'suffixes' which cause duplicate columns {'type_geo_y'} in the result is deprecated and will raise a MergeError in a future version.\n",
      "\n",
      "/opt/homebrew/Caskroom/miniforge/base/envs/py3/lib/python3.9/site-packages/sklearn/neighbors/_classification.py:198: DataConversionWarning:\n",
      "\n",
      "A column-vector y was passed when a 1d array was expected. Please change the shape of y to (n_samples,), for example using ravel().\n",
      "\n"
     ]
    },
    {
     "name": "stdout",
     "output_type": "stream",
     "text": [
      "14818\n"
     ]
    },
    {
     "name": "stderr",
     "output_type": "stream",
     "text": [
      "/var/folders/8g/rym67m5d29dcjm2td47sgb_m0000gn/T/ipykernel_29122/413030651.py:25: SettingWithCopyWarning:\n",
      "\n",
      "\n",
      "A value is trying to be set on a copy of a slice from a DataFrame.\n",
      "Try using .loc[row_indexer,col_indexer] = value instead\n",
      "\n",
      "See the caveats in the documentation: https://pandas.pydata.org/pandas-docs/stable/user_guide/indexing.html#returning-a-view-versus-a-copy\n",
      "\n",
      "/var/folders/8g/rym67m5d29dcjm2td47sgb_m0000gn/T/ipykernel_29122/413030651.py:16: FutureWarning:\n",
      "\n",
      "Passing 'suffixes' which cause duplicate columns {'Z_y', 'type_geo_y'} in the result is deprecated and will raise a MergeError in a future version.\n",
      "\n",
      "/opt/homebrew/Caskroom/miniforge/base/envs/py3/lib/python3.9/site-packages/sklearn/neighbors/_classification.py:198: DataConversionWarning:\n",
      "\n",
      "A column-vector y was passed when a 1d array was expected. Please change the shape of y to (n_samples,), for example using ravel().\n",
      "\n"
     ]
    },
    {
     "name": "stdout",
     "output_type": "stream",
     "text": [
      "17306\n"
     ]
    },
    {
     "name": "stderr",
     "output_type": "stream",
     "text": [
      "/var/folders/8g/rym67m5d29dcjm2td47sgb_m0000gn/T/ipykernel_29122/413030651.py:25: SettingWithCopyWarning:\n",
      "\n",
      "\n",
      "A value is trying to be set on a copy of a slice from a DataFrame.\n",
      "Try using .loc[row_indexer,col_indexer] = value instead\n",
      "\n",
      "See the caveats in the documentation: https://pandas.pydata.org/pandas-docs/stable/user_guide/indexing.html#returning-a-view-versus-a-copy\n",
      "\n",
      "/var/folders/8g/rym67m5d29dcjm2td47sgb_m0000gn/T/ipykernel_29122/413030651.py:16: FutureWarning:\n",
      "\n",
      "Passing 'suffixes' which cause duplicate columns {'type_geo_y'} in the result is deprecated and will raise a MergeError in a future version.\n",
      "\n",
      "/opt/homebrew/Caskroom/miniforge/base/envs/py3/lib/python3.9/site-packages/sklearn/neighbors/_classification.py:198: DataConversionWarning:\n",
      "\n",
      "A column-vector y was passed when a 1d array was expected. Please change the shape of y to (n_samples,), for example using ravel().\n",
      "\n"
     ]
    },
    {
     "name": "stdout",
     "output_type": "stream",
     "text": [
      "14791\n"
     ]
    },
    {
     "name": "stderr",
     "output_type": "stream",
     "text": [
      "/var/folders/8g/rym67m5d29dcjm2td47sgb_m0000gn/T/ipykernel_29122/413030651.py:25: SettingWithCopyWarning:\n",
      "\n",
      "\n",
      "A value is trying to be set on a copy of a slice from a DataFrame.\n",
      "Try using .loc[row_indexer,col_indexer] = value instead\n",
      "\n",
      "See the caveats in the documentation: https://pandas.pydata.org/pandas-docs/stable/user_guide/indexing.html#returning-a-view-versus-a-copy\n",
      "\n",
      "/var/folders/8g/rym67m5d29dcjm2td47sgb_m0000gn/T/ipykernel_29122/413030651.py:16: FutureWarning:\n",
      "\n",
      "Passing 'suffixes' which cause duplicate columns {'Z_y', 'type_geo_y'} in the result is deprecated and will raise a MergeError in a future version.\n",
      "\n",
      "/opt/homebrew/Caskroom/miniforge/base/envs/py3/lib/python3.9/site-packages/sklearn/neighbors/_classification.py:198: DataConversionWarning:\n",
      "\n",
      "A column-vector y was passed when a 1d array was expected. Please change the shape of y to (n_samples,), for example using ravel().\n",
      "\n"
     ]
    },
    {
     "name": "stdout",
     "output_type": "stream",
     "text": [
      "17297\n"
     ]
    },
    {
     "name": "stderr",
     "output_type": "stream",
     "text": [
      "/var/folders/8g/rym67m5d29dcjm2td47sgb_m0000gn/T/ipykernel_29122/413030651.py:25: SettingWithCopyWarning:\n",
      "\n",
      "\n",
      "A value is trying to be set on a copy of a slice from a DataFrame.\n",
      "Try using .loc[row_indexer,col_indexer] = value instead\n",
      "\n",
      "See the caveats in the documentation: https://pandas.pydata.org/pandas-docs/stable/user_guide/indexing.html#returning-a-view-versus-a-copy\n",
      "\n",
      "/var/folders/8g/rym67m5d29dcjm2td47sgb_m0000gn/T/ipykernel_29122/413030651.py:16: FutureWarning:\n",
      "\n",
      "Passing 'suffixes' which cause duplicate columns {'type_geo_y'} in the result is deprecated and will raise a MergeError in a future version.\n",
      "\n",
      "/opt/homebrew/Caskroom/miniforge/base/envs/py3/lib/python3.9/site-packages/sklearn/neighbors/_classification.py:198: DataConversionWarning:\n",
      "\n",
      "A column-vector y was passed when a 1d array was expected. Please change the shape of y to (n_samples,), for example using ravel().\n",
      "\n"
     ]
    },
    {
     "name": "stdout",
     "output_type": "stream",
     "text": [
      "14788\n"
     ]
    },
    {
     "name": "stderr",
     "output_type": "stream",
     "text": [
      "/var/folders/8g/rym67m5d29dcjm2td47sgb_m0000gn/T/ipykernel_29122/413030651.py:25: SettingWithCopyWarning:\n",
      "\n",
      "\n",
      "A value is trying to be set on a copy of a slice from a DataFrame.\n",
      "Try using .loc[row_indexer,col_indexer] = value instead\n",
      "\n",
      "See the caveats in the documentation: https://pandas.pydata.org/pandas-docs/stable/user_guide/indexing.html#returning-a-view-versus-a-copy\n",
      "\n",
      "/var/folders/8g/rym67m5d29dcjm2td47sgb_m0000gn/T/ipykernel_29122/413030651.py:16: FutureWarning:\n",
      "\n",
      "Passing 'suffixes' which cause duplicate columns {'Z_y', 'type_geo_y'} in the result is deprecated and will raise a MergeError in a future version.\n",
      "\n",
      "/opt/homebrew/Caskroom/miniforge/base/envs/py3/lib/python3.9/site-packages/sklearn/neighbors/_classification.py:198: DataConversionWarning:\n",
      "\n",
      "A column-vector y was passed when a 1d array was expected. Please change the shape of y to (n_samples,), for example using ravel().\n",
      "\n"
     ]
    },
    {
     "name": "stdout",
     "output_type": "stream",
     "text": [
      "17296\n"
     ]
    },
    {
     "name": "stderr",
     "output_type": "stream",
     "text": [
      "/var/folders/8g/rym67m5d29dcjm2td47sgb_m0000gn/T/ipykernel_29122/413030651.py:25: SettingWithCopyWarning:\n",
      "\n",
      "\n",
      "A value is trying to be set on a copy of a slice from a DataFrame.\n",
      "Try using .loc[row_indexer,col_indexer] = value instead\n",
      "\n",
      "See the caveats in the documentation: https://pandas.pydata.org/pandas-docs/stable/user_guide/indexing.html#returning-a-view-versus-a-copy\n",
      "\n",
      "/var/folders/8g/rym67m5d29dcjm2td47sgb_m0000gn/T/ipykernel_29122/413030651.py:16: FutureWarning:\n",
      "\n",
      "Passing 'suffixes' which cause duplicate columns {'type_geo_y'} in the result is deprecated and will raise a MergeError in a future version.\n",
      "\n",
      "/opt/homebrew/Caskroom/miniforge/base/envs/py3/lib/python3.9/site-packages/sklearn/neighbors/_classification.py:198: DataConversionWarning:\n",
      "\n",
      "A column-vector y was passed when a 1d array was expected. Please change the shape of y to (n_samples,), for example using ravel().\n",
      "\n"
     ]
    },
    {
     "name": "stdout",
     "output_type": "stream",
     "text": [
      "14788\n"
     ]
    },
    {
     "name": "stderr",
     "output_type": "stream",
     "text": [
      "/var/folders/8g/rym67m5d29dcjm2td47sgb_m0000gn/T/ipykernel_29122/413030651.py:25: SettingWithCopyWarning:\n",
      "\n",
      "\n",
      "A value is trying to be set on a copy of a slice from a DataFrame.\n",
      "Try using .loc[row_indexer,col_indexer] = value instead\n",
      "\n",
      "See the caveats in the documentation: https://pandas.pydata.org/pandas-docs/stable/user_guide/indexing.html#returning-a-view-versus-a-copy\n",
      "\n",
      "/var/folders/8g/rym67m5d29dcjm2td47sgb_m0000gn/T/ipykernel_29122/413030651.py:16: FutureWarning:\n",
      "\n",
      "Passing 'suffixes' which cause duplicate columns {'Z_y', 'type_geo_y'} in the result is deprecated and will raise a MergeError in a future version.\n",
      "\n",
      "/opt/homebrew/Caskroom/miniforge/base/envs/py3/lib/python3.9/site-packages/sklearn/neighbors/_classification.py:198: DataConversionWarning:\n",
      "\n",
      "A column-vector y was passed when a 1d array was expected. Please change the shape of y to (n_samples,), for example using ravel().\n",
      "\n"
     ]
    },
    {
     "name": "stdout",
     "output_type": "stream",
     "text": [
      "17296\n"
     ]
    },
    {
     "name": "stderr",
     "output_type": "stream",
     "text": [
      "/var/folders/8g/rym67m5d29dcjm2td47sgb_m0000gn/T/ipykernel_29122/413030651.py:25: SettingWithCopyWarning:\n",
      "\n",
      "\n",
      "A value is trying to be set on a copy of a slice from a DataFrame.\n",
      "Try using .loc[row_indexer,col_indexer] = value instead\n",
      "\n",
      "See the caveats in the documentation: https://pandas.pydata.org/pandas-docs/stable/user_guide/indexing.html#returning-a-view-versus-a-copy\n",
      "\n",
      "/var/folders/8g/rym67m5d29dcjm2td47sgb_m0000gn/T/ipykernel_29122/413030651.py:16: FutureWarning:\n",
      "\n",
      "Passing 'suffixes' which cause duplicate columns {'type_geo_y'} in the result is deprecated and will raise a MergeError in a future version.\n",
      "\n",
      "/opt/homebrew/Caskroom/miniforge/base/envs/py3/lib/python3.9/site-packages/sklearn/neighbors/_classification.py:198: DataConversionWarning:\n",
      "\n",
      "A column-vector y was passed when a 1d array was expected. Please change the shape of y to (n_samples,), for example using ravel().\n",
      "\n"
     ]
    },
    {
     "name": "stdout",
     "output_type": "stream",
     "text": [
      "14788\n"
     ]
    },
    {
     "name": "stderr",
     "output_type": "stream",
     "text": [
      "/var/folders/8g/rym67m5d29dcjm2td47sgb_m0000gn/T/ipykernel_29122/413030651.py:25: SettingWithCopyWarning:\n",
      "\n",
      "\n",
      "A value is trying to be set on a copy of a slice from a DataFrame.\n",
      "Try using .loc[row_indexer,col_indexer] = value instead\n",
      "\n",
      "See the caveats in the documentation: https://pandas.pydata.org/pandas-docs/stable/user_guide/indexing.html#returning-a-view-versus-a-copy\n",
      "\n",
      "/var/folders/8g/rym67m5d29dcjm2td47sgb_m0000gn/T/ipykernel_29122/413030651.py:16: FutureWarning:\n",
      "\n",
      "Passing 'suffixes' which cause duplicate columns {'Z_y', 'type_geo_y'} in the result is deprecated and will raise a MergeError in a future version.\n",
      "\n",
      "/opt/homebrew/Caskroom/miniforge/base/envs/py3/lib/python3.9/site-packages/sklearn/neighbors/_classification.py:198: DataConversionWarning:\n",
      "\n",
      "A column-vector y was passed when a 1d array was expected. Please change the shape of y to (n_samples,), for example using ravel().\n",
      "\n"
     ]
    },
    {
     "name": "stdout",
     "output_type": "stream",
     "text": [
      "17296\n"
     ]
    },
    {
     "name": "stderr",
     "output_type": "stream",
     "text": [
      "/var/folders/8g/rym67m5d29dcjm2td47sgb_m0000gn/T/ipykernel_29122/413030651.py:25: SettingWithCopyWarning:\n",
      "\n",
      "\n",
      "A value is trying to be set on a copy of a slice from a DataFrame.\n",
      "Try using .loc[row_indexer,col_indexer] = value instead\n",
      "\n",
      "See the caveats in the documentation: https://pandas.pydata.org/pandas-docs/stable/user_guide/indexing.html#returning-a-view-versus-a-copy\n",
      "\n",
      "/var/folders/8g/rym67m5d29dcjm2td47sgb_m0000gn/T/ipykernel_29122/413030651.py:16: FutureWarning:\n",
      "\n",
      "Passing 'suffixes' which cause duplicate columns {'type_geo_y'} in the result is deprecated and will raise a MergeError in a future version.\n",
      "\n",
      "/opt/homebrew/Caskroom/miniforge/base/envs/py3/lib/python3.9/site-packages/sklearn/neighbors/_classification.py:198: DataConversionWarning:\n",
      "\n",
      "A column-vector y was passed when a 1d array was expected. Please change the shape of y to (n_samples,), for example using ravel().\n",
      "\n"
     ]
    },
    {
     "name": "stdout",
     "output_type": "stream",
     "text": [
      "14788\n"
     ]
    },
    {
     "name": "stderr",
     "output_type": "stream",
     "text": [
      "/var/folders/8g/rym67m5d29dcjm2td47sgb_m0000gn/T/ipykernel_29122/413030651.py:25: SettingWithCopyWarning:\n",
      "\n",
      "\n",
      "A value is trying to be set on a copy of a slice from a DataFrame.\n",
      "Try using .loc[row_indexer,col_indexer] = value instead\n",
      "\n",
      "See the caveats in the documentation: https://pandas.pydata.org/pandas-docs/stable/user_guide/indexing.html#returning-a-view-versus-a-copy\n",
      "\n",
      "/var/folders/8g/rym67m5d29dcjm2td47sgb_m0000gn/T/ipykernel_29122/413030651.py:16: FutureWarning:\n",
      "\n",
      "Passing 'suffixes' which cause duplicate columns {'Z_y', 'type_geo_y'} in the result is deprecated and will raise a MergeError in a future version.\n",
      "\n",
      "/opt/homebrew/Caskroom/miniforge/base/envs/py3/lib/python3.9/site-packages/sklearn/neighbors/_classification.py:198: DataConversionWarning:\n",
      "\n",
      "A column-vector y was passed when a 1d array was expected. Please change the shape of y to (n_samples,), for example using ravel().\n",
      "\n"
     ]
    },
    {
     "name": "stdout",
     "output_type": "stream",
     "text": [
      "17296\n"
     ]
    },
    {
     "name": "stderr",
     "output_type": "stream",
     "text": [
      "/var/folders/8g/rym67m5d29dcjm2td47sgb_m0000gn/T/ipykernel_29122/413030651.py:25: SettingWithCopyWarning:\n",
      "\n",
      "\n",
      "A value is trying to be set on a copy of a slice from a DataFrame.\n",
      "Try using .loc[row_indexer,col_indexer] = value instead\n",
      "\n",
      "See the caveats in the documentation: https://pandas.pydata.org/pandas-docs/stable/user_guide/indexing.html#returning-a-view-versus-a-copy\n",
      "\n",
      "/var/folders/8g/rym67m5d29dcjm2td47sgb_m0000gn/T/ipykernel_29122/413030651.py:16: FutureWarning:\n",
      "\n",
      "Passing 'suffixes' which cause duplicate columns {'type_geo_y'} in the result is deprecated and will raise a MergeError in a future version.\n",
      "\n",
      "/opt/homebrew/Caskroom/miniforge/base/envs/py3/lib/python3.9/site-packages/sklearn/neighbors/_classification.py:198: DataConversionWarning:\n",
      "\n",
      "A column-vector y was passed when a 1d array was expected. Please change the shape of y to (n_samples,), for example using ravel().\n",
      "\n"
     ]
    },
    {
     "name": "stdout",
     "output_type": "stream",
     "text": [
      "14788\n"
     ]
    },
    {
     "name": "stderr",
     "output_type": "stream",
     "text": [
      "/var/folders/8g/rym67m5d29dcjm2td47sgb_m0000gn/T/ipykernel_29122/413030651.py:25: SettingWithCopyWarning:\n",
      "\n",
      "\n",
      "A value is trying to be set on a copy of a slice from a DataFrame.\n",
      "Try using .loc[row_indexer,col_indexer] = value instead\n",
      "\n",
      "See the caveats in the documentation: https://pandas.pydata.org/pandas-docs/stable/user_guide/indexing.html#returning-a-view-versus-a-copy\n",
      "\n",
      "/var/folders/8g/rym67m5d29dcjm2td47sgb_m0000gn/T/ipykernel_29122/413030651.py:16: FutureWarning:\n",
      "\n",
      "Passing 'suffixes' which cause duplicate columns {'Z_y', 'type_geo_y'} in the result is deprecated and will raise a MergeError in a future version.\n",
      "\n"
     ]
    },
    {
     "name": "stdout",
     "output_type": "stream",
     "text": [
      "17296\n"
     ]
    },
    {
     "name": "stderr",
     "output_type": "stream",
     "text": [
      "/opt/homebrew/Caskroom/miniforge/base/envs/py3/lib/python3.9/site-packages/sklearn/neighbors/_classification.py:198: DataConversionWarning:\n",
      "\n",
      "A column-vector y was passed when a 1d array was expected. Please change the shape of y to (n_samples,), for example using ravel().\n",
      "\n",
      "/var/folders/8g/rym67m5d29dcjm2td47sgb_m0000gn/T/ipykernel_29122/413030651.py:25: SettingWithCopyWarning:\n",
      "\n",
      "\n",
      "A value is trying to be set on a copy of a slice from a DataFrame.\n",
      "Try using .loc[row_indexer,col_indexer] = value instead\n",
      "\n",
      "See the caveats in the documentation: https://pandas.pydata.org/pandas-docs/stable/user_guide/indexing.html#returning-a-view-versus-a-copy\n",
      "\n",
      "/var/folders/8g/rym67m5d29dcjm2td47sgb_m0000gn/T/ipykernel_29122/413030651.py:16: FutureWarning:\n",
      "\n",
      "Passing 'suffixes' which cause duplicate columns {'type_geo_y'} in the result is deprecated and will raise a MergeError in a future version.\n",
      "\n",
      "/opt/homebrew/Caskroom/miniforge/base/envs/py3/lib/python3.9/site-packages/sklearn/neighbors/_classification.py:198: DataConversionWarning:\n",
      "\n",
      "A column-vector y was passed when a 1d array was expected. Please change the shape of y to (n_samples,), for example using ravel().\n",
      "\n"
     ]
    },
    {
     "name": "stdout",
     "output_type": "stream",
     "text": [
      "14788\n"
     ]
    },
    {
     "name": "stderr",
     "output_type": "stream",
     "text": [
      "/var/folders/8g/rym67m5d29dcjm2td47sgb_m0000gn/T/ipykernel_29122/413030651.py:25: SettingWithCopyWarning:\n",
      "\n",
      "\n",
      "A value is trying to be set on a copy of a slice from a DataFrame.\n",
      "Try using .loc[row_indexer,col_indexer] = value instead\n",
      "\n",
      "See the caveats in the documentation: https://pandas.pydata.org/pandas-docs/stable/user_guide/indexing.html#returning-a-view-versus-a-copy\n",
      "\n",
      "/var/folders/8g/rym67m5d29dcjm2td47sgb_m0000gn/T/ipykernel_29122/413030651.py:16: FutureWarning:\n",
      "\n",
      "Passing 'suffixes' which cause duplicate columns {'Z_y', 'type_geo_y'} in the result is deprecated and will raise a MergeError in a future version.\n",
      "\n",
      "/opt/homebrew/Caskroom/miniforge/base/envs/py3/lib/python3.9/site-packages/sklearn/neighbors/_classification.py:198: DataConversionWarning:\n",
      "\n",
      "A column-vector y was passed when a 1d array was expected. Please change the shape of y to (n_samples,), for example using ravel().\n",
      "\n"
     ]
    },
    {
     "name": "stdout",
     "output_type": "stream",
     "text": [
      "17296\n"
     ]
    },
    {
     "name": "stderr",
     "output_type": "stream",
     "text": [
      "/var/folders/8g/rym67m5d29dcjm2td47sgb_m0000gn/T/ipykernel_29122/413030651.py:25: SettingWithCopyWarning:\n",
      "\n",
      "\n",
      "A value is trying to be set on a copy of a slice from a DataFrame.\n",
      "Try using .loc[row_indexer,col_indexer] = value instead\n",
      "\n",
      "See the caveats in the documentation: https://pandas.pydata.org/pandas-docs/stable/user_guide/indexing.html#returning-a-view-versus-a-copy\n",
      "\n",
      "/var/folders/8g/rym67m5d29dcjm2td47sgb_m0000gn/T/ipykernel_29122/413030651.py:16: FutureWarning:\n",
      "\n",
      "Passing 'suffixes' which cause duplicate columns {'type_geo_y'} in the result is deprecated and will raise a MergeError in a future version.\n",
      "\n",
      "/opt/homebrew/Caskroom/miniforge/base/envs/py3/lib/python3.9/site-packages/sklearn/neighbors/_classification.py:198: DataConversionWarning:\n",
      "\n",
      "A column-vector y was passed when a 1d array was expected. Please change the shape of y to (n_samples,), for example using ravel().\n",
      "\n"
     ]
    },
    {
     "name": "stdout",
     "output_type": "stream",
     "text": [
      "14788\n"
     ]
    },
    {
     "name": "stderr",
     "output_type": "stream",
     "text": [
      "/var/folders/8g/rym67m5d29dcjm2td47sgb_m0000gn/T/ipykernel_29122/413030651.py:25: SettingWithCopyWarning:\n",
      "\n",
      "\n",
      "A value is trying to be set on a copy of a slice from a DataFrame.\n",
      "Try using .loc[row_indexer,col_indexer] = value instead\n",
      "\n",
      "See the caveats in the documentation: https://pandas.pydata.org/pandas-docs/stable/user_guide/indexing.html#returning-a-view-versus-a-copy\n",
      "\n",
      "/var/folders/8g/rym67m5d29dcjm2td47sgb_m0000gn/T/ipykernel_29122/413030651.py:16: FutureWarning:\n",
      "\n",
      "Passing 'suffixes' which cause duplicate columns {'Z_y', 'type_geo_y'} in the result is deprecated and will raise a MergeError in a future version.\n",
      "\n",
      "/opt/homebrew/Caskroom/miniforge/base/envs/py3/lib/python3.9/site-packages/sklearn/neighbors/_classification.py:198: DataConversionWarning:\n",
      "\n",
      "A column-vector y was passed when a 1d array was expected. Please change the shape of y to (n_samples,), for example using ravel().\n",
      "\n"
     ]
    },
    {
     "name": "stdout",
     "output_type": "stream",
     "text": [
      "17296\n"
     ]
    },
    {
     "name": "stderr",
     "output_type": "stream",
     "text": [
      "/var/folders/8g/rym67m5d29dcjm2td47sgb_m0000gn/T/ipykernel_29122/413030651.py:25: SettingWithCopyWarning:\n",
      "\n",
      "\n",
      "A value is trying to be set on a copy of a slice from a DataFrame.\n",
      "Try using .loc[row_indexer,col_indexer] = value instead\n",
      "\n",
      "See the caveats in the documentation: https://pandas.pydata.org/pandas-docs/stable/user_guide/indexing.html#returning-a-view-versus-a-copy\n",
      "\n",
      "/var/folders/8g/rym67m5d29dcjm2td47sgb_m0000gn/T/ipykernel_29122/413030651.py:16: FutureWarning:\n",
      "\n",
      "Passing 'suffixes' which cause duplicate columns {'type_geo_y'} in the result is deprecated and will raise a MergeError in a future version.\n",
      "\n",
      "/opt/homebrew/Caskroom/miniforge/base/envs/py3/lib/python3.9/site-packages/sklearn/neighbors/_classification.py:198: DataConversionWarning:\n",
      "\n",
      "A column-vector y was passed when a 1d array was expected. Please change the shape of y to (n_samples,), for example using ravel().\n",
      "\n"
     ]
    },
    {
     "name": "stdout",
     "output_type": "stream",
     "text": [
      "14788\n"
     ]
    },
    {
     "name": "stderr",
     "output_type": "stream",
     "text": [
      "/var/folders/8g/rym67m5d29dcjm2td47sgb_m0000gn/T/ipykernel_29122/413030651.py:25: SettingWithCopyWarning:\n",
      "\n",
      "\n",
      "A value is trying to be set on a copy of a slice from a DataFrame.\n",
      "Try using .loc[row_indexer,col_indexer] = value instead\n",
      "\n",
      "See the caveats in the documentation: https://pandas.pydata.org/pandas-docs/stable/user_guide/indexing.html#returning-a-view-versus-a-copy\n",
      "\n",
      "/var/folders/8g/rym67m5d29dcjm2td47sgb_m0000gn/T/ipykernel_29122/413030651.py:16: FutureWarning:\n",
      "\n",
      "Passing 'suffixes' which cause duplicate columns {'Z_y', 'type_geo_y'} in the result is deprecated and will raise a MergeError in a future version.\n",
      "\n",
      "/opt/homebrew/Caskroom/miniforge/base/envs/py3/lib/python3.9/site-packages/sklearn/neighbors/_classification.py:198: DataConversionWarning:\n",
      "\n",
      "A column-vector y was passed when a 1d array was expected. Please change the shape of y to (n_samples,), for example using ravel().\n",
      "\n"
     ]
    },
    {
     "name": "stdout",
     "output_type": "stream",
     "text": [
      "17296\n"
     ]
    },
    {
     "name": "stderr",
     "output_type": "stream",
     "text": [
      "/var/folders/8g/rym67m5d29dcjm2td47sgb_m0000gn/T/ipykernel_29122/413030651.py:25: SettingWithCopyWarning:\n",
      "\n",
      "\n",
      "A value is trying to be set on a copy of a slice from a DataFrame.\n",
      "Try using .loc[row_indexer,col_indexer] = value instead\n",
      "\n",
      "See the caveats in the documentation: https://pandas.pydata.org/pandas-docs/stable/user_guide/indexing.html#returning-a-view-versus-a-copy\n",
      "\n",
      "/var/folders/8g/rym67m5d29dcjm2td47sgb_m0000gn/T/ipykernel_29122/413030651.py:16: FutureWarning:\n",
      "\n",
      "Passing 'suffixes' which cause duplicate columns {'type_geo_y'} in the result is deprecated and will raise a MergeError in a future version.\n",
      "\n",
      "/opt/homebrew/Caskroom/miniforge/base/envs/py3/lib/python3.9/site-packages/sklearn/neighbors/_classification.py:198: DataConversionWarning:\n",
      "\n",
      "A column-vector y was passed when a 1d array was expected. Please change the shape of y to (n_samples,), for example using ravel().\n",
      "\n"
     ]
    },
    {
     "name": "stdout",
     "output_type": "stream",
     "text": [
      "14788\n"
     ]
    },
    {
     "name": "stderr",
     "output_type": "stream",
     "text": [
      "/var/folders/8g/rym67m5d29dcjm2td47sgb_m0000gn/T/ipykernel_29122/413030651.py:25: SettingWithCopyWarning:\n",
      "\n",
      "\n",
      "A value is trying to be set on a copy of a slice from a DataFrame.\n",
      "Try using .loc[row_indexer,col_indexer] = value instead\n",
      "\n",
      "See the caveats in the documentation: https://pandas.pydata.org/pandas-docs/stable/user_guide/indexing.html#returning-a-view-versus-a-copy\n",
      "\n",
      "/var/folders/8g/rym67m5d29dcjm2td47sgb_m0000gn/T/ipykernel_29122/413030651.py:16: FutureWarning:\n",
      "\n",
      "Passing 'suffixes' which cause duplicate columns {'Z_y', 'type_geo_y'} in the result is deprecated and will raise a MergeError in a future version.\n",
      "\n",
      "/opt/homebrew/Caskroom/miniforge/base/envs/py3/lib/python3.9/site-packages/sklearn/neighbors/_classification.py:198: DataConversionWarning:\n",
      "\n",
      "A column-vector y was passed when a 1d array was expected. Please change the shape of y to (n_samples,), for example using ravel().\n",
      "\n"
     ]
    },
    {
     "name": "stdout",
     "output_type": "stream",
     "text": [
      "17296\n"
     ]
    },
    {
     "name": "stderr",
     "output_type": "stream",
     "text": [
      "/var/folders/8g/rym67m5d29dcjm2td47sgb_m0000gn/T/ipykernel_29122/413030651.py:25: SettingWithCopyWarning:\n",
      "\n",
      "\n",
      "A value is trying to be set on a copy of a slice from a DataFrame.\n",
      "Try using .loc[row_indexer,col_indexer] = value instead\n",
      "\n",
      "See the caveats in the documentation: https://pandas.pydata.org/pandas-docs/stable/user_guide/indexing.html#returning-a-view-versus-a-copy\n",
      "\n",
      "/var/folders/8g/rym67m5d29dcjm2td47sgb_m0000gn/T/ipykernel_29122/413030651.py:16: FutureWarning:\n",
      "\n",
      "Passing 'suffixes' which cause duplicate columns {'type_geo_y'} in the result is deprecated and will raise a MergeError in a future version.\n",
      "\n",
      "/opt/homebrew/Caskroom/miniforge/base/envs/py3/lib/python3.9/site-packages/sklearn/neighbors/_classification.py:198: DataConversionWarning:\n",
      "\n",
      "A column-vector y was passed when a 1d array was expected. Please change the shape of y to (n_samples,), for example using ravel().\n",
      "\n"
     ]
    },
    {
     "name": "stdout",
     "output_type": "stream",
     "text": [
      "14788\n"
     ]
    },
    {
     "name": "stderr",
     "output_type": "stream",
     "text": [
      "/var/folders/8g/rym67m5d29dcjm2td47sgb_m0000gn/T/ipykernel_29122/413030651.py:25: SettingWithCopyWarning:\n",
      "\n",
      "\n",
      "A value is trying to be set on a copy of a slice from a DataFrame.\n",
      "Try using .loc[row_indexer,col_indexer] = value instead\n",
      "\n",
      "See the caveats in the documentation: https://pandas.pydata.org/pandas-docs/stable/user_guide/indexing.html#returning-a-view-versus-a-copy\n",
      "\n",
      "/var/folders/8g/rym67m5d29dcjm2td47sgb_m0000gn/T/ipykernel_29122/413030651.py:16: FutureWarning:\n",
      "\n",
      "Passing 'suffixes' which cause duplicate columns {'Z_y', 'type_geo_y'} in the result is deprecated and will raise a MergeError in a future version.\n",
      "\n",
      "/opt/homebrew/Caskroom/miniforge/base/envs/py3/lib/python3.9/site-packages/sklearn/neighbors/_classification.py:198: DataConversionWarning:\n",
      "\n",
      "A column-vector y was passed when a 1d array was expected. Please change the shape of y to (n_samples,), for example using ravel().\n",
      "\n"
     ]
    },
    {
     "name": "stdout",
     "output_type": "stream",
     "text": [
      "17296\n"
     ]
    },
    {
     "name": "stderr",
     "output_type": "stream",
     "text": [
      "/var/folders/8g/rym67m5d29dcjm2td47sgb_m0000gn/T/ipykernel_29122/413030651.py:25: SettingWithCopyWarning:\n",
      "\n",
      "\n",
      "A value is trying to be set on a copy of a slice from a DataFrame.\n",
      "Try using .loc[row_indexer,col_indexer] = value instead\n",
      "\n",
      "See the caveats in the documentation: https://pandas.pydata.org/pandas-docs/stable/user_guide/indexing.html#returning-a-view-versus-a-copy\n",
      "\n",
      "/var/folders/8g/rym67m5d29dcjm2td47sgb_m0000gn/T/ipykernel_29122/413030651.py:16: FutureWarning:\n",
      "\n",
      "Passing 'suffixes' which cause duplicate columns {'type_geo_y'} in the result is deprecated and will raise a MergeError in a future version.\n",
      "\n",
      "/opt/homebrew/Caskroom/miniforge/base/envs/py3/lib/python3.9/site-packages/sklearn/neighbors/_classification.py:198: DataConversionWarning:\n",
      "\n",
      "A column-vector y was passed when a 1d array was expected. Please change the shape of y to (n_samples,), for example using ravel().\n",
      "\n"
     ]
    },
    {
     "name": "stdout",
     "output_type": "stream",
     "text": [
      "14788\n"
     ]
    },
    {
     "name": "stderr",
     "output_type": "stream",
     "text": [
      "/var/folders/8g/rym67m5d29dcjm2td47sgb_m0000gn/T/ipykernel_29122/413030651.py:25: SettingWithCopyWarning:\n",
      "\n",
      "\n",
      "A value is trying to be set on a copy of a slice from a DataFrame.\n",
      "Try using .loc[row_indexer,col_indexer] = value instead\n",
      "\n",
      "See the caveats in the documentation: https://pandas.pydata.org/pandas-docs/stable/user_guide/indexing.html#returning-a-view-versus-a-copy\n",
      "\n",
      "/var/folders/8g/rym67m5d29dcjm2td47sgb_m0000gn/T/ipykernel_29122/413030651.py:16: FutureWarning:\n",
      "\n",
      "Passing 'suffixes' which cause duplicate columns {'Z_y', 'type_geo_y'} in the result is deprecated and will raise a MergeError in a future version.\n",
      "\n",
      "/opt/homebrew/Caskroom/miniforge/base/envs/py3/lib/python3.9/site-packages/sklearn/neighbors/_classification.py:198: DataConversionWarning:\n",
      "\n",
      "A column-vector y was passed when a 1d array was expected. Please change the shape of y to (n_samples,), for example using ravel().\n",
      "\n"
     ]
    },
    {
     "name": "stdout",
     "output_type": "stream",
     "text": [
      "17296\n"
     ]
    },
    {
     "name": "stderr",
     "output_type": "stream",
     "text": [
      "/var/folders/8g/rym67m5d29dcjm2td47sgb_m0000gn/T/ipykernel_29122/413030651.py:25: SettingWithCopyWarning:\n",
      "\n",
      "\n",
      "A value is trying to be set on a copy of a slice from a DataFrame.\n",
      "Try using .loc[row_indexer,col_indexer] = value instead\n",
      "\n",
      "See the caveats in the documentation: https://pandas.pydata.org/pandas-docs/stable/user_guide/indexing.html#returning-a-view-versus-a-copy\n",
      "\n",
      "/var/folders/8g/rym67m5d29dcjm2td47sgb_m0000gn/T/ipykernel_29122/413030651.py:16: FutureWarning:\n",
      "\n",
      "Passing 'suffixes' which cause duplicate columns {'type_geo_y'} in the result is deprecated and will raise a MergeError in a future version.\n",
      "\n",
      "/opt/homebrew/Caskroom/miniforge/base/envs/py3/lib/python3.9/site-packages/sklearn/neighbors/_classification.py:198: DataConversionWarning:\n",
      "\n",
      "A column-vector y was passed when a 1d array was expected. Please change the shape of y to (n_samples,), for example using ravel().\n",
      "\n"
     ]
    },
    {
     "name": "stdout",
     "output_type": "stream",
     "text": [
      "14788\n"
     ]
    },
    {
     "name": "stderr",
     "output_type": "stream",
     "text": [
      "/var/folders/8g/rym67m5d29dcjm2td47sgb_m0000gn/T/ipykernel_29122/413030651.py:25: SettingWithCopyWarning:\n",
      "\n",
      "\n",
      "A value is trying to be set on a copy of a slice from a DataFrame.\n",
      "Try using .loc[row_indexer,col_indexer] = value instead\n",
      "\n",
      "See the caveats in the documentation: https://pandas.pydata.org/pandas-docs/stable/user_guide/indexing.html#returning-a-view-versus-a-copy\n",
      "\n",
      "/var/folders/8g/rym67m5d29dcjm2td47sgb_m0000gn/T/ipykernel_29122/413030651.py:16: FutureWarning:\n",
      "\n",
      "Passing 'suffixes' which cause duplicate columns {'Z_y', 'type_geo_y'} in the result is deprecated and will raise a MergeError in a future version.\n",
      "\n"
     ]
    },
    {
     "name": "stdout",
     "output_type": "stream",
     "text": [
      "17296\n"
     ]
    },
    {
     "name": "stderr",
     "output_type": "stream",
     "text": [
      "/opt/homebrew/Caskroom/miniforge/base/envs/py3/lib/python3.9/site-packages/sklearn/neighbors/_classification.py:198: DataConversionWarning:\n",
      "\n",
      "A column-vector y was passed when a 1d array was expected. Please change the shape of y to (n_samples,), for example using ravel().\n",
      "\n",
      "/var/folders/8g/rym67m5d29dcjm2td47sgb_m0000gn/T/ipykernel_29122/413030651.py:25: SettingWithCopyWarning:\n",
      "\n",
      "\n",
      "A value is trying to be set on a copy of a slice from a DataFrame.\n",
      "Try using .loc[row_indexer,col_indexer] = value instead\n",
      "\n",
      "See the caveats in the documentation: https://pandas.pydata.org/pandas-docs/stable/user_guide/indexing.html#returning-a-view-versus-a-copy\n",
      "\n"
     ]
    },
    {
     "name": "stdout",
     "output_type": "stream",
     "text": [
      "14788\n"
     ]
    },
    {
     "name": "stderr",
     "output_type": "stream",
     "text": [
      "/var/folders/8g/rym67m5d29dcjm2td47sgb_m0000gn/T/ipykernel_29122/413030651.py:16: FutureWarning:\n",
      "\n",
      "Passing 'suffixes' which cause duplicate columns {'type_geo_y'} in the result is deprecated and will raise a MergeError in a future version.\n",
      "\n",
      "/opt/homebrew/Caskroom/miniforge/base/envs/py3/lib/python3.9/site-packages/sklearn/neighbors/_classification.py:198: DataConversionWarning:\n",
      "\n",
      "A column-vector y was passed when a 1d array was expected. Please change the shape of y to (n_samples,), for example using ravel().\n",
      "\n",
      "/var/folders/8g/rym67m5d29dcjm2td47sgb_m0000gn/T/ipykernel_29122/413030651.py:25: SettingWithCopyWarning:\n",
      "\n",
      "\n",
      "A value is trying to be set on a copy of a slice from a DataFrame.\n",
      "Try using .loc[row_indexer,col_indexer] = value instead\n",
      "\n",
      "See the caveats in the documentation: https://pandas.pydata.org/pandas-docs/stable/user_guide/indexing.html#returning-a-view-versus-a-copy\n",
      "\n",
      "/var/folders/8g/rym67m5d29dcjm2td47sgb_m0000gn/T/ipykernel_29122/413030651.py:16: FutureWarning:\n",
      "\n",
      "Passing 'suffixes' which cause duplicate columns {'Z_y', 'type_geo_y'} in the result is deprecated and will raise a MergeError in a future version.\n",
      "\n"
     ]
    },
    {
     "name": "stdout",
     "output_type": "stream",
     "text": [
      "17296\n"
     ]
    },
    {
     "name": "stderr",
     "output_type": "stream",
     "text": [
      "/opt/homebrew/Caskroom/miniforge/base/envs/py3/lib/python3.9/site-packages/sklearn/neighbors/_classification.py:198: DataConversionWarning:\n",
      "\n",
      "A column-vector y was passed when a 1d array was expected. Please change the shape of y to (n_samples,), for example using ravel().\n",
      "\n",
      "/var/folders/8g/rym67m5d29dcjm2td47sgb_m0000gn/T/ipykernel_29122/413030651.py:25: SettingWithCopyWarning:\n",
      "\n",
      "\n",
      "A value is trying to be set on a copy of a slice from a DataFrame.\n",
      "Try using .loc[row_indexer,col_indexer] = value instead\n",
      "\n",
      "See the caveats in the documentation: https://pandas.pydata.org/pandas-docs/stable/user_guide/indexing.html#returning-a-view-versus-a-copy\n",
      "\n"
     ]
    },
    {
     "name": "stdout",
     "output_type": "stream",
     "text": [
      "14788\n"
     ]
    },
    {
     "name": "stderr",
     "output_type": "stream",
     "text": [
      "/var/folders/8g/rym67m5d29dcjm2td47sgb_m0000gn/T/ipykernel_29122/413030651.py:16: FutureWarning:\n",
      "\n",
      "Passing 'suffixes' which cause duplicate columns {'type_geo_y'} in the result is deprecated and will raise a MergeError in a future version.\n",
      "\n",
      "/opt/homebrew/Caskroom/miniforge/base/envs/py3/lib/python3.9/site-packages/sklearn/neighbors/_classification.py:198: DataConversionWarning:\n",
      "\n",
      "A column-vector y was passed when a 1d array was expected. Please change the shape of y to (n_samples,), for example using ravel().\n",
      "\n",
      "/var/folders/8g/rym67m5d29dcjm2td47sgb_m0000gn/T/ipykernel_29122/413030651.py:25: SettingWithCopyWarning:\n",
      "\n",
      "\n",
      "A value is trying to be set on a copy of a slice from a DataFrame.\n",
      "Try using .loc[row_indexer,col_indexer] = value instead\n",
      "\n",
      "See the caveats in the documentation: https://pandas.pydata.org/pandas-docs/stable/user_guide/indexing.html#returning-a-view-versus-a-copy\n",
      "\n",
      "/var/folders/8g/rym67m5d29dcjm2td47sgb_m0000gn/T/ipykernel_29122/413030651.py:16: FutureWarning:\n",
      "\n",
      "Passing 'suffixes' which cause duplicate columns {'Z_y', 'type_geo_y'} in the result is deprecated and will raise a MergeError in a future version.\n",
      "\n"
     ]
    },
    {
     "name": "stdout",
     "output_type": "stream",
     "text": [
      "17296\n"
     ]
    },
    {
     "name": "stderr",
     "output_type": "stream",
     "text": [
      "/opt/homebrew/Caskroom/miniforge/base/envs/py3/lib/python3.9/site-packages/sklearn/neighbors/_classification.py:198: DataConversionWarning:\n",
      "\n",
      "A column-vector y was passed when a 1d array was expected. Please change the shape of y to (n_samples,), for example using ravel().\n",
      "\n",
      "/var/folders/8g/rym67m5d29dcjm2td47sgb_m0000gn/T/ipykernel_29122/413030651.py:25: SettingWithCopyWarning:\n",
      "\n",
      "\n",
      "A value is trying to be set on a copy of a slice from a DataFrame.\n",
      "Try using .loc[row_indexer,col_indexer] = value instead\n",
      "\n",
      "See the caveats in the documentation: https://pandas.pydata.org/pandas-docs/stable/user_guide/indexing.html#returning-a-view-versus-a-copy\n",
      "\n"
     ]
    },
    {
     "name": "stdout",
     "output_type": "stream",
     "text": [
      "14788\n"
     ]
    },
    {
     "name": "stderr",
     "output_type": "stream",
     "text": [
      "/var/folders/8g/rym67m5d29dcjm2td47sgb_m0000gn/T/ipykernel_29122/413030651.py:16: FutureWarning:\n",
      "\n",
      "Passing 'suffixes' which cause duplicate columns {'type_geo_y'} in the result is deprecated and will raise a MergeError in a future version.\n",
      "\n",
      "/opt/homebrew/Caskroom/miniforge/base/envs/py3/lib/python3.9/site-packages/sklearn/neighbors/_classification.py:198: DataConversionWarning:\n",
      "\n",
      "A column-vector y was passed when a 1d array was expected. Please change the shape of y to (n_samples,), for example using ravel().\n",
      "\n",
      "/var/folders/8g/rym67m5d29dcjm2td47sgb_m0000gn/T/ipykernel_29122/413030651.py:25: SettingWithCopyWarning:\n",
      "\n",
      "\n",
      "A value is trying to be set on a copy of a slice from a DataFrame.\n",
      "Try using .loc[row_indexer,col_indexer] = value instead\n",
      "\n",
      "See the caveats in the documentation: https://pandas.pydata.org/pandas-docs/stable/user_guide/indexing.html#returning-a-view-versus-a-copy\n",
      "\n",
      "/var/folders/8g/rym67m5d29dcjm2td47sgb_m0000gn/T/ipykernel_29122/413030651.py:16: FutureWarning:\n",
      "\n",
      "Passing 'suffixes' which cause duplicate columns {'Z_y', 'type_geo_y'} in the result is deprecated and will raise a MergeError in a future version.\n",
      "\n"
     ]
    },
    {
     "name": "stdout",
     "output_type": "stream",
     "text": [
      "17296\n"
     ]
    },
    {
     "name": "stderr",
     "output_type": "stream",
     "text": [
      "/opt/homebrew/Caskroom/miniforge/base/envs/py3/lib/python3.9/site-packages/sklearn/neighbors/_classification.py:198: DataConversionWarning:\n",
      "\n",
      "A column-vector y was passed when a 1d array was expected. Please change the shape of y to (n_samples,), for example using ravel().\n",
      "\n",
      "/var/folders/8g/rym67m5d29dcjm2td47sgb_m0000gn/T/ipykernel_29122/413030651.py:25: SettingWithCopyWarning:\n",
      "\n",
      "\n",
      "A value is trying to be set on a copy of a slice from a DataFrame.\n",
      "Try using .loc[row_indexer,col_indexer] = value instead\n",
      "\n",
      "See the caveats in the documentation: https://pandas.pydata.org/pandas-docs/stable/user_guide/indexing.html#returning-a-view-versus-a-copy\n",
      "\n"
     ]
    },
    {
     "name": "stdout",
     "output_type": "stream",
     "text": [
      "14788\n"
     ]
    },
    {
     "name": "stderr",
     "output_type": "stream",
     "text": [
      "/var/folders/8g/rym67m5d29dcjm2td47sgb_m0000gn/T/ipykernel_29122/413030651.py:16: FutureWarning:\n",
      "\n",
      "Passing 'suffixes' which cause duplicate columns {'type_geo_y'} in the result is deprecated and will raise a MergeError in a future version.\n",
      "\n",
      "/opt/homebrew/Caskroom/miniforge/base/envs/py3/lib/python3.9/site-packages/sklearn/neighbors/_classification.py:198: DataConversionWarning:\n",
      "\n",
      "A column-vector y was passed when a 1d array was expected. Please change the shape of y to (n_samples,), for example using ravel().\n",
      "\n",
      "/var/folders/8g/rym67m5d29dcjm2td47sgb_m0000gn/T/ipykernel_29122/413030651.py:25: SettingWithCopyWarning:\n",
      "\n",
      "\n",
      "A value is trying to be set on a copy of a slice from a DataFrame.\n",
      "Try using .loc[row_indexer,col_indexer] = value instead\n",
      "\n",
      "See the caveats in the documentation: https://pandas.pydata.org/pandas-docs/stable/user_guide/indexing.html#returning-a-view-versus-a-copy\n",
      "\n",
      "/var/folders/8g/rym67m5d29dcjm2td47sgb_m0000gn/T/ipykernel_29122/413030651.py:16: FutureWarning:\n",
      "\n",
      "Passing 'suffixes' which cause duplicate columns {'Z_y', 'type_geo_y'} in the result is deprecated and will raise a MergeError in a future version.\n",
      "\n"
     ]
    },
    {
     "name": "stdout",
     "output_type": "stream",
     "text": [
      "17296\n"
     ]
    },
    {
     "name": "stderr",
     "output_type": "stream",
     "text": [
      "/opt/homebrew/Caskroom/miniforge/base/envs/py3/lib/python3.9/site-packages/sklearn/neighbors/_classification.py:198: DataConversionWarning:\n",
      "\n",
      "A column-vector y was passed when a 1d array was expected. Please change the shape of y to (n_samples,), for example using ravel().\n",
      "\n",
      "/var/folders/8g/rym67m5d29dcjm2td47sgb_m0000gn/T/ipykernel_29122/413030651.py:25: SettingWithCopyWarning:\n",
      "\n",
      "\n",
      "A value is trying to be set on a copy of a slice from a DataFrame.\n",
      "Try using .loc[row_indexer,col_indexer] = value instead\n",
      "\n",
      "See the caveats in the documentation: https://pandas.pydata.org/pandas-docs/stable/user_guide/indexing.html#returning-a-view-versus-a-copy\n",
      "\n"
     ]
    },
    {
     "name": "stdout",
     "output_type": "stream",
     "text": [
      "14788\n"
     ]
    },
    {
     "name": "stderr",
     "output_type": "stream",
     "text": [
      "/var/folders/8g/rym67m5d29dcjm2td47sgb_m0000gn/T/ipykernel_29122/413030651.py:16: FutureWarning:\n",
      "\n",
      "Passing 'suffixes' which cause duplicate columns {'type_geo_y'} in the result is deprecated and will raise a MergeError in a future version.\n",
      "\n",
      "/opt/homebrew/Caskroom/miniforge/base/envs/py3/lib/python3.9/site-packages/sklearn/neighbors/_classification.py:198: DataConversionWarning:\n",
      "\n",
      "A column-vector y was passed when a 1d array was expected. Please change the shape of y to (n_samples,), for example using ravel().\n",
      "\n",
      "/var/folders/8g/rym67m5d29dcjm2td47sgb_m0000gn/T/ipykernel_29122/413030651.py:25: SettingWithCopyWarning:\n",
      "\n",
      "\n",
      "A value is trying to be set on a copy of a slice from a DataFrame.\n",
      "Try using .loc[row_indexer,col_indexer] = value instead\n",
      "\n",
      "See the caveats in the documentation: https://pandas.pydata.org/pandas-docs/stable/user_guide/indexing.html#returning-a-view-versus-a-copy\n",
      "\n"
     ]
    },
    {
     "name": "stdout",
     "output_type": "stream",
     "text": [
      "17296\n"
     ]
    },
    {
     "name": "stderr",
     "output_type": "stream",
     "text": [
      "/var/folders/8g/rym67m5d29dcjm2td47sgb_m0000gn/T/ipykernel_29122/413030651.py:16: FutureWarning:\n",
      "\n",
      "Passing 'suffixes' which cause duplicate columns {'Z_y', 'type_geo_y'} in the result is deprecated and will raise a MergeError in a future version.\n",
      "\n",
      "/opt/homebrew/Caskroom/miniforge/base/envs/py3/lib/python3.9/site-packages/sklearn/neighbors/_classification.py:198: DataConversionWarning:\n",
      "\n",
      "A column-vector y was passed when a 1d array was expected. Please change the shape of y to (n_samples,), for example using ravel().\n",
      "\n",
      "/var/folders/8g/rym67m5d29dcjm2td47sgb_m0000gn/T/ipykernel_29122/413030651.py:25: SettingWithCopyWarning:\n",
      "\n",
      "\n",
      "A value is trying to be set on a copy of a slice from a DataFrame.\n",
      "Try using .loc[row_indexer,col_indexer] = value instead\n",
      "\n",
      "See the caveats in the documentation: https://pandas.pydata.org/pandas-docs/stable/user_guide/indexing.html#returning-a-view-versus-a-copy\n",
      "\n",
      "/var/folders/8g/rym67m5d29dcjm2td47sgb_m0000gn/T/ipykernel_29122/413030651.py:16: FutureWarning:\n",
      "\n",
      "Passing 'suffixes' which cause duplicate columns {'type_geo_y'} in the result is deprecated and will raise a MergeError in a future version.\n",
      "\n"
     ]
    },
    {
     "name": "stdout",
     "output_type": "stream",
     "text": [
      "14788\n"
     ]
    },
    {
     "name": "stderr",
     "output_type": "stream",
     "text": [
      "/opt/homebrew/Caskroom/miniforge/base/envs/py3/lib/python3.9/site-packages/sklearn/neighbors/_classification.py:198: DataConversionWarning:\n",
      "\n",
      "A column-vector y was passed when a 1d array was expected. Please change the shape of y to (n_samples,), for example using ravel().\n",
      "\n",
      "/var/folders/8g/rym67m5d29dcjm2td47sgb_m0000gn/T/ipykernel_29122/413030651.py:25: SettingWithCopyWarning:\n",
      "\n",
      "\n",
      "A value is trying to be set on a copy of a slice from a DataFrame.\n",
      "Try using .loc[row_indexer,col_indexer] = value instead\n",
      "\n",
      "See the caveats in the documentation: https://pandas.pydata.org/pandas-docs/stable/user_guide/indexing.html#returning-a-view-versus-a-copy\n",
      "\n"
     ]
    },
    {
     "name": "stdout",
     "output_type": "stream",
     "text": [
      "17296\n"
     ]
    },
    {
     "name": "stderr",
     "output_type": "stream",
     "text": [
      "/var/folders/8g/rym67m5d29dcjm2td47sgb_m0000gn/T/ipykernel_29122/413030651.py:16: FutureWarning:\n",
      "\n",
      "Passing 'suffixes' which cause duplicate columns {'Z_y', 'type_geo_y'} in the result is deprecated and will raise a MergeError in a future version.\n",
      "\n",
      "/opt/homebrew/Caskroom/miniforge/base/envs/py3/lib/python3.9/site-packages/sklearn/neighbors/_classification.py:198: DataConversionWarning:\n",
      "\n",
      "A column-vector y was passed when a 1d array was expected. Please change the shape of y to (n_samples,), for example using ravel().\n",
      "\n",
      "/var/folders/8g/rym67m5d29dcjm2td47sgb_m0000gn/T/ipykernel_29122/413030651.py:25: SettingWithCopyWarning:\n",
      "\n",
      "\n",
      "A value is trying to be set on a copy of a slice from a DataFrame.\n",
      "Try using .loc[row_indexer,col_indexer] = value instead\n",
      "\n",
      "See the caveats in the documentation: https://pandas.pydata.org/pandas-docs/stable/user_guide/indexing.html#returning-a-view-versus-a-copy\n",
      "\n"
     ]
    },
    {
     "name": "stdout",
     "output_type": "stream",
     "text": [
      "14788\n"
     ]
    },
    {
     "name": "stderr",
     "output_type": "stream",
     "text": [
      "/var/folders/8g/rym67m5d29dcjm2td47sgb_m0000gn/T/ipykernel_29122/413030651.py:16: FutureWarning:\n",
      "\n",
      "Passing 'suffixes' which cause duplicate columns {'type_geo_y'} in the result is deprecated and will raise a MergeError in a future version.\n",
      "\n",
      "/opt/homebrew/Caskroom/miniforge/base/envs/py3/lib/python3.9/site-packages/sklearn/neighbors/_classification.py:198: DataConversionWarning:\n",
      "\n",
      "A column-vector y was passed when a 1d array was expected. Please change the shape of y to (n_samples,), for example using ravel().\n",
      "\n",
      "/var/folders/8g/rym67m5d29dcjm2td47sgb_m0000gn/T/ipykernel_29122/413030651.py:25: SettingWithCopyWarning:\n",
      "\n",
      "\n",
      "A value is trying to be set on a copy of a slice from a DataFrame.\n",
      "Try using .loc[row_indexer,col_indexer] = value instead\n",
      "\n",
      "See the caveats in the documentation: https://pandas.pydata.org/pandas-docs/stable/user_guide/indexing.html#returning-a-view-versus-a-copy\n",
      "\n"
     ]
    },
    {
     "name": "stdout",
     "output_type": "stream",
     "text": [
      "17296\n"
     ]
    },
    {
     "name": "stderr",
     "output_type": "stream",
     "text": [
      "/var/folders/8g/rym67m5d29dcjm2td47sgb_m0000gn/T/ipykernel_29122/413030651.py:16: FutureWarning:\n",
      "\n",
      "Passing 'suffixes' which cause duplicate columns {'Z_y', 'type_geo_y'} in the result is deprecated and will raise a MergeError in a future version.\n",
      "\n",
      "/opt/homebrew/Caskroom/miniforge/base/envs/py3/lib/python3.9/site-packages/sklearn/neighbors/_classification.py:198: DataConversionWarning:\n",
      "\n",
      "A column-vector y was passed when a 1d array was expected. Please change the shape of y to (n_samples,), for example using ravel().\n",
      "\n",
      "/var/folders/8g/rym67m5d29dcjm2td47sgb_m0000gn/T/ipykernel_29122/413030651.py:25: SettingWithCopyWarning:\n",
      "\n",
      "\n",
      "A value is trying to be set on a copy of a slice from a DataFrame.\n",
      "Try using .loc[row_indexer,col_indexer] = value instead\n",
      "\n",
      "See the caveats in the documentation: https://pandas.pydata.org/pandas-docs/stable/user_guide/indexing.html#returning-a-view-versus-a-copy\n",
      "\n"
     ]
    },
    {
     "name": "stdout",
     "output_type": "stream",
     "text": [
      "14788\n"
     ]
    },
    {
     "name": "stderr",
     "output_type": "stream",
     "text": [
      "/var/folders/8g/rym67m5d29dcjm2td47sgb_m0000gn/T/ipykernel_29122/413030651.py:16: FutureWarning:\n",
      "\n",
      "Passing 'suffixes' which cause duplicate columns {'type_geo_y'} in the result is deprecated and will raise a MergeError in a future version.\n",
      "\n",
      "/opt/homebrew/Caskroom/miniforge/base/envs/py3/lib/python3.9/site-packages/sklearn/neighbors/_classification.py:198: DataConversionWarning:\n",
      "\n",
      "A column-vector y was passed when a 1d array was expected. Please change the shape of y to (n_samples,), for example using ravel().\n",
      "\n",
      "/var/folders/8g/rym67m5d29dcjm2td47sgb_m0000gn/T/ipykernel_29122/413030651.py:25: SettingWithCopyWarning:\n",
      "\n",
      "\n",
      "A value is trying to be set on a copy of a slice from a DataFrame.\n",
      "Try using .loc[row_indexer,col_indexer] = value instead\n",
      "\n",
      "See the caveats in the documentation: https://pandas.pydata.org/pandas-docs/stable/user_guide/indexing.html#returning-a-view-versus-a-copy\n",
      "\n"
     ]
    },
    {
     "name": "stdout",
     "output_type": "stream",
     "text": [
      "17296\n"
     ]
    },
    {
     "name": "stderr",
     "output_type": "stream",
     "text": [
      "/var/folders/8g/rym67m5d29dcjm2td47sgb_m0000gn/T/ipykernel_29122/413030651.py:16: FutureWarning:\n",
      "\n",
      "Passing 'suffixes' which cause duplicate columns {'Z_y', 'type_geo_y'} in the result is deprecated and will raise a MergeError in a future version.\n",
      "\n",
      "/opt/homebrew/Caskroom/miniforge/base/envs/py3/lib/python3.9/site-packages/sklearn/neighbors/_classification.py:198: DataConversionWarning:\n",
      "\n",
      "A column-vector y was passed when a 1d array was expected. Please change the shape of y to (n_samples,), for example using ravel().\n",
      "\n",
      "/var/folders/8g/rym67m5d29dcjm2td47sgb_m0000gn/T/ipykernel_29122/413030651.py:25: SettingWithCopyWarning:\n",
      "\n",
      "\n",
      "A value is trying to be set on a copy of a slice from a DataFrame.\n",
      "Try using .loc[row_indexer,col_indexer] = value instead\n",
      "\n",
      "See the caveats in the documentation: https://pandas.pydata.org/pandas-docs/stable/user_guide/indexing.html#returning-a-view-versus-a-copy\n",
      "\n"
     ]
    },
    {
     "name": "stdout",
     "output_type": "stream",
     "text": [
      "14788\n"
     ]
    },
    {
     "name": "stderr",
     "output_type": "stream",
     "text": [
      "/var/folders/8g/rym67m5d29dcjm2td47sgb_m0000gn/T/ipykernel_29122/413030651.py:16: FutureWarning:\n",
      "\n",
      "Passing 'suffixes' which cause duplicate columns {'type_geo_y'} in the result is deprecated and will raise a MergeError in a future version.\n",
      "\n",
      "/opt/homebrew/Caskroom/miniforge/base/envs/py3/lib/python3.9/site-packages/sklearn/neighbors/_classification.py:198: DataConversionWarning:\n",
      "\n",
      "A column-vector y was passed when a 1d array was expected. Please change the shape of y to (n_samples,), for example using ravel().\n",
      "\n",
      "/var/folders/8g/rym67m5d29dcjm2td47sgb_m0000gn/T/ipykernel_29122/413030651.py:25: SettingWithCopyWarning:\n",
      "\n",
      "\n",
      "A value is trying to be set on a copy of a slice from a DataFrame.\n",
      "Try using .loc[row_indexer,col_indexer] = value instead\n",
      "\n",
      "See the caveats in the documentation: https://pandas.pydata.org/pandas-docs/stable/user_guide/indexing.html#returning-a-view-versus-a-copy\n",
      "\n"
     ]
    },
    {
     "name": "stdout",
     "output_type": "stream",
     "text": [
      "17296\n"
     ]
    },
    {
     "name": "stderr",
     "output_type": "stream",
     "text": [
      "/var/folders/8g/rym67m5d29dcjm2td47sgb_m0000gn/T/ipykernel_29122/413030651.py:16: FutureWarning:\n",
      "\n",
      "Passing 'suffixes' which cause duplicate columns {'Z_y', 'type_geo_y'} in the result is deprecated and will raise a MergeError in a future version.\n",
      "\n",
      "/opt/homebrew/Caskroom/miniforge/base/envs/py3/lib/python3.9/site-packages/sklearn/neighbors/_classification.py:198: DataConversionWarning:\n",
      "\n",
      "A column-vector y was passed when a 1d array was expected. Please change the shape of y to (n_samples,), for example using ravel().\n",
      "\n",
      "/var/folders/8g/rym67m5d29dcjm2td47sgb_m0000gn/T/ipykernel_29122/413030651.py:25: SettingWithCopyWarning:\n",
      "\n",
      "\n",
      "A value is trying to be set on a copy of a slice from a DataFrame.\n",
      "Try using .loc[row_indexer,col_indexer] = value instead\n",
      "\n",
      "See the caveats in the documentation: https://pandas.pydata.org/pandas-docs/stable/user_guide/indexing.html#returning-a-view-versus-a-copy\n",
      "\n"
     ]
    },
    {
     "name": "stdout",
     "output_type": "stream",
     "text": [
      "14788\n"
     ]
    },
    {
     "name": "stderr",
     "output_type": "stream",
     "text": [
      "/var/folders/8g/rym67m5d29dcjm2td47sgb_m0000gn/T/ipykernel_29122/413030651.py:16: FutureWarning:\n",
      "\n",
      "Passing 'suffixes' which cause duplicate columns {'type_geo_y'} in the result is deprecated and will raise a MergeError in a future version.\n",
      "\n",
      "/opt/homebrew/Caskroom/miniforge/base/envs/py3/lib/python3.9/site-packages/sklearn/neighbors/_classification.py:198: DataConversionWarning:\n",
      "\n",
      "A column-vector y was passed when a 1d array was expected. Please change the shape of y to (n_samples,), for example using ravel().\n",
      "\n",
      "/var/folders/8g/rym67m5d29dcjm2td47sgb_m0000gn/T/ipykernel_29122/413030651.py:25: SettingWithCopyWarning:\n",
      "\n",
      "\n",
      "A value is trying to be set on a copy of a slice from a DataFrame.\n",
      "Try using .loc[row_indexer,col_indexer] = value instead\n",
      "\n",
      "See the caveats in the documentation: https://pandas.pydata.org/pandas-docs/stable/user_guide/indexing.html#returning-a-view-versus-a-copy\n",
      "\n"
     ]
    },
    {
     "name": "stdout",
     "output_type": "stream",
     "text": [
      "17296\n"
     ]
    },
    {
     "name": "stderr",
     "output_type": "stream",
     "text": [
      "/var/folders/8g/rym67m5d29dcjm2td47sgb_m0000gn/T/ipykernel_29122/413030651.py:16: FutureWarning:\n",
      "\n",
      "Passing 'suffixes' which cause duplicate columns {'Z_y', 'type_geo_y'} in the result is deprecated and will raise a MergeError in a future version.\n",
      "\n",
      "/opt/homebrew/Caskroom/miniforge/base/envs/py3/lib/python3.9/site-packages/sklearn/neighbors/_classification.py:198: DataConversionWarning:\n",
      "\n",
      "A column-vector y was passed when a 1d array was expected. Please change the shape of y to (n_samples,), for example using ravel().\n",
      "\n",
      "/var/folders/8g/rym67m5d29dcjm2td47sgb_m0000gn/T/ipykernel_29122/413030651.py:25: SettingWithCopyWarning:\n",
      "\n",
      "\n",
      "A value is trying to be set on a copy of a slice from a DataFrame.\n",
      "Try using .loc[row_indexer,col_indexer] = value instead\n",
      "\n",
      "See the caveats in the documentation: https://pandas.pydata.org/pandas-docs/stable/user_guide/indexing.html#returning-a-view-versus-a-copy\n",
      "\n"
     ]
    },
    {
     "name": "stdout",
     "output_type": "stream",
     "text": [
      "14788\n"
     ]
    },
    {
     "name": "stderr",
     "output_type": "stream",
     "text": [
      "/var/folders/8g/rym67m5d29dcjm2td47sgb_m0000gn/T/ipykernel_29122/413030651.py:16: FutureWarning:\n",
      "\n",
      "Passing 'suffixes' which cause duplicate columns {'type_geo_y'} in the result is deprecated and will raise a MergeError in a future version.\n",
      "\n",
      "/opt/homebrew/Caskroom/miniforge/base/envs/py3/lib/python3.9/site-packages/sklearn/neighbors/_classification.py:198: DataConversionWarning:\n",
      "\n",
      "A column-vector y was passed when a 1d array was expected. Please change the shape of y to (n_samples,), for example using ravel().\n",
      "\n",
      "/var/folders/8g/rym67m5d29dcjm2td47sgb_m0000gn/T/ipykernel_29122/413030651.py:25: SettingWithCopyWarning:\n",
      "\n",
      "\n",
      "A value is trying to be set on a copy of a slice from a DataFrame.\n",
      "Try using .loc[row_indexer,col_indexer] = value instead\n",
      "\n",
      "See the caveats in the documentation: https://pandas.pydata.org/pandas-docs/stable/user_guide/indexing.html#returning-a-view-versus-a-copy\n",
      "\n"
     ]
    },
    {
     "name": "stdout",
     "output_type": "stream",
     "text": [
      "17296\n"
     ]
    },
    {
     "name": "stderr",
     "output_type": "stream",
     "text": [
      "/var/folders/8g/rym67m5d29dcjm2td47sgb_m0000gn/T/ipykernel_29122/413030651.py:16: FutureWarning:\n",
      "\n",
      "Passing 'suffixes' which cause duplicate columns {'Z_y', 'type_geo_y'} in the result is deprecated and will raise a MergeError in a future version.\n",
      "\n",
      "/opt/homebrew/Caskroom/miniforge/base/envs/py3/lib/python3.9/site-packages/sklearn/neighbors/_classification.py:198: DataConversionWarning:\n",
      "\n",
      "A column-vector y was passed when a 1d array was expected. Please change the shape of y to (n_samples,), for example using ravel().\n",
      "\n",
      "/var/folders/8g/rym67m5d29dcjm2td47sgb_m0000gn/T/ipykernel_29122/413030651.py:25: SettingWithCopyWarning:\n",
      "\n",
      "\n",
      "A value is trying to be set on a copy of a slice from a DataFrame.\n",
      "Try using .loc[row_indexer,col_indexer] = value instead\n",
      "\n",
      "See the caveats in the documentation: https://pandas.pydata.org/pandas-docs/stable/user_guide/indexing.html#returning-a-view-versus-a-copy\n",
      "\n"
     ]
    },
    {
     "name": "stdout",
     "output_type": "stream",
     "text": [
      "14788\n"
     ]
    },
    {
     "name": "stderr",
     "output_type": "stream",
     "text": [
      "/var/folders/8g/rym67m5d29dcjm2td47sgb_m0000gn/T/ipykernel_29122/413030651.py:16: FutureWarning:\n",
      "\n",
      "Passing 'suffixes' which cause duplicate columns {'type_geo_y'} in the result is deprecated and will raise a MergeError in a future version.\n",
      "\n",
      "/opt/homebrew/Caskroom/miniforge/base/envs/py3/lib/python3.9/site-packages/sklearn/neighbors/_classification.py:198: DataConversionWarning:\n",
      "\n",
      "A column-vector y was passed when a 1d array was expected. Please change the shape of y to (n_samples,), for example using ravel().\n",
      "\n",
      "/var/folders/8g/rym67m5d29dcjm2td47sgb_m0000gn/T/ipykernel_29122/413030651.py:25: SettingWithCopyWarning:\n",
      "\n",
      "\n",
      "A value is trying to be set on a copy of a slice from a DataFrame.\n",
      "Try using .loc[row_indexer,col_indexer] = value instead\n",
      "\n",
      "See the caveats in the documentation: https://pandas.pydata.org/pandas-docs/stable/user_guide/indexing.html#returning-a-view-versus-a-copy\n",
      "\n"
     ]
    },
    {
     "name": "stdout",
     "output_type": "stream",
     "text": [
      "17296\n"
     ]
    },
    {
     "name": "stderr",
     "output_type": "stream",
     "text": [
      "/var/folders/8g/rym67m5d29dcjm2td47sgb_m0000gn/T/ipykernel_29122/413030651.py:16: FutureWarning:\n",
      "\n",
      "Passing 'suffixes' which cause duplicate columns {'Z_y', 'type_geo_y'} in the result is deprecated and will raise a MergeError in a future version.\n",
      "\n",
      "/opt/homebrew/Caskroom/miniforge/base/envs/py3/lib/python3.9/site-packages/sklearn/neighbors/_classification.py:198: DataConversionWarning:\n",
      "\n",
      "A column-vector y was passed when a 1d array was expected. Please change the shape of y to (n_samples,), for example using ravel().\n",
      "\n",
      "/var/folders/8g/rym67m5d29dcjm2td47sgb_m0000gn/T/ipykernel_29122/413030651.py:25: SettingWithCopyWarning:\n",
      "\n",
      "\n",
      "A value is trying to be set on a copy of a slice from a DataFrame.\n",
      "Try using .loc[row_indexer,col_indexer] = value instead\n",
      "\n",
      "See the caveats in the documentation: https://pandas.pydata.org/pandas-docs/stable/user_guide/indexing.html#returning-a-view-versus-a-copy\n",
      "\n"
     ]
    },
    {
     "name": "stdout",
     "output_type": "stream",
     "text": [
      "14788\n"
     ]
    },
    {
     "name": "stderr",
     "output_type": "stream",
     "text": [
      "/var/folders/8g/rym67m5d29dcjm2td47sgb_m0000gn/T/ipykernel_29122/413030651.py:16: FutureWarning:\n",
      "\n",
      "Passing 'suffixes' which cause duplicate columns {'type_geo_y'} in the result is deprecated and will raise a MergeError in a future version.\n",
      "\n",
      "/opt/homebrew/Caskroom/miniforge/base/envs/py3/lib/python3.9/site-packages/sklearn/neighbors/_classification.py:198: DataConversionWarning:\n",
      "\n",
      "A column-vector y was passed when a 1d array was expected. Please change the shape of y to (n_samples,), for example using ravel().\n",
      "\n",
      "/var/folders/8g/rym67m5d29dcjm2td47sgb_m0000gn/T/ipykernel_29122/413030651.py:25: SettingWithCopyWarning:\n",
      "\n",
      "\n",
      "A value is trying to be set on a copy of a slice from a DataFrame.\n",
      "Try using .loc[row_indexer,col_indexer] = value instead\n",
      "\n",
      "See the caveats in the documentation: https://pandas.pydata.org/pandas-docs/stable/user_guide/indexing.html#returning-a-view-versus-a-copy\n",
      "\n"
     ]
    },
    {
     "name": "stdout",
     "output_type": "stream",
     "text": [
      "17296\n"
     ]
    },
    {
     "name": "stderr",
     "output_type": "stream",
     "text": [
      "/var/folders/8g/rym67m5d29dcjm2td47sgb_m0000gn/T/ipykernel_29122/413030651.py:16: FutureWarning:\n",
      "\n",
      "Passing 'suffixes' which cause duplicate columns {'Z_y', 'type_geo_y'} in the result is deprecated and will raise a MergeError in a future version.\n",
      "\n",
      "/opt/homebrew/Caskroom/miniforge/base/envs/py3/lib/python3.9/site-packages/sklearn/neighbors/_classification.py:198: DataConversionWarning:\n",
      "\n",
      "A column-vector y was passed when a 1d array was expected. Please change the shape of y to (n_samples,), for example using ravel().\n",
      "\n",
      "/var/folders/8g/rym67m5d29dcjm2td47sgb_m0000gn/T/ipykernel_29122/413030651.py:25: SettingWithCopyWarning:\n",
      "\n",
      "\n",
      "A value is trying to be set on a copy of a slice from a DataFrame.\n",
      "Try using .loc[row_indexer,col_indexer] = value instead\n",
      "\n",
      "See the caveats in the documentation: https://pandas.pydata.org/pandas-docs/stable/user_guide/indexing.html#returning-a-view-versus-a-copy\n",
      "\n"
     ]
    },
    {
     "name": "stdout",
     "output_type": "stream",
     "text": [
      "14788\n"
     ]
    },
    {
     "name": "stderr",
     "output_type": "stream",
     "text": [
      "/var/folders/8g/rym67m5d29dcjm2td47sgb_m0000gn/T/ipykernel_29122/413030651.py:16: FutureWarning:\n",
      "\n",
      "Passing 'suffixes' which cause duplicate columns {'type_geo_y'} in the result is deprecated and will raise a MergeError in a future version.\n",
      "\n",
      "/opt/homebrew/Caskroom/miniforge/base/envs/py3/lib/python3.9/site-packages/sklearn/neighbors/_classification.py:198: DataConversionWarning:\n",
      "\n",
      "A column-vector y was passed when a 1d array was expected. Please change the shape of y to (n_samples,), for example using ravel().\n",
      "\n",
      "/var/folders/8g/rym67m5d29dcjm2td47sgb_m0000gn/T/ipykernel_29122/413030651.py:25: SettingWithCopyWarning:\n",
      "\n",
      "\n",
      "A value is trying to be set on a copy of a slice from a DataFrame.\n",
      "Try using .loc[row_indexer,col_indexer] = value instead\n",
      "\n",
      "See the caveats in the documentation: https://pandas.pydata.org/pandas-docs/stable/user_guide/indexing.html#returning-a-view-versus-a-copy\n",
      "\n"
     ]
    },
    {
     "name": "stdout",
     "output_type": "stream",
     "text": [
      "17296\n"
     ]
    },
    {
     "name": "stderr",
     "output_type": "stream",
     "text": [
      "/var/folders/8g/rym67m5d29dcjm2td47sgb_m0000gn/T/ipykernel_29122/413030651.py:16: FutureWarning:\n",
      "\n",
      "Passing 'suffixes' which cause duplicate columns {'Z_y', 'type_geo_y'} in the result is deprecated and will raise a MergeError in a future version.\n",
      "\n",
      "/opt/homebrew/Caskroom/miniforge/base/envs/py3/lib/python3.9/site-packages/sklearn/neighbors/_classification.py:198: DataConversionWarning:\n",
      "\n",
      "A column-vector y was passed when a 1d array was expected. Please change the shape of y to (n_samples,), for example using ravel().\n",
      "\n",
      "/var/folders/8g/rym67m5d29dcjm2td47sgb_m0000gn/T/ipykernel_29122/413030651.py:25: SettingWithCopyWarning:\n",
      "\n",
      "\n",
      "A value is trying to be set on a copy of a slice from a DataFrame.\n",
      "Try using .loc[row_indexer,col_indexer] = value instead\n",
      "\n",
      "See the caveats in the documentation: https://pandas.pydata.org/pandas-docs/stable/user_guide/indexing.html#returning-a-view-versus-a-copy\n",
      "\n"
     ]
    },
    {
     "name": "stdout",
     "output_type": "stream",
     "text": [
      "14788\n"
     ]
    },
    {
     "name": "stderr",
     "output_type": "stream",
     "text": [
      "/var/folders/8g/rym67m5d29dcjm2td47sgb_m0000gn/T/ipykernel_29122/413030651.py:16: FutureWarning:\n",
      "\n",
      "Passing 'suffixes' which cause duplicate columns {'type_geo_y'} in the result is deprecated and will raise a MergeError in a future version.\n",
      "\n",
      "/opt/homebrew/Caskroom/miniforge/base/envs/py3/lib/python3.9/site-packages/sklearn/neighbors/_classification.py:198: DataConversionWarning:\n",
      "\n",
      "A column-vector y was passed when a 1d array was expected. Please change the shape of y to (n_samples,), for example using ravel().\n",
      "\n",
      "/var/folders/8g/rym67m5d29dcjm2td47sgb_m0000gn/T/ipykernel_29122/413030651.py:25: SettingWithCopyWarning:\n",
      "\n",
      "\n",
      "A value is trying to be set on a copy of a slice from a DataFrame.\n",
      "Try using .loc[row_indexer,col_indexer] = value instead\n",
      "\n",
      "See the caveats in the documentation: https://pandas.pydata.org/pandas-docs/stable/user_guide/indexing.html#returning-a-view-versus-a-copy\n",
      "\n"
     ]
    },
    {
     "name": "stdout",
     "output_type": "stream",
     "text": [
      "17296\n"
     ]
    },
    {
     "name": "stderr",
     "output_type": "stream",
     "text": [
      "/var/folders/8g/rym67m5d29dcjm2td47sgb_m0000gn/T/ipykernel_29122/413030651.py:16: FutureWarning:\n",
      "\n",
      "Passing 'suffixes' which cause duplicate columns {'Z_y', 'type_geo_y'} in the result is deprecated and will raise a MergeError in a future version.\n",
      "\n",
      "/opt/homebrew/Caskroom/miniforge/base/envs/py3/lib/python3.9/site-packages/sklearn/neighbors/_classification.py:198: DataConversionWarning:\n",
      "\n",
      "A column-vector y was passed when a 1d array was expected. Please change the shape of y to (n_samples,), for example using ravel().\n",
      "\n",
      "/var/folders/8g/rym67m5d29dcjm2td47sgb_m0000gn/T/ipykernel_29122/413030651.py:25: SettingWithCopyWarning:\n",
      "\n",
      "\n",
      "A value is trying to be set on a copy of a slice from a DataFrame.\n",
      "Try using .loc[row_indexer,col_indexer] = value instead\n",
      "\n",
      "See the caveats in the documentation: https://pandas.pydata.org/pandas-docs/stable/user_guide/indexing.html#returning-a-view-versus-a-copy\n",
      "\n"
     ]
    },
    {
     "name": "stdout",
     "output_type": "stream",
     "text": [
      "14788\n"
     ]
    },
    {
     "name": "stderr",
     "output_type": "stream",
     "text": [
      "/var/folders/8g/rym67m5d29dcjm2td47sgb_m0000gn/T/ipykernel_29122/413030651.py:16: FutureWarning:\n",
      "\n",
      "Passing 'suffixes' which cause duplicate columns {'type_geo_y'} in the result is deprecated and will raise a MergeError in a future version.\n",
      "\n",
      "/opt/homebrew/Caskroom/miniforge/base/envs/py3/lib/python3.9/site-packages/sklearn/neighbors/_classification.py:198: DataConversionWarning:\n",
      "\n",
      "A column-vector y was passed when a 1d array was expected. Please change the shape of y to (n_samples,), for example using ravel().\n",
      "\n",
      "/var/folders/8g/rym67m5d29dcjm2td47sgb_m0000gn/T/ipykernel_29122/413030651.py:25: SettingWithCopyWarning:\n",
      "\n",
      "\n",
      "A value is trying to be set on a copy of a slice from a DataFrame.\n",
      "Try using .loc[row_indexer,col_indexer] = value instead\n",
      "\n",
      "See the caveats in the documentation: https://pandas.pydata.org/pandas-docs/stable/user_guide/indexing.html#returning-a-view-versus-a-copy\n",
      "\n"
     ]
    },
    {
     "name": "stdout",
     "output_type": "stream",
     "text": [
      "17296\n"
     ]
    },
    {
     "name": "stderr",
     "output_type": "stream",
     "text": [
      "/var/folders/8g/rym67m5d29dcjm2td47sgb_m0000gn/T/ipykernel_29122/413030651.py:16: FutureWarning:\n",
      "\n",
      "Passing 'suffixes' which cause duplicate columns {'Z_y', 'type_geo_y'} in the result is deprecated and will raise a MergeError in a future version.\n",
      "\n",
      "/opt/homebrew/Caskroom/miniforge/base/envs/py3/lib/python3.9/site-packages/sklearn/neighbors/_classification.py:198: DataConversionWarning:\n",
      "\n",
      "A column-vector y was passed when a 1d array was expected. Please change the shape of y to (n_samples,), for example using ravel().\n",
      "\n",
      "/var/folders/8g/rym67m5d29dcjm2td47sgb_m0000gn/T/ipykernel_29122/413030651.py:25: SettingWithCopyWarning:\n",
      "\n",
      "\n",
      "A value is trying to be set on a copy of a slice from a DataFrame.\n",
      "Try using .loc[row_indexer,col_indexer] = value instead\n",
      "\n",
      "See the caveats in the documentation: https://pandas.pydata.org/pandas-docs/stable/user_guide/indexing.html#returning-a-view-versus-a-copy\n",
      "\n"
     ]
    },
    {
     "name": "stdout",
     "output_type": "stream",
     "text": [
      "14788\n"
     ]
    },
    {
     "name": "stderr",
     "output_type": "stream",
     "text": [
      "/var/folders/8g/rym67m5d29dcjm2td47sgb_m0000gn/T/ipykernel_29122/413030651.py:16: FutureWarning:\n",
      "\n",
      "Passing 'suffixes' which cause duplicate columns {'type_geo_y'} in the result is deprecated and will raise a MergeError in a future version.\n",
      "\n",
      "/opt/homebrew/Caskroom/miniforge/base/envs/py3/lib/python3.9/site-packages/sklearn/neighbors/_classification.py:198: DataConversionWarning:\n",
      "\n",
      "A column-vector y was passed when a 1d array was expected. Please change the shape of y to (n_samples,), for example using ravel().\n",
      "\n",
      "/var/folders/8g/rym67m5d29dcjm2td47sgb_m0000gn/T/ipykernel_29122/413030651.py:25: SettingWithCopyWarning:\n",
      "\n",
      "\n",
      "A value is trying to be set on a copy of a slice from a DataFrame.\n",
      "Try using .loc[row_indexer,col_indexer] = value instead\n",
      "\n",
      "See the caveats in the documentation: https://pandas.pydata.org/pandas-docs/stable/user_guide/indexing.html#returning-a-view-versus-a-copy\n",
      "\n"
     ]
    },
    {
     "name": "stdout",
     "output_type": "stream",
     "text": [
      "17296\n"
     ]
    },
    {
     "name": "stderr",
     "output_type": "stream",
     "text": [
      "/var/folders/8g/rym67m5d29dcjm2td47sgb_m0000gn/T/ipykernel_29122/413030651.py:16: FutureWarning:\n",
      "\n",
      "Passing 'suffixes' which cause duplicate columns {'Z_y', 'type_geo_y'} in the result is deprecated and will raise a MergeError in a future version.\n",
      "\n",
      "/opt/homebrew/Caskroom/miniforge/base/envs/py3/lib/python3.9/site-packages/sklearn/neighbors/_classification.py:198: DataConversionWarning:\n",
      "\n",
      "A column-vector y was passed when a 1d array was expected. Please change the shape of y to (n_samples,), for example using ravel().\n",
      "\n",
      "/var/folders/8g/rym67m5d29dcjm2td47sgb_m0000gn/T/ipykernel_29122/413030651.py:25: SettingWithCopyWarning:\n",
      "\n",
      "\n",
      "A value is trying to be set on a copy of a slice from a DataFrame.\n",
      "Try using .loc[row_indexer,col_indexer] = value instead\n",
      "\n",
      "See the caveats in the documentation: https://pandas.pydata.org/pandas-docs/stable/user_guide/indexing.html#returning-a-view-versus-a-copy\n",
      "\n"
     ]
    },
    {
     "name": "stdout",
     "output_type": "stream",
     "text": [
      "14788\n"
     ]
    },
    {
     "name": "stderr",
     "output_type": "stream",
     "text": [
      "/var/folders/8g/rym67m5d29dcjm2td47sgb_m0000gn/T/ipykernel_29122/413030651.py:16: FutureWarning:\n",
      "\n",
      "Passing 'suffixes' which cause duplicate columns {'type_geo_y'} in the result is deprecated and will raise a MergeError in a future version.\n",
      "\n",
      "/opt/homebrew/Caskroom/miniforge/base/envs/py3/lib/python3.9/site-packages/sklearn/neighbors/_classification.py:198: DataConversionWarning:\n",
      "\n",
      "A column-vector y was passed when a 1d array was expected. Please change the shape of y to (n_samples,), for example using ravel().\n",
      "\n",
      "/var/folders/8g/rym67m5d29dcjm2td47sgb_m0000gn/T/ipykernel_29122/413030651.py:25: SettingWithCopyWarning:\n",
      "\n",
      "\n",
      "A value is trying to be set on a copy of a slice from a DataFrame.\n",
      "Try using .loc[row_indexer,col_indexer] = value instead\n",
      "\n",
      "See the caveats in the documentation: https://pandas.pydata.org/pandas-docs/stable/user_guide/indexing.html#returning-a-view-versus-a-copy\n",
      "\n"
     ]
    },
    {
     "name": "stdout",
     "output_type": "stream",
     "text": [
      "17296\n"
     ]
    },
    {
     "name": "stderr",
     "output_type": "stream",
     "text": [
      "/var/folders/8g/rym67m5d29dcjm2td47sgb_m0000gn/T/ipykernel_29122/413030651.py:16: FutureWarning:\n",
      "\n",
      "Passing 'suffixes' which cause duplicate columns {'Z_y', 'type_geo_y'} in the result is deprecated and will raise a MergeError in a future version.\n",
      "\n",
      "/opt/homebrew/Caskroom/miniforge/base/envs/py3/lib/python3.9/site-packages/sklearn/neighbors/_classification.py:198: DataConversionWarning:\n",
      "\n",
      "A column-vector y was passed when a 1d array was expected. Please change the shape of y to (n_samples,), for example using ravel().\n",
      "\n",
      "/var/folders/8g/rym67m5d29dcjm2td47sgb_m0000gn/T/ipykernel_29122/413030651.py:25: SettingWithCopyWarning:\n",
      "\n",
      "\n",
      "A value is trying to be set on a copy of a slice from a DataFrame.\n",
      "Try using .loc[row_indexer,col_indexer] = value instead\n",
      "\n",
      "See the caveats in the documentation: https://pandas.pydata.org/pandas-docs/stable/user_guide/indexing.html#returning-a-view-versus-a-copy\n",
      "\n"
     ]
    },
    {
     "name": "stdout",
     "output_type": "stream",
     "text": [
      "14788\n"
     ]
    },
    {
     "name": "stderr",
     "output_type": "stream",
     "text": [
      "/var/folders/8g/rym67m5d29dcjm2td47sgb_m0000gn/T/ipykernel_29122/413030651.py:16: FutureWarning:\n",
      "\n",
      "Passing 'suffixes' which cause duplicate columns {'type_geo_y'} in the result is deprecated and will raise a MergeError in a future version.\n",
      "\n",
      "/opt/homebrew/Caskroom/miniforge/base/envs/py3/lib/python3.9/site-packages/sklearn/neighbors/_classification.py:198: DataConversionWarning:\n",
      "\n",
      "A column-vector y was passed when a 1d array was expected. Please change the shape of y to (n_samples,), for example using ravel().\n",
      "\n",
      "/var/folders/8g/rym67m5d29dcjm2td47sgb_m0000gn/T/ipykernel_29122/413030651.py:25: SettingWithCopyWarning:\n",
      "\n",
      "\n",
      "A value is trying to be set on a copy of a slice from a DataFrame.\n",
      "Try using .loc[row_indexer,col_indexer] = value instead\n",
      "\n",
      "See the caveats in the documentation: https://pandas.pydata.org/pandas-docs/stable/user_guide/indexing.html#returning-a-view-versus-a-copy\n",
      "\n"
     ]
    },
    {
     "name": "stdout",
     "output_type": "stream",
     "text": [
      "17296\n"
     ]
    },
    {
     "name": "stderr",
     "output_type": "stream",
     "text": [
      "/var/folders/8g/rym67m5d29dcjm2td47sgb_m0000gn/T/ipykernel_29122/413030651.py:16: FutureWarning:\n",
      "\n",
      "Passing 'suffixes' which cause duplicate columns {'Z_y', 'type_geo_y'} in the result is deprecated and will raise a MergeError in a future version.\n",
      "\n",
      "/opt/homebrew/Caskroom/miniforge/base/envs/py3/lib/python3.9/site-packages/sklearn/neighbors/_classification.py:198: DataConversionWarning:\n",
      "\n",
      "A column-vector y was passed when a 1d array was expected. Please change the shape of y to (n_samples,), for example using ravel().\n",
      "\n",
      "/var/folders/8g/rym67m5d29dcjm2td47sgb_m0000gn/T/ipykernel_29122/413030651.py:25: SettingWithCopyWarning:\n",
      "\n",
      "\n",
      "A value is trying to be set on a copy of a slice from a DataFrame.\n",
      "Try using .loc[row_indexer,col_indexer] = value instead\n",
      "\n",
      "See the caveats in the documentation: https://pandas.pydata.org/pandas-docs/stable/user_guide/indexing.html#returning-a-view-versus-a-copy\n",
      "\n",
      "/var/folders/8g/rym67m5d29dcjm2td47sgb_m0000gn/T/ipykernel_29122/413030651.py:16: FutureWarning:\n",
      "\n",
      "Passing 'suffixes' which cause duplicate columns {'type_geo_y'} in the result is deprecated and will raise a MergeError in a future version.\n",
      "\n"
     ]
    },
    {
     "name": "stdout",
     "output_type": "stream",
     "text": [
      "14788\n"
     ]
    },
    {
     "name": "stderr",
     "output_type": "stream",
     "text": [
      "/opt/homebrew/Caskroom/miniforge/base/envs/py3/lib/python3.9/site-packages/sklearn/neighbors/_classification.py:198: DataConversionWarning:\n",
      "\n",
      "A column-vector y was passed when a 1d array was expected. Please change the shape of y to (n_samples,), for example using ravel().\n",
      "\n",
      "/var/folders/8g/rym67m5d29dcjm2td47sgb_m0000gn/T/ipykernel_29122/413030651.py:25: SettingWithCopyWarning:\n",
      "\n",
      "\n",
      "A value is trying to be set on a copy of a slice from a DataFrame.\n",
      "Try using .loc[row_indexer,col_indexer] = value instead\n",
      "\n",
      "See the caveats in the documentation: https://pandas.pydata.org/pandas-docs/stable/user_guide/indexing.html#returning-a-view-versus-a-copy\n",
      "\n"
     ]
    },
    {
     "name": "stdout",
     "output_type": "stream",
     "text": [
      "17296\n"
     ]
    },
    {
     "name": "stderr",
     "output_type": "stream",
     "text": [
      "/var/folders/8g/rym67m5d29dcjm2td47sgb_m0000gn/T/ipykernel_29122/413030651.py:16: FutureWarning:\n",
      "\n",
      "Passing 'suffixes' which cause duplicate columns {'Z_y', 'type_geo_y'} in the result is deprecated and will raise a MergeError in a future version.\n",
      "\n",
      "/opt/homebrew/Caskroom/miniforge/base/envs/py3/lib/python3.9/site-packages/sklearn/neighbors/_classification.py:198: DataConversionWarning:\n",
      "\n",
      "A column-vector y was passed when a 1d array was expected. Please change the shape of y to (n_samples,), for example using ravel().\n",
      "\n",
      "/var/folders/8g/rym67m5d29dcjm2td47sgb_m0000gn/T/ipykernel_29122/413030651.py:25: SettingWithCopyWarning:\n",
      "\n",
      "\n",
      "A value is trying to be set on a copy of a slice from a DataFrame.\n",
      "Try using .loc[row_indexer,col_indexer] = value instead\n",
      "\n",
      "See the caveats in the documentation: https://pandas.pydata.org/pandas-docs/stable/user_guide/indexing.html#returning-a-view-versus-a-copy\n",
      "\n"
     ]
    },
    {
     "name": "stdout",
     "output_type": "stream",
     "text": [
      "14788\n"
     ]
    },
    {
     "name": "stderr",
     "output_type": "stream",
     "text": [
      "/var/folders/8g/rym67m5d29dcjm2td47sgb_m0000gn/T/ipykernel_29122/413030651.py:16: FutureWarning:\n",
      "\n",
      "Passing 'suffixes' which cause duplicate columns {'type_geo_y'} in the result is deprecated and will raise a MergeError in a future version.\n",
      "\n",
      "/opt/homebrew/Caskroom/miniforge/base/envs/py3/lib/python3.9/site-packages/sklearn/neighbors/_classification.py:198: DataConversionWarning:\n",
      "\n",
      "A column-vector y was passed when a 1d array was expected. Please change the shape of y to (n_samples,), for example using ravel().\n",
      "\n",
      "/var/folders/8g/rym67m5d29dcjm2td47sgb_m0000gn/T/ipykernel_29122/413030651.py:25: SettingWithCopyWarning:\n",
      "\n",
      "\n",
      "A value is trying to be set on a copy of a slice from a DataFrame.\n",
      "Try using .loc[row_indexer,col_indexer] = value instead\n",
      "\n",
      "See the caveats in the documentation: https://pandas.pydata.org/pandas-docs/stable/user_guide/indexing.html#returning-a-view-versus-a-copy\n",
      "\n"
     ]
    },
    {
     "name": "stdout",
     "output_type": "stream",
     "text": [
      "17296\n"
     ]
    },
    {
     "name": "stderr",
     "output_type": "stream",
     "text": [
      "/var/folders/8g/rym67m5d29dcjm2td47sgb_m0000gn/T/ipykernel_29122/413030651.py:16: FutureWarning:\n",
      "\n",
      "Passing 'suffixes' which cause duplicate columns {'Z_y', 'type_geo_y'} in the result is deprecated and will raise a MergeError in a future version.\n",
      "\n",
      "/opt/homebrew/Caskroom/miniforge/base/envs/py3/lib/python3.9/site-packages/sklearn/neighbors/_classification.py:198: DataConversionWarning:\n",
      "\n",
      "A column-vector y was passed when a 1d array was expected. Please change the shape of y to (n_samples,), for example using ravel().\n",
      "\n",
      "/var/folders/8g/rym67m5d29dcjm2td47sgb_m0000gn/T/ipykernel_29122/413030651.py:25: SettingWithCopyWarning:\n",
      "\n",
      "\n",
      "A value is trying to be set on a copy of a slice from a DataFrame.\n",
      "Try using .loc[row_indexer,col_indexer] = value instead\n",
      "\n",
      "See the caveats in the documentation: https://pandas.pydata.org/pandas-docs/stable/user_guide/indexing.html#returning-a-view-versus-a-copy\n",
      "\n"
     ]
    },
    {
     "name": "stdout",
     "output_type": "stream",
     "text": [
      "14788\n"
     ]
    },
    {
     "name": "stderr",
     "output_type": "stream",
     "text": [
      "/var/folders/8g/rym67m5d29dcjm2td47sgb_m0000gn/T/ipykernel_29122/413030651.py:16: FutureWarning:\n",
      "\n",
      "Passing 'suffixes' which cause duplicate columns {'type_geo_y'} in the result is deprecated and will raise a MergeError in a future version.\n",
      "\n",
      "/opt/homebrew/Caskroom/miniforge/base/envs/py3/lib/python3.9/site-packages/sklearn/neighbors/_classification.py:198: DataConversionWarning:\n",
      "\n",
      "A column-vector y was passed when a 1d array was expected. Please change the shape of y to (n_samples,), for example using ravel().\n",
      "\n",
      "/var/folders/8g/rym67m5d29dcjm2td47sgb_m0000gn/T/ipykernel_29122/413030651.py:25: SettingWithCopyWarning:\n",
      "\n",
      "\n",
      "A value is trying to be set on a copy of a slice from a DataFrame.\n",
      "Try using .loc[row_indexer,col_indexer] = value instead\n",
      "\n",
      "See the caveats in the documentation: https://pandas.pydata.org/pandas-docs/stable/user_guide/indexing.html#returning-a-view-versus-a-copy\n",
      "\n"
     ]
    },
    {
     "name": "stdout",
     "output_type": "stream",
     "text": [
      "17296\n"
     ]
    },
    {
     "name": "stderr",
     "output_type": "stream",
     "text": [
      "/var/folders/8g/rym67m5d29dcjm2td47sgb_m0000gn/T/ipykernel_29122/413030651.py:16: FutureWarning:\n",
      "\n",
      "Passing 'suffixes' which cause duplicate columns {'Z_y', 'type_geo_y'} in the result is deprecated and will raise a MergeError in a future version.\n",
      "\n",
      "/opt/homebrew/Caskroom/miniforge/base/envs/py3/lib/python3.9/site-packages/sklearn/neighbors/_classification.py:198: DataConversionWarning:\n",
      "\n",
      "A column-vector y was passed when a 1d array was expected. Please change the shape of y to (n_samples,), for example using ravel().\n",
      "\n",
      "/var/folders/8g/rym67m5d29dcjm2td47sgb_m0000gn/T/ipykernel_29122/413030651.py:25: SettingWithCopyWarning:\n",
      "\n",
      "\n",
      "A value is trying to be set on a copy of a slice from a DataFrame.\n",
      "Try using .loc[row_indexer,col_indexer] = value instead\n",
      "\n",
      "See the caveats in the documentation: https://pandas.pydata.org/pandas-docs/stable/user_guide/indexing.html#returning-a-view-versus-a-copy\n",
      "\n"
     ]
    },
    {
     "name": "stdout",
     "output_type": "stream",
     "text": [
      "14788\n"
     ]
    },
    {
     "name": "stderr",
     "output_type": "stream",
     "text": [
      "/var/folders/8g/rym67m5d29dcjm2td47sgb_m0000gn/T/ipykernel_29122/413030651.py:16: FutureWarning:\n",
      "\n",
      "Passing 'suffixes' which cause duplicate columns {'type_geo_y'} in the result is deprecated and will raise a MergeError in a future version.\n",
      "\n",
      "/opt/homebrew/Caskroom/miniforge/base/envs/py3/lib/python3.9/site-packages/sklearn/neighbors/_classification.py:198: DataConversionWarning:\n",
      "\n",
      "A column-vector y was passed when a 1d array was expected. Please change the shape of y to (n_samples,), for example using ravel().\n",
      "\n",
      "/var/folders/8g/rym67m5d29dcjm2td47sgb_m0000gn/T/ipykernel_29122/413030651.py:25: SettingWithCopyWarning:\n",
      "\n",
      "\n",
      "A value is trying to be set on a copy of a slice from a DataFrame.\n",
      "Try using .loc[row_indexer,col_indexer] = value instead\n",
      "\n",
      "See the caveats in the documentation: https://pandas.pydata.org/pandas-docs/stable/user_guide/indexing.html#returning-a-view-versus-a-copy\n",
      "\n"
     ]
    },
    {
     "name": "stdout",
     "output_type": "stream",
     "text": [
      "17296\n"
     ]
    },
    {
     "name": "stderr",
     "output_type": "stream",
     "text": [
      "/var/folders/8g/rym67m5d29dcjm2td47sgb_m0000gn/T/ipykernel_29122/413030651.py:16: FutureWarning:\n",
      "\n",
      "Passing 'suffixes' which cause duplicate columns {'Z_y', 'type_geo_y'} in the result is deprecated and will raise a MergeError in a future version.\n",
      "\n",
      "/opt/homebrew/Caskroom/miniforge/base/envs/py3/lib/python3.9/site-packages/sklearn/neighbors/_classification.py:198: DataConversionWarning:\n",
      "\n",
      "A column-vector y was passed when a 1d array was expected. Please change the shape of y to (n_samples,), for example using ravel().\n",
      "\n",
      "/var/folders/8g/rym67m5d29dcjm2td47sgb_m0000gn/T/ipykernel_29122/413030651.py:25: SettingWithCopyWarning:\n",
      "\n",
      "\n",
      "A value is trying to be set on a copy of a slice from a DataFrame.\n",
      "Try using .loc[row_indexer,col_indexer] = value instead\n",
      "\n",
      "See the caveats in the documentation: https://pandas.pydata.org/pandas-docs/stable/user_guide/indexing.html#returning-a-view-versus-a-copy\n",
      "\n"
     ]
    },
    {
     "name": "stdout",
     "output_type": "stream",
     "text": [
      "14788\n"
     ]
    },
    {
     "name": "stderr",
     "output_type": "stream",
     "text": [
      "/var/folders/8g/rym67m5d29dcjm2td47sgb_m0000gn/T/ipykernel_29122/413030651.py:16: FutureWarning:\n",
      "\n",
      "Passing 'suffixes' which cause duplicate columns {'type_geo_y'} in the result is deprecated and will raise a MergeError in a future version.\n",
      "\n",
      "/opt/homebrew/Caskroom/miniforge/base/envs/py3/lib/python3.9/site-packages/sklearn/neighbors/_classification.py:198: DataConversionWarning:\n",
      "\n",
      "A column-vector y was passed when a 1d array was expected. Please change the shape of y to (n_samples,), for example using ravel().\n",
      "\n",
      "/var/folders/8g/rym67m5d29dcjm2td47sgb_m0000gn/T/ipykernel_29122/413030651.py:25: SettingWithCopyWarning:\n",
      "\n",
      "\n",
      "A value is trying to be set on a copy of a slice from a DataFrame.\n",
      "Try using .loc[row_indexer,col_indexer] = value instead\n",
      "\n",
      "See the caveats in the documentation: https://pandas.pydata.org/pandas-docs/stable/user_guide/indexing.html#returning-a-view-versus-a-copy\n",
      "\n"
     ]
    },
    {
     "name": "stdout",
     "output_type": "stream",
     "text": [
      "17296\n"
     ]
    },
    {
     "name": "stderr",
     "output_type": "stream",
     "text": [
      "/var/folders/8g/rym67m5d29dcjm2td47sgb_m0000gn/T/ipykernel_29122/413030651.py:16: FutureWarning:\n",
      "\n",
      "Passing 'suffixes' which cause duplicate columns {'Z_y', 'type_geo_y'} in the result is deprecated and will raise a MergeError in a future version.\n",
      "\n",
      "/opt/homebrew/Caskroom/miniforge/base/envs/py3/lib/python3.9/site-packages/sklearn/neighbors/_classification.py:198: DataConversionWarning:\n",
      "\n",
      "A column-vector y was passed when a 1d array was expected. Please change the shape of y to (n_samples,), for example using ravel().\n",
      "\n",
      "/var/folders/8g/rym67m5d29dcjm2td47sgb_m0000gn/T/ipykernel_29122/413030651.py:25: SettingWithCopyWarning:\n",
      "\n",
      "\n",
      "A value is trying to be set on a copy of a slice from a DataFrame.\n",
      "Try using .loc[row_indexer,col_indexer] = value instead\n",
      "\n",
      "See the caveats in the documentation: https://pandas.pydata.org/pandas-docs/stable/user_guide/indexing.html#returning-a-view-versus-a-copy\n",
      "\n"
     ]
    },
    {
     "name": "stdout",
     "output_type": "stream",
     "text": [
      "14788\n"
     ]
    },
    {
     "name": "stderr",
     "output_type": "stream",
     "text": [
      "/var/folders/8g/rym67m5d29dcjm2td47sgb_m0000gn/T/ipykernel_29122/413030651.py:16: FutureWarning:\n",
      "\n",
      "Passing 'suffixes' which cause duplicate columns {'type_geo_y'} in the result is deprecated and will raise a MergeError in a future version.\n",
      "\n",
      "/opt/homebrew/Caskroom/miniforge/base/envs/py3/lib/python3.9/site-packages/sklearn/neighbors/_classification.py:198: DataConversionWarning:\n",
      "\n",
      "A column-vector y was passed when a 1d array was expected. Please change the shape of y to (n_samples,), for example using ravel().\n",
      "\n",
      "/var/folders/8g/rym67m5d29dcjm2td47sgb_m0000gn/T/ipykernel_29122/413030651.py:25: SettingWithCopyWarning:\n",
      "\n",
      "\n",
      "A value is trying to be set on a copy of a slice from a DataFrame.\n",
      "Try using .loc[row_indexer,col_indexer] = value instead\n",
      "\n",
      "See the caveats in the documentation: https://pandas.pydata.org/pandas-docs/stable/user_guide/indexing.html#returning-a-view-versus-a-copy\n",
      "\n"
     ]
    },
    {
     "name": "stdout",
     "output_type": "stream",
     "text": [
      "17296\n"
     ]
    },
    {
     "name": "stderr",
     "output_type": "stream",
     "text": [
      "/var/folders/8g/rym67m5d29dcjm2td47sgb_m0000gn/T/ipykernel_29122/413030651.py:16: FutureWarning:\n",
      "\n",
      "Passing 'suffixes' which cause duplicate columns {'Z_y', 'type_geo_y'} in the result is deprecated and will raise a MergeError in a future version.\n",
      "\n",
      "/opt/homebrew/Caskroom/miniforge/base/envs/py3/lib/python3.9/site-packages/sklearn/neighbors/_classification.py:198: DataConversionWarning:\n",
      "\n",
      "A column-vector y was passed when a 1d array was expected. Please change the shape of y to (n_samples,), for example using ravel().\n",
      "\n",
      "/var/folders/8g/rym67m5d29dcjm2td47sgb_m0000gn/T/ipykernel_29122/413030651.py:25: SettingWithCopyWarning:\n",
      "\n",
      "\n",
      "A value is trying to be set on a copy of a slice from a DataFrame.\n",
      "Try using .loc[row_indexer,col_indexer] = value instead\n",
      "\n",
      "See the caveats in the documentation: https://pandas.pydata.org/pandas-docs/stable/user_guide/indexing.html#returning-a-view-versus-a-copy\n",
      "\n"
     ]
    },
    {
     "name": "stdout",
     "output_type": "stream",
     "text": [
      "14788\n"
     ]
    },
    {
     "name": "stderr",
     "output_type": "stream",
     "text": [
      "/var/folders/8g/rym67m5d29dcjm2td47sgb_m0000gn/T/ipykernel_29122/413030651.py:16: FutureWarning:\n",
      "\n",
      "Passing 'suffixes' which cause duplicate columns {'type_geo_y'} in the result is deprecated and will raise a MergeError in a future version.\n",
      "\n",
      "/opt/homebrew/Caskroom/miniforge/base/envs/py3/lib/python3.9/site-packages/sklearn/neighbors/_classification.py:198: DataConversionWarning:\n",
      "\n",
      "A column-vector y was passed when a 1d array was expected. Please change the shape of y to (n_samples,), for example using ravel().\n",
      "\n",
      "/var/folders/8g/rym67m5d29dcjm2td47sgb_m0000gn/T/ipykernel_29122/413030651.py:25: SettingWithCopyWarning:\n",
      "\n",
      "\n",
      "A value is trying to be set on a copy of a slice from a DataFrame.\n",
      "Try using .loc[row_indexer,col_indexer] = value instead\n",
      "\n",
      "See the caveats in the documentation: https://pandas.pydata.org/pandas-docs/stable/user_guide/indexing.html#returning-a-view-versus-a-copy\n",
      "\n"
     ]
    },
    {
     "name": "stdout",
     "output_type": "stream",
     "text": [
      "17296\n"
     ]
    },
    {
     "name": "stderr",
     "output_type": "stream",
     "text": [
      "/var/folders/8g/rym67m5d29dcjm2td47sgb_m0000gn/T/ipykernel_29122/413030651.py:16: FutureWarning:\n",
      "\n",
      "Passing 'suffixes' which cause duplicate columns {'Z_y', 'type_geo_y'} in the result is deprecated and will raise a MergeError in a future version.\n",
      "\n",
      "/opt/homebrew/Caskroom/miniforge/base/envs/py3/lib/python3.9/site-packages/sklearn/neighbors/_classification.py:198: DataConversionWarning:\n",
      "\n",
      "A column-vector y was passed when a 1d array was expected. Please change the shape of y to (n_samples,), for example using ravel().\n",
      "\n",
      "/var/folders/8g/rym67m5d29dcjm2td47sgb_m0000gn/T/ipykernel_29122/413030651.py:25: SettingWithCopyWarning:\n",
      "\n",
      "\n",
      "A value is trying to be set on a copy of a slice from a DataFrame.\n",
      "Try using .loc[row_indexer,col_indexer] = value instead\n",
      "\n",
      "See the caveats in the documentation: https://pandas.pydata.org/pandas-docs/stable/user_guide/indexing.html#returning-a-view-versus-a-copy\n",
      "\n"
     ]
    },
    {
     "name": "stdout",
     "output_type": "stream",
     "text": [
      "14788\n"
     ]
    },
    {
     "name": "stderr",
     "output_type": "stream",
     "text": [
      "/var/folders/8g/rym67m5d29dcjm2td47sgb_m0000gn/T/ipykernel_29122/413030651.py:16: FutureWarning:\n",
      "\n",
      "Passing 'suffixes' which cause duplicate columns {'type_geo_y'} in the result is deprecated and will raise a MergeError in a future version.\n",
      "\n",
      "/opt/homebrew/Caskroom/miniforge/base/envs/py3/lib/python3.9/site-packages/sklearn/neighbors/_classification.py:198: DataConversionWarning:\n",
      "\n",
      "A column-vector y was passed when a 1d array was expected. Please change the shape of y to (n_samples,), for example using ravel().\n",
      "\n",
      "/var/folders/8g/rym67m5d29dcjm2td47sgb_m0000gn/T/ipykernel_29122/413030651.py:25: SettingWithCopyWarning:\n",
      "\n",
      "\n",
      "A value is trying to be set on a copy of a slice from a DataFrame.\n",
      "Try using .loc[row_indexer,col_indexer] = value instead\n",
      "\n",
      "See the caveats in the documentation: https://pandas.pydata.org/pandas-docs/stable/user_guide/indexing.html#returning-a-view-versus-a-copy\n",
      "\n"
     ]
    },
    {
     "name": "stdout",
     "output_type": "stream",
     "text": [
      "17296\n"
     ]
    },
    {
     "name": "stderr",
     "output_type": "stream",
     "text": [
      "/var/folders/8g/rym67m5d29dcjm2td47sgb_m0000gn/T/ipykernel_29122/413030651.py:16: FutureWarning:\n",
      "\n",
      "Passing 'suffixes' which cause duplicate columns {'Z_y', 'type_geo_y'} in the result is deprecated and will raise a MergeError in a future version.\n",
      "\n",
      "/opt/homebrew/Caskroom/miniforge/base/envs/py3/lib/python3.9/site-packages/sklearn/neighbors/_classification.py:198: DataConversionWarning:\n",
      "\n",
      "A column-vector y was passed when a 1d array was expected. Please change the shape of y to (n_samples,), for example using ravel().\n",
      "\n",
      "/var/folders/8g/rym67m5d29dcjm2td47sgb_m0000gn/T/ipykernel_29122/413030651.py:25: SettingWithCopyWarning:\n",
      "\n",
      "\n",
      "A value is trying to be set on a copy of a slice from a DataFrame.\n",
      "Try using .loc[row_indexer,col_indexer] = value instead\n",
      "\n",
      "See the caveats in the documentation: https://pandas.pydata.org/pandas-docs/stable/user_guide/indexing.html#returning-a-view-versus-a-copy\n",
      "\n"
     ]
    },
    {
     "name": "stdout",
     "output_type": "stream",
     "text": [
      "14788\n"
     ]
    },
    {
     "name": "stderr",
     "output_type": "stream",
     "text": [
      "/var/folders/8g/rym67m5d29dcjm2td47sgb_m0000gn/T/ipykernel_29122/413030651.py:16: FutureWarning:\n",
      "\n",
      "Passing 'suffixes' which cause duplicate columns {'type_geo_y'} in the result is deprecated and will raise a MergeError in a future version.\n",
      "\n",
      "/opt/homebrew/Caskroom/miniforge/base/envs/py3/lib/python3.9/site-packages/sklearn/neighbors/_classification.py:198: DataConversionWarning:\n",
      "\n",
      "A column-vector y was passed when a 1d array was expected. Please change the shape of y to (n_samples,), for example using ravel().\n",
      "\n",
      "/var/folders/8g/rym67m5d29dcjm2td47sgb_m0000gn/T/ipykernel_29122/413030651.py:25: SettingWithCopyWarning:\n",
      "\n",
      "\n",
      "A value is trying to be set on a copy of a slice from a DataFrame.\n",
      "Try using .loc[row_indexer,col_indexer] = value instead\n",
      "\n",
      "See the caveats in the documentation: https://pandas.pydata.org/pandas-docs/stable/user_guide/indexing.html#returning-a-view-versus-a-copy\n",
      "\n"
     ]
    },
    {
     "name": "stdout",
     "output_type": "stream",
     "text": [
      "17296\n"
     ]
    },
    {
     "name": "stderr",
     "output_type": "stream",
     "text": [
      "/var/folders/8g/rym67m5d29dcjm2td47sgb_m0000gn/T/ipykernel_29122/413030651.py:16: FutureWarning:\n",
      "\n",
      "Passing 'suffixes' which cause duplicate columns {'Z_y', 'type_geo_y'} in the result is deprecated and will raise a MergeError in a future version.\n",
      "\n",
      "/opt/homebrew/Caskroom/miniforge/base/envs/py3/lib/python3.9/site-packages/sklearn/neighbors/_classification.py:198: DataConversionWarning:\n",
      "\n",
      "A column-vector y was passed when a 1d array was expected. Please change the shape of y to (n_samples,), for example using ravel().\n",
      "\n",
      "/var/folders/8g/rym67m5d29dcjm2td47sgb_m0000gn/T/ipykernel_29122/413030651.py:25: SettingWithCopyWarning:\n",
      "\n",
      "\n",
      "A value is trying to be set on a copy of a slice from a DataFrame.\n",
      "Try using .loc[row_indexer,col_indexer] = value instead\n",
      "\n",
      "See the caveats in the documentation: https://pandas.pydata.org/pandas-docs/stable/user_guide/indexing.html#returning-a-view-versus-a-copy\n",
      "\n"
     ]
    },
    {
     "name": "stdout",
     "output_type": "stream",
     "text": [
      "14788\n"
     ]
    },
    {
     "name": "stderr",
     "output_type": "stream",
     "text": [
      "/var/folders/8g/rym67m5d29dcjm2td47sgb_m0000gn/T/ipykernel_29122/413030651.py:16: FutureWarning:\n",
      "\n",
      "Passing 'suffixes' which cause duplicate columns {'type_geo_y'} in the result is deprecated and will raise a MergeError in a future version.\n",
      "\n",
      "/opt/homebrew/Caskroom/miniforge/base/envs/py3/lib/python3.9/site-packages/sklearn/neighbors/_classification.py:198: DataConversionWarning:\n",
      "\n",
      "A column-vector y was passed when a 1d array was expected. Please change the shape of y to (n_samples,), for example using ravel().\n",
      "\n",
      "/var/folders/8g/rym67m5d29dcjm2td47sgb_m0000gn/T/ipykernel_29122/413030651.py:25: SettingWithCopyWarning:\n",
      "\n",
      "\n",
      "A value is trying to be set on a copy of a slice from a DataFrame.\n",
      "Try using .loc[row_indexer,col_indexer] = value instead\n",
      "\n",
      "See the caveats in the documentation: https://pandas.pydata.org/pandas-docs/stable/user_guide/indexing.html#returning-a-view-versus-a-copy\n",
      "\n"
     ]
    },
    {
     "name": "stdout",
     "output_type": "stream",
     "text": [
      "17296\n"
     ]
    },
    {
     "name": "stderr",
     "output_type": "stream",
     "text": [
      "/var/folders/8g/rym67m5d29dcjm2td47sgb_m0000gn/T/ipykernel_29122/413030651.py:16: FutureWarning:\n",
      "\n",
      "Passing 'suffixes' which cause duplicate columns {'Z_y', 'type_geo_y'} in the result is deprecated and will raise a MergeError in a future version.\n",
      "\n",
      "/opt/homebrew/Caskroom/miniforge/base/envs/py3/lib/python3.9/site-packages/sklearn/neighbors/_classification.py:198: DataConversionWarning:\n",
      "\n",
      "A column-vector y was passed when a 1d array was expected. Please change the shape of y to (n_samples,), for example using ravel().\n",
      "\n",
      "/var/folders/8g/rym67m5d29dcjm2td47sgb_m0000gn/T/ipykernel_29122/413030651.py:25: SettingWithCopyWarning:\n",
      "\n",
      "\n",
      "A value is trying to be set on a copy of a slice from a DataFrame.\n",
      "Try using .loc[row_indexer,col_indexer] = value instead\n",
      "\n",
      "See the caveats in the documentation: https://pandas.pydata.org/pandas-docs/stable/user_guide/indexing.html#returning-a-view-versus-a-copy\n",
      "\n"
     ]
    },
    {
     "name": "stdout",
     "output_type": "stream",
     "text": [
      "14788\n"
     ]
    },
    {
     "name": "stderr",
     "output_type": "stream",
     "text": [
      "/var/folders/8g/rym67m5d29dcjm2td47sgb_m0000gn/T/ipykernel_29122/413030651.py:16: FutureWarning:\n",
      "\n",
      "Passing 'suffixes' which cause duplicate columns {'type_geo_y'} in the result is deprecated and will raise a MergeError in a future version.\n",
      "\n",
      "/opt/homebrew/Caskroom/miniforge/base/envs/py3/lib/python3.9/site-packages/sklearn/neighbors/_classification.py:198: DataConversionWarning:\n",
      "\n",
      "A column-vector y was passed when a 1d array was expected. Please change the shape of y to (n_samples,), for example using ravel().\n",
      "\n",
      "/var/folders/8g/rym67m5d29dcjm2td47sgb_m0000gn/T/ipykernel_29122/413030651.py:25: SettingWithCopyWarning:\n",
      "\n",
      "\n",
      "A value is trying to be set on a copy of a slice from a DataFrame.\n",
      "Try using .loc[row_indexer,col_indexer] = value instead\n",
      "\n",
      "See the caveats in the documentation: https://pandas.pydata.org/pandas-docs/stable/user_guide/indexing.html#returning-a-view-versus-a-copy\n",
      "\n"
     ]
    },
    {
     "name": "stdout",
     "output_type": "stream",
     "text": [
      "17296\n"
     ]
    },
    {
     "name": "stderr",
     "output_type": "stream",
     "text": [
      "/var/folders/8g/rym67m5d29dcjm2td47sgb_m0000gn/T/ipykernel_29122/413030651.py:16: FutureWarning:\n",
      "\n",
      "Passing 'suffixes' which cause duplicate columns {'Z_y', 'type_geo_y'} in the result is deprecated and will raise a MergeError in a future version.\n",
      "\n",
      "/opt/homebrew/Caskroom/miniforge/base/envs/py3/lib/python3.9/site-packages/sklearn/neighbors/_classification.py:198: DataConversionWarning:\n",
      "\n",
      "A column-vector y was passed when a 1d array was expected. Please change the shape of y to (n_samples,), for example using ravel().\n",
      "\n",
      "/var/folders/8g/rym67m5d29dcjm2td47sgb_m0000gn/T/ipykernel_29122/413030651.py:25: SettingWithCopyWarning:\n",
      "\n",
      "\n",
      "A value is trying to be set on a copy of a slice from a DataFrame.\n",
      "Try using .loc[row_indexer,col_indexer] = value instead\n",
      "\n",
      "See the caveats in the documentation: https://pandas.pydata.org/pandas-docs/stable/user_guide/indexing.html#returning-a-view-versus-a-copy\n",
      "\n"
     ]
    },
    {
     "name": "stdout",
     "output_type": "stream",
     "text": [
      "14788\n"
     ]
    },
    {
     "name": "stderr",
     "output_type": "stream",
     "text": [
      "/var/folders/8g/rym67m5d29dcjm2td47sgb_m0000gn/T/ipykernel_29122/413030651.py:16: FutureWarning:\n",
      "\n",
      "Passing 'suffixes' which cause duplicate columns {'type_geo_y'} in the result is deprecated and will raise a MergeError in a future version.\n",
      "\n",
      "/opt/homebrew/Caskroom/miniforge/base/envs/py3/lib/python3.9/site-packages/sklearn/neighbors/_classification.py:198: DataConversionWarning:\n",
      "\n",
      "A column-vector y was passed when a 1d array was expected. Please change the shape of y to (n_samples,), for example using ravel().\n",
      "\n",
      "/var/folders/8g/rym67m5d29dcjm2td47sgb_m0000gn/T/ipykernel_29122/413030651.py:25: SettingWithCopyWarning:\n",
      "\n",
      "\n",
      "A value is trying to be set on a copy of a slice from a DataFrame.\n",
      "Try using .loc[row_indexer,col_indexer] = value instead\n",
      "\n",
      "See the caveats in the documentation: https://pandas.pydata.org/pandas-docs/stable/user_guide/indexing.html#returning-a-view-versus-a-copy\n",
      "\n"
     ]
    },
    {
     "name": "stdout",
     "output_type": "stream",
     "text": [
      "17296\n"
     ]
    },
    {
     "name": "stderr",
     "output_type": "stream",
     "text": [
      "/var/folders/8g/rym67m5d29dcjm2td47sgb_m0000gn/T/ipykernel_29122/413030651.py:16: FutureWarning:\n",
      "\n",
      "Passing 'suffixes' which cause duplicate columns {'Z_y', 'type_geo_y'} in the result is deprecated and will raise a MergeError in a future version.\n",
      "\n",
      "/opt/homebrew/Caskroom/miniforge/base/envs/py3/lib/python3.9/site-packages/sklearn/neighbors/_classification.py:198: DataConversionWarning:\n",
      "\n",
      "A column-vector y was passed when a 1d array was expected. Please change the shape of y to (n_samples,), for example using ravel().\n",
      "\n",
      "/var/folders/8g/rym67m5d29dcjm2td47sgb_m0000gn/T/ipykernel_29122/413030651.py:25: SettingWithCopyWarning:\n",
      "\n",
      "\n",
      "A value is trying to be set on a copy of a slice from a DataFrame.\n",
      "Try using .loc[row_indexer,col_indexer] = value instead\n",
      "\n",
      "See the caveats in the documentation: https://pandas.pydata.org/pandas-docs/stable/user_guide/indexing.html#returning-a-view-versus-a-copy\n",
      "\n"
     ]
    },
    {
     "name": "stdout",
     "output_type": "stream",
     "text": [
      "14788\n"
     ]
    },
    {
     "name": "stderr",
     "output_type": "stream",
     "text": [
      "/var/folders/8g/rym67m5d29dcjm2td47sgb_m0000gn/T/ipykernel_29122/413030651.py:16: FutureWarning:\n",
      "\n",
      "Passing 'suffixes' which cause duplicate columns {'type_geo_y'} in the result is deprecated and will raise a MergeError in a future version.\n",
      "\n",
      "/opt/homebrew/Caskroom/miniforge/base/envs/py3/lib/python3.9/site-packages/sklearn/neighbors/_classification.py:198: DataConversionWarning:\n",
      "\n",
      "A column-vector y was passed when a 1d array was expected. Please change the shape of y to (n_samples,), for example using ravel().\n",
      "\n",
      "/var/folders/8g/rym67m5d29dcjm2td47sgb_m0000gn/T/ipykernel_29122/413030651.py:25: SettingWithCopyWarning:\n",
      "\n",
      "\n",
      "A value is trying to be set on a copy of a slice from a DataFrame.\n",
      "Try using .loc[row_indexer,col_indexer] = value instead\n",
      "\n",
      "See the caveats in the documentation: https://pandas.pydata.org/pandas-docs/stable/user_guide/indexing.html#returning-a-view-versus-a-copy\n",
      "\n"
     ]
    },
    {
     "name": "stdout",
     "output_type": "stream",
     "text": [
      "17296\n"
     ]
    },
    {
     "name": "stderr",
     "output_type": "stream",
     "text": [
      "/var/folders/8g/rym67m5d29dcjm2td47sgb_m0000gn/T/ipykernel_29122/413030651.py:16: FutureWarning:\n",
      "\n",
      "Passing 'suffixes' which cause duplicate columns {'Z_y', 'type_geo_y'} in the result is deprecated and will raise a MergeError in a future version.\n",
      "\n",
      "/opt/homebrew/Caskroom/miniforge/base/envs/py3/lib/python3.9/site-packages/sklearn/neighbors/_classification.py:198: DataConversionWarning:\n",
      "\n",
      "A column-vector y was passed when a 1d array was expected. Please change the shape of y to (n_samples,), for example using ravel().\n",
      "\n",
      "/var/folders/8g/rym67m5d29dcjm2td47sgb_m0000gn/T/ipykernel_29122/413030651.py:25: SettingWithCopyWarning:\n",
      "\n",
      "\n",
      "A value is trying to be set on a copy of a slice from a DataFrame.\n",
      "Try using .loc[row_indexer,col_indexer] = value instead\n",
      "\n",
      "See the caveats in the documentation: https://pandas.pydata.org/pandas-docs/stable/user_guide/indexing.html#returning-a-view-versus-a-copy\n",
      "\n"
     ]
    },
    {
     "name": "stdout",
     "output_type": "stream",
     "text": [
      "14788\n"
     ]
    },
    {
     "name": "stderr",
     "output_type": "stream",
     "text": [
      "/var/folders/8g/rym67m5d29dcjm2td47sgb_m0000gn/T/ipykernel_29122/413030651.py:16: FutureWarning:\n",
      "\n",
      "Passing 'suffixes' which cause duplicate columns {'type_geo_y'} in the result is deprecated and will raise a MergeError in a future version.\n",
      "\n",
      "/opt/homebrew/Caskroom/miniforge/base/envs/py3/lib/python3.9/site-packages/sklearn/neighbors/_classification.py:198: DataConversionWarning:\n",
      "\n",
      "A column-vector y was passed when a 1d array was expected. Please change the shape of y to (n_samples,), for example using ravel().\n",
      "\n",
      "/var/folders/8g/rym67m5d29dcjm2td47sgb_m0000gn/T/ipykernel_29122/413030651.py:25: SettingWithCopyWarning:\n",
      "\n",
      "\n",
      "A value is trying to be set on a copy of a slice from a DataFrame.\n",
      "Try using .loc[row_indexer,col_indexer] = value instead\n",
      "\n",
      "See the caveats in the documentation: https://pandas.pydata.org/pandas-docs/stable/user_guide/indexing.html#returning-a-view-versus-a-copy\n",
      "\n"
     ]
    },
    {
     "name": "stdout",
     "output_type": "stream",
     "text": [
      "17296\n"
     ]
    },
    {
     "name": "stderr",
     "output_type": "stream",
     "text": [
      "/var/folders/8g/rym67m5d29dcjm2td47sgb_m0000gn/T/ipykernel_29122/413030651.py:16: FutureWarning:\n",
      "\n",
      "Passing 'suffixes' which cause duplicate columns {'Z_y', 'type_geo_y'} in the result is deprecated and will raise a MergeError in a future version.\n",
      "\n",
      "/opt/homebrew/Caskroom/miniforge/base/envs/py3/lib/python3.9/site-packages/sklearn/neighbors/_classification.py:198: DataConversionWarning:\n",
      "\n",
      "A column-vector y was passed when a 1d array was expected. Please change the shape of y to (n_samples,), for example using ravel().\n",
      "\n",
      "/var/folders/8g/rym67m5d29dcjm2td47sgb_m0000gn/T/ipykernel_29122/413030651.py:25: SettingWithCopyWarning:\n",
      "\n",
      "\n",
      "A value is trying to be set on a copy of a slice from a DataFrame.\n",
      "Try using .loc[row_indexer,col_indexer] = value instead\n",
      "\n",
      "See the caveats in the documentation: https://pandas.pydata.org/pandas-docs/stable/user_guide/indexing.html#returning-a-view-versus-a-copy\n",
      "\n"
     ]
    },
    {
     "name": "stdout",
     "output_type": "stream",
     "text": [
      "14788\n"
     ]
    },
    {
     "name": "stderr",
     "output_type": "stream",
     "text": [
      "/var/folders/8g/rym67m5d29dcjm2td47sgb_m0000gn/T/ipykernel_29122/413030651.py:16: FutureWarning:\n",
      "\n",
      "Passing 'suffixes' which cause duplicate columns {'type_geo_y'} in the result is deprecated and will raise a MergeError in a future version.\n",
      "\n",
      "/opt/homebrew/Caskroom/miniforge/base/envs/py3/lib/python3.9/site-packages/sklearn/neighbors/_classification.py:198: DataConversionWarning:\n",
      "\n",
      "A column-vector y was passed when a 1d array was expected. Please change the shape of y to (n_samples,), for example using ravel().\n",
      "\n",
      "/var/folders/8g/rym67m5d29dcjm2td47sgb_m0000gn/T/ipykernel_29122/413030651.py:25: SettingWithCopyWarning:\n",
      "\n",
      "\n",
      "A value is trying to be set on a copy of a slice from a DataFrame.\n",
      "Try using .loc[row_indexer,col_indexer] = value instead\n",
      "\n",
      "See the caveats in the documentation: https://pandas.pydata.org/pandas-docs/stable/user_guide/indexing.html#returning-a-view-versus-a-copy\n",
      "\n"
     ]
    },
    {
     "name": "stdout",
     "output_type": "stream",
     "text": [
      "17296\n"
     ]
    },
    {
     "name": "stderr",
     "output_type": "stream",
     "text": [
      "/var/folders/8g/rym67m5d29dcjm2td47sgb_m0000gn/T/ipykernel_29122/413030651.py:16: FutureWarning:\n",
      "\n",
      "Passing 'suffixes' which cause duplicate columns {'Z_y', 'type_geo_y'} in the result is deprecated and will raise a MergeError in a future version.\n",
      "\n",
      "/opt/homebrew/Caskroom/miniforge/base/envs/py3/lib/python3.9/site-packages/sklearn/neighbors/_classification.py:198: DataConversionWarning:\n",
      "\n",
      "A column-vector y was passed when a 1d array was expected. Please change the shape of y to (n_samples,), for example using ravel().\n",
      "\n",
      "/var/folders/8g/rym67m5d29dcjm2td47sgb_m0000gn/T/ipykernel_29122/413030651.py:25: SettingWithCopyWarning:\n",
      "\n",
      "\n",
      "A value is trying to be set on a copy of a slice from a DataFrame.\n",
      "Try using .loc[row_indexer,col_indexer] = value instead\n",
      "\n",
      "See the caveats in the documentation: https://pandas.pydata.org/pandas-docs/stable/user_guide/indexing.html#returning-a-view-versus-a-copy\n",
      "\n"
     ]
    },
    {
     "name": "stdout",
     "output_type": "stream",
     "text": [
      "14788\n"
     ]
    },
    {
     "name": "stderr",
     "output_type": "stream",
     "text": [
      "/var/folders/8g/rym67m5d29dcjm2td47sgb_m0000gn/T/ipykernel_29122/413030651.py:16: FutureWarning:\n",
      "\n",
      "Passing 'suffixes' which cause duplicate columns {'type_geo_y'} in the result is deprecated and will raise a MergeError in a future version.\n",
      "\n",
      "/opt/homebrew/Caskroom/miniforge/base/envs/py3/lib/python3.9/site-packages/sklearn/neighbors/_classification.py:198: DataConversionWarning:\n",
      "\n",
      "A column-vector y was passed when a 1d array was expected. Please change the shape of y to (n_samples,), for example using ravel().\n",
      "\n",
      "/var/folders/8g/rym67m5d29dcjm2td47sgb_m0000gn/T/ipykernel_29122/413030651.py:25: SettingWithCopyWarning:\n",
      "\n",
      "\n",
      "A value is trying to be set on a copy of a slice from a DataFrame.\n",
      "Try using .loc[row_indexer,col_indexer] = value instead\n",
      "\n",
      "See the caveats in the documentation: https://pandas.pydata.org/pandas-docs/stable/user_guide/indexing.html#returning-a-view-versus-a-copy\n",
      "\n"
     ]
    },
    {
     "name": "stdout",
     "output_type": "stream",
     "text": [
      "17296\n"
     ]
    },
    {
     "name": "stderr",
     "output_type": "stream",
     "text": [
      "/var/folders/8g/rym67m5d29dcjm2td47sgb_m0000gn/T/ipykernel_29122/413030651.py:16: FutureWarning:\n",
      "\n",
      "Passing 'suffixes' which cause duplicate columns {'Z_y', 'type_geo_y'} in the result is deprecated and will raise a MergeError in a future version.\n",
      "\n",
      "/opt/homebrew/Caskroom/miniforge/base/envs/py3/lib/python3.9/site-packages/sklearn/neighbors/_classification.py:198: DataConversionWarning:\n",
      "\n",
      "A column-vector y was passed when a 1d array was expected. Please change the shape of y to (n_samples,), for example using ravel().\n",
      "\n",
      "/var/folders/8g/rym67m5d29dcjm2td47sgb_m0000gn/T/ipykernel_29122/413030651.py:25: SettingWithCopyWarning:\n",
      "\n",
      "\n",
      "A value is trying to be set on a copy of a slice from a DataFrame.\n",
      "Try using .loc[row_indexer,col_indexer] = value instead\n",
      "\n",
      "See the caveats in the documentation: https://pandas.pydata.org/pandas-docs/stable/user_guide/indexing.html#returning-a-view-versus-a-copy\n",
      "\n"
     ]
    },
    {
     "name": "stdout",
     "output_type": "stream",
     "text": [
      "14788\n"
     ]
    },
    {
     "name": "stderr",
     "output_type": "stream",
     "text": [
      "/var/folders/8g/rym67m5d29dcjm2td47sgb_m0000gn/T/ipykernel_29122/413030651.py:16: FutureWarning:\n",
      "\n",
      "Passing 'suffixes' which cause duplicate columns {'type_geo_y'} in the result is deprecated and will raise a MergeError in a future version.\n",
      "\n",
      "/opt/homebrew/Caskroom/miniforge/base/envs/py3/lib/python3.9/site-packages/sklearn/neighbors/_classification.py:198: DataConversionWarning:\n",
      "\n",
      "A column-vector y was passed when a 1d array was expected. Please change the shape of y to (n_samples,), for example using ravel().\n",
      "\n",
      "/var/folders/8g/rym67m5d29dcjm2td47sgb_m0000gn/T/ipykernel_29122/413030651.py:25: SettingWithCopyWarning:\n",
      "\n",
      "\n",
      "A value is trying to be set on a copy of a slice from a DataFrame.\n",
      "Try using .loc[row_indexer,col_indexer] = value instead\n",
      "\n",
      "See the caveats in the documentation: https://pandas.pydata.org/pandas-docs/stable/user_guide/indexing.html#returning-a-view-versus-a-copy\n",
      "\n"
     ]
    },
    {
     "name": "stdout",
     "output_type": "stream",
     "text": [
      "17296\n"
     ]
    },
    {
     "name": "stderr",
     "output_type": "stream",
     "text": [
      "/var/folders/8g/rym67m5d29dcjm2td47sgb_m0000gn/T/ipykernel_29122/413030651.py:16: FutureWarning:\n",
      "\n",
      "Passing 'suffixes' which cause duplicate columns {'Z_y', 'type_geo_y'} in the result is deprecated and will raise a MergeError in a future version.\n",
      "\n",
      "/opt/homebrew/Caskroom/miniforge/base/envs/py3/lib/python3.9/site-packages/sklearn/neighbors/_classification.py:198: DataConversionWarning:\n",
      "\n",
      "A column-vector y was passed when a 1d array was expected. Please change the shape of y to (n_samples,), for example using ravel().\n",
      "\n",
      "/var/folders/8g/rym67m5d29dcjm2td47sgb_m0000gn/T/ipykernel_29122/413030651.py:25: SettingWithCopyWarning:\n",
      "\n",
      "\n",
      "A value is trying to be set on a copy of a slice from a DataFrame.\n",
      "Try using .loc[row_indexer,col_indexer] = value instead\n",
      "\n",
      "See the caveats in the documentation: https://pandas.pydata.org/pandas-docs/stable/user_guide/indexing.html#returning-a-view-versus-a-copy\n",
      "\n"
     ]
    },
    {
     "name": "stdout",
     "output_type": "stream",
     "text": [
      "14788\n"
     ]
    },
    {
     "name": "stderr",
     "output_type": "stream",
     "text": [
      "/var/folders/8g/rym67m5d29dcjm2td47sgb_m0000gn/T/ipykernel_29122/413030651.py:16: FutureWarning:\n",
      "\n",
      "Passing 'suffixes' which cause duplicate columns {'type_geo_y'} in the result is deprecated and will raise a MergeError in a future version.\n",
      "\n",
      "/opt/homebrew/Caskroom/miniforge/base/envs/py3/lib/python3.9/site-packages/sklearn/neighbors/_classification.py:198: DataConversionWarning:\n",
      "\n",
      "A column-vector y was passed when a 1d array was expected. Please change the shape of y to (n_samples,), for example using ravel().\n",
      "\n",
      "/var/folders/8g/rym67m5d29dcjm2td47sgb_m0000gn/T/ipykernel_29122/413030651.py:25: SettingWithCopyWarning:\n",
      "\n",
      "\n",
      "A value is trying to be set on a copy of a slice from a DataFrame.\n",
      "Try using .loc[row_indexer,col_indexer] = value instead\n",
      "\n",
      "See the caveats in the documentation: https://pandas.pydata.org/pandas-docs/stable/user_guide/indexing.html#returning-a-view-versus-a-copy\n",
      "\n"
     ]
    },
    {
     "name": "stdout",
     "output_type": "stream",
     "text": [
      "17296\n"
     ]
    },
    {
     "name": "stderr",
     "output_type": "stream",
     "text": [
      "/var/folders/8g/rym67m5d29dcjm2td47sgb_m0000gn/T/ipykernel_29122/413030651.py:16: FutureWarning:\n",
      "\n",
      "Passing 'suffixes' which cause duplicate columns {'Z_y', 'type_geo_y'} in the result is deprecated and will raise a MergeError in a future version.\n",
      "\n",
      "/opt/homebrew/Caskroom/miniforge/base/envs/py3/lib/python3.9/site-packages/sklearn/neighbors/_classification.py:198: DataConversionWarning:\n",
      "\n",
      "A column-vector y was passed when a 1d array was expected. Please change the shape of y to (n_samples,), for example using ravel().\n",
      "\n",
      "/var/folders/8g/rym67m5d29dcjm2td47sgb_m0000gn/T/ipykernel_29122/413030651.py:25: SettingWithCopyWarning:\n",
      "\n",
      "\n",
      "A value is trying to be set on a copy of a slice from a DataFrame.\n",
      "Try using .loc[row_indexer,col_indexer] = value instead\n",
      "\n",
      "See the caveats in the documentation: https://pandas.pydata.org/pandas-docs/stable/user_guide/indexing.html#returning-a-view-versus-a-copy\n",
      "\n"
     ]
    },
    {
     "name": "stdout",
     "output_type": "stream",
     "text": [
      "14788\n"
     ]
    },
    {
     "name": "stderr",
     "output_type": "stream",
     "text": [
      "/var/folders/8g/rym67m5d29dcjm2td47sgb_m0000gn/T/ipykernel_29122/413030651.py:16: FutureWarning:\n",
      "\n",
      "Passing 'suffixes' which cause duplicate columns {'type_geo_y'} in the result is deprecated and will raise a MergeError in a future version.\n",
      "\n",
      "/opt/homebrew/Caskroom/miniforge/base/envs/py3/lib/python3.9/site-packages/sklearn/neighbors/_classification.py:198: DataConversionWarning:\n",
      "\n",
      "A column-vector y was passed when a 1d array was expected. Please change the shape of y to (n_samples,), for example using ravel().\n",
      "\n",
      "/var/folders/8g/rym67m5d29dcjm2td47sgb_m0000gn/T/ipykernel_29122/413030651.py:25: SettingWithCopyWarning:\n",
      "\n",
      "\n",
      "A value is trying to be set on a copy of a slice from a DataFrame.\n",
      "Try using .loc[row_indexer,col_indexer] = value instead\n",
      "\n",
      "See the caveats in the documentation: https://pandas.pydata.org/pandas-docs/stable/user_guide/indexing.html#returning-a-view-versus-a-copy\n",
      "\n"
     ]
    },
    {
     "name": "stdout",
     "output_type": "stream",
     "text": [
      "17296\n"
     ]
    },
    {
     "name": "stderr",
     "output_type": "stream",
     "text": [
      "/var/folders/8g/rym67m5d29dcjm2td47sgb_m0000gn/T/ipykernel_29122/413030651.py:16: FutureWarning:\n",
      "\n",
      "Passing 'suffixes' which cause duplicate columns {'Z_y', 'type_geo_y'} in the result is deprecated and will raise a MergeError in a future version.\n",
      "\n",
      "/opt/homebrew/Caskroom/miniforge/base/envs/py3/lib/python3.9/site-packages/sklearn/neighbors/_classification.py:198: DataConversionWarning:\n",
      "\n",
      "A column-vector y was passed when a 1d array was expected. Please change the shape of y to (n_samples,), for example using ravel().\n",
      "\n",
      "/var/folders/8g/rym67m5d29dcjm2td47sgb_m0000gn/T/ipykernel_29122/413030651.py:25: SettingWithCopyWarning:\n",
      "\n",
      "\n",
      "A value is trying to be set on a copy of a slice from a DataFrame.\n",
      "Try using .loc[row_indexer,col_indexer] = value instead\n",
      "\n",
      "See the caveats in the documentation: https://pandas.pydata.org/pandas-docs/stable/user_guide/indexing.html#returning-a-view-versus-a-copy\n",
      "\n"
     ]
    },
    {
     "name": "stdout",
     "output_type": "stream",
     "text": [
      "14788\n"
     ]
    },
    {
     "name": "stderr",
     "output_type": "stream",
     "text": [
      "/var/folders/8g/rym67m5d29dcjm2td47sgb_m0000gn/T/ipykernel_29122/413030651.py:16: FutureWarning:\n",
      "\n",
      "Passing 'suffixes' which cause duplicate columns {'type_geo_y'} in the result is deprecated and will raise a MergeError in a future version.\n",
      "\n",
      "/opt/homebrew/Caskroom/miniforge/base/envs/py3/lib/python3.9/site-packages/sklearn/neighbors/_classification.py:198: DataConversionWarning:\n",
      "\n",
      "A column-vector y was passed when a 1d array was expected. Please change the shape of y to (n_samples,), for example using ravel().\n",
      "\n",
      "/var/folders/8g/rym67m5d29dcjm2td47sgb_m0000gn/T/ipykernel_29122/413030651.py:25: SettingWithCopyWarning:\n",
      "\n",
      "\n",
      "A value is trying to be set on a copy of a slice from a DataFrame.\n",
      "Try using .loc[row_indexer,col_indexer] = value instead\n",
      "\n",
      "See the caveats in the documentation: https://pandas.pydata.org/pandas-docs/stable/user_guide/indexing.html#returning-a-view-versus-a-copy\n",
      "\n"
     ]
    },
    {
     "name": "stdout",
     "output_type": "stream",
     "text": [
      "17296\n"
     ]
    },
    {
     "name": "stderr",
     "output_type": "stream",
     "text": [
      "/var/folders/8g/rym67m5d29dcjm2td47sgb_m0000gn/T/ipykernel_29122/413030651.py:16: FutureWarning:\n",
      "\n",
      "Passing 'suffixes' which cause duplicate columns {'Z_y', 'type_geo_y'} in the result is deprecated and will raise a MergeError in a future version.\n",
      "\n",
      "/opt/homebrew/Caskroom/miniforge/base/envs/py3/lib/python3.9/site-packages/sklearn/neighbors/_classification.py:198: DataConversionWarning:\n",
      "\n",
      "A column-vector y was passed when a 1d array was expected. Please change the shape of y to (n_samples,), for example using ravel().\n",
      "\n",
      "/var/folders/8g/rym67m5d29dcjm2td47sgb_m0000gn/T/ipykernel_29122/413030651.py:25: SettingWithCopyWarning:\n",
      "\n",
      "\n",
      "A value is trying to be set on a copy of a slice from a DataFrame.\n",
      "Try using .loc[row_indexer,col_indexer] = value instead\n",
      "\n",
      "See the caveats in the documentation: https://pandas.pydata.org/pandas-docs/stable/user_guide/indexing.html#returning-a-view-versus-a-copy\n",
      "\n"
     ]
    },
    {
     "name": "stdout",
     "output_type": "stream",
     "text": [
      "14788\n"
     ]
    },
    {
     "name": "stderr",
     "output_type": "stream",
     "text": [
      "/var/folders/8g/rym67m5d29dcjm2td47sgb_m0000gn/T/ipykernel_29122/413030651.py:16: FutureWarning:\n",
      "\n",
      "Passing 'suffixes' which cause duplicate columns {'type_geo_y'} in the result is deprecated and will raise a MergeError in a future version.\n",
      "\n",
      "/opt/homebrew/Caskroom/miniforge/base/envs/py3/lib/python3.9/site-packages/sklearn/neighbors/_classification.py:198: DataConversionWarning:\n",
      "\n",
      "A column-vector y was passed when a 1d array was expected. Please change the shape of y to (n_samples,), for example using ravel().\n",
      "\n",
      "/var/folders/8g/rym67m5d29dcjm2td47sgb_m0000gn/T/ipykernel_29122/413030651.py:25: SettingWithCopyWarning:\n",
      "\n",
      "\n",
      "A value is trying to be set on a copy of a slice from a DataFrame.\n",
      "Try using .loc[row_indexer,col_indexer] = value instead\n",
      "\n",
      "See the caveats in the documentation: https://pandas.pydata.org/pandas-docs/stable/user_guide/indexing.html#returning-a-view-versus-a-copy\n",
      "\n"
     ]
    },
    {
     "name": "stdout",
     "output_type": "stream",
     "text": [
      "17296\n"
     ]
    },
    {
     "name": "stderr",
     "output_type": "stream",
     "text": [
      "/var/folders/8g/rym67m5d29dcjm2td47sgb_m0000gn/T/ipykernel_29122/413030651.py:16: FutureWarning:\n",
      "\n",
      "Passing 'suffixes' which cause duplicate columns {'Z_y', 'type_geo_y'} in the result is deprecated and will raise a MergeError in a future version.\n",
      "\n",
      "/opt/homebrew/Caskroom/miniforge/base/envs/py3/lib/python3.9/site-packages/sklearn/neighbors/_classification.py:198: DataConversionWarning:\n",
      "\n",
      "A column-vector y was passed when a 1d array was expected. Please change the shape of y to (n_samples,), for example using ravel().\n",
      "\n",
      "/var/folders/8g/rym67m5d29dcjm2td47sgb_m0000gn/T/ipykernel_29122/413030651.py:25: SettingWithCopyWarning:\n",
      "\n",
      "\n",
      "A value is trying to be set on a copy of a slice from a DataFrame.\n",
      "Try using .loc[row_indexer,col_indexer] = value instead\n",
      "\n",
      "See the caveats in the documentation: https://pandas.pydata.org/pandas-docs/stable/user_guide/indexing.html#returning-a-view-versus-a-copy\n",
      "\n"
     ]
    },
    {
     "name": "stdout",
     "output_type": "stream",
     "text": [
      "14788\n"
     ]
    },
    {
     "name": "stderr",
     "output_type": "stream",
     "text": [
      "/var/folders/8g/rym67m5d29dcjm2td47sgb_m0000gn/T/ipykernel_29122/413030651.py:16: FutureWarning:\n",
      "\n",
      "Passing 'suffixes' which cause duplicate columns {'type_geo_y'} in the result is deprecated and will raise a MergeError in a future version.\n",
      "\n",
      "/opt/homebrew/Caskroom/miniforge/base/envs/py3/lib/python3.9/site-packages/sklearn/neighbors/_classification.py:198: DataConversionWarning:\n",
      "\n",
      "A column-vector y was passed when a 1d array was expected. Please change the shape of y to (n_samples,), for example using ravel().\n",
      "\n",
      "/var/folders/8g/rym67m5d29dcjm2td47sgb_m0000gn/T/ipykernel_29122/413030651.py:25: SettingWithCopyWarning:\n",
      "\n",
      "\n",
      "A value is trying to be set on a copy of a slice from a DataFrame.\n",
      "Try using .loc[row_indexer,col_indexer] = value instead\n",
      "\n",
      "See the caveats in the documentation: https://pandas.pydata.org/pandas-docs/stable/user_guide/indexing.html#returning-a-view-versus-a-copy\n",
      "\n"
     ]
    },
    {
     "name": "stdout",
     "output_type": "stream",
     "text": [
      "17296\n"
     ]
    },
    {
     "name": "stderr",
     "output_type": "stream",
     "text": [
      "/var/folders/8g/rym67m5d29dcjm2td47sgb_m0000gn/T/ipykernel_29122/413030651.py:16: FutureWarning:\n",
      "\n",
      "Passing 'suffixes' which cause duplicate columns {'Z_y', 'type_geo_y'} in the result is deprecated and will raise a MergeError in a future version.\n",
      "\n",
      "/opt/homebrew/Caskroom/miniforge/base/envs/py3/lib/python3.9/site-packages/sklearn/neighbors/_classification.py:198: DataConversionWarning:\n",
      "\n",
      "A column-vector y was passed when a 1d array was expected. Please change the shape of y to (n_samples,), for example using ravel().\n",
      "\n",
      "/var/folders/8g/rym67m5d29dcjm2td47sgb_m0000gn/T/ipykernel_29122/413030651.py:25: SettingWithCopyWarning:\n",
      "\n",
      "\n",
      "A value is trying to be set on a copy of a slice from a DataFrame.\n",
      "Try using .loc[row_indexer,col_indexer] = value instead\n",
      "\n",
      "See the caveats in the documentation: https://pandas.pydata.org/pandas-docs/stable/user_guide/indexing.html#returning-a-view-versus-a-copy\n",
      "\n"
     ]
    },
    {
     "name": "stdout",
     "output_type": "stream",
     "text": [
      "14788\n"
     ]
    },
    {
     "name": "stderr",
     "output_type": "stream",
     "text": [
      "/var/folders/8g/rym67m5d29dcjm2td47sgb_m0000gn/T/ipykernel_29122/413030651.py:16: FutureWarning:\n",
      "\n",
      "Passing 'suffixes' which cause duplicate columns {'type_geo_y'} in the result is deprecated and will raise a MergeError in a future version.\n",
      "\n",
      "/opt/homebrew/Caskroom/miniforge/base/envs/py3/lib/python3.9/site-packages/sklearn/neighbors/_classification.py:198: DataConversionWarning:\n",
      "\n",
      "A column-vector y was passed when a 1d array was expected. Please change the shape of y to (n_samples,), for example using ravel().\n",
      "\n",
      "/var/folders/8g/rym67m5d29dcjm2td47sgb_m0000gn/T/ipykernel_29122/413030651.py:25: SettingWithCopyWarning:\n",
      "\n",
      "\n",
      "A value is trying to be set on a copy of a slice from a DataFrame.\n",
      "Try using .loc[row_indexer,col_indexer] = value instead\n",
      "\n",
      "See the caveats in the documentation: https://pandas.pydata.org/pandas-docs/stable/user_guide/indexing.html#returning-a-view-versus-a-copy\n",
      "\n"
     ]
    },
    {
     "name": "stdout",
     "output_type": "stream",
     "text": [
      "17296\n"
     ]
    },
    {
     "name": "stderr",
     "output_type": "stream",
     "text": [
      "/var/folders/8g/rym67m5d29dcjm2td47sgb_m0000gn/T/ipykernel_29122/413030651.py:16: FutureWarning:\n",
      "\n",
      "Passing 'suffixes' which cause duplicate columns {'Z_y', 'type_geo_y'} in the result is deprecated and will raise a MergeError in a future version.\n",
      "\n",
      "/opt/homebrew/Caskroom/miniforge/base/envs/py3/lib/python3.9/site-packages/sklearn/neighbors/_classification.py:198: DataConversionWarning:\n",
      "\n",
      "A column-vector y was passed when a 1d array was expected. Please change the shape of y to (n_samples,), for example using ravel().\n",
      "\n",
      "/var/folders/8g/rym67m5d29dcjm2td47sgb_m0000gn/T/ipykernel_29122/413030651.py:25: SettingWithCopyWarning:\n",
      "\n",
      "\n",
      "A value is trying to be set on a copy of a slice from a DataFrame.\n",
      "Try using .loc[row_indexer,col_indexer] = value instead\n",
      "\n",
      "See the caveats in the documentation: https://pandas.pydata.org/pandas-docs/stable/user_guide/indexing.html#returning-a-view-versus-a-copy\n",
      "\n",
      "/var/folders/8g/rym67m5d29dcjm2td47sgb_m0000gn/T/ipykernel_29122/413030651.py:16: FutureWarning:\n",
      "\n",
      "Passing 'suffixes' which cause duplicate columns {'type_geo_y'} in the result is deprecated and will raise a MergeError in a future version.\n",
      "\n"
     ]
    },
    {
     "name": "stdout",
     "output_type": "stream",
     "text": [
      "14788\n"
     ]
    },
    {
     "name": "stderr",
     "output_type": "stream",
     "text": [
      "/opt/homebrew/Caskroom/miniforge/base/envs/py3/lib/python3.9/site-packages/sklearn/neighbors/_classification.py:198: DataConversionWarning:\n",
      "\n",
      "A column-vector y was passed when a 1d array was expected. Please change the shape of y to (n_samples,), for example using ravel().\n",
      "\n",
      "/var/folders/8g/rym67m5d29dcjm2td47sgb_m0000gn/T/ipykernel_29122/413030651.py:25: SettingWithCopyWarning:\n",
      "\n",
      "\n",
      "A value is trying to be set on a copy of a slice from a DataFrame.\n",
      "Try using .loc[row_indexer,col_indexer] = value instead\n",
      "\n",
      "See the caveats in the documentation: https://pandas.pydata.org/pandas-docs/stable/user_guide/indexing.html#returning-a-view-versus-a-copy\n",
      "\n"
     ]
    },
    {
     "name": "stdout",
     "output_type": "stream",
     "text": [
      "17296\n"
     ]
    },
    {
     "name": "stderr",
     "output_type": "stream",
     "text": [
      "/var/folders/8g/rym67m5d29dcjm2td47sgb_m0000gn/T/ipykernel_29122/413030651.py:16: FutureWarning:\n",
      "\n",
      "Passing 'suffixes' which cause duplicate columns {'Z_y', 'type_geo_y'} in the result is deprecated and will raise a MergeError in a future version.\n",
      "\n",
      "/opt/homebrew/Caskroom/miniforge/base/envs/py3/lib/python3.9/site-packages/sklearn/neighbors/_classification.py:198: DataConversionWarning:\n",
      "\n",
      "A column-vector y was passed when a 1d array was expected. Please change the shape of y to (n_samples,), for example using ravel().\n",
      "\n",
      "/var/folders/8g/rym67m5d29dcjm2td47sgb_m0000gn/T/ipykernel_29122/413030651.py:25: SettingWithCopyWarning:\n",
      "\n",
      "\n",
      "A value is trying to be set on a copy of a slice from a DataFrame.\n",
      "Try using .loc[row_indexer,col_indexer] = value instead\n",
      "\n",
      "See the caveats in the documentation: https://pandas.pydata.org/pandas-docs/stable/user_guide/indexing.html#returning-a-view-versus-a-copy\n",
      "\n"
     ]
    },
    {
     "name": "stdout",
     "output_type": "stream",
     "text": [
      "14788\n"
     ]
    },
    {
     "name": "stderr",
     "output_type": "stream",
     "text": [
      "/var/folders/8g/rym67m5d29dcjm2td47sgb_m0000gn/T/ipykernel_29122/413030651.py:16: FutureWarning:\n",
      "\n",
      "Passing 'suffixes' which cause duplicate columns {'type_geo_y'} in the result is deprecated and will raise a MergeError in a future version.\n",
      "\n",
      "/opt/homebrew/Caskroom/miniforge/base/envs/py3/lib/python3.9/site-packages/sklearn/neighbors/_classification.py:198: DataConversionWarning:\n",
      "\n",
      "A column-vector y was passed when a 1d array was expected. Please change the shape of y to (n_samples,), for example using ravel().\n",
      "\n",
      "/var/folders/8g/rym67m5d29dcjm2td47sgb_m0000gn/T/ipykernel_29122/413030651.py:25: SettingWithCopyWarning:\n",
      "\n",
      "\n",
      "A value is trying to be set on a copy of a slice from a DataFrame.\n",
      "Try using .loc[row_indexer,col_indexer] = value instead\n",
      "\n",
      "See the caveats in the documentation: https://pandas.pydata.org/pandas-docs/stable/user_guide/indexing.html#returning-a-view-versus-a-copy\n",
      "\n"
     ]
    },
    {
     "name": "stdout",
     "output_type": "stream",
     "text": [
      "17296\n"
     ]
    },
    {
     "name": "stderr",
     "output_type": "stream",
     "text": [
      "/var/folders/8g/rym67m5d29dcjm2td47sgb_m0000gn/T/ipykernel_29122/413030651.py:16: FutureWarning:\n",
      "\n",
      "Passing 'suffixes' which cause duplicate columns {'Z_y', 'type_geo_y'} in the result is deprecated and will raise a MergeError in a future version.\n",
      "\n",
      "/opt/homebrew/Caskroom/miniforge/base/envs/py3/lib/python3.9/site-packages/sklearn/neighbors/_classification.py:198: DataConversionWarning:\n",
      "\n",
      "A column-vector y was passed when a 1d array was expected. Please change the shape of y to (n_samples,), for example using ravel().\n",
      "\n",
      "/var/folders/8g/rym67m5d29dcjm2td47sgb_m0000gn/T/ipykernel_29122/413030651.py:25: SettingWithCopyWarning:\n",
      "\n",
      "\n",
      "A value is trying to be set on a copy of a slice from a DataFrame.\n",
      "Try using .loc[row_indexer,col_indexer] = value instead\n",
      "\n",
      "See the caveats in the documentation: https://pandas.pydata.org/pandas-docs/stable/user_guide/indexing.html#returning-a-view-versus-a-copy\n",
      "\n"
     ]
    },
    {
     "name": "stdout",
     "output_type": "stream",
     "text": [
      "14788\n"
     ]
    },
    {
     "name": "stderr",
     "output_type": "stream",
     "text": [
      "/var/folders/8g/rym67m5d29dcjm2td47sgb_m0000gn/T/ipykernel_29122/413030651.py:16: FutureWarning:\n",
      "\n",
      "Passing 'suffixes' which cause duplicate columns {'type_geo_y'} in the result is deprecated and will raise a MergeError in a future version.\n",
      "\n",
      "/opt/homebrew/Caskroom/miniforge/base/envs/py3/lib/python3.9/site-packages/sklearn/neighbors/_classification.py:198: DataConversionWarning:\n",
      "\n",
      "A column-vector y was passed when a 1d array was expected. Please change the shape of y to (n_samples,), for example using ravel().\n",
      "\n",
      "/var/folders/8g/rym67m5d29dcjm2td47sgb_m0000gn/T/ipykernel_29122/413030651.py:25: SettingWithCopyWarning:\n",
      "\n",
      "\n",
      "A value is trying to be set on a copy of a slice from a DataFrame.\n",
      "Try using .loc[row_indexer,col_indexer] = value instead\n",
      "\n",
      "See the caveats in the documentation: https://pandas.pydata.org/pandas-docs/stable/user_guide/indexing.html#returning-a-view-versus-a-copy\n",
      "\n"
     ]
    },
    {
     "name": "stdout",
     "output_type": "stream",
     "text": [
      "17296\n"
     ]
    },
    {
     "name": "stderr",
     "output_type": "stream",
     "text": [
      "/var/folders/8g/rym67m5d29dcjm2td47sgb_m0000gn/T/ipykernel_29122/413030651.py:16: FutureWarning:\n",
      "\n",
      "Passing 'suffixes' which cause duplicate columns {'Z_y', 'type_geo_y'} in the result is deprecated and will raise a MergeError in a future version.\n",
      "\n",
      "/opt/homebrew/Caskroom/miniforge/base/envs/py3/lib/python3.9/site-packages/sklearn/neighbors/_classification.py:198: DataConversionWarning:\n",
      "\n",
      "A column-vector y was passed when a 1d array was expected. Please change the shape of y to (n_samples,), for example using ravel().\n",
      "\n",
      "/var/folders/8g/rym67m5d29dcjm2td47sgb_m0000gn/T/ipykernel_29122/413030651.py:25: SettingWithCopyWarning:\n",
      "\n",
      "\n",
      "A value is trying to be set on a copy of a slice from a DataFrame.\n",
      "Try using .loc[row_indexer,col_indexer] = value instead\n",
      "\n",
      "See the caveats in the documentation: https://pandas.pydata.org/pandas-docs/stable/user_guide/indexing.html#returning-a-view-versus-a-copy\n",
      "\n"
     ]
    },
    {
     "name": "stdout",
     "output_type": "stream",
     "text": [
      "14788\n"
     ]
    },
    {
     "name": "stderr",
     "output_type": "stream",
     "text": [
      "/var/folders/8g/rym67m5d29dcjm2td47sgb_m0000gn/T/ipykernel_29122/413030651.py:16: FutureWarning:\n",
      "\n",
      "Passing 'suffixes' which cause duplicate columns {'type_geo_y'} in the result is deprecated and will raise a MergeError in a future version.\n",
      "\n",
      "/opt/homebrew/Caskroom/miniforge/base/envs/py3/lib/python3.9/site-packages/sklearn/neighbors/_classification.py:198: DataConversionWarning:\n",
      "\n",
      "A column-vector y was passed when a 1d array was expected. Please change the shape of y to (n_samples,), for example using ravel().\n",
      "\n",
      "/var/folders/8g/rym67m5d29dcjm2td47sgb_m0000gn/T/ipykernel_29122/413030651.py:25: SettingWithCopyWarning:\n",
      "\n",
      "\n",
      "A value is trying to be set on a copy of a slice from a DataFrame.\n",
      "Try using .loc[row_indexer,col_indexer] = value instead\n",
      "\n",
      "See the caveats in the documentation: https://pandas.pydata.org/pandas-docs/stable/user_guide/indexing.html#returning-a-view-versus-a-copy\n",
      "\n"
     ]
    },
    {
     "name": "stdout",
     "output_type": "stream",
     "text": [
      "17296\n"
     ]
    },
    {
     "name": "stderr",
     "output_type": "stream",
     "text": [
      "/var/folders/8g/rym67m5d29dcjm2td47sgb_m0000gn/T/ipykernel_29122/413030651.py:16: FutureWarning:\n",
      "\n",
      "Passing 'suffixes' which cause duplicate columns {'Z_y', 'type_geo_y'} in the result is deprecated and will raise a MergeError in a future version.\n",
      "\n",
      "/opt/homebrew/Caskroom/miniforge/base/envs/py3/lib/python3.9/site-packages/sklearn/neighbors/_classification.py:198: DataConversionWarning:\n",
      "\n",
      "A column-vector y was passed when a 1d array was expected. Please change the shape of y to (n_samples,), for example using ravel().\n",
      "\n",
      "/var/folders/8g/rym67m5d29dcjm2td47sgb_m0000gn/T/ipykernel_29122/413030651.py:25: SettingWithCopyWarning:\n",
      "\n",
      "\n",
      "A value is trying to be set on a copy of a slice from a DataFrame.\n",
      "Try using .loc[row_indexer,col_indexer] = value instead\n",
      "\n",
      "See the caveats in the documentation: https://pandas.pydata.org/pandas-docs/stable/user_guide/indexing.html#returning-a-view-versus-a-copy\n",
      "\n"
     ]
    },
    {
     "name": "stdout",
     "output_type": "stream",
     "text": [
      "14788\n"
     ]
    },
    {
     "name": "stderr",
     "output_type": "stream",
     "text": [
      "/var/folders/8g/rym67m5d29dcjm2td47sgb_m0000gn/T/ipykernel_29122/413030651.py:16: FutureWarning:\n",
      "\n",
      "Passing 'suffixes' which cause duplicate columns {'type_geo_y'} in the result is deprecated and will raise a MergeError in a future version.\n",
      "\n",
      "/opt/homebrew/Caskroom/miniforge/base/envs/py3/lib/python3.9/site-packages/sklearn/neighbors/_classification.py:198: DataConversionWarning:\n",
      "\n",
      "A column-vector y was passed when a 1d array was expected. Please change the shape of y to (n_samples,), for example using ravel().\n",
      "\n",
      "/var/folders/8g/rym67m5d29dcjm2td47sgb_m0000gn/T/ipykernel_29122/413030651.py:25: SettingWithCopyWarning:\n",
      "\n",
      "\n",
      "A value is trying to be set on a copy of a slice from a DataFrame.\n",
      "Try using .loc[row_indexer,col_indexer] = value instead\n",
      "\n",
      "See the caveats in the documentation: https://pandas.pydata.org/pandas-docs/stable/user_guide/indexing.html#returning-a-view-versus-a-copy\n",
      "\n"
     ]
    },
    {
     "name": "stdout",
     "output_type": "stream",
     "text": [
      "17296\n"
     ]
    },
    {
     "name": "stderr",
     "output_type": "stream",
     "text": [
      "/var/folders/8g/rym67m5d29dcjm2td47sgb_m0000gn/T/ipykernel_29122/413030651.py:16: FutureWarning:\n",
      "\n",
      "Passing 'suffixes' which cause duplicate columns {'Z_y', 'type_geo_y'} in the result is deprecated and will raise a MergeError in a future version.\n",
      "\n",
      "/opt/homebrew/Caskroom/miniforge/base/envs/py3/lib/python3.9/site-packages/sklearn/neighbors/_classification.py:198: DataConversionWarning:\n",
      "\n",
      "A column-vector y was passed when a 1d array was expected. Please change the shape of y to (n_samples,), for example using ravel().\n",
      "\n",
      "/var/folders/8g/rym67m5d29dcjm2td47sgb_m0000gn/T/ipykernel_29122/413030651.py:25: SettingWithCopyWarning:\n",
      "\n",
      "\n",
      "A value is trying to be set on a copy of a slice from a DataFrame.\n",
      "Try using .loc[row_indexer,col_indexer] = value instead\n",
      "\n",
      "See the caveats in the documentation: https://pandas.pydata.org/pandas-docs/stable/user_guide/indexing.html#returning-a-view-versus-a-copy\n",
      "\n"
     ]
    },
    {
     "name": "stdout",
     "output_type": "stream",
     "text": [
      "14788\n"
     ]
    },
    {
     "name": "stderr",
     "output_type": "stream",
     "text": [
      "/var/folders/8g/rym67m5d29dcjm2td47sgb_m0000gn/T/ipykernel_29122/413030651.py:16: FutureWarning:\n",
      "\n",
      "Passing 'suffixes' which cause duplicate columns {'type_geo_y'} in the result is deprecated and will raise a MergeError in a future version.\n",
      "\n",
      "/opt/homebrew/Caskroom/miniforge/base/envs/py3/lib/python3.9/site-packages/sklearn/neighbors/_classification.py:198: DataConversionWarning:\n",
      "\n",
      "A column-vector y was passed when a 1d array was expected. Please change the shape of y to (n_samples,), for example using ravel().\n",
      "\n",
      "/var/folders/8g/rym67m5d29dcjm2td47sgb_m0000gn/T/ipykernel_29122/413030651.py:25: SettingWithCopyWarning:\n",
      "\n",
      "\n",
      "A value is trying to be set on a copy of a slice from a DataFrame.\n",
      "Try using .loc[row_indexer,col_indexer] = value instead\n",
      "\n",
      "See the caveats in the documentation: https://pandas.pydata.org/pandas-docs/stable/user_guide/indexing.html#returning-a-view-versus-a-copy\n",
      "\n"
     ]
    },
    {
     "name": "stdout",
     "output_type": "stream",
     "text": [
      "17296\n"
     ]
    },
    {
     "name": "stderr",
     "output_type": "stream",
     "text": [
      "/var/folders/8g/rym67m5d29dcjm2td47sgb_m0000gn/T/ipykernel_29122/413030651.py:16: FutureWarning:\n",
      "\n",
      "Passing 'suffixes' which cause duplicate columns {'Z_y', 'type_geo_y'} in the result is deprecated and will raise a MergeError in a future version.\n",
      "\n",
      "/opt/homebrew/Caskroom/miniforge/base/envs/py3/lib/python3.9/site-packages/sklearn/neighbors/_classification.py:198: DataConversionWarning:\n",
      "\n",
      "A column-vector y was passed when a 1d array was expected. Please change the shape of y to (n_samples,), for example using ravel().\n",
      "\n",
      "/var/folders/8g/rym67m5d29dcjm2td47sgb_m0000gn/T/ipykernel_29122/413030651.py:25: SettingWithCopyWarning:\n",
      "\n",
      "\n",
      "A value is trying to be set on a copy of a slice from a DataFrame.\n",
      "Try using .loc[row_indexer,col_indexer] = value instead\n",
      "\n",
      "See the caveats in the documentation: https://pandas.pydata.org/pandas-docs/stable/user_guide/indexing.html#returning-a-view-versus-a-copy\n",
      "\n"
     ]
    },
    {
     "name": "stdout",
     "output_type": "stream",
     "text": [
      "14788\n"
     ]
    },
    {
     "name": "stderr",
     "output_type": "stream",
     "text": [
      "/var/folders/8g/rym67m5d29dcjm2td47sgb_m0000gn/T/ipykernel_29122/413030651.py:16: FutureWarning:\n",
      "\n",
      "Passing 'suffixes' which cause duplicate columns {'type_geo_y'} in the result is deprecated and will raise a MergeError in a future version.\n",
      "\n",
      "/opt/homebrew/Caskroom/miniforge/base/envs/py3/lib/python3.9/site-packages/sklearn/neighbors/_classification.py:198: DataConversionWarning:\n",
      "\n",
      "A column-vector y was passed when a 1d array was expected. Please change the shape of y to (n_samples,), for example using ravel().\n",
      "\n",
      "/var/folders/8g/rym67m5d29dcjm2td47sgb_m0000gn/T/ipykernel_29122/413030651.py:25: SettingWithCopyWarning:\n",
      "\n",
      "\n",
      "A value is trying to be set on a copy of a slice from a DataFrame.\n",
      "Try using .loc[row_indexer,col_indexer] = value instead\n",
      "\n",
      "See the caveats in the documentation: https://pandas.pydata.org/pandas-docs/stable/user_guide/indexing.html#returning-a-view-versus-a-copy\n",
      "\n"
     ]
    },
    {
     "name": "stdout",
     "output_type": "stream",
     "text": [
      "17296\n"
     ]
    },
    {
     "name": "stderr",
     "output_type": "stream",
     "text": [
      "/var/folders/8g/rym67m5d29dcjm2td47sgb_m0000gn/T/ipykernel_29122/413030651.py:16: FutureWarning:\n",
      "\n",
      "Passing 'suffixes' which cause duplicate columns {'Z_y', 'type_geo_y'} in the result is deprecated and will raise a MergeError in a future version.\n",
      "\n",
      "/opt/homebrew/Caskroom/miniforge/base/envs/py3/lib/python3.9/site-packages/sklearn/neighbors/_classification.py:198: DataConversionWarning:\n",
      "\n",
      "A column-vector y was passed when a 1d array was expected. Please change the shape of y to (n_samples,), for example using ravel().\n",
      "\n",
      "/var/folders/8g/rym67m5d29dcjm2td47sgb_m0000gn/T/ipykernel_29122/413030651.py:25: SettingWithCopyWarning:\n",
      "\n",
      "\n",
      "A value is trying to be set on a copy of a slice from a DataFrame.\n",
      "Try using .loc[row_indexer,col_indexer] = value instead\n",
      "\n",
      "See the caveats in the documentation: https://pandas.pydata.org/pandas-docs/stable/user_guide/indexing.html#returning-a-view-versus-a-copy\n",
      "\n"
     ]
    },
    {
     "name": "stdout",
     "output_type": "stream",
     "text": [
      "14788\n"
     ]
    },
    {
     "name": "stderr",
     "output_type": "stream",
     "text": [
      "/var/folders/8g/rym67m5d29dcjm2td47sgb_m0000gn/T/ipykernel_29122/413030651.py:16: FutureWarning:\n",
      "\n",
      "Passing 'suffixes' which cause duplicate columns {'type_geo_y'} in the result is deprecated and will raise a MergeError in a future version.\n",
      "\n",
      "/opt/homebrew/Caskroom/miniforge/base/envs/py3/lib/python3.9/site-packages/sklearn/neighbors/_classification.py:198: DataConversionWarning:\n",
      "\n",
      "A column-vector y was passed when a 1d array was expected. Please change the shape of y to (n_samples,), for example using ravel().\n",
      "\n",
      "/var/folders/8g/rym67m5d29dcjm2td47sgb_m0000gn/T/ipykernel_29122/413030651.py:25: SettingWithCopyWarning:\n",
      "\n",
      "\n",
      "A value is trying to be set on a copy of a slice from a DataFrame.\n",
      "Try using .loc[row_indexer,col_indexer] = value instead\n",
      "\n",
      "See the caveats in the documentation: https://pandas.pydata.org/pandas-docs/stable/user_guide/indexing.html#returning-a-view-versus-a-copy\n",
      "\n"
     ]
    },
    {
     "name": "stdout",
     "output_type": "stream",
     "text": [
      "17296\n"
     ]
    },
    {
     "name": "stderr",
     "output_type": "stream",
     "text": [
      "/var/folders/8g/rym67m5d29dcjm2td47sgb_m0000gn/T/ipykernel_29122/413030651.py:16: FutureWarning:\n",
      "\n",
      "Passing 'suffixes' which cause duplicate columns {'Z_y', 'type_geo_y'} in the result is deprecated and will raise a MergeError in a future version.\n",
      "\n",
      "/opt/homebrew/Caskroom/miniforge/base/envs/py3/lib/python3.9/site-packages/sklearn/neighbors/_classification.py:198: DataConversionWarning:\n",
      "\n",
      "A column-vector y was passed when a 1d array was expected. Please change the shape of y to (n_samples,), for example using ravel().\n",
      "\n",
      "/var/folders/8g/rym67m5d29dcjm2td47sgb_m0000gn/T/ipykernel_29122/413030651.py:25: SettingWithCopyWarning:\n",
      "\n",
      "\n",
      "A value is trying to be set on a copy of a slice from a DataFrame.\n",
      "Try using .loc[row_indexer,col_indexer] = value instead\n",
      "\n",
      "See the caveats in the documentation: https://pandas.pydata.org/pandas-docs/stable/user_guide/indexing.html#returning-a-view-versus-a-copy\n",
      "\n"
     ]
    },
    {
     "name": "stdout",
     "output_type": "stream",
     "text": [
      "14788\n"
     ]
    },
    {
     "name": "stderr",
     "output_type": "stream",
     "text": [
      "/var/folders/8g/rym67m5d29dcjm2td47sgb_m0000gn/T/ipykernel_29122/413030651.py:16: FutureWarning:\n",
      "\n",
      "Passing 'suffixes' which cause duplicate columns {'type_geo_y'} in the result is deprecated and will raise a MergeError in a future version.\n",
      "\n",
      "/opt/homebrew/Caskroom/miniforge/base/envs/py3/lib/python3.9/site-packages/sklearn/neighbors/_classification.py:198: DataConversionWarning:\n",
      "\n",
      "A column-vector y was passed when a 1d array was expected. Please change the shape of y to (n_samples,), for example using ravel().\n",
      "\n",
      "/var/folders/8g/rym67m5d29dcjm2td47sgb_m0000gn/T/ipykernel_29122/413030651.py:25: SettingWithCopyWarning:\n",
      "\n",
      "\n",
      "A value is trying to be set on a copy of a slice from a DataFrame.\n",
      "Try using .loc[row_indexer,col_indexer] = value instead\n",
      "\n",
      "See the caveats in the documentation: https://pandas.pydata.org/pandas-docs/stable/user_guide/indexing.html#returning-a-view-versus-a-copy\n",
      "\n"
     ]
    },
    {
     "name": "stdout",
     "output_type": "stream",
     "text": [
      "17296\n"
     ]
    },
    {
     "name": "stderr",
     "output_type": "stream",
     "text": [
      "/var/folders/8g/rym67m5d29dcjm2td47sgb_m0000gn/T/ipykernel_29122/413030651.py:16: FutureWarning:\n",
      "\n",
      "Passing 'suffixes' which cause duplicate columns {'Z_y', 'type_geo_y'} in the result is deprecated and will raise a MergeError in a future version.\n",
      "\n",
      "/opt/homebrew/Caskroom/miniforge/base/envs/py3/lib/python3.9/site-packages/sklearn/neighbors/_classification.py:198: DataConversionWarning:\n",
      "\n",
      "A column-vector y was passed when a 1d array was expected. Please change the shape of y to (n_samples,), for example using ravel().\n",
      "\n",
      "/var/folders/8g/rym67m5d29dcjm2td47sgb_m0000gn/T/ipykernel_29122/413030651.py:25: SettingWithCopyWarning:\n",
      "\n",
      "\n",
      "A value is trying to be set on a copy of a slice from a DataFrame.\n",
      "Try using .loc[row_indexer,col_indexer] = value instead\n",
      "\n",
      "See the caveats in the documentation: https://pandas.pydata.org/pandas-docs/stable/user_guide/indexing.html#returning-a-view-versus-a-copy\n",
      "\n"
     ]
    },
    {
     "name": "stdout",
     "output_type": "stream",
     "text": [
      "14788\n"
     ]
    },
    {
     "name": "stderr",
     "output_type": "stream",
     "text": [
      "/var/folders/8g/rym67m5d29dcjm2td47sgb_m0000gn/T/ipykernel_29122/413030651.py:16: FutureWarning:\n",
      "\n",
      "Passing 'suffixes' which cause duplicate columns {'type_geo_y'} in the result is deprecated and will raise a MergeError in a future version.\n",
      "\n",
      "/opt/homebrew/Caskroom/miniforge/base/envs/py3/lib/python3.9/site-packages/sklearn/neighbors/_classification.py:198: DataConversionWarning:\n",
      "\n",
      "A column-vector y was passed when a 1d array was expected. Please change the shape of y to (n_samples,), for example using ravel().\n",
      "\n",
      "/var/folders/8g/rym67m5d29dcjm2td47sgb_m0000gn/T/ipykernel_29122/413030651.py:25: SettingWithCopyWarning:\n",
      "\n",
      "\n",
      "A value is trying to be set on a copy of a slice from a DataFrame.\n",
      "Try using .loc[row_indexer,col_indexer] = value instead\n",
      "\n",
      "See the caveats in the documentation: https://pandas.pydata.org/pandas-docs/stable/user_guide/indexing.html#returning-a-view-versus-a-copy\n",
      "\n"
     ]
    },
    {
     "name": "stdout",
     "output_type": "stream",
     "text": [
      "17296\n"
     ]
    },
    {
     "name": "stderr",
     "output_type": "stream",
     "text": [
      "/var/folders/8g/rym67m5d29dcjm2td47sgb_m0000gn/T/ipykernel_29122/413030651.py:16: FutureWarning:\n",
      "\n",
      "Passing 'suffixes' which cause duplicate columns {'Z_y', 'type_geo_y'} in the result is deprecated and will raise a MergeError in a future version.\n",
      "\n",
      "/opt/homebrew/Caskroom/miniforge/base/envs/py3/lib/python3.9/site-packages/sklearn/neighbors/_classification.py:198: DataConversionWarning:\n",
      "\n",
      "A column-vector y was passed when a 1d array was expected. Please change the shape of y to (n_samples,), for example using ravel().\n",
      "\n",
      "/var/folders/8g/rym67m5d29dcjm2td47sgb_m0000gn/T/ipykernel_29122/413030651.py:25: SettingWithCopyWarning:\n",
      "\n",
      "\n",
      "A value is trying to be set on a copy of a slice from a DataFrame.\n",
      "Try using .loc[row_indexer,col_indexer] = value instead\n",
      "\n",
      "See the caveats in the documentation: https://pandas.pydata.org/pandas-docs/stable/user_guide/indexing.html#returning-a-view-versus-a-copy\n",
      "\n"
     ]
    },
    {
     "name": "stdout",
     "output_type": "stream",
     "text": [
      "14788\n"
     ]
    },
    {
     "name": "stderr",
     "output_type": "stream",
     "text": [
      "/var/folders/8g/rym67m5d29dcjm2td47sgb_m0000gn/T/ipykernel_29122/413030651.py:16: FutureWarning:\n",
      "\n",
      "Passing 'suffixes' which cause duplicate columns {'type_geo_y'} in the result is deprecated and will raise a MergeError in a future version.\n",
      "\n",
      "/opt/homebrew/Caskroom/miniforge/base/envs/py3/lib/python3.9/site-packages/sklearn/neighbors/_classification.py:198: DataConversionWarning:\n",
      "\n",
      "A column-vector y was passed when a 1d array was expected. Please change the shape of y to (n_samples,), for example using ravel().\n",
      "\n",
      "/var/folders/8g/rym67m5d29dcjm2td47sgb_m0000gn/T/ipykernel_29122/413030651.py:25: SettingWithCopyWarning:\n",
      "\n",
      "\n",
      "A value is trying to be set on a copy of a slice from a DataFrame.\n",
      "Try using .loc[row_indexer,col_indexer] = value instead\n",
      "\n",
      "See the caveats in the documentation: https://pandas.pydata.org/pandas-docs/stable/user_guide/indexing.html#returning-a-view-versus-a-copy\n",
      "\n"
     ]
    },
    {
     "name": "stdout",
     "output_type": "stream",
     "text": [
      "17296\n"
     ]
    },
    {
     "name": "stderr",
     "output_type": "stream",
     "text": [
      "/var/folders/8g/rym67m5d29dcjm2td47sgb_m0000gn/T/ipykernel_29122/413030651.py:16: FutureWarning:\n",
      "\n",
      "Passing 'suffixes' which cause duplicate columns {'Z_y', 'type_geo_y'} in the result is deprecated and will raise a MergeError in a future version.\n",
      "\n",
      "/opt/homebrew/Caskroom/miniforge/base/envs/py3/lib/python3.9/site-packages/sklearn/neighbors/_classification.py:198: DataConversionWarning:\n",
      "\n",
      "A column-vector y was passed when a 1d array was expected. Please change the shape of y to (n_samples,), for example using ravel().\n",
      "\n",
      "/var/folders/8g/rym67m5d29dcjm2td47sgb_m0000gn/T/ipykernel_29122/413030651.py:25: SettingWithCopyWarning:\n",
      "\n",
      "\n",
      "A value is trying to be set on a copy of a slice from a DataFrame.\n",
      "Try using .loc[row_indexer,col_indexer] = value instead\n",
      "\n",
      "See the caveats in the documentation: https://pandas.pydata.org/pandas-docs/stable/user_guide/indexing.html#returning-a-view-versus-a-copy\n",
      "\n"
     ]
    },
    {
     "name": "stdout",
     "output_type": "stream",
     "text": [
      "14788\n"
     ]
    },
    {
     "name": "stderr",
     "output_type": "stream",
     "text": [
      "/var/folders/8g/rym67m5d29dcjm2td47sgb_m0000gn/T/ipykernel_29122/413030651.py:16: FutureWarning:\n",
      "\n",
      "Passing 'suffixes' which cause duplicate columns {'type_geo_y'} in the result is deprecated and will raise a MergeError in a future version.\n",
      "\n",
      "/opt/homebrew/Caskroom/miniforge/base/envs/py3/lib/python3.9/site-packages/sklearn/neighbors/_classification.py:198: DataConversionWarning:\n",
      "\n",
      "A column-vector y was passed when a 1d array was expected. Please change the shape of y to (n_samples,), for example using ravel().\n",
      "\n",
      "/var/folders/8g/rym67m5d29dcjm2td47sgb_m0000gn/T/ipykernel_29122/413030651.py:25: SettingWithCopyWarning:\n",
      "\n",
      "\n",
      "A value is trying to be set on a copy of a slice from a DataFrame.\n",
      "Try using .loc[row_indexer,col_indexer] = value instead\n",
      "\n",
      "See the caveats in the documentation: https://pandas.pydata.org/pandas-docs/stable/user_guide/indexing.html#returning-a-view-versus-a-copy\n",
      "\n"
     ]
    },
    {
     "name": "stdout",
     "output_type": "stream",
     "text": [
      "17296\n"
     ]
    },
    {
     "name": "stderr",
     "output_type": "stream",
     "text": [
      "/var/folders/8g/rym67m5d29dcjm2td47sgb_m0000gn/T/ipykernel_29122/413030651.py:16: FutureWarning:\n",
      "\n",
      "Passing 'suffixes' which cause duplicate columns {'Z_y', 'type_geo_y'} in the result is deprecated and will raise a MergeError in a future version.\n",
      "\n",
      "/opt/homebrew/Caskroom/miniforge/base/envs/py3/lib/python3.9/site-packages/sklearn/neighbors/_classification.py:198: DataConversionWarning:\n",
      "\n",
      "A column-vector y was passed when a 1d array was expected. Please change the shape of y to (n_samples,), for example using ravel().\n",
      "\n",
      "/var/folders/8g/rym67m5d29dcjm2td47sgb_m0000gn/T/ipykernel_29122/413030651.py:25: SettingWithCopyWarning:\n",
      "\n",
      "\n",
      "A value is trying to be set on a copy of a slice from a DataFrame.\n",
      "Try using .loc[row_indexer,col_indexer] = value instead\n",
      "\n",
      "See the caveats in the documentation: https://pandas.pydata.org/pandas-docs/stable/user_guide/indexing.html#returning-a-view-versus-a-copy\n",
      "\n"
     ]
    },
    {
     "name": "stdout",
     "output_type": "stream",
     "text": [
      "14788\n"
     ]
    },
    {
     "name": "stderr",
     "output_type": "stream",
     "text": [
      "/var/folders/8g/rym67m5d29dcjm2td47sgb_m0000gn/T/ipykernel_29122/413030651.py:16: FutureWarning:\n",
      "\n",
      "Passing 'suffixes' which cause duplicate columns {'type_geo_y'} in the result is deprecated and will raise a MergeError in a future version.\n",
      "\n",
      "/opt/homebrew/Caskroom/miniforge/base/envs/py3/lib/python3.9/site-packages/sklearn/neighbors/_classification.py:198: DataConversionWarning:\n",
      "\n",
      "A column-vector y was passed when a 1d array was expected. Please change the shape of y to (n_samples,), for example using ravel().\n",
      "\n",
      "/var/folders/8g/rym67m5d29dcjm2td47sgb_m0000gn/T/ipykernel_29122/413030651.py:25: SettingWithCopyWarning:\n",
      "\n",
      "\n",
      "A value is trying to be set on a copy of a slice from a DataFrame.\n",
      "Try using .loc[row_indexer,col_indexer] = value instead\n",
      "\n",
      "See the caveats in the documentation: https://pandas.pydata.org/pandas-docs/stable/user_guide/indexing.html#returning-a-view-versus-a-copy\n",
      "\n"
     ]
    },
    {
     "name": "stdout",
     "output_type": "stream",
     "text": [
      "17296\n"
     ]
    },
    {
     "name": "stderr",
     "output_type": "stream",
     "text": [
      "/var/folders/8g/rym67m5d29dcjm2td47sgb_m0000gn/T/ipykernel_29122/413030651.py:16: FutureWarning:\n",
      "\n",
      "Passing 'suffixes' which cause duplicate columns {'Z_y', 'type_geo_y'} in the result is deprecated and will raise a MergeError in a future version.\n",
      "\n",
      "/opt/homebrew/Caskroom/miniforge/base/envs/py3/lib/python3.9/site-packages/sklearn/neighbors/_classification.py:198: DataConversionWarning:\n",
      "\n",
      "A column-vector y was passed when a 1d array was expected. Please change the shape of y to (n_samples,), for example using ravel().\n",
      "\n",
      "/var/folders/8g/rym67m5d29dcjm2td47sgb_m0000gn/T/ipykernel_29122/413030651.py:25: SettingWithCopyWarning:\n",
      "\n",
      "\n",
      "A value is trying to be set on a copy of a slice from a DataFrame.\n",
      "Try using .loc[row_indexer,col_indexer] = value instead\n",
      "\n",
      "See the caveats in the documentation: https://pandas.pydata.org/pandas-docs/stable/user_guide/indexing.html#returning-a-view-versus-a-copy\n",
      "\n"
     ]
    },
    {
     "name": "stdout",
     "output_type": "stream",
     "text": [
      "14788\n"
     ]
    },
    {
     "name": "stderr",
     "output_type": "stream",
     "text": [
      "/var/folders/8g/rym67m5d29dcjm2td47sgb_m0000gn/T/ipykernel_29122/413030651.py:16: FutureWarning:\n",
      "\n",
      "Passing 'suffixes' which cause duplicate columns {'type_geo_y'} in the result is deprecated and will raise a MergeError in a future version.\n",
      "\n",
      "/opt/homebrew/Caskroom/miniforge/base/envs/py3/lib/python3.9/site-packages/sklearn/neighbors/_classification.py:198: DataConversionWarning:\n",
      "\n",
      "A column-vector y was passed when a 1d array was expected. Please change the shape of y to (n_samples,), for example using ravel().\n",
      "\n",
      "/var/folders/8g/rym67m5d29dcjm2td47sgb_m0000gn/T/ipykernel_29122/413030651.py:25: SettingWithCopyWarning:\n",
      "\n",
      "\n",
      "A value is trying to be set on a copy of a slice from a DataFrame.\n",
      "Try using .loc[row_indexer,col_indexer] = value instead\n",
      "\n",
      "See the caveats in the documentation: https://pandas.pydata.org/pandas-docs/stable/user_guide/indexing.html#returning-a-view-versus-a-copy\n",
      "\n"
     ]
    },
    {
     "name": "stdout",
     "output_type": "stream",
     "text": [
      "17296\n"
     ]
    },
    {
     "name": "stderr",
     "output_type": "stream",
     "text": [
      "/var/folders/8g/rym67m5d29dcjm2td47sgb_m0000gn/T/ipykernel_29122/413030651.py:16: FutureWarning:\n",
      "\n",
      "Passing 'suffixes' which cause duplicate columns {'Z_y', 'type_geo_y'} in the result is deprecated and will raise a MergeError in a future version.\n",
      "\n",
      "/opt/homebrew/Caskroom/miniforge/base/envs/py3/lib/python3.9/site-packages/sklearn/neighbors/_classification.py:198: DataConversionWarning:\n",
      "\n",
      "A column-vector y was passed when a 1d array was expected. Please change the shape of y to (n_samples,), for example using ravel().\n",
      "\n",
      "/var/folders/8g/rym67m5d29dcjm2td47sgb_m0000gn/T/ipykernel_29122/413030651.py:25: SettingWithCopyWarning:\n",
      "\n",
      "\n",
      "A value is trying to be set on a copy of a slice from a DataFrame.\n",
      "Try using .loc[row_indexer,col_indexer] = value instead\n",
      "\n",
      "See the caveats in the documentation: https://pandas.pydata.org/pandas-docs/stable/user_guide/indexing.html#returning-a-view-versus-a-copy\n",
      "\n"
     ]
    },
    {
     "name": "stdout",
     "output_type": "stream",
     "text": [
      "14788\n"
     ]
    },
    {
     "name": "stderr",
     "output_type": "stream",
     "text": [
      "/var/folders/8g/rym67m5d29dcjm2td47sgb_m0000gn/T/ipykernel_29122/413030651.py:16: FutureWarning:\n",
      "\n",
      "Passing 'suffixes' which cause duplicate columns {'type_geo_y'} in the result is deprecated and will raise a MergeError in a future version.\n",
      "\n",
      "/opt/homebrew/Caskroom/miniforge/base/envs/py3/lib/python3.9/site-packages/sklearn/neighbors/_classification.py:198: DataConversionWarning:\n",
      "\n",
      "A column-vector y was passed when a 1d array was expected. Please change the shape of y to (n_samples,), for example using ravel().\n",
      "\n",
      "/var/folders/8g/rym67m5d29dcjm2td47sgb_m0000gn/T/ipykernel_29122/413030651.py:25: SettingWithCopyWarning:\n",
      "\n",
      "\n",
      "A value is trying to be set on a copy of a slice from a DataFrame.\n",
      "Try using .loc[row_indexer,col_indexer] = value instead\n",
      "\n",
      "See the caveats in the documentation: https://pandas.pydata.org/pandas-docs/stable/user_guide/indexing.html#returning-a-view-versus-a-copy\n",
      "\n"
     ]
    },
    {
     "name": "stdout",
     "output_type": "stream",
     "text": [
      "17296\n"
     ]
    },
    {
     "name": "stderr",
     "output_type": "stream",
     "text": [
      "/var/folders/8g/rym67m5d29dcjm2td47sgb_m0000gn/T/ipykernel_29122/413030651.py:16: FutureWarning:\n",
      "\n",
      "Passing 'suffixes' which cause duplicate columns {'Z_y', 'type_geo_y'} in the result is deprecated and will raise a MergeError in a future version.\n",
      "\n",
      "/opt/homebrew/Caskroom/miniforge/base/envs/py3/lib/python3.9/site-packages/sklearn/neighbors/_classification.py:198: DataConversionWarning:\n",
      "\n",
      "A column-vector y was passed when a 1d array was expected. Please change the shape of y to (n_samples,), for example using ravel().\n",
      "\n",
      "/var/folders/8g/rym67m5d29dcjm2td47sgb_m0000gn/T/ipykernel_29122/413030651.py:25: SettingWithCopyWarning:\n",
      "\n",
      "\n",
      "A value is trying to be set on a copy of a slice from a DataFrame.\n",
      "Try using .loc[row_indexer,col_indexer] = value instead\n",
      "\n",
      "See the caveats in the documentation: https://pandas.pydata.org/pandas-docs/stable/user_guide/indexing.html#returning-a-view-versus-a-copy\n",
      "\n"
     ]
    },
    {
     "name": "stdout",
     "output_type": "stream",
     "text": [
      "14788\n"
     ]
    },
    {
     "name": "stderr",
     "output_type": "stream",
     "text": [
      "/var/folders/8g/rym67m5d29dcjm2td47sgb_m0000gn/T/ipykernel_29122/413030651.py:16: FutureWarning:\n",
      "\n",
      "Passing 'suffixes' which cause duplicate columns {'type_geo_y'} in the result is deprecated and will raise a MergeError in a future version.\n",
      "\n",
      "/opt/homebrew/Caskroom/miniforge/base/envs/py3/lib/python3.9/site-packages/sklearn/neighbors/_classification.py:198: DataConversionWarning:\n",
      "\n",
      "A column-vector y was passed when a 1d array was expected. Please change the shape of y to (n_samples,), for example using ravel().\n",
      "\n",
      "/var/folders/8g/rym67m5d29dcjm2td47sgb_m0000gn/T/ipykernel_29122/413030651.py:25: SettingWithCopyWarning:\n",
      "\n",
      "\n",
      "A value is trying to be set on a copy of a slice from a DataFrame.\n",
      "Try using .loc[row_indexer,col_indexer] = value instead\n",
      "\n",
      "See the caveats in the documentation: https://pandas.pydata.org/pandas-docs/stable/user_guide/indexing.html#returning-a-view-versus-a-copy\n",
      "\n"
     ]
    },
    {
     "name": "stdout",
     "output_type": "stream",
     "text": [
      "17296\n"
     ]
    },
    {
     "name": "stderr",
     "output_type": "stream",
     "text": [
      "/var/folders/8g/rym67m5d29dcjm2td47sgb_m0000gn/T/ipykernel_29122/413030651.py:16: FutureWarning:\n",
      "\n",
      "Passing 'suffixes' which cause duplicate columns {'Z_y', 'type_geo_y'} in the result is deprecated and will raise a MergeError in a future version.\n",
      "\n",
      "/opt/homebrew/Caskroom/miniforge/base/envs/py3/lib/python3.9/site-packages/sklearn/neighbors/_classification.py:198: DataConversionWarning:\n",
      "\n",
      "A column-vector y was passed when a 1d array was expected. Please change the shape of y to (n_samples,), for example using ravel().\n",
      "\n",
      "/var/folders/8g/rym67m5d29dcjm2td47sgb_m0000gn/T/ipykernel_29122/413030651.py:25: SettingWithCopyWarning:\n",
      "\n",
      "\n",
      "A value is trying to be set on a copy of a slice from a DataFrame.\n",
      "Try using .loc[row_indexer,col_indexer] = value instead\n",
      "\n",
      "See the caveats in the documentation: https://pandas.pydata.org/pandas-docs/stable/user_guide/indexing.html#returning-a-view-versus-a-copy\n",
      "\n"
     ]
    },
    {
     "name": "stdout",
     "output_type": "stream",
     "text": [
      "14788\n"
     ]
    },
    {
     "name": "stderr",
     "output_type": "stream",
     "text": [
      "/var/folders/8g/rym67m5d29dcjm2td47sgb_m0000gn/T/ipykernel_29122/413030651.py:16: FutureWarning:\n",
      "\n",
      "Passing 'suffixes' which cause duplicate columns {'type_geo_y'} in the result is deprecated and will raise a MergeError in a future version.\n",
      "\n",
      "/opt/homebrew/Caskroom/miniforge/base/envs/py3/lib/python3.9/site-packages/sklearn/neighbors/_classification.py:198: DataConversionWarning:\n",
      "\n",
      "A column-vector y was passed when a 1d array was expected. Please change the shape of y to (n_samples,), for example using ravel().\n",
      "\n",
      "/var/folders/8g/rym67m5d29dcjm2td47sgb_m0000gn/T/ipykernel_29122/413030651.py:25: SettingWithCopyWarning:\n",
      "\n",
      "\n",
      "A value is trying to be set on a copy of a slice from a DataFrame.\n",
      "Try using .loc[row_indexer,col_indexer] = value instead\n",
      "\n",
      "See the caveats in the documentation: https://pandas.pydata.org/pandas-docs/stable/user_guide/indexing.html#returning-a-view-versus-a-copy\n",
      "\n"
     ]
    },
    {
     "name": "stdout",
     "output_type": "stream",
     "text": [
      "17296\n"
     ]
    },
    {
     "name": "stderr",
     "output_type": "stream",
     "text": [
      "/var/folders/8g/rym67m5d29dcjm2td47sgb_m0000gn/T/ipykernel_29122/413030651.py:16: FutureWarning:\n",
      "\n",
      "Passing 'suffixes' which cause duplicate columns {'Z_y', 'type_geo_y'} in the result is deprecated and will raise a MergeError in a future version.\n",
      "\n",
      "/opt/homebrew/Caskroom/miniforge/base/envs/py3/lib/python3.9/site-packages/sklearn/neighbors/_classification.py:198: DataConversionWarning:\n",
      "\n",
      "A column-vector y was passed when a 1d array was expected. Please change the shape of y to (n_samples,), for example using ravel().\n",
      "\n",
      "/var/folders/8g/rym67m5d29dcjm2td47sgb_m0000gn/T/ipykernel_29122/413030651.py:25: SettingWithCopyWarning:\n",
      "\n",
      "\n",
      "A value is trying to be set on a copy of a slice from a DataFrame.\n",
      "Try using .loc[row_indexer,col_indexer] = value instead\n",
      "\n",
      "See the caveats in the documentation: https://pandas.pydata.org/pandas-docs/stable/user_guide/indexing.html#returning-a-view-versus-a-copy\n",
      "\n"
     ]
    },
    {
     "name": "stdout",
     "output_type": "stream",
     "text": [
      "14788\n"
     ]
    },
    {
     "name": "stderr",
     "output_type": "stream",
     "text": [
      "/var/folders/8g/rym67m5d29dcjm2td47sgb_m0000gn/T/ipykernel_29122/413030651.py:16: FutureWarning:\n",
      "\n",
      "Passing 'suffixes' which cause duplicate columns {'type_geo_y'} in the result is deprecated and will raise a MergeError in a future version.\n",
      "\n",
      "/opt/homebrew/Caskroom/miniforge/base/envs/py3/lib/python3.9/site-packages/sklearn/neighbors/_classification.py:198: DataConversionWarning:\n",
      "\n",
      "A column-vector y was passed when a 1d array was expected. Please change the shape of y to (n_samples,), for example using ravel().\n",
      "\n",
      "/var/folders/8g/rym67m5d29dcjm2td47sgb_m0000gn/T/ipykernel_29122/413030651.py:25: SettingWithCopyWarning:\n",
      "\n",
      "\n",
      "A value is trying to be set on a copy of a slice from a DataFrame.\n",
      "Try using .loc[row_indexer,col_indexer] = value instead\n",
      "\n",
      "See the caveats in the documentation: https://pandas.pydata.org/pandas-docs/stable/user_guide/indexing.html#returning-a-view-versus-a-copy\n",
      "\n",
      "/var/folders/8g/rym67m5d29dcjm2td47sgb_m0000gn/T/ipykernel_29122/413030651.py:16: FutureWarning:\n",
      "\n",
      "Passing 'suffixes' which cause duplicate columns {'Z_y', 'type_geo_y'} in the result is deprecated and will raise a MergeError in a future version.\n",
      "\n"
     ]
    },
    {
     "name": "stdout",
     "output_type": "stream",
     "text": [
      "17296\n"
     ]
    },
    {
     "name": "stderr",
     "output_type": "stream",
     "text": [
      "/opt/homebrew/Caskroom/miniforge/base/envs/py3/lib/python3.9/site-packages/sklearn/neighbors/_classification.py:198: DataConversionWarning:\n",
      "\n",
      "A column-vector y was passed when a 1d array was expected. Please change the shape of y to (n_samples,), for example using ravel().\n",
      "\n",
      "/var/folders/8g/rym67m5d29dcjm2td47sgb_m0000gn/T/ipykernel_29122/413030651.py:25: SettingWithCopyWarning:\n",
      "\n",
      "\n",
      "A value is trying to be set on a copy of a slice from a DataFrame.\n",
      "Try using .loc[row_indexer,col_indexer] = value instead\n",
      "\n",
      "See the caveats in the documentation: https://pandas.pydata.org/pandas-docs/stable/user_guide/indexing.html#returning-a-view-versus-a-copy\n",
      "\n"
     ]
    },
    {
     "name": "stdout",
     "output_type": "stream",
     "text": [
      "14788\n"
     ]
    },
    {
     "name": "stderr",
     "output_type": "stream",
     "text": [
      "/var/folders/8g/rym67m5d29dcjm2td47sgb_m0000gn/T/ipykernel_29122/413030651.py:16: FutureWarning:\n",
      "\n",
      "Passing 'suffixes' which cause duplicate columns {'type_geo_y'} in the result is deprecated and will raise a MergeError in a future version.\n",
      "\n",
      "/opt/homebrew/Caskroom/miniforge/base/envs/py3/lib/python3.9/site-packages/sklearn/neighbors/_classification.py:198: DataConversionWarning:\n",
      "\n",
      "A column-vector y was passed when a 1d array was expected. Please change the shape of y to (n_samples,), for example using ravel().\n",
      "\n",
      "/var/folders/8g/rym67m5d29dcjm2td47sgb_m0000gn/T/ipykernel_29122/413030651.py:25: SettingWithCopyWarning:\n",
      "\n",
      "\n",
      "A value is trying to be set on a copy of a slice from a DataFrame.\n",
      "Try using .loc[row_indexer,col_indexer] = value instead\n",
      "\n",
      "See the caveats in the documentation: https://pandas.pydata.org/pandas-docs/stable/user_guide/indexing.html#returning-a-view-versus-a-copy\n",
      "\n"
     ]
    },
    {
     "name": "stdout",
     "output_type": "stream",
     "text": [
      "17296\n"
     ]
    },
    {
     "name": "stderr",
     "output_type": "stream",
     "text": [
      "/var/folders/8g/rym67m5d29dcjm2td47sgb_m0000gn/T/ipykernel_29122/413030651.py:16: FutureWarning:\n",
      "\n",
      "Passing 'suffixes' which cause duplicate columns {'Z_y', 'type_geo_y'} in the result is deprecated and will raise a MergeError in a future version.\n",
      "\n",
      "/opt/homebrew/Caskroom/miniforge/base/envs/py3/lib/python3.9/site-packages/sklearn/neighbors/_classification.py:198: DataConversionWarning:\n",
      "\n",
      "A column-vector y was passed when a 1d array was expected. Please change the shape of y to (n_samples,), for example using ravel().\n",
      "\n",
      "/var/folders/8g/rym67m5d29dcjm2td47sgb_m0000gn/T/ipykernel_29122/413030651.py:25: SettingWithCopyWarning:\n",
      "\n",
      "\n",
      "A value is trying to be set on a copy of a slice from a DataFrame.\n",
      "Try using .loc[row_indexer,col_indexer] = value instead\n",
      "\n",
      "See the caveats in the documentation: https://pandas.pydata.org/pandas-docs/stable/user_guide/indexing.html#returning-a-view-versus-a-copy\n",
      "\n"
     ]
    },
    {
     "name": "stdout",
     "output_type": "stream",
     "text": [
      "14788\n"
     ]
    },
    {
     "name": "stderr",
     "output_type": "stream",
     "text": [
      "/var/folders/8g/rym67m5d29dcjm2td47sgb_m0000gn/T/ipykernel_29122/413030651.py:16: FutureWarning:\n",
      "\n",
      "Passing 'suffixes' which cause duplicate columns {'type_geo_y'} in the result is deprecated and will raise a MergeError in a future version.\n",
      "\n",
      "/opt/homebrew/Caskroom/miniforge/base/envs/py3/lib/python3.9/site-packages/sklearn/neighbors/_classification.py:198: DataConversionWarning:\n",
      "\n",
      "A column-vector y was passed when a 1d array was expected. Please change the shape of y to (n_samples,), for example using ravel().\n",
      "\n",
      "/var/folders/8g/rym67m5d29dcjm2td47sgb_m0000gn/T/ipykernel_29122/413030651.py:25: SettingWithCopyWarning:\n",
      "\n",
      "\n",
      "A value is trying to be set on a copy of a slice from a DataFrame.\n",
      "Try using .loc[row_indexer,col_indexer] = value instead\n",
      "\n",
      "See the caveats in the documentation: https://pandas.pydata.org/pandas-docs/stable/user_guide/indexing.html#returning-a-view-versus-a-copy\n",
      "\n"
     ]
    },
    {
     "name": "stdout",
     "output_type": "stream",
     "text": [
      "17296\n"
     ]
    },
    {
     "name": "stderr",
     "output_type": "stream",
     "text": [
      "/var/folders/8g/rym67m5d29dcjm2td47sgb_m0000gn/T/ipykernel_29122/413030651.py:16: FutureWarning:\n",
      "\n",
      "Passing 'suffixes' which cause duplicate columns {'Z_y', 'type_geo_y'} in the result is deprecated and will raise a MergeError in a future version.\n",
      "\n",
      "/opt/homebrew/Caskroom/miniforge/base/envs/py3/lib/python3.9/site-packages/sklearn/neighbors/_classification.py:198: DataConversionWarning:\n",
      "\n",
      "A column-vector y was passed when a 1d array was expected. Please change the shape of y to (n_samples,), for example using ravel().\n",
      "\n",
      "/var/folders/8g/rym67m5d29dcjm2td47sgb_m0000gn/T/ipykernel_29122/413030651.py:25: SettingWithCopyWarning:\n",
      "\n",
      "\n",
      "A value is trying to be set on a copy of a slice from a DataFrame.\n",
      "Try using .loc[row_indexer,col_indexer] = value instead\n",
      "\n",
      "See the caveats in the documentation: https://pandas.pydata.org/pandas-docs/stable/user_guide/indexing.html#returning-a-view-versus-a-copy\n",
      "\n"
     ]
    },
    {
     "name": "stdout",
     "output_type": "stream",
     "text": [
      "14788\n"
     ]
    },
    {
     "name": "stderr",
     "output_type": "stream",
     "text": [
      "/var/folders/8g/rym67m5d29dcjm2td47sgb_m0000gn/T/ipykernel_29122/413030651.py:16: FutureWarning:\n",
      "\n",
      "Passing 'suffixes' which cause duplicate columns {'type_geo_y'} in the result is deprecated and will raise a MergeError in a future version.\n",
      "\n",
      "/opt/homebrew/Caskroom/miniforge/base/envs/py3/lib/python3.9/site-packages/sklearn/neighbors/_classification.py:198: DataConversionWarning:\n",
      "\n",
      "A column-vector y was passed when a 1d array was expected. Please change the shape of y to (n_samples,), for example using ravel().\n",
      "\n",
      "/var/folders/8g/rym67m5d29dcjm2td47sgb_m0000gn/T/ipykernel_29122/413030651.py:25: SettingWithCopyWarning:\n",
      "\n",
      "\n",
      "A value is trying to be set on a copy of a slice from a DataFrame.\n",
      "Try using .loc[row_indexer,col_indexer] = value instead\n",
      "\n",
      "See the caveats in the documentation: https://pandas.pydata.org/pandas-docs/stable/user_guide/indexing.html#returning-a-view-versus-a-copy\n",
      "\n",
      "/var/folders/8g/rym67m5d29dcjm2td47sgb_m0000gn/T/ipykernel_29122/413030651.py:16: FutureWarning:\n",
      "\n",
      "Passing 'suffixes' which cause duplicate columns {'Z_y', 'type_geo_y'} in the result is deprecated and will raise a MergeError in a future version.\n",
      "\n"
     ]
    },
    {
     "name": "stdout",
     "output_type": "stream",
     "text": [
      "17296\n"
     ]
    },
    {
     "name": "stderr",
     "output_type": "stream",
     "text": [
      "/opt/homebrew/Caskroom/miniforge/base/envs/py3/lib/python3.9/site-packages/sklearn/neighbors/_classification.py:198: DataConversionWarning:\n",
      "\n",
      "A column-vector y was passed when a 1d array was expected. Please change the shape of y to (n_samples,), for example using ravel().\n",
      "\n",
      "/var/folders/8g/rym67m5d29dcjm2td47sgb_m0000gn/T/ipykernel_29122/413030651.py:25: SettingWithCopyWarning:\n",
      "\n",
      "\n",
      "A value is trying to be set on a copy of a slice from a DataFrame.\n",
      "Try using .loc[row_indexer,col_indexer] = value instead\n",
      "\n",
      "See the caveats in the documentation: https://pandas.pydata.org/pandas-docs/stable/user_guide/indexing.html#returning-a-view-versus-a-copy\n",
      "\n"
     ]
    },
    {
     "name": "stdout",
     "output_type": "stream",
     "text": [
      "14788\n"
     ]
    },
    {
     "name": "stderr",
     "output_type": "stream",
     "text": [
      "/var/folders/8g/rym67m5d29dcjm2td47sgb_m0000gn/T/ipykernel_29122/413030651.py:16: FutureWarning:\n",
      "\n",
      "Passing 'suffixes' which cause duplicate columns {'type_geo_y'} in the result is deprecated and will raise a MergeError in a future version.\n",
      "\n",
      "/opt/homebrew/Caskroom/miniforge/base/envs/py3/lib/python3.9/site-packages/sklearn/neighbors/_classification.py:198: DataConversionWarning:\n",
      "\n",
      "A column-vector y was passed when a 1d array was expected. Please change the shape of y to (n_samples,), for example using ravel().\n",
      "\n",
      "/var/folders/8g/rym67m5d29dcjm2td47sgb_m0000gn/T/ipykernel_29122/413030651.py:25: SettingWithCopyWarning:\n",
      "\n",
      "\n",
      "A value is trying to be set on a copy of a slice from a DataFrame.\n",
      "Try using .loc[row_indexer,col_indexer] = value instead\n",
      "\n",
      "See the caveats in the documentation: https://pandas.pydata.org/pandas-docs/stable/user_guide/indexing.html#returning-a-view-versus-a-copy\n",
      "\n",
      "/var/folders/8g/rym67m5d29dcjm2td47sgb_m0000gn/T/ipykernel_29122/413030651.py:16: FutureWarning:\n",
      "\n",
      "Passing 'suffixes' which cause duplicate columns {'Z_y', 'type_geo_y'} in the result is deprecated and will raise a MergeError in a future version.\n",
      "\n"
     ]
    },
    {
     "name": "stdout",
     "output_type": "stream",
     "text": [
      "17296\n"
     ]
    },
    {
     "name": "stderr",
     "output_type": "stream",
     "text": [
      "/opt/homebrew/Caskroom/miniforge/base/envs/py3/lib/python3.9/site-packages/sklearn/neighbors/_classification.py:198: DataConversionWarning:\n",
      "\n",
      "A column-vector y was passed when a 1d array was expected. Please change the shape of y to (n_samples,), for example using ravel().\n",
      "\n",
      "/var/folders/8g/rym67m5d29dcjm2td47sgb_m0000gn/T/ipykernel_29122/413030651.py:25: SettingWithCopyWarning:\n",
      "\n",
      "\n",
      "A value is trying to be set on a copy of a slice from a DataFrame.\n",
      "Try using .loc[row_indexer,col_indexer] = value instead\n",
      "\n",
      "See the caveats in the documentation: https://pandas.pydata.org/pandas-docs/stable/user_guide/indexing.html#returning-a-view-versus-a-copy\n",
      "\n"
     ]
    },
    {
     "name": "stdout",
     "output_type": "stream",
     "text": [
      "14788\n"
     ]
    },
    {
     "name": "stderr",
     "output_type": "stream",
     "text": [
      "/var/folders/8g/rym67m5d29dcjm2td47sgb_m0000gn/T/ipykernel_29122/413030651.py:16: FutureWarning:\n",
      "\n",
      "Passing 'suffixes' which cause duplicate columns {'type_geo_y'} in the result is deprecated and will raise a MergeError in a future version.\n",
      "\n",
      "/opt/homebrew/Caskroom/miniforge/base/envs/py3/lib/python3.9/site-packages/sklearn/neighbors/_classification.py:198: DataConversionWarning:\n",
      "\n",
      "A column-vector y was passed when a 1d array was expected. Please change the shape of y to (n_samples,), for example using ravel().\n",
      "\n",
      "/var/folders/8g/rym67m5d29dcjm2td47sgb_m0000gn/T/ipykernel_29122/413030651.py:25: SettingWithCopyWarning:\n",
      "\n",
      "\n",
      "A value is trying to be set on a copy of a slice from a DataFrame.\n",
      "Try using .loc[row_indexer,col_indexer] = value instead\n",
      "\n",
      "See the caveats in the documentation: https://pandas.pydata.org/pandas-docs/stable/user_guide/indexing.html#returning-a-view-versus-a-copy\n",
      "\n"
     ]
    },
    {
     "name": "stdout",
     "output_type": "stream",
     "text": [
      "17296\n"
     ]
    },
    {
     "name": "stderr",
     "output_type": "stream",
     "text": [
      "/var/folders/8g/rym67m5d29dcjm2td47sgb_m0000gn/T/ipykernel_29122/413030651.py:16: FutureWarning:\n",
      "\n",
      "Passing 'suffixes' which cause duplicate columns {'Z_y', 'type_geo_y'} in the result is deprecated and will raise a MergeError in a future version.\n",
      "\n",
      "/opt/homebrew/Caskroom/miniforge/base/envs/py3/lib/python3.9/site-packages/sklearn/neighbors/_classification.py:198: DataConversionWarning:\n",
      "\n",
      "A column-vector y was passed when a 1d array was expected. Please change the shape of y to (n_samples,), for example using ravel().\n",
      "\n",
      "/var/folders/8g/rym67m5d29dcjm2td47sgb_m0000gn/T/ipykernel_29122/413030651.py:25: SettingWithCopyWarning:\n",
      "\n",
      "\n",
      "A value is trying to be set on a copy of a slice from a DataFrame.\n",
      "Try using .loc[row_indexer,col_indexer] = value instead\n",
      "\n",
      "See the caveats in the documentation: https://pandas.pydata.org/pandas-docs/stable/user_guide/indexing.html#returning-a-view-versus-a-copy\n",
      "\n"
     ]
    },
    {
     "name": "stdout",
     "output_type": "stream",
     "text": [
      "14788\n"
     ]
    },
    {
     "name": "stderr",
     "output_type": "stream",
     "text": [
      "/var/folders/8g/rym67m5d29dcjm2td47sgb_m0000gn/T/ipykernel_29122/413030651.py:16: FutureWarning:\n",
      "\n",
      "Passing 'suffixes' which cause duplicate columns {'type_geo_y'} in the result is deprecated and will raise a MergeError in a future version.\n",
      "\n",
      "/opt/homebrew/Caskroom/miniforge/base/envs/py3/lib/python3.9/site-packages/sklearn/neighbors/_classification.py:198: DataConversionWarning:\n",
      "\n",
      "A column-vector y was passed when a 1d array was expected. Please change the shape of y to (n_samples,), for example using ravel().\n",
      "\n",
      "/var/folders/8g/rym67m5d29dcjm2td47sgb_m0000gn/T/ipykernel_29122/413030651.py:25: SettingWithCopyWarning:\n",
      "\n",
      "\n",
      "A value is trying to be set on a copy of a slice from a DataFrame.\n",
      "Try using .loc[row_indexer,col_indexer] = value instead\n",
      "\n",
      "See the caveats in the documentation: https://pandas.pydata.org/pandas-docs/stable/user_guide/indexing.html#returning-a-view-versus-a-copy\n",
      "\n",
      "/var/folders/8g/rym67m5d29dcjm2td47sgb_m0000gn/T/ipykernel_29122/413030651.py:16: FutureWarning:\n",
      "\n",
      "Passing 'suffixes' which cause duplicate columns {'Z_y', 'type_geo_y'} in the result is deprecated and will raise a MergeError in a future version.\n",
      "\n"
     ]
    },
    {
     "name": "stdout",
     "output_type": "stream",
     "text": [
      "17296\n"
     ]
    },
    {
     "name": "stderr",
     "output_type": "stream",
     "text": [
      "/opt/homebrew/Caskroom/miniforge/base/envs/py3/lib/python3.9/site-packages/sklearn/neighbors/_classification.py:198: DataConversionWarning:\n",
      "\n",
      "A column-vector y was passed when a 1d array was expected. Please change the shape of y to (n_samples,), for example using ravel().\n",
      "\n",
      "/var/folders/8g/rym67m5d29dcjm2td47sgb_m0000gn/T/ipykernel_29122/413030651.py:25: SettingWithCopyWarning:\n",
      "\n",
      "\n",
      "A value is trying to be set on a copy of a slice from a DataFrame.\n",
      "Try using .loc[row_indexer,col_indexer] = value instead\n",
      "\n",
      "See the caveats in the documentation: https://pandas.pydata.org/pandas-docs/stable/user_guide/indexing.html#returning-a-view-versus-a-copy\n",
      "\n"
     ]
    },
    {
     "name": "stdout",
     "output_type": "stream",
     "text": [
      "14788\n"
     ]
    },
    {
     "name": "stderr",
     "output_type": "stream",
     "text": [
      "/var/folders/8g/rym67m5d29dcjm2td47sgb_m0000gn/T/ipykernel_29122/413030651.py:16: FutureWarning:\n",
      "\n",
      "Passing 'suffixes' which cause duplicate columns {'type_geo_y'} in the result is deprecated and will raise a MergeError in a future version.\n",
      "\n",
      "/opt/homebrew/Caskroom/miniforge/base/envs/py3/lib/python3.9/site-packages/sklearn/neighbors/_classification.py:198: DataConversionWarning:\n",
      "\n",
      "A column-vector y was passed when a 1d array was expected. Please change the shape of y to (n_samples,), for example using ravel().\n",
      "\n",
      "/var/folders/8g/rym67m5d29dcjm2td47sgb_m0000gn/T/ipykernel_29122/413030651.py:25: SettingWithCopyWarning:\n",
      "\n",
      "\n",
      "A value is trying to be set on a copy of a slice from a DataFrame.\n",
      "Try using .loc[row_indexer,col_indexer] = value instead\n",
      "\n",
      "See the caveats in the documentation: https://pandas.pydata.org/pandas-docs/stable/user_guide/indexing.html#returning-a-view-versus-a-copy\n",
      "\n"
     ]
    },
    {
     "name": "stdout",
     "output_type": "stream",
     "text": [
      "17296\n"
     ]
    },
    {
     "name": "stderr",
     "output_type": "stream",
     "text": [
      "/var/folders/8g/rym67m5d29dcjm2td47sgb_m0000gn/T/ipykernel_29122/413030651.py:16: FutureWarning:\n",
      "\n",
      "Passing 'suffixes' which cause duplicate columns {'Z_y', 'type_geo_y'} in the result is deprecated and will raise a MergeError in a future version.\n",
      "\n",
      "/opt/homebrew/Caskroom/miniforge/base/envs/py3/lib/python3.9/site-packages/sklearn/neighbors/_classification.py:198: DataConversionWarning:\n",
      "\n",
      "A column-vector y was passed when a 1d array was expected. Please change the shape of y to (n_samples,), for example using ravel().\n",
      "\n",
      "/var/folders/8g/rym67m5d29dcjm2td47sgb_m0000gn/T/ipykernel_29122/413030651.py:25: SettingWithCopyWarning:\n",
      "\n",
      "\n",
      "A value is trying to be set on a copy of a slice from a DataFrame.\n",
      "Try using .loc[row_indexer,col_indexer] = value instead\n",
      "\n",
      "See the caveats in the documentation: https://pandas.pydata.org/pandas-docs/stable/user_guide/indexing.html#returning-a-view-versus-a-copy\n",
      "\n"
     ]
    },
    {
     "name": "stdout",
     "output_type": "stream",
     "text": [
      "14788\n"
     ]
    },
    {
     "name": "stderr",
     "output_type": "stream",
     "text": [
      "/var/folders/8g/rym67m5d29dcjm2td47sgb_m0000gn/T/ipykernel_29122/413030651.py:16: FutureWarning:\n",
      "\n",
      "Passing 'suffixes' which cause duplicate columns {'type_geo_y'} in the result is deprecated and will raise a MergeError in a future version.\n",
      "\n",
      "/opt/homebrew/Caskroom/miniforge/base/envs/py3/lib/python3.9/site-packages/sklearn/neighbors/_classification.py:198: DataConversionWarning:\n",
      "\n",
      "A column-vector y was passed when a 1d array was expected. Please change the shape of y to (n_samples,), for example using ravel().\n",
      "\n",
      "/var/folders/8g/rym67m5d29dcjm2td47sgb_m0000gn/T/ipykernel_29122/413030651.py:25: SettingWithCopyWarning:\n",
      "\n",
      "\n",
      "A value is trying to be set on a copy of a slice from a DataFrame.\n",
      "Try using .loc[row_indexer,col_indexer] = value instead\n",
      "\n",
      "See the caveats in the documentation: https://pandas.pydata.org/pandas-docs/stable/user_guide/indexing.html#returning-a-view-versus-a-copy\n",
      "\n"
     ]
    },
    {
     "name": "stdout",
     "output_type": "stream",
     "text": [
      "17296\n"
     ]
    },
    {
     "name": "stderr",
     "output_type": "stream",
     "text": [
      "/var/folders/8g/rym67m5d29dcjm2td47sgb_m0000gn/T/ipykernel_29122/413030651.py:16: FutureWarning:\n",
      "\n",
      "Passing 'suffixes' which cause duplicate columns {'Z_y', 'type_geo_y'} in the result is deprecated and will raise a MergeError in a future version.\n",
      "\n",
      "/opt/homebrew/Caskroom/miniforge/base/envs/py3/lib/python3.9/site-packages/sklearn/neighbors/_classification.py:198: DataConversionWarning:\n",
      "\n",
      "A column-vector y was passed when a 1d array was expected. Please change the shape of y to (n_samples,), for example using ravel().\n",
      "\n",
      "/var/folders/8g/rym67m5d29dcjm2td47sgb_m0000gn/T/ipykernel_29122/413030651.py:25: SettingWithCopyWarning:\n",
      "\n",
      "\n",
      "A value is trying to be set on a copy of a slice from a DataFrame.\n",
      "Try using .loc[row_indexer,col_indexer] = value instead\n",
      "\n",
      "See the caveats in the documentation: https://pandas.pydata.org/pandas-docs/stable/user_guide/indexing.html#returning-a-view-versus-a-copy\n",
      "\n"
     ]
    },
    {
     "name": "stdout",
     "output_type": "stream",
     "text": [
      "14788\n"
     ]
    },
    {
     "name": "stderr",
     "output_type": "stream",
     "text": [
      "/var/folders/8g/rym67m5d29dcjm2td47sgb_m0000gn/T/ipykernel_29122/413030651.py:16: FutureWarning:\n",
      "\n",
      "Passing 'suffixes' which cause duplicate columns {'type_geo_y'} in the result is deprecated and will raise a MergeError in a future version.\n",
      "\n",
      "/opt/homebrew/Caskroom/miniforge/base/envs/py3/lib/python3.9/site-packages/sklearn/neighbors/_classification.py:198: DataConversionWarning:\n",
      "\n",
      "A column-vector y was passed when a 1d array was expected. Please change the shape of y to (n_samples,), for example using ravel().\n",
      "\n",
      "/var/folders/8g/rym67m5d29dcjm2td47sgb_m0000gn/T/ipykernel_29122/413030651.py:25: SettingWithCopyWarning:\n",
      "\n",
      "\n",
      "A value is trying to be set on a copy of a slice from a DataFrame.\n",
      "Try using .loc[row_indexer,col_indexer] = value instead\n",
      "\n",
      "See the caveats in the documentation: https://pandas.pydata.org/pandas-docs/stable/user_guide/indexing.html#returning-a-view-versus-a-copy\n",
      "\n",
      "/var/folders/8g/rym67m5d29dcjm2td47sgb_m0000gn/T/ipykernel_29122/413030651.py:16: FutureWarning:\n",
      "\n",
      "Passing 'suffixes' which cause duplicate columns {'Z_y', 'type_geo_y'} in the result is deprecated and will raise a MergeError in a future version.\n",
      "\n"
     ]
    },
    {
     "name": "stdout",
     "output_type": "stream",
     "text": [
      "17296\n"
     ]
    },
    {
     "name": "stderr",
     "output_type": "stream",
     "text": [
      "/opt/homebrew/Caskroom/miniforge/base/envs/py3/lib/python3.9/site-packages/sklearn/neighbors/_classification.py:198: DataConversionWarning:\n",
      "\n",
      "A column-vector y was passed when a 1d array was expected. Please change the shape of y to (n_samples,), for example using ravel().\n",
      "\n",
      "/var/folders/8g/rym67m5d29dcjm2td47sgb_m0000gn/T/ipykernel_29122/413030651.py:25: SettingWithCopyWarning:\n",
      "\n",
      "\n",
      "A value is trying to be set on a copy of a slice from a DataFrame.\n",
      "Try using .loc[row_indexer,col_indexer] = value instead\n",
      "\n",
      "See the caveats in the documentation: https://pandas.pydata.org/pandas-docs/stable/user_guide/indexing.html#returning-a-view-versus-a-copy\n",
      "\n"
     ]
    },
    {
     "name": "stdout",
     "output_type": "stream",
     "text": [
      "14788\n"
     ]
    },
    {
     "name": "stderr",
     "output_type": "stream",
     "text": [
      "/var/folders/8g/rym67m5d29dcjm2td47sgb_m0000gn/T/ipykernel_29122/413030651.py:16: FutureWarning:\n",
      "\n",
      "Passing 'suffixes' which cause duplicate columns {'type_geo_y'} in the result is deprecated and will raise a MergeError in a future version.\n",
      "\n",
      "/opt/homebrew/Caskroom/miniforge/base/envs/py3/lib/python3.9/site-packages/sklearn/neighbors/_classification.py:198: DataConversionWarning:\n",
      "\n",
      "A column-vector y was passed when a 1d array was expected. Please change the shape of y to (n_samples,), for example using ravel().\n",
      "\n",
      "/var/folders/8g/rym67m5d29dcjm2td47sgb_m0000gn/T/ipykernel_29122/413030651.py:25: SettingWithCopyWarning:\n",
      "\n",
      "\n",
      "A value is trying to be set on a copy of a slice from a DataFrame.\n",
      "Try using .loc[row_indexer,col_indexer] = value instead\n",
      "\n",
      "See the caveats in the documentation: https://pandas.pydata.org/pandas-docs/stable/user_guide/indexing.html#returning-a-view-versus-a-copy\n",
      "\n"
     ]
    },
    {
     "name": "stdout",
     "output_type": "stream",
     "text": [
      "17296\n"
     ]
    },
    {
     "name": "stderr",
     "output_type": "stream",
     "text": [
      "/var/folders/8g/rym67m5d29dcjm2td47sgb_m0000gn/T/ipykernel_29122/413030651.py:16: FutureWarning:\n",
      "\n",
      "Passing 'suffixes' which cause duplicate columns {'Z_y', 'type_geo_y'} in the result is deprecated and will raise a MergeError in a future version.\n",
      "\n",
      "/opt/homebrew/Caskroom/miniforge/base/envs/py3/lib/python3.9/site-packages/sklearn/neighbors/_classification.py:198: DataConversionWarning:\n",
      "\n",
      "A column-vector y was passed when a 1d array was expected. Please change the shape of y to (n_samples,), for example using ravel().\n",
      "\n",
      "/var/folders/8g/rym67m5d29dcjm2td47sgb_m0000gn/T/ipykernel_29122/413030651.py:25: SettingWithCopyWarning:\n",
      "\n",
      "\n",
      "A value is trying to be set on a copy of a slice from a DataFrame.\n",
      "Try using .loc[row_indexer,col_indexer] = value instead\n",
      "\n",
      "See the caveats in the documentation: https://pandas.pydata.org/pandas-docs/stable/user_guide/indexing.html#returning-a-view-versus-a-copy\n",
      "\n"
     ]
    },
    {
     "name": "stdout",
     "output_type": "stream",
     "text": [
      "14788\n"
     ]
    },
    {
     "name": "stderr",
     "output_type": "stream",
     "text": [
      "/var/folders/8g/rym67m5d29dcjm2td47sgb_m0000gn/T/ipykernel_29122/413030651.py:16: FutureWarning:\n",
      "\n",
      "Passing 'suffixes' which cause duplicate columns {'type_geo_y'} in the result is deprecated and will raise a MergeError in a future version.\n",
      "\n",
      "/opt/homebrew/Caskroom/miniforge/base/envs/py3/lib/python3.9/site-packages/sklearn/neighbors/_classification.py:198: DataConversionWarning:\n",
      "\n",
      "A column-vector y was passed when a 1d array was expected. Please change the shape of y to (n_samples,), for example using ravel().\n",
      "\n",
      "/var/folders/8g/rym67m5d29dcjm2td47sgb_m0000gn/T/ipykernel_29122/413030651.py:25: SettingWithCopyWarning:\n",
      "\n",
      "\n",
      "A value is trying to be set on a copy of a slice from a DataFrame.\n",
      "Try using .loc[row_indexer,col_indexer] = value instead\n",
      "\n",
      "See the caveats in the documentation: https://pandas.pydata.org/pandas-docs/stable/user_guide/indexing.html#returning-a-view-versus-a-copy\n",
      "\n",
      "/var/folders/8g/rym67m5d29dcjm2td47sgb_m0000gn/T/ipykernel_29122/413030651.py:16: FutureWarning:\n",
      "\n",
      "Passing 'suffixes' which cause duplicate columns {'Z_y', 'type_geo_y'} in the result is deprecated and will raise a MergeError in a future version.\n",
      "\n"
     ]
    },
    {
     "name": "stdout",
     "output_type": "stream",
     "text": [
      "17296\n"
     ]
    },
    {
     "name": "stderr",
     "output_type": "stream",
     "text": [
      "/opt/homebrew/Caskroom/miniforge/base/envs/py3/lib/python3.9/site-packages/sklearn/neighbors/_classification.py:198: DataConversionWarning:\n",
      "\n",
      "A column-vector y was passed when a 1d array was expected. Please change the shape of y to (n_samples,), for example using ravel().\n",
      "\n",
      "/var/folders/8g/rym67m5d29dcjm2td47sgb_m0000gn/T/ipykernel_29122/413030651.py:25: SettingWithCopyWarning:\n",
      "\n",
      "\n",
      "A value is trying to be set on a copy of a slice from a DataFrame.\n",
      "Try using .loc[row_indexer,col_indexer] = value instead\n",
      "\n",
      "See the caveats in the documentation: https://pandas.pydata.org/pandas-docs/stable/user_guide/indexing.html#returning-a-view-versus-a-copy\n",
      "\n"
     ]
    },
    {
     "name": "stdout",
     "output_type": "stream",
     "text": [
      "14788\n"
     ]
    },
    {
     "name": "stderr",
     "output_type": "stream",
     "text": [
      "/var/folders/8g/rym67m5d29dcjm2td47sgb_m0000gn/T/ipykernel_29122/413030651.py:16: FutureWarning:\n",
      "\n",
      "Passing 'suffixes' which cause duplicate columns {'type_geo_y'} in the result is deprecated and will raise a MergeError in a future version.\n",
      "\n",
      "/opt/homebrew/Caskroom/miniforge/base/envs/py3/lib/python3.9/site-packages/sklearn/neighbors/_classification.py:198: DataConversionWarning:\n",
      "\n",
      "A column-vector y was passed when a 1d array was expected. Please change the shape of y to (n_samples,), for example using ravel().\n",
      "\n",
      "/var/folders/8g/rym67m5d29dcjm2td47sgb_m0000gn/T/ipykernel_29122/413030651.py:25: SettingWithCopyWarning:\n",
      "\n",
      "\n",
      "A value is trying to be set on a copy of a slice from a DataFrame.\n",
      "Try using .loc[row_indexer,col_indexer] = value instead\n",
      "\n",
      "See the caveats in the documentation: https://pandas.pydata.org/pandas-docs/stable/user_guide/indexing.html#returning-a-view-versus-a-copy\n",
      "\n"
     ]
    },
    {
     "name": "stdout",
     "output_type": "stream",
     "text": [
      "17296\n"
     ]
    },
    {
     "name": "stderr",
     "output_type": "stream",
     "text": [
      "/var/folders/8g/rym67m5d29dcjm2td47sgb_m0000gn/T/ipykernel_29122/413030651.py:16: FutureWarning:\n",
      "\n",
      "Passing 'suffixes' which cause duplicate columns {'Z_y', 'type_geo_y'} in the result is deprecated and will raise a MergeError in a future version.\n",
      "\n",
      "/opt/homebrew/Caskroom/miniforge/base/envs/py3/lib/python3.9/site-packages/sklearn/neighbors/_classification.py:198: DataConversionWarning:\n",
      "\n",
      "A column-vector y was passed when a 1d array was expected. Please change the shape of y to (n_samples,), for example using ravel().\n",
      "\n",
      "/var/folders/8g/rym67m5d29dcjm2td47sgb_m0000gn/T/ipykernel_29122/413030651.py:25: SettingWithCopyWarning:\n",
      "\n",
      "\n",
      "A value is trying to be set on a copy of a slice from a DataFrame.\n",
      "Try using .loc[row_indexer,col_indexer] = value instead\n",
      "\n",
      "See the caveats in the documentation: https://pandas.pydata.org/pandas-docs/stable/user_guide/indexing.html#returning-a-view-versus-a-copy\n",
      "\n"
     ]
    },
    {
     "name": "stdout",
     "output_type": "stream",
     "text": [
      "14788\n"
     ]
    },
    {
     "name": "stderr",
     "output_type": "stream",
     "text": [
      "/var/folders/8g/rym67m5d29dcjm2td47sgb_m0000gn/T/ipykernel_29122/413030651.py:16: FutureWarning:\n",
      "\n",
      "Passing 'suffixes' which cause duplicate columns {'type_geo_y'} in the result is deprecated and will raise a MergeError in a future version.\n",
      "\n",
      "/opt/homebrew/Caskroom/miniforge/base/envs/py3/lib/python3.9/site-packages/sklearn/neighbors/_classification.py:198: DataConversionWarning:\n",
      "\n",
      "A column-vector y was passed when a 1d array was expected. Please change the shape of y to (n_samples,), for example using ravel().\n",
      "\n",
      "/var/folders/8g/rym67m5d29dcjm2td47sgb_m0000gn/T/ipykernel_29122/413030651.py:25: SettingWithCopyWarning:\n",
      "\n",
      "\n",
      "A value is trying to be set on a copy of a slice from a DataFrame.\n",
      "Try using .loc[row_indexer,col_indexer] = value instead\n",
      "\n",
      "See the caveats in the documentation: https://pandas.pydata.org/pandas-docs/stable/user_guide/indexing.html#returning-a-view-versus-a-copy\n",
      "\n",
      "/var/folders/8g/rym67m5d29dcjm2td47sgb_m0000gn/T/ipykernel_29122/413030651.py:16: FutureWarning:\n",
      "\n",
      "Passing 'suffixes' which cause duplicate columns {'Z_y', 'type_geo_y'} in the result is deprecated and will raise a MergeError in a future version.\n",
      "\n"
     ]
    },
    {
     "name": "stdout",
     "output_type": "stream",
     "text": [
      "17296\n"
     ]
    },
    {
     "name": "stderr",
     "output_type": "stream",
     "text": [
      "/opt/homebrew/Caskroom/miniforge/base/envs/py3/lib/python3.9/site-packages/sklearn/neighbors/_classification.py:198: DataConversionWarning:\n",
      "\n",
      "A column-vector y was passed when a 1d array was expected. Please change the shape of y to (n_samples,), for example using ravel().\n",
      "\n",
      "/var/folders/8g/rym67m5d29dcjm2td47sgb_m0000gn/T/ipykernel_29122/413030651.py:25: SettingWithCopyWarning:\n",
      "\n",
      "\n",
      "A value is trying to be set on a copy of a slice from a DataFrame.\n",
      "Try using .loc[row_indexer,col_indexer] = value instead\n",
      "\n",
      "See the caveats in the documentation: https://pandas.pydata.org/pandas-docs/stable/user_guide/indexing.html#returning-a-view-versus-a-copy\n",
      "\n"
     ]
    },
    {
     "name": "stdout",
     "output_type": "stream",
     "text": [
      "14788\n"
     ]
    },
    {
     "name": "stderr",
     "output_type": "stream",
     "text": [
      "/var/folders/8g/rym67m5d29dcjm2td47sgb_m0000gn/T/ipykernel_29122/413030651.py:16: FutureWarning:\n",
      "\n",
      "Passing 'suffixes' which cause duplicate columns {'type_geo_y'} in the result is deprecated and will raise a MergeError in a future version.\n",
      "\n",
      "/opt/homebrew/Caskroom/miniforge/base/envs/py3/lib/python3.9/site-packages/sklearn/neighbors/_classification.py:198: DataConversionWarning:\n",
      "\n",
      "A column-vector y was passed when a 1d array was expected. Please change the shape of y to (n_samples,), for example using ravel().\n",
      "\n",
      "/var/folders/8g/rym67m5d29dcjm2td47sgb_m0000gn/T/ipykernel_29122/413030651.py:25: SettingWithCopyWarning:\n",
      "\n",
      "\n",
      "A value is trying to be set on a copy of a slice from a DataFrame.\n",
      "Try using .loc[row_indexer,col_indexer] = value instead\n",
      "\n",
      "See the caveats in the documentation: https://pandas.pydata.org/pandas-docs/stable/user_guide/indexing.html#returning-a-view-versus-a-copy\n",
      "\n"
     ]
    },
    {
     "name": "stdout",
     "output_type": "stream",
     "text": [
      "17296\n"
     ]
    },
    {
     "name": "stderr",
     "output_type": "stream",
     "text": [
      "/var/folders/8g/rym67m5d29dcjm2td47sgb_m0000gn/T/ipykernel_29122/413030651.py:16: FutureWarning:\n",
      "\n",
      "Passing 'suffixes' which cause duplicate columns {'Z_y', 'type_geo_y'} in the result is deprecated and will raise a MergeError in a future version.\n",
      "\n",
      "/opt/homebrew/Caskroom/miniforge/base/envs/py3/lib/python3.9/site-packages/sklearn/neighbors/_classification.py:198: DataConversionWarning:\n",
      "\n",
      "A column-vector y was passed when a 1d array was expected. Please change the shape of y to (n_samples,), for example using ravel().\n",
      "\n",
      "/var/folders/8g/rym67m5d29dcjm2td47sgb_m0000gn/T/ipykernel_29122/413030651.py:25: SettingWithCopyWarning:\n",
      "\n",
      "\n",
      "A value is trying to be set on a copy of a slice from a DataFrame.\n",
      "Try using .loc[row_indexer,col_indexer] = value instead\n",
      "\n",
      "See the caveats in the documentation: https://pandas.pydata.org/pandas-docs/stable/user_guide/indexing.html#returning-a-view-versus-a-copy\n",
      "\n"
     ]
    },
    {
     "name": "stdout",
     "output_type": "stream",
     "text": [
      "14788\n"
     ]
    },
    {
     "name": "stderr",
     "output_type": "stream",
     "text": [
      "/var/folders/8g/rym67m5d29dcjm2td47sgb_m0000gn/T/ipykernel_29122/413030651.py:16: FutureWarning:\n",
      "\n",
      "Passing 'suffixes' which cause duplicate columns {'type_geo_y'} in the result is deprecated and will raise a MergeError in a future version.\n",
      "\n",
      "/opt/homebrew/Caskroom/miniforge/base/envs/py3/lib/python3.9/site-packages/sklearn/neighbors/_classification.py:198: DataConversionWarning:\n",
      "\n",
      "A column-vector y was passed when a 1d array was expected. Please change the shape of y to (n_samples,), for example using ravel().\n",
      "\n",
      "/var/folders/8g/rym67m5d29dcjm2td47sgb_m0000gn/T/ipykernel_29122/413030651.py:25: SettingWithCopyWarning:\n",
      "\n",
      "\n",
      "A value is trying to be set on a copy of a slice from a DataFrame.\n",
      "Try using .loc[row_indexer,col_indexer] = value instead\n",
      "\n",
      "See the caveats in the documentation: https://pandas.pydata.org/pandas-docs/stable/user_guide/indexing.html#returning-a-view-versus-a-copy\n",
      "\n"
     ]
    },
    {
     "name": "stdout",
     "output_type": "stream",
     "text": [
      "17296\n"
     ]
    },
    {
     "name": "stderr",
     "output_type": "stream",
     "text": [
      "/var/folders/8g/rym67m5d29dcjm2td47sgb_m0000gn/T/ipykernel_29122/413030651.py:16: FutureWarning:\n",
      "\n",
      "Passing 'suffixes' which cause duplicate columns {'Z_y', 'type_geo_y'} in the result is deprecated and will raise a MergeError in a future version.\n",
      "\n",
      "/opt/homebrew/Caskroom/miniforge/base/envs/py3/lib/python3.9/site-packages/sklearn/neighbors/_classification.py:198: DataConversionWarning:\n",
      "\n",
      "A column-vector y was passed when a 1d array was expected. Please change the shape of y to (n_samples,), for example using ravel().\n",
      "\n",
      "/var/folders/8g/rym67m5d29dcjm2td47sgb_m0000gn/T/ipykernel_29122/413030651.py:25: SettingWithCopyWarning:\n",
      "\n",
      "\n",
      "A value is trying to be set on a copy of a slice from a DataFrame.\n",
      "Try using .loc[row_indexer,col_indexer] = value instead\n",
      "\n",
      "See the caveats in the documentation: https://pandas.pydata.org/pandas-docs/stable/user_guide/indexing.html#returning-a-view-versus-a-copy\n",
      "\n"
     ]
    },
    {
     "name": "stdout",
     "output_type": "stream",
     "text": [
      "14788\n"
     ]
    },
    {
     "name": "stderr",
     "output_type": "stream",
     "text": [
      "/var/folders/8g/rym67m5d29dcjm2td47sgb_m0000gn/T/ipykernel_29122/413030651.py:16: FutureWarning:\n",
      "\n",
      "Passing 'suffixes' which cause duplicate columns {'type_geo_y'} in the result is deprecated and will raise a MergeError in a future version.\n",
      "\n",
      "/opt/homebrew/Caskroom/miniforge/base/envs/py3/lib/python3.9/site-packages/sklearn/neighbors/_classification.py:198: DataConversionWarning:\n",
      "\n",
      "A column-vector y was passed when a 1d array was expected. Please change the shape of y to (n_samples,), for example using ravel().\n",
      "\n",
      "/var/folders/8g/rym67m5d29dcjm2td47sgb_m0000gn/T/ipykernel_29122/413030651.py:25: SettingWithCopyWarning:\n",
      "\n",
      "\n",
      "A value is trying to be set on a copy of a slice from a DataFrame.\n",
      "Try using .loc[row_indexer,col_indexer] = value instead\n",
      "\n",
      "See the caveats in the documentation: https://pandas.pydata.org/pandas-docs/stable/user_guide/indexing.html#returning-a-view-versus-a-copy\n",
      "\n"
     ]
    },
    {
     "name": "stdout",
     "output_type": "stream",
     "text": [
      "17296\n"
     ]
    },
    {
     "name": "stderr",
     "output_type": "stream",
     "text": [
      "/var/folders/8g/rym67m5d29dcjm2td47sgb_m0000gn/T/ipykernel_29122/413030651.py:16: FutureWarning:\n",
      "\n",
      "Passing 'suffixes' which cause duplicate columns {'Z_y', 'type_geo_y'} in the result is deprecated and will raise a MergeError in a future version.\n",
      "\n",
      "/opt/homebrew/Caskroom/miniforge/base/envs/py3/lib/python3.9/site-packages/sklearn/neighbors/_classification.py:198: DataConversionWarning:\n",
      "\n",
      "A column-vector y was passed when a 1d array was expected. Please change the shape of y to (n_samples,), for example using ravel().\n",
      "\n",
      "/var/folders/8g/rym67m5d29dcjm2td47sgb_m0000gn/T/ipykernel_29122/413030651.py:25: SettingWithCopyWarning:\n",
      "\n",
      "\n",
      "A value is trying to be set on a copy of a slice from a DataFrame.\n",
      "Try using .loc[row_indexer,col_indexer] = value instead\n",
      "\n",
      "See the caveats in the documentation: https://pandas.pydata.org/pandas-docs/stable/user_guide/indexing.html#returning-a-view-versus-a-copy\n",
      "\n"
     ]
    },
    {
     "name": "stdout",
     "output_type": "stream",
     "text": [
      "14788\n"
     ]
    },
    {
     "name": "stderr",
     "output_type": "stream",
     "text": [
      "/var/folders/8g/rym67m5d29dcjm2td47sgb_m0000gn/T/ipykernel_29122/413030651.py:16: FutureWarning:\n",
      "\n",
      "Passing 'suffixes' which cause duplicate columns {'type_geo_y'} in the result is deprecated and will raise a MergeError in a future version.\n",
      "\n",
      "/opt/homebrew/Caskroom/miniforge/base/envs/py3/lib/python3.9/site-packages/sklearn/neighbors/_classification.py:198: DataConversionWarning:\n",
      "\n",
      "A column-vector y was passed when a 1d array was expected. Please change the shape of y to (n_samples,), for example using ravel().\n",
      "\n",
      "/var/folders/8g/rym67m5d29dcjm2td47sgb_m0000gn/T/ipykernel_29122/413030651.py:25: SettingWithCopyWarning:\n",
      "\n",
      "\n",
      "A value is trying to be set on a copy of a slice from a DataFrame.\n",
      "Try using .loc[row_indexer,col_indexer] = value instead\n",
      "\n",
      "See the caveats in the documentation: https://pandas.pydata.org/pandas-docs/stable/user_guide/indexing.html#returning-a-view-versus-a-copy\n",
      "\n"
     ]
    },
    {
     "name": "stdout",
     "output_type": "stream",
     "text": [
      "17296\n"
     ]
    },
    {
     "name": "stderr",
     "output_type": "stream",
     "text": [
      "/var/folders/8g/rym67m5d29dcjm2td47sgb_m0000gn/T/ipykernel_29122/413030651.py:16: FutureWarning:\n",
      "\n",
      "Passing 'suffixes' which cause duplicate columns {'Z_y', 'type_geo_y'} in the result is deprecated and will raise a MergeError in a future version.\n",
      "\n",
      "/opt/homebrew/Caskroom/miniforge/base/envs/py3/lib/python3.9/site-packages/sklearn/neighbors/_classification.py:198: DataConversionWarning:\n",
      "\n",
      "A column-vector y was passed when a 1d array was expected. Please change the shape of y to (n_samples,), for example using ravel().\n",
      "\n",
      "/var/folders/8g/rym67m5d29dcjm2td47sgb_m0000gn/T/ipykernel_29122/413030651.py:25: SettingWithCopyWarning:\n",
      "\n",
      "\n",
      "A value is trying to be set on a copy of a slice from a DataFrame.\n",
      "Try using .loc[row_indexer,col_indexer] = value instead\n",
      "\n",
      "See the caveats in the documentation: https://pandas.pydata.org/pandas-docs/stable/user_guide/indexing.html#returning-a-view-versus-a-copy\n",
      "\n"
     ]
    },
    {
     "name": "stdout",
     "output_type": "stream",
     "text": [
      "14788\n"
     ]
    },
    {
     "name": "stderr",
     "output_type": "stream",
     "text": [
      "/var/folders/8g/rym67m5d29dcjm2td47sgb_m0000gn/T/ipykernel_29122/413030651.py:16: FutureWarning:\n",
      "\n",
      "Passing 'suffixes' which cause duplicate columns {'type_geo_y'} in the result is deprecated and will raise a MergeError in a future version.\n",
      "\n",
      "/opt/homebrew/Caskroom/miniforge/base/envs/py3/lib/python3.9/site-packages/sklearn/neighbors/_classification.py:198: DataConversionWarning:\n",
      "\n",
      "A column-vector y was passed when a 1d array was expected. Please change the shape of y to (n_samples,), for example using ravel().\n",
      "\n",
      "/var/folders/8g/rym67m5d29dcjm2td47sgb_m0000gn/T/ipykernel_29122/413030651.py:25: SettingWithCopyWarning:\n",
      "\n",
      "\n",
      "A value is trying to be set on a copy of a slice from a DataFrame.\n",
      "Try using .loc[row_indexer,col_indexer] = value instead\n",
      "\n",
      "See the caveats in the documentation: https://pandas.pydata.org/pandas-docs/stable/user_guide/indexing.html#returning-a-view-versus-a-copy\n",
      "\n",
      "/var/folders/8g/rym67m5d29dcjm2td47sgb_m0000gn/T/ipykernel_29122/413030651.py:16: FutureWarning:\n",
      "\n",
      "Passing 'suffixes' which cause duplicate columns {'Z_y', 'type_geo_y'} in the result is deprecated and will raise a MergeError in a future version.\n",
      "\n"
     ]
    },
    {
     "name": "stdout",
     "output_type": "stream",
     "text": [
      "17296\n"
     ]
    },
    {
     "name": "stderr",
     "output_type": "stream",
     "text": [
      "/opt/homebrew/Caskroom/miniforge/base/envs/py3/lib/python3.9/site-packages/sklearn/neighbors/_classification.py:198: DataConversionWarning:\n",
      "\n",
      "A column-vector y was passed when a 1d array was expected. Please change the shape of y to (n_samples,), for example using ravel().\n",
      "\n",
      "/var/folders/8g/rym67m5d29dcjm2td47sgb_m0000gn/T/ipykernel_29122/413030651.py:25: SettingWithCopyWarning:\n",
      "\n",
      "\n",
      "A value is trying to be set on a copy of a slice from a DataFrame.\n",
      "Try using .loc[row_indexer,col_indexer] = value instead\n",
      "\n",
      "See the caveats in the documentation: https://pandas.pydata.org/pandas-docs/stable/user_guide/indexing.html#returning-a-view-versus-a-copy\n",
      "\n"
     ]
    },
    {
     "name": "stdout",
     "output_type": "stream",
     "text": [
      "14788\n"
     ]
    },
    {
     "name": "stderr",
     "output_type": "stream",
     "text": [
      "/var/folders/8g/rym67m5d29dcjm2td47sgb_m0000gn/T/ipykernel_29122/413030651.py:16: FutureWarning:\n",
      "\n",
      "Passing 'suffixes' which cause duplicate columns {'type_geo_y'} in the result is deprecated and will raise a MergeError in a future version.\n",
      "\n",
      "/opt/homebrew/Caskroom/miniforge/base/envs/py3/lib/python3.9/site-packages/sklearn/neighbors/_classification.py:198: DataConversionWarning:\n",
      "\n",
      "A column-vector y was passed when a 1d array was expected. Please change the shape of y to (n_samples,), for example using ravel().\n",
      "\n",
      "/var/folders/8g/rym67m5d29dcjm2td47sgb_m0000gn/T/ipykernel_29122/413030651.py:25: SettingWithCopyWarning:\n",
      "\n",
      "\n",
      "A value is trying to be set on a copy of a slice from a DataFrame.\n",
      "Try using .loc[row_indexer,col_indexer] = value instead\n",
      "\n",
      "See the caveats in the documentation: https://pandas.pydata.org/pandas-docs/stable/user_guide/indexing.html#returning-a-view-versus-a-copy\n",
      "\n"
     ]
    },
    {
     "name": "stdout",
     "output_type": "stream",
     "text": [
      "17296\n"
     ]
    },
    {
     "name": "stderr",
     "output_type": "stream",
     "text": [
      "/var/folders/8g/rym67m5d29dcjm2td47sgb_m0000gn/T/ipykernel_29122/413030651.py:16: FutureWarning:\n",
      "\n",
      "Passing 'suffixes' which cause duplicate columns {'Z_y', 'type_geo_y'} in the result is deprecated and will raise a MergeError in a future version.\n",
      "\n",
      "/opt/homebrew/Caskroom/miniforge/base/envs/py3/lib/python3.9/site-packages/sklearn/neighbors/_classification.py:198: DataConversionWarning:\n",
      "\n",
      "A column-vector y was passed when a 1d array was expected. Please change the shape of y to (n_samples,), for example using ravel().\n",
      "\n",
      "/var/folders/8g/rym67m5d29dcjm2td47sgb_m0000gn/T/ipykernel_29122/413030651.py:25: SettingWithCopyWarning:\n",
      "\n",
      "\n",
      "A value is trying to be set on a copy of a slice from a DataFrame.\n",
      "Try using .loc[row_indexer,col_indexer] = value instead\n",
      "\n",
      "See the caveats in the documentation: https://pandas.pydata.org/pandas-docs/stable/user_guide/indexing.html#returning-a-view-versus-a-copy\n",
      "\n"
     ]
    },
    {
     "name": "stdout",
     "output_type": "stream",
     "text": [
      "14788\n"
     ]
    },
    {
     "name": "stderr",
     "output_type": "stream",
     "text": [
      "/var/folders/8g/rym67m5d29dcjm2td47sgb_m0000gn/T/ipykernel_29122/413030651.py:16: FutureWarning:\n",
      "\n",
      "Passing 'suffixes' which cause duplicate columns {'type_geo_y'} in the result is deprecated and will raise a MergeError in a future version.\n",
      "\n",
      "/opt/homebrew/Caskroom/miniforge/base/envs/py3/lib/python3.9/site-packages/sklearn/neighbors/_classification.py:198: DataConversionWarning:\n",
      "\n",
      "A column-vector y was passed when a 1d array was expected. Please change the shape of y to (n_samples,), for example using ravel().\n",
      "\n",
      "/var/folders/8g/rym67m5d29dcjm2td47sgb_m0000gn/T/ipykernel_29122/413030651.py:25: SettingWithCopyWarning:\n",
      "\n",
      "\n",
      "A value is trying to be set on a copy of a slice from a DataFrame.\n",
      "Try using .loc[row_indexer,col_indexer] = value instead\n",
      "\n",
      "See the caveats in the documentation: https://pandas.pydata.org/pandas-docs/stable/user_guide/indexing.html#returning-a-view-versus-a-copy\n",
      "\n",
      "/var/folders/8g/rym67m5d29dcjm2td47sgb_m0000gn/T/ipykernel_29122/413030651.py:16: FutureWarning:\n",
      "\n",
      "Passing 'suffixes' which cause duplicate columns {'Z_y', 'type_geo_y'} in the result is deprecated and will raise a MergeError in a future version.\n",
      "\n"
     ]
    },
    {
     "name": "stdout",
     "output_type": "stream",
     "text": [
      "17296\n"
     ]
    },
    {
     "name": "stderr",
     "output_type": "stream",
     "text": [
      "/opt/homebrew/Caskroom/miniforge/base/envs/py3/lib/python3.9/site-packages/sklearn/neighbors/_classification.py:198: DataConversionWarning:\n",
      "\n",
      "A column-vector y was passed when a 1d array was expected. Please change the shape of y to (n_samples,), for example using ravel().\n",
      "\n",
      "/var/folders/8g/rym67m5d29dcjm2td47sgb_m0000gn/T/ipykernel_29122/413030651.py:25: SettingWithCopyWarning:\n",
      "\n",
      "\n",
      "A value is trying to be set on a copy of a slice from a DataFrame.\n",
      "Try using .loc[row_indexer,col_indexer] = value instead\n",
      "\n",
      "See the caveats in the documentation: https://pandas.pydata.org/pandas-docs/stable/user_guide/indexing.html#returning-a-view-versus-a-copy\n",
      "\n"
     ]
    },
    {
     "name": "stdout",
     "output_type": "stream",
     "text": [
      "14788\n"
     ]
    },
    {
     "name": "stderr",
     "output_type": "stream",
     "text": [
      "/var/folders/8g/rym67m5d29dcjm2td47sgb_m0000gn/T/ipykernel_29122/413030651.py:16: FutureWarning:\n",
      "\n",
      "Passing 'suffixes' which cause duplicate columns {'type_geo_y'} in the result is deprecated and will raise a MergeError in a future version.\n",
      "\n",
      "/opt/homebrew/Caskroom/miniforge/base/envs/py3/lib/python3.9/site-packages/sklearn/neighbors/_classification.py:198: DataConversionWarning:\n",
      "\n",
      "A column-vector y was passed when a 1d array was expected. Please change the shape of y to (n_samples,), for example using ravel().\n",
      "\n",
      "/var/folders/8g/rym67m5d29dcjm2td47sgb_m0000gn/T/ipykernel_29122/413030651.py:25: SettingWithCopyWarning:\n",
      "\n",
      "\n",
      "A value is trying to be set on a copy of a slice from a DataFrame.\n",
      "Try using .loc[row_indexer,col_indexer] = value instead\n",
      "\n",
      "See the caveats in the documentation: https://pandas.pydata.org/pandas-docs/stable/user_guide/indexing.html#returning-a-view-versus-a-copy\n",
      "\n",
      "/var/folders/8g/rym67m5d29dcjm2td47sgb_m0000gn/T/ipykernel_29122/413030651.py:16: FutureWarning:\n",
      "\n",
      "Passing 'suffixes' which cause duplicate columns {'Z_y', 'type_geo_y'} in the result is deprecated and will raise a MergeError in a future version.\n",
      "\n"
     ]
    },
    {
     "name": "stdout",
     "output_type": "stream",
     "text": [
      "17296\n"
     ]
    },
    {
     "name": "stderr",
     "output_type": "stream",
     "text": [
      "/opt/homebrew/Caskroom/miniforge/base/envs/py3/lib/python3.9/site-packages/sklearn/neighbors/_classification.py:198: DataConversionWarning:\n",
      "\n",
      "A column-vector y was passed when a 1d array was expected. Please change the shape of y to (n_samples,), for example using ravel().\n",
      "\n",
      "/var/folders/8g/rym67m5d29dcjm2td47sgb_m0000gn/T/ipykernel_29122/413030651.py:25: SettingWithCopyWarning:\n",
      "\n",
      "\n",
      "A value is trying to be set on a copy of a slice from a DataFrame.\n",
      "Try using .loc[row_indexer,col_indexer] = value instead\n",
      "\n",
      "See the caveats in the documentation: https://pandas.pydata.org/pandas-docs/stable/user_guide/indexing.html#returning-a-view-versus-a-copy\n",
      "\n"
     ]
    },
    {
     "name": "stdout",
     "output_type": "stream",
     "text": [
      "14788\n"
     ]
    },
    {
     "name": "stderr",
     "output_type": "stream",
     "text": [
      "/var/folders/8g/rym67m5d29dcjm2td47sgb_m0000gn/T/ipykernel_29122/413030651.py:16: FutureWarning:\n",
      "\n",
      "Passing 'suffixes' which cause duplicate columns {'type_geo_y'} in the result is deprecated and will raise a MergeError in a future version.\n",
      "\n",
      "/opt/homebrew/Caskroom/miniforge/base/envs/py3/lib/python3.9/site-packages/sklearn/neighbors/_classification.py:198: DataConversionWarning:\n",
      "\n",
      "A column-vector y was passed when a 1d array was expected. Please change the shape of y to (n_samples,), for example using ravel().\n",
      "\n",
      "/var/folders/8g/rym67m5d29dcjm2td47sgb_m0000gn/T/ipykernel_29122/413030651.py:25: SettingWithCopyWarning:\n",
      "\n",
      "\n",
      "A value is trying to be set on a copy of a slice from a DataFrame.\n",
      "Try using .loc[row_indexer,col_indexer] = value instead\n",
      "\n",
      "See the caveats in the documentation: https://pandas.pydata.org/pandas-docs/stable/user_guide/indexing.html#returning-a-view-versus-a-copy\n",
      "\n"
     ]
    },
    {
     "name": "stdout",
     "output_type": "stream",
     "text": [
      "17296\n"
     ]
    },
    {
     "name": "stderr",
     "output_type": "stream",
     "text": [
      "/var/folders/8g/rym67m5d29dcjm2td47sgb_m0000gn/T/ipykernel_29122/413030651.py:16: FutureWarning:\n",
      "\n",
      "Passing 'suffixes' which cause duplicate columns {'Z_y', 'type_geo_y'} in the result is deprecated and will raise a MergeError in a future version.\n",
      "\n",
      "/opt/homebrew/Caskroom/miniforge/base/envs/py3/lib/python3.9/site-packages/sklearn/neighbors/_classification.py:198: DataConversionWarning:\n",
      "\n",
      "A column-vector y was passed when a 1d array was expected. Please change the shape of y to (n_samples,), for example using ravel().\n",
      "\n",
      "/var/folders/8g/rym67m5d29dcjm2td47sgb_m0000gn/T/ipykernel_29122/413030651.py:25: SettingWithCopyWarning:\n",
      "\n",
      "\n",
      "A value is trying to be set on a copy of a slice from a DataFrame.\n",
      "Try using .loc[row_indexer,col_indexer] = value instead\n",
      "\n",
      "See the caveats in the documentation: https://pandas.pydata.org/pandas-docs/stable/user_guide/indexing.html#returning-a-view-versus-a-copy\n",
      "\n"
     ]
    },
    {
     "name": "stdout",
     "output_type": "stream",
     "text": [
      "14788\n"
     ]
    },
    {
     "name": "stderr",
     "output_type": "stream",
     "text": [
      "/var/folders/8g/rym67m5d29dcjm2td47sgb_m0000gn/T/ipykernel_29122/413030651.py:16: FutureWarning:\n",
      "\n",
      "Passing 'suffixes' which cause duplicate columns {'type_geo_y'} in the result is deprecated and will raise a MergeError in a future version.\n",
      "\n",
      "/opt/homebrew/Caskroom/miniforge/base/envs/py3/lib/python3.9/site-packages/sklearn/neighbors/_classification.py:198: DataConversionWarning:\n",
      "\n",
      "A column-vector y was passed when a 1d array was expected. Please change the shape of y to (n_samples,), for example using ravel().\n",
      "\n",
      "/var/folders/8g/rym67m5d29dcjm2td47sgb_m0000gn/T/ipykernel_29122/413030651.py:25: SettingWithCopyWarning:\n",
      "\n",
      "\n",
      "A value is trying to be set on a copy of a slice from a DataFrame.\n",
      "Try using .loc[row_indexer,col_indexer] = value instead\n",
      "\n",
      "See the caveats in the documentation: https://pandas.pydata.org/pandas-docs/stable/user_guide/indexing.html#returning-a-view-versus-a-copy\n",
      "\n",
      "/var/folders/8g/rym67m5d29dcjm2td47sgb_m0000gn/T/ipykernel_29122/413030651.py:16: FutureWarning:\n",
      "\n",
      "Passing 'suffixes' which cause duplicate columns {'Z_y', 'type_geo_y'} in the result is deprecated and will raise a MergeError in a future version.\n",
      "\n"
     ]
    },
    {
     "name": "stdout",
     "output_type": "stream",
     "text": [
      "17296\n"
     ]
    },
    {
     "name": "stderr",
     "output_type": "stream",
     "text": [
      "/opt/homebrew/Caskroom/miniforge/base/envs/py3/lib/python3.9/site-packages/sklearn/neighbors/_classification.py:198: DataConversionWarning:\n",
      "\n",
      "A column-vector y was passed when a 1d array was expected. Please change the shape of y to (n_samples,), for example using ravel().\n",
      "\n",
      "/var/folders/8g/rym67m5d29dcjm2td47sgb_m0000gn/T/ipykernel_29122/413030651.py:25: SettingWithCopyWarning:\n",
      "\n",
      "\n",
      "A value is trying to be set on a copy of a slice from a DataFrame.\n",
      "Try using .loc[row_indexer,col_indexer] = value instead\n",
      "\n",
      "See the caveats in the documentation: https://pandas.pydata.org/pandas-docs/stable/user_guide/indexing.html#returning-a-view-versus-a-copy\n",
      "\n"
     ]
    },
    {
     "name": "stdout",
     "output_type": "stream",
     "text": [
      "14788\n"
     ]
    },
    {
     "name": "stderr",
     "output_type": "stream",
     "text": [
      "/var/folders/8g/rym67m5d29dcjm2td47sgb_m0000gn/T/ipykernel_29122/413030651.py:16: FutureWarning:\n",
      "\n",
      "Passing 'suffixes' which cause duplicate columns {'type_geo_y'} in the result is deprecated and will raise a MergeError in a future version.\n",
      "\n",
      "/opt/homebrew/Caskroom/miniforge/base/envs/py3/lib/python3.9/site-packages/sklearn/neighbors/_classification.py:198: DataConversionWarning:\n",
      "\n",
      "A column-vector y was passed when a 1d array was expected. Please change the shape of y to (n_samples,), for example using ravel().\n",
      "\n",
      "/var/folders/8g/rym67m5d29dcjm2td47sgb_m0000gn/T/ipykernel_29122/413030651.py:25: SettingWithCopyWarning:\n",
      "\n",
      "\n",
      "A value is trying to be set on a copy of a slice from a DataFrame.\n",
      "Try using .loc[row_indexer,col_indexer] = value instead\n",
      "\n",
      "See the caveats in the documentation: https://pandas.pydata.org/pandas-docs/stable/user_guide/indexing.html#returning-a-view-versus-a-copy\n",
      "\n",
      "/var/folders/8g/rym67m5d29dcjm2td47sgb_m0000gn/T/ipykernel_29122/413030651.py:16: FutureWarning:\n",
      "\n",
      "Passing 'suffixes' which cause duplicate columns {'Z_y', 'type_geo_y'} in the result is deprecated and will raise a MergeError in a future version.\n",
      "\n"
     ]
    },
    {
     "name": "stdout",
     "output_type": "stream",
     "text": [
      "17296\n"
     ]
    },
    {
     "name": "stderr",
     "output_type": "stream",
     "text": [
      "/opt/homebrew/Caskroom/miniforge/base/envs/py3/lib/python3.9/site-packages/sklearn/neighbors/_classification.py:198: DataConversionWarning:\n",
      "\n",
      "A column-vector y was passed when a 1d array was expected. Please change the shape of y to (n_samples,), for example using ravel().\n",
      "\n",
      "/var/folders/8g/rym67m5d29dcjm2td47sgb_m0000gn/T/ipykernel_29122/413030651.py:25: SettingWithCopyWarning:\n",
      "\n",
      "\n",
      "A value is trying to be set on a copy of a slice from a DataFrame.\n",
      "Try using .loc[row_indexer,col_indexer] = value instead\n",
      "\n",
      "See the caveats in the documentation: https://pandas.pydata.org/pandas-docs/stable/user_guide/indexing.html#returning-a-view-versus-a-copy\n",
      "\n"
     ]
    },
    {
     "name": "stdout",
     "output_type": "stream",
     "text": [
      "14788\n"
     ]
    },
    {
     "name": "stderr",
     "output_type": "stream",
     "text": [
      "/var/folders/8g/rym67m5d29dcjm2td47sgb_m0000gn/T/ipykernel_29122/413030651.py:16: FutureWarning:\n",
      "\n",
      "Passing 'suffixes' which cause duplicate columns {'type_geo_y'} in the result is deprecated and will raise a MergeError in a future version.\n",
      "\n",
      "/opt/homebrew/Caskroom/miniforge/base/envs/py3/lib/python3.9/site-packages/sklearn/neighbors/_classification.py:198: DataConversionWarning:\n",
      "\n",
      "A column-vector y was passed when a 1d array was expected. Please change the shape of y to (n_samples,), for example using ravel().\n",
      "\n",
      "/var/folders/8g/rym67m5d29dcjm2td47sgb_m0000gn/T/ipykernel_29122/413030651.py:25: SettingWithCopyWarning:\n",
      "\n",
      "\n",
      "A value is trying to be set on a copy of a slice from a DataFrame.\n",
      "Try using .loc[row_indexer,col_indexer] = value instead\n",
      "\n",
      "See the caveats in the documentation: https://pandas.pydata.org/pandas-docs/stable/user_guide/indexing.html#returning-a-view-versus-a-copy\n",
      "\n"
     ]
    },
    {
     "name": "stdout",
     "output_type": "stream",
     "text": [
      "17296\n"
     ]
    },
    {
     "name": "stderr",
     "output_type": "stream",
     "text": [
      "/var/folders/8g/rym67m5d29dcjm2td47sgb_m0000gn/T/ipykernel_29122/413030651.py:16: FutureWarning:\n",
      "\n",
      "Passing 'suffixes' which cause duplicate columns {'Z_y', 'type_geo_y'} in the result is deprecated and will raise a MergeError in a future version.\n",
      "\n",
      "/opt/homebrew/Caskroom/miniforge/base/envs/py3/lib/python3.9/site-packages/sklearn/neighbors/_classification.py:198: DataConversionWarning:\n",
      "\n",
      "A column-vector y was passed when a 1d array was expected. Please change the shape of y to (n_samples,), for example using ravel().\n",
      "\n",
      "/var/folders/8g/rym67m5d29dcjm2td47sgb_m0000gn/T/ipykernel_29122/413030651.py:25: SettingWithCopyWarning:\n",
      "\n",
      "\n",
      "A value is trying to be set on a copy of a slice from a DataFrame.\n",
      "Try using .loc[row_indexer,col_indexer] = value instead\n",
      "\n",
      "See the caveats in the documentation: https://pandas.pydata.org/pandas-docs/stable/user_guide/indexing.html#returning-a-view-versus-a-copy\n",
      "\n"
     ]
    },
    {
     "name": "stdout",
     "output_type": "stream",
     "text": [
      "14788\n"
     ]
    },
    {
     "name": "stderr",
     "output_type": "stream",
     "text": [
      "/var/folders/8g/rym67m5d29dcjm2td47sgb_m0000gn/T/ipykernel_29122/413030651.py:16: FutureWarning:\n",
      "\n",
      "Passing 'suffixes' which cause duplicate columns {'type_geo_y'} in the result is deprecated and will raise a MergeError in a future version.\n",
      "\n",
      "/opt/homebrew/Caskroom/miniforge/base/envs/py3/lib/python3.9/site-packages/sklearn/neighbors/_classification.py:198: DataConversionWarning:\n",
      "\n",
      "A column-vector y was passed when a 1d array was expected. Please change the shape of y to (n_samples,), for example using ravel().\n",
      "\n",
      "/var/folders/8g/rym67m5d29dcjm2td47sgb_m0000gn/T/ipykernel_29122/413030651.py:25: SettingWithCopyWarning:\n",
      "\n",
      "\n",
      "A value is trying to be set on a copy of a slice from a DataFrame.\n",
      "Try using .loc[row_indexer,col_indexer] = value instead\n",
      "\n",
      "See the caveats in the documentation: https://pandas.pydata.org/pandas-docs/stable/user_guide/indexing.html#returning-a-view-versus-a-copy\n",
      "\n"
     ]
    },
    {
     "name": "stdout",
     "output_type": "stream",
     "text": [
      "17296\n"
     ]
    },
    {
     "name": "stderr",
     "output_type": "stream",
     "text": [
      "/var/folders/8g/rym67m5d29dcjm2td47sgb_m0000gn/T/ipykernel_29122/413030651.py:16: FutureWarning:\n",
      "\n",
      "Passing 'suffixes' which cause duplicate columns {'Z_y', 'type_geo_y'} in the result is deprecated and will raise a MergeError in a future version.\n",
      "\n",
      "/opt/homebrew/Caskroom/miniforge/base/envs/py3/lib/python3.9/site-packages/sklearn/neighbors/_classification.py:198: DataConversionWarning:\n",
      "\n",
      "A column-vector y was passed when a 1d array was expected. Please change the shape of y to (n_samples,), for example using ravel().\n",
      "\n",
      "/var/folders/8g/rym67m5d29dcjm2td47sgb_m0000gn/T/ipykernel_29122/413030651.py:25: SettingWithCopyWarning:\n",
      "\n",
      "\n",
      "A value is trying to be set on a copy of a slice from a DataFrame.\n",
      "Try using .loc[row_indexer,col_indexer] = value instead\n",
      "\n",
      "See the caveats in the documentation: https://pandas.pydata.org/pandas-docs/stable/user_guide/indexing.html#returning-a-view-versus-a-copy\n",
      "\n"
     ]
    },
    {
     "name": "stdout",
     "output_type": "stream",
     "text": [
      "14788\n"
     ]
    },
    {
     "name": "stderr",
     "output_type": "stream",
     "text": [
      "/var/folders/8g/rym67m5d29dcjm2td47sgb_m0000gn/T/ipykernel_29122/413030651.py:16: FutureWarning:\n",
      "\n",
      "Passing 'suffixes' which cause duplicate columns {'type_geo_y'} in the result is deprecated and will raise a MergeError in a future version.\n",
      "\n",
      "/opt/homebrew/Caskroom/miniforge/base/envs/py3/lib/python3.9/site-packages/sklearn/neighbors/_classification.py:198: DataConversionWarning:\n",
      "\n",
      "A column-vector y was passed when a 1d array was expected. Please change the shape of y to (n_samples,), for example using ravel().\n",
      "\n",
      "/var/folders/8g/rym67m5d29dcjm2td47sgb_m0000gn/T/ipykernel_29122/413030651.py:25: SettingWithCopyWarning:\n",
      "\n",
      "\n",
      "A value is trying to be set on a copy of a slice from a DataFrame.\n",
      "Try using .loc[row_indexer,col_indexer] = value instead\n",
      "\n",
      "See the caveats in the documentation: https://pandas.pydata.org/pandas-docs/stable/user_guide/indexing.html#returning-a-view-versus-a-copy\n",
      "\n"
     ]
    },
    {
     "name": "stdout",
     "output_type": "stream",
     "text": [
      "17296\n"
     ]
    },
    {
     "name": "stderr",
     "output_type": "stream",
     "text": [
      "/var/folders/8g/rym67m5d29dcjm2td47sgb_m0000gn/T/ipykernel_29122/413030651.py:16: FutureWarning:\n",
      "\n",
      "Passing 'suffixes' which cause duplicate columns {'Z_y', 'type_geo_y'} in the result is deprecated and will raise a MergeError in a future version.\n",
      "\n",
      "/opt/homebrew/Caskroom/miniforge/base/envs/py3/lib/python3.9/site-packages/sklearn/neighbors/_classification.py:198: DataConversionWarning:\n",
      "\n",
      "A column-vector y was passed when a 1d array was expected. Please change the shape of y to (n_samples,), for example using ravel().\n",
      "\n",
      "/var/folders/8g/rym67m5d29dcjm2td47sgb_m0000gn/T/ipykernel_29122/413030651.py:25: SettingWithCopyWarning:\n",
      "\n",
      "\n",
      "A value is trying to be set on a copy of a slice from a DataFrame.\n",
      "Try using .loc[row_indexer,col_indexer] = value instead\n",
      "\n",
      "See the caveats in the documentation: https://pandas.pydata.org/pandas-docs/stable/user_guide/indexing.html#returning-a-view-versus-a-copy\n",
      "\n"
     ]
    },
    {
     "name": "stdout",
     "output_type": "stream",
     "text": [
      "14788\n"
     ]
    },
    {
     "name": "stderr",
     "output_type": "stream",
     "text": [
      "/var/folders/8g/rym67m5d29dcjm2td47sgb_m0000gn/T/ipykernel_29122/413030651.py:16: FutureWarning:\n",
      "\n",
      "Passing 'suffixes' which cause duplicate columns {'type_geo_y'} in the result is deprecated and will raise a MergeError in a future version.\n",
      "\n",
      "/opt/homebrew/Caskroom/miniforge/base/envs/py3/lib/python3.9/site-packages/sklearn/neighbors/_classification.py:198: DataConversionWarning:\n",
      "\n",
      "A column-vector y was passed when a 1d array was expected. Please change the shape of y to (n_samples,), for example using ravel().\n",
      "\n",
      "/var/folders/8g/rym67m5d29dcjm2td47sgb_m0000gn/T/ipykernel_29122/413030651.py:25: SettingWithCopyWarning:\n",
      "\n",
      "\n",
      "A value is trying to be set on a copy of a slice from a DataFrame.\n",
      "Try using .loc[row_indexer,col_indexer] = value instead\n",
      "\n",
      "See the caveats in the documentation: https://pandas.pydata.org/pandas-docs/stable/user_guide/indexing.html#returning-a-view-versus-a-copy\n",
      "\n"
     ]
    },
    {
     "name": "stdout",
     "output_type": "stream",
     "text": [
      "17296\n"
     ]
    },
    {
     "name": "stderr",
     "output_type": "stream",
     "text": [
      "/var/folders/8g/rym67m5d29dcjm2td47sgb_m0000gn/T/ipykernel_29122/413030651.py:16: FutureWarning:\n",
      "\n",
      "Passing 'suffixes' which cause duplicate columns {'Z_y', 'type_geo_y'} in the result is deprecated and will raise a MergeError in a future version.\n",
      "\n",
      "/opt/homebrew/Caskroom/miniforge/base/envs/py3/lib/python3.9/site-packages/sklearn/neighbors/_classification.py:198: DataConversionWarning:\n",
      "\n",
      "A column-vector y was passed when a 1d array was expected. Please change the shape of y to (n_samples,), for example using ravel().\n",
      "\n",
      "/var/folders/8g/rym67m5d29dcjm2td47sgb_m0000gn/T/ipykernel_29122/413030651.py:25: SettingWithCopyWarning:\n",
      "\n",
      "\n",
      "A value is trying to be set on a copy of a slice from a DataFrame.\n",
      "Try using .loc[row_indexer,col_indexer] = value instead\n",
      "\n",
      "See the caveats in the documentation: https://pandas.pydata.org/pandas-docs/stable/user_guide/indexing.html#returning-a-view-versus-a-copy\n",
      "\n"
     ]
    },
    {
     "name": "stdout",
     "output_type": "stream",
     "text": [
      "14788\n"
     ]
    },
    {
     "name": "stderr",
     "output_type": "stream",
     "text": [
      "/var/folders/8g/rym67m5d29dcjm2td47sgb_m0000gn/T/ipykernel_29122/413030651.py:16: FutureWarning:\n",
      "\n",
      "Passing 'suffixes' which cause duplicate columns {'type_geo_y'} in the result is deprecated and will raise a MergeError in a future version.\n",
      "\n",
      "/opt/homebrew/Caskroom/miniforge/base/envs/py3/lib/python3.9/site-packages/sklearn/neighbors/_classification.py:198: DataConversionWarning:\n",
      "\n",
      "A column-vector y was passed when a 1d array was expected. Please change the shape of y to (n_samples,), for example using ravel().\n",
      "\n",
      "/var/folders/8g/rym67m5d29dcjm2td47sgb_m0000gn/T/ipykernel_29122/413030651.py:25: SettingWithCopyWarning:\n",
      "\n",
      "\n",
      "A value is trying to be set on a copy of a slice from a DataFrame.\n",
      "Try using .loc[row_indexer,col_indexer] = value instead\n",
      "\n",
      "See the caveats in the documentation: https://pandas.pydata.org/pandas-docs/stable/user_guide/indexing.html#returning-a-view-versus-a-copy\n",
      "\n"
     ]
    },
    {
     "name": "stdout",
     "output_type": "stream",
     "text": [
      "17296\n"
     ]
    },
    {
     "name": "stderr",
     "output_type": "stream",
     "text": [
      "/var/folders/8g/rym67m5d29dcjm2td47sgb_m0000gn/T/ipykernel_29122/413030651.py:16: FutureWarning:\n",
      "\n",
      "Passing 'suffixes' which cause duplicate columns {'Z_y', 'type_geo_y'} in the result is deprecated and will raise a MergeError in a future version.\n",
      "\n",
      "/opt/homebrew/Caskroom/miniforge/base/envs/py3/lib/python3.9/site-packages/sklearn/neighbors/_classification.py:198: DataConversionWarning:\n",
      "\n",
      "A column-vector y was passed when a 1d array was expected. Please change the shape of y to (n_samples,), for example using ravel().\n",
      "\n",
      "/var/folders/8g/rym67m5d29dcjm2td47sgb_m0000gn/T/ipykernel_29122/413030651.py:25: SettingWithCopyWarning:\n",
      "\n",
      "\n",
      "A value is trying to be set on a copy of a slice from a DataFrame.\n",
      "Try using .loc[row_indexer,col_indexer] = value instead\n",
      "\n",
      "See the caveats in the documentation: https://pandas.pydata.org/pandas-docs/stable/user_guide/indexing.html#returning-a-view-versus-a-copy\n",
      "\n"
     ]
    },
    {
     "name": "stdout",
     "output_type": "stream",
     "text": [
      "14788\n"
     ]
    },
    {
     "name": "stderr",
     "output_type": "stream",
     "text": [
      "/var/folders/8g/rym67m5d29dcjm2td47sgb_m0000gn/T/ipykernel_29122/413030651.py:16: FutureWarning:\n",
      "\n",
      "Passing 'suffixes' which cause duplicate columns {'type_geo_y'} in the result is deprecated and will raise a MergeError in a future version.\n",
      "\n",
      "/opt/homebrew/Caskroom/miniforge/base/envs/py3/lib/python3.9/site-packages/sklearn/neighbors/_classification.py:198: DataConversionWarning:\n",
      "\n",
      "A column-vector y was passed when a 1d array was expected. Please change the shape of y to (n_samples,), for example using ravel().\n",
      "\n",
      "/var/folders/8g/rym67m5d29dcjm2td47sgb_m0000gn/T/ipykernel_29122/413030651.py:25: SettingWithCopyWarning:\n",
      "\n",
      "\n",
      "A value is trying to be set on a copy of a slice from a DataFrame.\n",
      "Try using .loc[row_indexer,col_indexer] = value instead\n",
      "\n",
      "See the caveats in the documentation: https://pandas.pydata.org/pandas-docs/stable/user_guide/indexing.html#returning-a-view-versus-a-copy\n",
      "\n"
     ]
    },
    {
     "name": "stdout",
     "output_type": "stream",
     "text": [
      "17296\n"
     ]
    },
    {
     "name": "stderr",
     "output_type": "stream",
     "text": [
      "/var/folders/8g/rym67m5d29dcjm2td47sgb_m0000gn/T/ipykernel_29122/413030651.py:16: FutureWarning:\n",
      "\n",
      "Passing 'suffixes' which cause duplicate columns {'Z_y', 'type_geo_y'} in the result is deprecated and will raise a MergeError in a future version.\n",
      "\n",
      "/opt/homebrew/Caskroom/miniforge/base/envs/py3/lib/python3.9/site-packages/sklearn/neighbors/_classification.py:198: DataConversionWarning:\n",
      "\n",
      "A column-vector y was passed when a 1d array was expected. Please change the shape of y to (n_samples,), for example using ravel().\n",
      "\n",
      "/var/folders/8g/rym67m5d29dcjm2td47sgb_m0000gn/T/ipykernel_29122/413030651.py:25: SettingWithCopyWarning:\n",
      "\n",
      "\n",
      "A value is trying to be set on a copy of a slice from a DataFrame.\n",
      "Try using .loc[row_indexer,col_indexer] = value instead\n",
      "\n",
      "See the caveats in the documentation: https://pandas.pydata.org/pandas-docs/stable/user_guide/indexing.html#returning-a-view-versus-a-copy\n",
      "\n"
     ]
    },
    {
     "name": "stdout",
     "output_type": "stream",
     "text": [
      "14788\n"
     ]
    },
    {
     "name": "stderr",
     "output_type": "stream",
     "text": [
      "/var/folders/8g/rym67m5d29dcjm2td47sgb_m0000gn/T/ipykernel_29122/413030651.py:16: FutureWarning:\n",
      "\n",
      "Passing 'suffixes' which cause duplicate columns {'type_geo_y'} in the result is deprecated and will raise a MergeError in a future version.\n",
      "\n",
      "/opt/homebrew/Caskroom/miniforge/base/envs/py3/lib/python3.9/site-packages/sklearn/neighbors/_classification.py:198: DataConversionWarning:\n",
      "\n",
      "A column-vector y was passed when a 1d array was expected. Please change the shape of y to (n_samples,), for example using ravel().\n",
      "\n",
      "/var/folders/8g/rym67m5d29dcjm2td47sgb_m0000gn/T/ipykernel_29122/413030651.py:25: SettingWithCopyWarning:\n",
      "\n",
      "\n",
      "A value is trying to be set on a copy of a slice from a DataFrame.\n",
      "Try using .loc[row_indexer,col_indexer] = value instead\n",
      "\n",
      "See the caveats in the documentation: https://pandas.pydata.org/pandas-docs/stable/user_guide/indexing.html#returning-a-view-versus-a-copy\n",
      "\n"
     ]
    },
    {
     "name": "stdout",
     "output_type": "stream",
     "text": [
      "17296\n"
     ]
    },
    {
     "name": "stderr",
     "output_type": "stream",
     "text": [
      "/var/folders/8g/rym67m5d29dcjm2td47sgb_m0000gn/T/ipykernel_29122/413030651.py:16: FutureWarning:\n",
      "\n",
      "Passing 'suffixes' which cause duplicate columns {'Z_y', 'type_geo_y'} in the result is deprecated and will raise a MergeError in a future version.\n",
      "\n",
      "/opt/homebrew/Caskroom/miniforge/base/envs/py3/lib/python3.9/site-packages/sklearn/neighbors/_classification.py:198: DataConversionWarning:\n",
      "\n",
      "A column-vector y was passed when a 1d array was expected. Please change the shape of y to (n_samples,), for example using ravel().\n",
      "\n",
      "/var/folders/8g/rym67m5d29dcjm2td47sgb_m0000gn/T/ipykernel_29122/413030651.py:25: SettingWithCopyWarning:\n",
      "\n",
      "\n",
      "A value is trying to be set on a copy of a slice from a DataFrame.\n",
      "Try using .loc[row_indexer,col_indexer] = value instead\n",
      "\n",
      "See the caveats in the documentation: https://pandas.pydata.org/pandas-docs/stable/user_guide/indexing.html#returning-a-view-versus-a-copy\n",
      "\n"
     ]
    },
    {
     "name": "stdout",
     "output_type": "stream",
     "text": [
      "14788\n"
     ]
    },
    {
     "name": "stderr",
     "output_type": "stream",
     "text": [
      "/var/folders/8g/rym67m5d29dcjm2td47sgb_m0000gn/T/ipykernel_29122/413030651.py:16: FutureWarning:\n",
      "\n",
      "Passing 'suffixes' which cause duplicate columns {'type_geo_y'} in the result is deprecated and will raise a MergeError in a future version.\n",
      "\n",
      "/opt/homebrew/Caskroom/miniforge/base/envs/py3/lib/python3.9/site-packages/sklearn/neighbors/_classification.py:198: DataConversionWarning:\n",
      "\n",
      "A column-vector y was passed when a 1d array was expected. Please change the shape of y to (n_samples,), for example using ravel().\n",
      "\n",
      "/var/folders/8g/rym67m5d29dcjm2td47sgb_m0000gn/T/ipykernel_29122/413030651.py:25: SettingWithCopyWarning:\n",
      "\n",
      "\n",
      "A value is trying to be set on a copy of a slice from a DataFrame.\n",
      "Try using .loc[row_indexer,col_indexer] = value instead\n",
      "\n",
      "See the caveats in the documentation: https://pandas.pydata.org/pandas-docs/stable/user_guide/indexing.html#returning-a-view-versus-a-copy\n",
      "\n",
      "/var/folders/8g/rym67m5d29dcjm2td47sgb_m0000gn/T/ipykernel_29122/413030651.py:16: FutureWarning:\n",
      "\n",
      "Passing 'suffixes' which cause duplicate columns {'Z_y', 'type_geo_y'} in the result is deprecated and will raise a MergeError in a future version.\n",
      "\n"
     ]
    },
    {
     "name": "stdout",
     "output_type": "stream",
     "text": [
      "17296\n"
     ]
    },
    {
     "name": "stderr",
     "output_type": "stream",
     "text": [
      "/opt/homebrew/Caskroom/miniforge/base/envs/py3/lib/python3.9/site-packages/sklearn/neighbors/_classification.py:198: DataConversionWarning:\n",
      "\n",
      "A column-vector y was passed when a 1d array was expected. Please change the shape of y to (n_samples,), for example using ravel().\n",
      "\n",
      "/var/folders/8g/rym67m5d29dcjm2td47sgb_m0000gn/T/ipykernel_29122/413030651.py:25: SettingWithCopyWarning:\n",
      "\n",
      "\n",
      "A value is trying to be set on a copy of a slice from a DataFrame.\n",
      "Try using .loc[row_indexer,col_indexer] = value instead\n",
      "\n",
      "See the caveats in the documentation: https://pandas.pydata.org/pandas-docs/stable/user_guide/indexing.html#returning-a-view-versus-a-copy\n",
      "\n"
     ]
    },
    {
     "name": "stdout",
     "output_type": "stream",
     "text": [
      "14788\n"
     ]
    },
    {
     "name": "stderr",
     "output_type": "stream",
     "text": [
      "/var/folders/8g/rym67m5d29dcjm2td47sgb_m0000gn/T/ipykernel_29122/413030651.py:16: FutureWarning:\n",
      "\n",
      "Passing 'suffixes' which cause duplicate columns {'type_geo_y'} in the result is deprecated and will raise a MergeError in a future version.\n",
      "\n",
      "/opt/homebrew/Caskroom/miniforge/base/envs/py3/lib/python3.9/site-packages/sklearn/neighbors/_classification.py:198: DataConversionWarning:\n",
      "\n",
      "A column-vector y was passed when a 1d array was expected. Please change the shape of y to (n_samples,), for example using ravel().\n",
      "\n",
      "/var/folders/8g/rym67m5d29dcjm2td47sgb_m0000gn/T/ipykernel_29122/413030651.py:25: SettingWithCopyWarning:\n",
      "\n",
      "\n",
      "A value is trying to be set on a copy of a slice from a DataFrame.\n",
      "Try using .loc[row_indexer,col_indexer] = value instead\n",
      "\n",
      "See the caveats in the documentation: https://pandas.pydata.org/pandas-docs/stable/user_guide/indexing.html#returning-a-view-versus-a-copy\n",
      "\n"
     ]
    },
    {
     "name": "stdout",
     "output_type": "stream",
     "text": [
      "17296\n"
     ]
    },
    {
     "name": "stderr",
     "output_type": "stream",
     "text": [
      "/var/folders/8g/rym67m5d29dcjm2td47sgb_m0000gn/T/ipykernel_29122/413030651.py:16: FutureWarning:\n",
      "\n",
      "Passing 'suffixes' which cause duplicate columns {'Z_y', 'type_geo_y'} in the result is deprecated and will raise a MergeError in a future version.\n",
      "\n",
      "/opt/homebrew/Caskroom/miniforge/base/envs/py3/lib/python3.9/site-packages/sklearn/neighbors/_classification.py:198: DataConversionWarning:\n",
      "\n",
      "A column-vector y was passed when a 1d array was expected. Please change the shape of y to (n_samples,), for example using ravel().\n",
      "\n",
      "/var/folders/8g/rym67m5d29dcjm2td47sgb_m0000gn/T/ipykernel_29122/413030651.py:25: SettingWithCopyWarning:\n",
      "\n",
      "\n",
      "A value is trying to be set on a copy of a slice from a DataFrame.\n",
      "Try using .loc[row_indexer,col_indexer] = value instead\n",
      "\n",
      "See the caveats in the documentation: https://pandas.pydata.org/pandas-docs/stable/user_guide/indexing.html#returning-a-view-versus-a-copy\n",
      "\n"
     ]
    },
    {
     "name": "stdout",
     "output_type": "stream",
     "text": [
      "14788\n"
     ]
    },
    {
     "name": "stderr",
     "output_type": "stream",
     "text": [
      "/var/folders/8g/rym67m5d29dcjm2td47sgb_m0000gn/T/ipykernel_29122/413030651.py:16: FutureWarning:\n",
      "\n",
      "Passing 'suffixes' which cause duplicate columns {'type_geo_y'} in the result is deprecated and will raise a MergeError in a future version.\n",
      "\n",
      "/opt/homebrew/Caskroom/miniforge/base/envs/py3/lib/python3.9/site-packages/sklearn/neighbors/_classification.py:198: DataConversionWarning:\n",
      "\n",
      "A column-vector y was passed when a 1d array was expected. Please change the shape of y to (n_samples,), for example using ravel().\n",
      "\n",
      "/var/folders/8g/rym67m5d29dcjm2td47sgb_m0000gn/T/ipykernel_29122/413030651.py:25: SettingWithCopyWarning:\n",
      "\n",
      "\n",
      "A value is trying to be set on a copy of a slice from a DataFrame.\n",
      "Try using .loc[row_indexer,col_indexer] = value instead\n",
      "\n",
      "See the caveats in the documentation: https://pandas.pydata.org/pandas-docs/stable/user_guide/indexing.html#returning-a-view-versus-a-copy\n",
      "\n"
     ]
    },
    {
     "name": "stdout",
     "output_type": "stream",
     "text": [
      "17296\n"
     ]
    },
    {
     "name": "stderr",
     "output_type": "stream",
     "text": [
      "/var/folders/8g/rym67m5d29dcjm2td47sgb_m0000gn/T/ipykernel_29122/413030651.py:16: FutureWarning:\n",
      "\n",
      "Passing 'suffixes' which cause duplicate columns {'Z_y', 'type_geo_y'} in the result is deprecated and will raise a MergeError in a future version.\n",
      "\n",
      "/opt/homebrew/Caskroom/miniforge/base/envs/py3/lib/python3.9/site-packages/sklearn/neighbors/_classification.py:198: DataConversionWarning:\n",
      "\n",
      "A column-vector y was passed when a 1d array was expected. Please change the shape of y to (n_samples,), for example using ravel().\n",
      "\n",
      "/var/folders/8g/rym67m5d29dcjm2td47sgb_m0000gn/T/ipykernel_29122/413030651.py:25: SettingWithCopyWarning:\n",
      "\n",
      "\n",
      "A value is trying to be set on a copy of a slice from a DataFrame.\n",
      "Try using .loc[row_indexer,col_indexer] = value instead\n",
      "\n",
      "See the caveats in the documentation: https://pandas.pydata.org/pandas-docs/stable/user_guide/indexing.html#returning-a-view-versus-a-copy\n",
      "\n"
     ]
    },
    {
     "name": "stdout",
     "output_type": "stream",
     "text": [
      "14788\n"
     ]
    },
    {
     "name": "stderr",
     "output_type": "stream",
     "text": [
      "/var/folders/8g/rym67m5d29dcjm2td47sgb_m0000gn/T/ipykernel_29122/413030651.py:16: FutureWarning:\n",
      "\n",
      "Passing 'suffixes' which cause duplicate columns {'type_geo_y'} in the result is deprecated and will raise a MergeError in a future version.\n",
      "\n",
      "/opt/homebrew/Caskroom/miniforge/base/envs/py3/lib/python3.9/site-packages/sklearn/neighbors/_classification.py:198: DataConversionWarning:\n",
      "\n",
      "A column-vector y was passed when a 1d array was expected. Please change the shape of y to (n_samples,), for example using ravel().\n",
      "\n",
      "/var/folders/8g/rym67m5d29dcjm2td47sgb_m0000gn/T/ipykernel_29122/413030651.py:25: SettingWithCopyWarning:\n",
      "\n",
      "\n",
      "A value is trying to be set on a copy of a slice from a DataFrame.\n",
      "Try using .loc[row_indexer,col_indexer] = value instead\n",
      "\n",
      "See the caveats in the documentation: https://pandas.pydata.org/pandas-docs/stable/user_guide/indexing.html#returning-a-view-versus-a-copy\n",
      "\n",
      "/var/folders/8g/rym67m5d29dcjm2td47sgb_m0000gn/T/ipykernel_29122/413030651.py:16: FutureWarning:\n",
      "\n",
      "Passing 'suffixes' which cause duplicate columns {'Z_y', 'type_geo_y'} in the result is deprecated and will raise a MergeError in a future version.\n",
      "\n"
     ]
    },
    {
     "name": "stdout",
     "output_type": "stream",
     "text": [
      "17296\n"
     ]
    },
    {
     "name": "stderr",
     "output_type": "stream",
     "text": [
      "/opt/homebrew/Caskroom/miniforge/base/envs/py3/lib/python3.9/site-packages/sklearn/neighbors/_classification.py:198: DataConversionWarning:\n",
      "\n",
      "A column-vector y was passed when a 1d array was expected. Please change the shape of y to (n_samples,), for example using ravel().\n",
      "\n",
      "/var/folders/8g/rym67m5d29dcjm2td47sgb_m0000gn/T/ipykernel_29122/413030651.py:25: SettingWithCopyWarning:\n",
      "\n",
      "\n",
      "A value is trying to be set on a copy of a slice from a DataFrame.\n",
      "Try using .loc[row_indexer,col_indexer] = value instead\n",
      "\n",
      "See the caveats in the documentation: https://pandas.pydata.org/pandas-docs/stable/user_guide/indexing.html#returning-a-view-versus-a-copy\n",
      "\n"
     ]
    },
    {
     "name": "stdout",
     "output_type": "stream",
     "text": [
      "14788\n"
     ]
    },
    {
     "name": "stderr",
     "output_type": "stream",
     "text": [
      "/var/folders/8g/rym67m5d29dcjm2td47sgb_m0000gn/T/ipykernel_29122/413030651.py:16: FutureWarning:\n",
      "\n",
      "Passing 'suffixes' which cause duplicate columns {'type_geo_y'} in the result is deprecated and will raise a MergeError in a future version.\n",
      "\n",
      "/opt/homebrew/Caskroom/miniforge/base/envs/py3/lib/python3.9/site-packages/sklearn/neighbors/_classification.py:198: DataConversionWarning:\n",
      "\n",
      "A column-vector y was passed when a 1d array was expected. Please change the shape of y to (n_samples,), for example using ravel().\n",
      "\n",
      "/var/folders/8g/rym67m5d29dcjm2td47sgb_m0000gn/T/ipykernel_29122/413030651.py:25: SettingWithCopyWarning:\n",
      "\n",
      "\n",
      "A value is trying to be set on a copy of a slice from a DataFrame.\n",
      "Try using .loc[row_indexer,col_indexer] = value instead\n",
      "\n",
      "See the caveats in the documentation: https://pandas.pydata.org/pandas-docs/stable/user_guide/indexing.html#returning-a-view-versus-a-copy\n",
      "\n"
     ]
    },
    {
     "name": "stdout",
     "output_type": "stream",
     "text": [
      "17296\n"
     ]
    },
    {
     "name": "stderr",
     "output_type": "stream",
     "text": [
      "/var/folders/8g/rym67m5d29dcjm2td47sgb_m0000gn/T/ipykernel_29122/413030651.py:16: FutureWarning:\n",
      "\n",
      "Passing 'suffixes' which cause duplicate columns {'Z_y', 'type_geo_y'} in the result is deprecated and will raise a MergeError in a future version.\n",
      "\n",
      "/opt/homebrew/Caskroom/miniforge/base/envs/py3/lib/python3.9/site-packages/sklearn/neighbors/_classification.py:198: DataConversionWarning:\n",
      "\n",
      "A column-vector y was passed when a 1d array was expected. Please change the shape of y to (n_samples,), for example using ravel().\n",
      "\n",
      "/var/folders/8g/rym67m5d29dcjm2td47sgb_m0000gn/T/ipykernel_29122/413030651.py:25: SettingWithCopyWarning:\n",
      "\n",
      "\n",
      "A value is trying to be set on a copy of a slice from a DataFrame.\n",
      "Try using .loc[row_indexer,col_indexer] = value instead\n",
      "\n",
      "See the caveats in the documentation: https://pandas.pydata.org/pandas-docs/stable/user_guide/indexing.html#returning-a-view-versus-a-copy\n",
      "\n"
     ]
    },
    {
     "name": "stdout",
     "output_type": "stream",
     "text": [
      "14788\n"
     ]
    },
    {
     "name": "stderr",
     "output_type": "stream",
     "text": [
      "/var/folders/8g/rym67m5d29dcjm2td47sgb_m0000gn/T/ipykernel_29122/413030651.py:16: FutureWarning:\n",
      "\n",
      "Passing 'suffixes' which cause duplicate columns {'type_geo_y'} in the result is deprecated and will raise a MergeError in a future version.\n",
      "\n",
      "/opt/homebrew/Caskroom/miniforge/base/envs/py3/lib/python3.9/site-packages/sklearn/neighbors/_classification.py:198: DataConversionWarning:\n",
      "\n",
      "A column-vector y was passed when a 1d array was expected. Please change the shape of y to (n_samples,), for example using ravel().\n",
      "\n",
      "/var/folders/8g/rym67m5d29dcjm2td47sgb_m0000gn/T/ipykernel_29122/413030651.py:25: SettingWithCopyWarning:\n",
      "\n",
      "\n",
      "A value is trying to be set on a copy of a slice from a DataFrame.\n",
      "Try using .loc[row_indexer,col_indexer] = value instead\n",
      "\n",
      "See the caveats in the documentation: https://pandas.pydata.org/pandas-docs/stable/user_guide/indexing.html#returning-a-view-versus-a-copy\n",
      "\n"
     ]
    },
    {
     "name": "stdout",
     "output_type": "stream",
     "text": [
      "17296\n"
     ]
    },
    {
     "name": "stderr",
     "output_type": "stream",
     "text": [
      "/var/folders/8g/rym67m5d29dcjm2td47sgb_m0000gn/T/ipykernel_29122/413030651.py:16: FutureWarning:\n",
      "\n",
      "Passing 'suffixes' which cause duplicate columns {'Z_y', 'type_geo_y'} in the result is deprecated and will raise a MergeError in a future version.\n",
      "\n",
      "/opt/homebrew/Caskroom/miniforge/base/envs/py3/lib/python3.9/site-packages/sklearn/neighbors/_classification.py:198: DataConversionWarning:\n",
      "\n",
      "A column-vector y was passed when a 1d array was expected. Please change the shape of y to (n_samples,), for example using ravel().\n",
      "\n",
      "/var/folders/8g/rym67m5d29dcjm2td47sgb_m0000gn/T/ipykernel_29122/413030651.py:25: SettingWithCopyWarning:\n",
      "\n",
      "\n",
      "A value is trying to be set on a copy of a slice from a DataFrame.\n",
      "Try using .loc[row_indexer,col_indexer] = value instead\n",
      "\n",
      "See the caveats in the documentation: https://pandas.pydata.org/pandas-docs/stable/user_guide/indexing.html#returning-a-view-versus-a-copy\n",
      "\n"
     ]
    },
    {
     "name": "stdout",
     "output_type": "stream",
     "text": [
      "14788\n"
     ]
    },
    {
     "name": "stderr",
     "output_type": "stream",
     "text": [
      "/var/folders/8g/rym67m5d29dcjm2td47sgb_m0000gn/T/ipykernel_29122/413030651.py:16: FutureWarning:\n",
      "\n",
      "Passing 'suffixes' which cause duplicate columns {'type_geo_y'} in the result is deprecated and will raise a MergeError in a future version.\n",
      "\n",
      "/opt/homebrew/Caskroom/miniforge/base/envs/py3/lib/python3.9/site-packages/sklearn/neighbors/_classification.py:198: DataConversionWarning:\n",
      "\n",
      "A column-vector y was passed when a 1d array was expected. Please change the shape of y to (n_samples,), for example using ravel().\n",
      "\n",
      "/var/folders/8g/rym67m5d29dcjm2td47sgb_m0000gn/T/ipykernel_29122/413030651.py:25: SettingWithCopyWarning:\n",
      "\n",
      "\n",
      "A value is trying to be set on a copy of a slice from a DataFrame.\n",
      "Try using .loc[row_indexer,col_indexer] = value instead\n",
      "\n",
      "See the caveats in the documentation: https://pandas.pydata.org/pandas-docs/stable/user_guide/indexing.html#returning-a-view-versus-a-copy\n",
      "\n"
     ]
    },
    {
     "name": "stdout",
     "output_type": "stream",
     "text": [
      "17296\n"
     ]
    },
    {
     "name": "stderr",
     "output_type": "stream",
     "text": [
      "/var/folders/8g/rym67m5d29dcjm2td47sgb_m0000gn/T/ipykernel_29122/413030651.py:16: FutureWarning:\n",
      "\n",
      "Passing 'suffixes' which cause duplicate columns {'Z_y', 'type_geo_y'} in the result is deprecated and will raise a MergeError in a future version.\n",
      "\n",
      "/opt/homebrew/Caskroom/miniforge/base/envs/py3/lib/python3.9/site-packages/sklearn/neighbors/_classification.py:198: DataConversionWarning:\n",
      "\n",
      "A column-vector y was passed when a 1d array was expected. Please change the shape of y to (n_samples,), for example using ravel().\n",
      "\n",
      "/var/folders/8g/rym67m5d29dcjm2td47sgb_m0000gn/T/ipykernel_29122/413030651.py:25: SettingWithCopyWarning:\n",
      "\n",
      "\n",
      "A value is trying to be set on a copy of a slice from a DataFrame.\n",
      "Try using .loc[row_indexer,col_indexer] = value instead\n",
      "\n",
      "See the caveats in the documentation: https://pandas.pydata.org/pandas-docs/stable/user_guide/indexing.html#returning-a-view-versus-a-copy\n",
      "\n"
     ]
    },
    {
     "name": "stdout",
     "output_type": "stream",
     "text": [
      "14788\n"
     ]
    },
    {
     "name": "stderr",
     "output_type": "stream",
     "text": [
      "/var/folders/8g/rym67m5d29dcjm2td47sgb_m0000gn/T/ipykernel_29122/413030651.py:16: FutureWarning:\n",
      "\n",
      "Passing 'suffixes' which cause duplicate columns {'type_geo_y'} in the result is deprecated and will raise a MergeError in a future version.\n",
      "\n",
      "/opt/homebrew/Caskroom/miniforge/base/envs/py3/lib/python3.9/site-packages/sklearn/neighbors/_classification.py:198: DataConversionWarning:\n",
      "\n",
      "A column-vector y was passed when a 1d array was expected. Please change the shape of y to (n_samples,), for example using ravel().\n",
      "\n",
      "/var/folders/8g/rym67m5d29dcjm2td47sgb_m0000gn/T/ipykernel_29122/413030651.py:25: SettingWithCopyWarning:\n",
      "\n",
      "\n",
      "A value is trying to be set on a copy of a slice from a DataFrame.\n",
      "Try using .loc[row_indexer,col_indexer] = value instead\n",
      "\n",
      "See the caveats in the documentation: https://pandas.pydata.org/pandas-docs/stable/user_guide/indexing.html#returning-a-view-versus-a-copy\n",
      "\n"
     ]
    },
    {
     "name": "stdout",
     "output_type": "stream",
     "text": [
      "17296\n"
     ]
    },
    {
     "name": "stderr",
     "output_type": "stream",
     "text": [
      "/var/folders/8g/rym67m5d29dcjm2td47sgb_m0000gn/T/ipykernel_29122/413030651.py:16: FutureWarning:\n",
      "\n",
      "Passing 'suffixes' which cause duplicate columns {'Z_y', 'type_geo_y'} in the result is deprecated and will raise a MergeError in a future version.\n",
      "\n",
      "/opt/homebrew/Caskroom/miniforge/base/envs/py3/lib/python3.9/site-packages/sklearn/neighbors/_classification.py:198: DataConversionWarning:\n",
      "\n",
      "A column-vector y was passed when a 1d array was expected. Please change the shape of y to (n_samples,), for example using ravel().\n",
      "\n",
      "/var/folders/8g/rym67m5d29dcjm2td47sgb_m0000gn/T/ipykernel_29122/413030651.py:25: SettingWithCopyWarning:\n",
      "\n",
      "\n",
      "A value is trying to be set on a copy of a slice from a DataFrame.\n",
      "Try using .loc[row_indexer,col_indexer] = value instead\n",
      "\n",
      "See the caveats in the documentation: https://pandas.pydata.org/pandas-docs/stable/user_guide/indexing.html#returning-a-view-versus-a-copy\n",
      "\n"
     ]
    },
    {
     "name": "stdout",
     "output_type": "stream",
     "text": [
      "14788\n"
     ]
    },
    {
     "name": "stderr",
     "output_type": "stream",
     "text": [
      "/var/folders/8g/rym67m5d29dcjm2td47sgb_m0000gn/T/ipykernel_29122/413030651.py:16: FutureWarning:\n",
      "\n",
      "Passing 'suffixes' which cause duplicate columns {'type_geo_y'} in the result is deprecated and will raise a MergeError in a future version.\n",
      "\n",
      "/opt/homebrew/Caskroom/miniforge/base/envs/py3/lib/python3.9/site-packages/sklearn/neighbors/_classification.py:198: DataConversionWarning:\n",
      "\n",
      "A column-vector y was passed when a 1d array was expected. Please change the shape of y to (n_samples,), for example using ravel().\n",
      "\n",
      "/var/folders/8g/rym67m5d29dcjm2td47sgb_m0000gn/T/ipykernel_29122/413030651.py:25: SettingWithCopyWarning:\n",
      "\n",
      "\n",
      "A value is trying to be set on a copy of a slice from a DataFrame.\n",
      "Try using .loc[row_indexer,col_indexer] = value instead\n",
      "\n",
      "See the caveats in the documentation: https://pandas.pydata.org/pandas-docs/stable/user_guide/indexing.html#returning-a-view-versus-a-copy\n",
      "\n",
      "/var/folders/8g/rym67m5d29dcjm2td47sgb_m0000gn/T/ipykernel_29122/413030651.py:16: FutureWarning:\n",
      "\n",
      "Passing 'suffixes' which cause duplicate columns {'Z_y', 'type_geo_y'} in the result is deprecated and will raise a MergeError in a future version.\n",
      "\n"
     ]
    },
    {
     "name": "stdout",
     "output_type": "stream",
     "text": [
      "17296\n"
     ]
    },
    {
     "name": "stderr",
     "output_type": "stream",
     "text": [
      "/opt/homebrew/Caskroom/miniforge/base/envs/py3/lib/python3.9/site-packages/sklearn/neighbors/_classification.py:198: DataConversionWarning:\n",
      "\n",
      "A column-vector y was passed when a 1d array was expected. Please change the shape of y to (n_samples,), for example using ravel().\n",
      "\n",
      "/var/folders/8g/rym67m5d29dcjm2td47sgb_m0000gn/T/ipykernel_29122/413030651.py:25: SettingWithCopyWarning:\n",
      "\n",
      "\n",
      "A value is trying to be set on a copy of a slice from a DataFrame.\n",
      "Try using .loc[row_indexer,col_indexer] = value instead\n",
      "\n",
      "See the caveats in the documentation: https://pandas.pydata.org/pandas-docs/stable/user_guide/indexing.html#returning-a-view-versus-a-copy\n",
      "\n"
     ]
    },
    {
     "name": "stdout",
     "output_type": "stream",
     "text": [
      "14788\n"
     ]
    },
    {
     "name": "stderr",
     "output_type": "stream",
     "text": [
      "/var/folders/8g/rym67m5d29dcjm2td47sgb_m0000gn/T/ipykernel_29122/413030651.py:16: FutureWarning:\n",
      "\n",
      "Passing 'suffixes' which cause duplicate columns {'type_geo_y'} in the result is deprecated and will raise a MergeError in a future version.\n",
      "\n",
      "/opt/homebrew/Caskroom/miniforge/base/envs/py3/lib/python3.9/site-packages/sklearn/neighbors/_classification.py:198: DataConversionWarning:\n",
      "\n",
      "A column-vector y was passed when a 1d array was expected. Please change the shape of y to (n_samples,), for example using ravel().\n",
      "\n",
      "/var/folders/8g/rym67m5d29dcjm2td47sgb_m0000gn/T/ipykernel_29122/413030651.py:25: SettingWithCopyWarning:\n",
      "\n",
      "\n",
      "A value is trying to be set on a copy of a slice from a DataFrame.\n",
      "Try using .loc[row_indexer,col_indexer] = value instead\n",
      "\n",
      "See the caveats in the documentation: https://pandas.pydata.org/pandas-docs/stable/user_guide/indexing.html#returning-a-view-versus-a-copy\n",
      "\n",
      "/var/folders/8g/rym67m5d29dcjm2td47sgb_m0000gn/T/ipykernel_29122/413030651.py:16: FutureWarning:\n",
      "\n",
      "Passing 'suffixes' which cause duplicate columns {'Z_y', 'type_geo_y'} in the result is deprecated and will raise a MergeError in a future version.\n",
      "\n"
     ]
    },
    {
     "name": "stdout",
     "output_type": "stream",
     "text": [
      "17296\n"
     ]
    },
    {
     "name": "stderr",
     "output_type": "stream",
     "text": [
      "/opt/homebrew/Caskroom/miniforge/base/envs/py3/lib/python3.9/site-packages/sklearn/neighbors/_classification.py:198: DataConversionWarning:\n",
      "\n",
      "A column-vector y was passed when a 1d array was expected. Please change the shape of y to (n_samples,), for example using ravel().\n",
      "\n",
      "/var/folders/8g/rym67m5d29dcjm2td47sgb_m0000gn/T/ipykernel_29122/413030651.py:25: SettingWithCopyWarning:\n",
      "\n",
      "\n",
      "A value is trying to be set on a copy of a slice from a DataFrame.\n",
      "Try using .loc[row_indexer,col_indexer] = value instead\n",
      "\n",
      "See the caveats in the documentation: https://pandas.pydata.org/pandas-docs/stable/user_guide/indexing.html#returning-a-view-versus-a-copy\n",
      "\n"
     ]
    },
    {
     "name": "stdout",
     "output_type": "stream",
     "text": [
      "14788\n"
     ]
    },
    {
     "name": "stderr",
     "output_type": "stream",
     "text": [
      "/var/folders/8g/rym67m5d29dcjm2td47sgb_m0000gn/T/ipykernel_29122/413030651.py:16: FutureWarning:\n",
      "\n",
      "Passing 'suffixes' which cause duplicate columns {'type_geo_y'} in the result is deprecated and will raise a MergeError in a future version.\n",
      "\n",
      "/opt/homebrew/Caskroom/miniforge/base/envs/py3/lib/python3.9/site-packages/sklearn/neighbors/_classification.py:198: DataConversionWarning:\n",
      "\n",
      "A column-vector y was passed when a 1d array was expected. Please change the shape of y to (n_samples,), for example using ravel().\n",
      "\n",
      "/var/folders/8g/rym67m5d29dcjm2td47sgb_m0000gn/T/ipykernel_29122/413030651.py:25: SettingWithCopyWarning:\n",
      "\n",
      "\n",
      "A value is trying to be set on a copy of a slice from a DataFrame.\n",
      "Try using .loc[row_indexer,col_indexer] = value instead\n",
      "\n",
      "See the caveats in the documentation: https://pandas.pydata.org/pandas-docs/stable/user_guide/indexing.html#returning-a-view-versus-a-copy\n",
      "\n"
     ]
    },
    {
     "name": "stdout",
     "output_type": "stream",
     "text": [
      "17296\n"
     ]
    },
    {
     "name": "stderr",
     "output_type": "stream",
     "text": [
      "/var/folders/8g/rym67m5d29dcjm2td47sgb_m0000gn/T/ipykernel_29122/413030651.py:16: FutureWarning:\n",
      "\n",
      "Passing 'suffixes' which cause duplicate columns {'Z_y', 'type_geo_y'} in the result is deprecated and will raise a MergeError in a future version.\n",
      "\n",
      "/opt/homebrew/Caskroom/miniforge/base/envs/py3/lib/python3.9/site-packages/sklearn/neighbors/_classification.py:198: DataConversionWarning:\n",
      "\n",
      "A column-vector y was passed when a 1d array was expected. Please change the shape of y to (n_samples,), for example using ravel().\n",
      "\n",
      "/var/folders/8g/rym67m5d29dcjm2td47sgb_m0000gn/T/ipykernel_29122/413030651.py:25: SettingWithCopyWarning:\n",
      "\n",
      "\n",
      "A value is trying to be set on a copy of a slice from a DataFrame.\n",
      "Try using .loc[row_indexer,col_indexer] = value instead\n",
      "\n",
      "See the caveats in the documentation: https://pandas.pydata.org/pandas-docs/stable/user_guide/indexing.html#returning-a-view-versus-a-copy\n",
      "\n"
     ]
    },
    {
     "name": "stdout",
     "output_type": "stream",
     "text": [
      "14788\n"
     ]
    },
    {
     "name": "stderr",
     "output_type": "stream",
     "text": [
      "/var/folders/8g/rym67m5d29dcjm2td47sgb_m0000gn/T/ipykernel_29122/413030651.py:16: FutureWarning:\n",
      "\n",
      "Passing 'suffixes' which cause duplicate columns {'type_geo_y'} in the result is deprecated and will raise a MergeError in a future version.\n",
      "\n",
      "/opt/homebrew/Caskroom/miniforge/base/envs/py3/lib/python3.9/site-packages/sklearn/neighbors/_classification.py:198: DataConversionWarning:\n",
      "\n",
      "A column-vector y was passed when a 1d array was expected. Please change the shape of y to (n_samples,), for example using ravel().\n",
      "\n",
      "/var/folders/8g/rym67m5d29dcjm2td47sgb_m0000gn/T/ipykernel_29122/413030651.py:25: SettingWithCopyWarning:\n",
      "\n",
      "\n",
      "A value is trying to be set on a copy of a slice from a DataFrame.\n",
      "Try using .loc[row_indexer,col_indexer] = value instead\n",
      "\n",
      "See the caveats in the documentation: https://pandas.pydata.org/pandas-docs/stable/user_guide/indexing.html#returning-a-view-versus-a-copy\n",
      "\n"
     ]
    },
    {
     "name": "stdout",
     "output_type": "stream",
     "text": [
      "17296\n"
     ]
    },
    {
     "name": "stderr",
     "output_type": "stream",
     "text": [
      "/var/folders/8g/rym67m5d29dcjm2td47sgb_m0000gn/T/ipykernel_29122/413030651.py:16: FutureWarning:\n",
      "\n",
      "Passing 'suffixes' which cause duplicate columns {'Z_y', 'type_geo_y'} in the result is deprecated and will raise a MergeError in a future version.\n",
      "\n",
      "/opt/homebrew/Caskroom/miniforge/base/envs/py3/lib/python3.9/site-packages/sklearn/neighbors/_classification.py:198: DataConversionWarning:\n",
      "\n",
      "A column-vector y was passed when a 1d array was expected. Please change the shape of y to (n_samples,), for example using ravel().\n",
      "\n",
      "/var/folders/8g/rym67m5d29dcjm2td47sgb_m0000gn/T/ipykernel_29122/413030651.py:25: SettingWithCopyWarning:\n",
      "\n",
      "\n",
      "A value is trying to be set on a copy of a slice from a DataFrame.\n",
      "Try using .loc[row_indexer,col_indexer] = value instead\n",
      "\n",
      "See the caveats in the documentation: https://pandas.pydata.org/pandas-docs/stable/user_guide/indexing.html#returning-a-view-versus-a-copy\n",
      "\n"
     ]
    },
    {
     "name": "stdout",
     "output_type": "stream",
     "text": [
      "14788\n"
     ]
    },
    {
     "name": "stderr",
     "output_type": "stream",
     "text": [
      "/var/folders/8g/rym67m5d29dcjm2td47sgb_m0000gn/T/ipykernel_29122/413030651.py:16: FutureWarning:\n",
      "\n",
      "Passing 'suffixes' which cause duplicate columns {'type_geo_y'} in the result is deprecated and will raise a MergeError in a future version.\n",
      "\n",
      "/opt/homebrew/Caskroom/miniforge/base/envs/py3/lib/python3.9/site-packages/sklearn/neighbors/_classification.py:198: DataConversionWarning:\n",
      "\n",
      "A column-vector y was passed when a 1d array was expected. Please change the shape of y to (n_samples,), for example using ravel().\n",
      "\n",
      "/var/folders/8g/rym67m5d29dcjm2td47sgb_m0000gn/T/ipykernel_29122/413030651.py:25: SettingWithCopyWarning:\n",
      "\n",
      "\n",
      "A value is trying to be set on a copy of a slice from a DataFrame.\n",
      "Try using .loc[row_indexer,col_indexer] = value instead\n",
      "\n",
      "See the caveats in the documentation: https://pandas.pydata.org/pandas-docs/stable/user_guide/indexing.html#returning-a-view-versus-a-copy\n",
      "\n"
     ]
    },
    {
     "name": "stdout",
     "output_type": "stream",
     "text": [
      "17296\n"
     ]
    },
    {
     "name": "stderr",
     "output_type": "stream",
     "text": [
      "/var/folders/8g/rym67m5d29dcjm2td47sgb_m0000gn/T/ipykernel_29122/413030651.py:16: FutureWarning:\n",
      "\n",
      "Passing 'suffixes' which cause duplicate columns {'Z_y', 'type_geo_y'} in the result is deprecated and will raise a MergeError in a future version.\n",
      "\n",
      "/opt/homebrew/Caskroom/miniforge/base/envs/py3/lib/python3.9/site-packages/sklearn/neighbors/_classification.py:198: DataConversionWarning:\n",
      "\n",
      "A column-vector y was passed when a 1d array was expected. Please change the shape of y to (n_samples,), for example using ravel().\n",
      "\n",
      "/var/folders/8g/rym67m5d29dcjm2td47sgb_m0000gn/T/ipykernel_29122/413030651.py:25: SettingWithCopyWarning:\n",
      "\n",
      "\n",
      "A value is trying to be set on a copy of a slice from a DataFrame.\n",
      "Try using .loc[row_indexer,col_indexer] = value instead\n",
      "\n",
      "See the caveats in the documentation: https://pandas.pydata.org/pandas-docs/stable/user_guide/indexing.html#returning-a-view-versus-a-copy\n",
      "\n"
     ]
    },
    {
     "name": "stdout",
     "output_type": "stream",
     "text": [
      "14788\n"
     ]
    },
    {
     "name": "stderr",
     "output_type": "stream",
     "text": [
      "/var/folders/8g/rym67m5d29dcjm2td47sgb_m0000gn/T/ipykernel_29122/413030651.py:16: FutureWarning:\n",
      "\n",
      "Passing 'suffixes' which cause duplicate columns {'type_geo_y'} in the result is deprecated and will raise a MergeError in a future version.\n",
      "\n",
      "/opt/homebrew/Caskroom/miniforge/base/envs/py3/lib/python3.9/site-packages/sklearn/neighbors/_classification.py:198: DataConversionWarning:\n",
      "\n",
      "A column-vector y was passed when a 1d array was expected. Please change the shape of y to (n_samples,), for example using ravel().\n",
      "\n",
      "/var/folders/8g/rym67m5d29dcjm2td47sgb_m0000gn/T/ipykernel_29122/413030651.py:25: SettingWithCopyWarning:\n",
      "\n",
      "\n",
      "A value is trying to be set on a copy of a slice from a DataFrame.\n",
      "Try using .loc[row_indexer,col_indexer] = value instead\n",
      "\n",
      "See the caveats in the documentation: https://pandas.pydata.org/pandas-docs/stable/user_guide/indexing.html#returning-a-view-versus-a-copy\n",
      "\n"
     ]
    },
    {
     "name": "stdout",
     "output_type": "stream",
     "text": [
      "17296\n"
     ]
    },
    {
     "name": "stderr",
     "output_type": "stream",
     "text": [
      "/var/folders/8g/rym67m5d29dcjm2td47sgb_m0000gn/T/ipykernel_29122/413030651.py:16: FutureWarning:\n",
      "\n",
      "Passing 'suffixes' which cause duplicate columns {'Z_y', 'type_geo_y'} in the result is deprecated and will raise a MergeError in a future version.\n",
      "\n",
      "/opt/homebrew/Caskroom/miniforge/base/envs/py3/lib/python3.9/site-packages/sklearn/neighbors/_classification.py:198: DataConversionWarning:\n",
      "\n",
      "A column-vector y was passed when a 1d array was expected. Please change the shape of y to (n_samples,), for example using ravel().\n",
      "\n",
      "/var/folders/8g/rym67m5d29dcjm2td47sgb_m0000gn/T/ipykernel_29122/413030651.py:25: SettingWithCopyWarning:\n",
      "\n",
      "\n",
      "A value is trying to be set on a copy of a slice from a DataFrame.\n",
      "Try using .loc[row_indexer,col_indexer] = value instead\n",
      "\n",
      "See the caveats in the documentation: https://pandas.pydata.org/pandas-docs/stable/user_guide/indexing.html#returning-a-view-versus-a-copy\n",
      "\n"
     ]
    },
    {
     "name": "stdout",
     "output_type": "stream",
     "text": [
      "14788\n"
     ]
    },
    {
     "name": "stderr",
     "output_type": "stream",
     "text": [
      "/var/folders/8g/rym67m5d29dcjm2td47sgb_m0000gn/T/ipykernel_29122/413030651.py:16: FutureWarning:\n",
      "\n",
      "Passing 'suffixes' which cause duplicate columns {'type_geo_y'} in the result is deprecated and will raise a MergeError in a future version.\n",
      "\n",
      "/opt/homebrew/Caskroom/miniforge/base/envs/py3/lib/python3.9/site-packages/sklearn/neighbors/_classification.py:198: DataConversionWarning:\n",
      "\n",
      "A column-vector y was passed when a 1d array was expected. Please change the shape of y to (n_samples,), for example using ravel().\n",
      "\n",
      "/var/folders/8g/rym67m5d29dcjm2td47sgb_m0000gn/T/ipykernel_29122/413030651.py:25: SettingWithCopyWarning:\n",
      "\n",
      "\n",
      "A value is trying to be set on a copy of a slice from a DataFrame.\n",
      "Try using .loc[row_indexer,col_indexer] = value instead\n",
      "\n",
      "See the caveats in the documentation: https://pandas.pydata.org/pandas-docs/stable/user_guide/indexing.html#returning-a-view-versus-a-copy\n",
      "\n"
     ]
    },
    {
     "name": "stdout",
     "output_type": "stream",
     "text": [
      "17296\n"
     ]
    },
    {
     "name": "stderr",
     "output_type": "stream",
     "text": [
      "/var/folders/8g/rym67m5d29dcjm2td47sgb_m0000gn/T/ipykernel_29122/413030651.py:16: FutureWarning:\n",
      "\n",
      "Passing 'suffixes' which cause duplicate columns {'Z_y', 'type_geo_y'} in the result is deprecated and will raise a MergeError in a future version.\n",
      "\n",
      "/opt/homebrew/Caskroom/miniforge/base/envs/py3/lib/python3.9/site-packages/sklearn/neighbors/_classification.py:198: DataConversionWarning:\n",
      "\n",
      "A column-vector y was passed when a 1d array was expected. Please change the shape of y to (n_samples,), for example using ravel().\n",
      "\n",
      "/var/folders/8g/rym67m5d29dcjm2td47sgb_m0000gn/T/ipykernel_29122/413030651.py:25: SettingWithCopyWarning:\n",
      "\n",
      "\n",
      "A value is trying to be set on a copy of a slice from a DataFrame.\n",
      "Try using .loc[row_indexer,col_indexer] = value instead\n",
      "\n",
      "See the caveats in the documentation: https://pandas.pydata.org/pandas-docs/stable/user_guide/indexing.html#returning-a-view-versus-a-copy\n",
      "\n"
     ]
    },
    {
     "name": "stdout",
     "output_type": "stream",
     "text": [
      "14788\n"
     ]
    },
    {
     "name": "stderr",
     "output_type": "stream",
     "text": [
      "/var/folders/8g/rym67m5d29dcjm2td47sgb_m0000gn/T/ipykernel_29122/413030651.py:16: FutureWarning:\n",
      "\n",
      "Passing 'suffixes' which cause duplicate columns {'type_geo_y'} in the result is deprecated and will raise a MergeError in a future version.\n",
      "\n",
      "/opt/homebrew/Caskroom/miniforge/base/envs/py3/lib/python3.9/site-packages/sklearn/neighbors/_classification.py:198: DataConversionWarning:\n",
      "\n",
      "A column-vector y was passed when a 1d array was expected. Please change the shape of y to (n_samples,), for example using ravel().\n",
      "\n",
      "/var/folders/8g/rym67m5d29dcjm2td47sgb_m0000gn/T/ipykernel_29122/413030651.py:25: SettingWithCopyWarning:\n",
      "\n",
      "\n",
      "A value is trying to be set on a copy of a slice from a DataFrame.\n",
      "Try using .loc[row_indexer,col_indexer] = value instead\n",
      "\n",
      "See the caveats in the documentation: https://pandas.pydata.org/pandas-docs/stable/user_guide/indexing.html#returning-a-view-versus-a-copy\n",
      "\n"
     ]
    },
    {
     "name": "stdout",
     "output_type": "stream",
     "text": [
      "17296\n"
     ]
    },
    {
     "name": "stderr",
     "output_type": "stream",
     "text": [
      "/var/folders/8g/rym67m5d29dcjm2td47sgb_m0000gn/T/ipykernel_29122/413030651.py:16: FutureWarning:\n",
      "\n",
      "Passing 'suffixes' which cause duplicate columns {'Z_y', 'type_geo_y'} in the result is deprecated and will raise a MergeError in a future version.\n",
      "\n",
      "/opt/homebrew/Caskroom/miniforge/base/envs/py3/lib/python3.9/site-packages/sklearn/neighbors/_classification.py:198: DataConversionWarning:\n",
      "\n",
      "A column-vector y was passed when a 1d array was expected. Please change the shape of y to (n_samples,), for example using ravel().\n",
      "\n",
      "/var/folders/8g/rym67m5d29dcjm2td47sgb_m0000gn/T/ipykernel_29122/413030651.py:25: SettingWithCopyWarning:\n",
      "\n",
      "\n",
      "A value is trying to be set on a copy of a slice from a DataFrame.\n",
      "Try using .loc[row_indexer,col_indexer] = value instead\n",
      "\n",
      "See the caveats in the documentation: https://pandas.pydata.org/pandas-docs/stable/user_guide/indexing.html#returning-a-view-versus-a-copy\n",
      "\n"
     ]
    },
    {
     "name": "stdout",
     "output_type": "stream",
     "text": [
      "14788\n"
     ]
    },
    {
     "name": "stderr",
     "output_type": "stream",
     "text": [
      "/var/folders/8g/rym67m5d29dcjm2td47sgb_m0000gn/T/ipykernel_29122/413030651.py:16: FutureWarning:\n",
      "\n",
      "Passing 'suffixes' which cause duplicate columns {'type_geo_y'} in the result is deprecated and will raise a MergeError in a future version.\n",
      "\n",
      "/opt/homebrew/Caskroom/miniforge/base/envs/py3/lib/python3.9/site-packages/sklearn/neighbors/_classification.py:198: DataConversionWarning:\n",
      "\n",
      "A column-vector y was passed when a 1d array was expected. Please change the shape of y to (n_samples,), for example using ravel().\n",
      "\n",
      "/var/folders/8g/rym67m5d29dcjm2td47sgb_m0000gn/T/ipykernel_29122/413030651.py:25: SettingWithCopyWarning:\n",
      "\n",
      "\n",
      "A value is trying to be set on a copy of a slice from a DataFrame.\n",
      "Try using .loc[row_indexer,col_indexer] = value instead\n",
      "\n",
      "See the caveats in the documentation: https://pandas.pydata.org/pandas-docs/stable/user_guide/indexing.html#returning-a-view-versus-a-copy\n",
      "\n",
      "/var/folders/8g/rym67m5d29dcjm2td47sgb_m0000gn/T/ipykernel_29122/413030651.py:16: FutureWarning:\n",
      "\n",
      "Passing 'suffixes' which cause duplicate columns {'Z_y', 'type_geo_y'} in the result is deprecated and will raise a MergeError in a future version.\n",
      "\n"
     ]
    },
    {
     "name": "stdout",
     "output_type": "stream",
     "text": [
      "17296\n"
     ]
    },
    {
     "name": "stderr",
     "output_type": "stream",
     "text": [
      "/opt/homebrew/Caskroom/miniforge/base/envs/py3/lib/python3.9/site-packages/sklearn/neighbors/_classification.py:198: DataConversionWarning:\n",
      "\n",
      "A column-vector y was passed when a 1d array was expected. Please change the shape of y to (n_samples,), for example using ravel().\n",
      "\n",
      "/var/folders/8g/rym67m5d29dcjm2td47sgb_m0000gn/T/ipykernel_29122/413030651.py:25: SettingWithCopyWarning:\n",
      "\n",
      "\n",
      "A value is trying to be set on a copy of a slice from a DataFrame.\n",
      "Try using .loc[row_indexer,col_indexer] = value instead\n",
      "\n",
      "See the caveats in the documentation: https://pandas.pydata.org/pandas-docs/stable/user_guide/indexing.html#returning-a-view-versus-a-copy\n",
      "\n"
     ]
    },
    {
     "name": "stdout",
     "output_type": "stream",
     "text": [
      "14788\n"
     ]
    },
    {
     "name": "stderr",
     "output_type": "stream",
     "text": [
      "/var/folders/8g/rym67m5d29dcjm2td47sgb_m0000gn/T/ipykernel_29122/413030651.py:16: FutureWarning:\n",
      "\n",
      "Passing 'suffixes' which cause duplicate columns {'type_geo_y'} in the result is deprecated and will raise a MergeError in a future version.\n",
      "\n",
      "/opt/homebrew/Caskroom/miniforge/base/envs/py3/lib/python3.9/site-packages/sklearn/neighbors/_classification.py:198: DataConversionWarning:\n",
      "\n",
      "A column-vector y was passed when a 1d array was expected. Please change the shape of y to (n_samples,), for example using ravel().\n",
      "\n",
      "/var/folders/8g/rym67m5d29dcjm2td47sgb_m0000gn/T/ipykernel_29122/413030651.py:25: SettingWithCopyWarning:\n",
      "\n",
      "\n",
      "A value is trying to be set on a copy of a slice from a DataFrame.\n",
      "Try using .loc[row_indexer,col_indexer] = value instead\n",
      "\n",
      "See the caveats in the documentation: https://pandas.pydata.org/pandas-docs/stable/user_guide/indexing.html#returning-a-view-versus-a-copy\n",
      "\n"
     ]
    },
    {
     "name": "stdout",
     "output_type": "stream",
     "text": [
      "17296\n"
     ]
    },
    {
     "name": "stderr",
     "output_type": "stream",
     "text": [
      "/var/folders/8g/rym67m5d29dcjm2td47sgb_m0000gn/T/ipykernel_29122/413030651.py:16: FutureWarning:\n",
      "\n",
      "Passing 'suffixes' which cause duplicate columns {'Z_y', 'type_geo_y'} in the result is deprecated and will raise a MergeError in a future version.\n",
      "\n",
      "/opt/homebrew/Caskroom/miniforge/base/envs/py3/lib/python3.9/site-packages/sklearn/neighbors/_classification.py:198: DataConversionWarning:\n",
      "\n",
      "A column-vector y was passed when a 1d array was expected. Please change the shape of y to (n_samples,), for example using ravel().\n",
      "\n",
      "/var/folders/8g/rym67m5d29dcjm2td47sgb_m0000gn/T/ipykernel_29122/413030651.py:25: SettingWithCopyWarning:\n",
      "\n",
      "\n",
      "A value is trying to be set on a copy of a slice from a DataFrame.\n",
      "Try using .loc[row_indexer,col_indexer] = value instead\n",
      "\n",
      "See the caveats in the documentation: https://pandas.pydata.org/pandas-docs/stable/user_guide/indexing.html#returning-a-view-versus-a-copy\n",
      "\n"
     ]
    },
    {
     "name": "stdout",
     "output_type": "stream",
     "text": [
      "14788\n"
     ]
    },
    {
     "name": "stderr",
     "output_type": "stream",
     "text": [
      "/var/folders/8g/rym67m5d29dcjm2td47sgb_m0000gn/T/ipykernel_29122/413030651.py:16: FutureWarning:\n",
      "\n",
      "Passing 'suffixes' which cause duplicate columns {'type_geo_y'} in the result is deprecated and will raise a MergeError in a future version.\n",
      "\n",
      "/opt/homebrew/Caskroom/miniforge/base/envs/py3/lib/python3.9/site-packages/sklearn/neighbors/_classification.py:198: DataConversionWarning:\n",
      "\n",
      "A column-vector y was passed when a 1d array was expected. Please change the shape of y to (n_samples,), for example using ravel().\n",
      "\n",
      "/var/folders/8g/rym67m5d29dcjm2td47sgb_m0000gn/T/ipykernel_29122/413030651.py:25: SettingWithCopyWarning:\n",
      "\n",
      "\n",
      "A value is trying to be set on a copy of a slice from a DataFrame.\n",
      "Try using .loc[row_indexer,col_indexer] = value instead\n",
      "\n",
      "See the caveats in the documentation: https://pandas.pydata.org/pandas-docs/stable/user_guide/indexing.html#returning-a-view-versus-a-copy\n",
      "\n"
     ]
    },
    {
     "name": "stdout",
     "output_type": "stream",
     "text": [
      "17296\n"
     ]
    },
    {
     "name": "stderr",
     "output_type": "stream",
     "text": [
      "/var/folders/8g/rym67m5d29dcjm2td47sgb_m0000gn/T/ipykernel_29122/413030651.py:16: FutureWarning:\n",
      "\n",
      "Passing 'suffixes' which cause duplicate columns {'Z_y', 'type_geo_y'} in the result is deprecated and will raise a MergeError in a future version.\n",
      "\n",
      "/opt/homebrew/Caskroom/miniforge/base/envs/py3/lib/python3.9/site-packages/sklearn/neighbors/_classification.py:198: DataConversionWarning:\n",
      "\n",
      "A column-vector y was passed when a 1d array was expected. Please change the shape of y to (n_samples,), for example using ravel().\n",
      "\n",
      "/var/folders/8g/rym67m5d29dcjm2td47sgb_m0000gn/T/ipykernel_29122/413030651.py:25: SettingWithCopyWarning:\n",
      "\n",
      "\n",
      "A value is trying to be set on a copy of a slice from a DataFrame.\n",
      "Try using .loc[row_indexer,col_indexer] = value instead\n",
      "\n",
      "See the caveats in the documentation: https://pandas.pydata.org/pandas-docs/stable/user_guide/indexing.html#returning-a-view-versus-a-copy\n",
      "\n"
     ]
    },
    {
     "name": "stdout",
     "output_type": "stream",
     "text": [
      "14788\n"
     ]
    },
    {
     "name": "stderr",
     "output_type": "stream",
     "text": [
      "/var/folders/8g/rym67m5d29dcjm2td47sgb_m0000gn/T/ipykernel_29122/413030651.py:16: FutureWarning:\n",
      "\n",
      "Passing 'suffixes' which cause duplicate columns {'type_geo_y'} in the result is deprecated and will raise a MergeError in a future version.\n",
      "\n",
      "/opt/homebrew/Caskroom/miniforge/base/envs/py3/lib/python3.9/site-packages/sklearn/neighbors/_classification.py:198: DataConversionWarning:\n",
      "\n",
      "A column-vector y was passed when a 1d array was expected. Please change the shape of y to (n_samples,), for example using ravel().\n",
      "\n",
      "/var/folders/8g/rym67m5d29dcjm2td47sgb_m0000gn/T/ipykernel_29122/413030651.py:25: SettingWithCopyWarning:\n",
      "\n",
      "\n",
      "A value is trying to be set on a copy of a slice from a DataFrame.\n",
      "Try using .loc[row_indexer,col_indexer] = value instead\n",
      "\n",
      "See the caveats in the documentation: https://pandas.pydata.org/pandas-docs/stable/user_guide/indexing.html#returning-a-view-versus-a-copy\n",
      "\n",
      "/var/folders/8g/rym67m5d29dcjm2td47sgb_m0000gn/T/ipykernel_29122/413030651.py:16: FutureWarning:\n",
      "\n",
      "Passing 'suffixes' which cause duplicate columns {'Z_y', 'type_geo_y'} in the result is deprecated and will raise a MergeError in a future version.\n",
      "\n"
     ]
    },
    {
     "name": "stdout",
     "output_type": "stream",
     "text": [
      "17296\n"
     ]
    },
    {
     "name": "stderr",
     "output_type": "stream",
     "text": [
      "/opt/homebrew/Caskroom/miniforge/base/envs/py3/lib/python3.9/site-packages/sklearn/neighbors/_classification.py:198: DataConversionWarning:\n",
      "\n",
      "A column-vector y was passed when a 1d array was expected. Please change the shape of y to (n_samples,), for example using ravel().\n",
      "\n",
      "/var/folders/8g/rym67m5d29dcjm2td47sgb_m0000gn/T/ipykernel_29122/413030651.py:25: SettingWithCopyWarning:\n",
      "\n",
      "\n",
      "A value is trying to be set on a copy of a slice from a DataFrame.\n",
      "Try using .loc[row_indexer,col_indexer] = value instead\n",
      "\n",
      "See the caveats in the documentation: https://pandas.pydata.org/pandas-docs/stable/user_guide/indexing.html#returning-a-view-versus-a-copy\n",
      "\n"
     ]
    },
    {
     "name": "stdout",
     "output_type": "stream",
     "text": [
      "14788\n"
     ]
    },
    {
     "name": "stderr",
     "output_type": "stream",
     "text": [
      "/var/folders/8g/rym67m5d29dcjm2td47sgb_m0000gn/T/ipykernel_29122/413030651.py:16: FutureWarning:\n",
      "\n",
      "Passing 'suffixes' which cause duplicate columns {'type_geo_y'} in the result is deprecated and will raise a MergeError in a future version.\n",
      "\n",
      "/opt/homebrew/Caskroom/miniforge/base/envs/py3/lib/python3.9/site-packages/sklearn/neighbors/_classification.py:198: DataConversionWarning:\n",
      "\n",
      "A column-vector y was passed when a 1d array was expected. Please change the shape of y to (n_samples,), for example using ravel().\n",
      "\n",
      "/var/folders/8g/rym67m5d29dcjm2td47sgb_m0000gn/T/ipykernel_29122/413030651.py:25: SettingWithCopyWarning:\n",
      "\n",
      "\n",
      "A value is trying to be set on a copy of a slice from a DataFrame.\n",
      "Try using .loc[row_indexer,col_indexer] = value instead\n",
      "\n",
      "See the caveats in the documentation: https://pandas.pydata.org/pandas-docs/stable/user_guide/indexing.html#returning-a-view-versus-a-copy\n",
      "\n"
     ]
    },
    {
     "name": "stdout",
     "output_type": "stream",
     "text": [
      "17296\n"
     ]
    },
    {
     "name": "stderr",
     "output_type": "stream",
     "text": [
      "/var/folders/8g/rym67m5d29dcjm2td47sgb_m0000gn/T/ipykernel_29122/413030651.py:16: FutureWarning:\n",
      "\n",
      "Passing 'suffixes' which cause duplicate columns {'Z_y', 'type_geo_y'} in the result is deprecated and will raise a MergeError in a future version.\n",
      "\n",
      "/opt/homebrew/Caskroom/miniforge/base/envs/py3/lib/python3.9/site-packages/sklearn/neighbors/_classification.py:198: DataConversionWarning:\n",
      "\n",
      "A column-vector y was passed when a 1d array was expected. Please change the shape of y to (n_samples,), for example using ravel().\n",
      "\n",
      "/var/folders/8g/rym67m5d29dcjm2td47sgb_m0000gn/T/ipykernel_29122/413030651.py:25: SettingWithCopyWarning:\n",
      "\n",
      "\n",
      "A value is trying to be set on a copy of a slice from a DataFrame.\n",
      "Try using .loc[row_indexer,col_indexer] = value instead\n",
      "\n",
      "See the caveats in the documentation: https://pandas.pydata.org/pandas-docs/stable/user_guide/indexing.html#returning-a-view-versus-a-copy\n",
      "\n"
     ]
    },
    {
     "name": "stdout",
     "output_type": "stream",
     "text": [
      "14788\n"
     ]
    },
    {
     "name": "stderr",
     "output_type": "stream",
     "text": [
      "/var/folders/8g/rym67m5d29dcjm2td47sgb_m0000gn/T/ipykernel_29122/413030651.py:16: FutureWarning:\n",
      "\n",
      "Passing 'suffixes' which cause duplicate columns {'type_geo_y'} in the result is deprecated and will raise a MergeError in a future version.\n",
      "\n",
      "/opt/homebrew/Caskroom/miniforge/base/envs/py3/lib/python3.9/site-packages/sklearn/neighbors/_classification.py:198: DataConversionWarning:\n",
      "\n",
      "A column-vector y was passed when a 1d array was expected. Please change the shape of y to (n_samples,), for example using ravel().\n",
      "\n",
      "/var/folders/8g/rym67m5d29dcjm2td47sgb_m0000gn/T/ipykernel_29122/413030651.py:25: SettingWithCopyWarning:\n",
      "\n",
      "\n",
      "A value is trying to be set on a copy of a slice from a DataFrame.\n",
      "Try using .loc[row_indexer,col_indexer] = value instead\n",
      "\n",
      "See the caveats in the documentation: https://pandas.pydata.org/pandas-docs/stable/user_guide/indexing.html#returning-a-view-versus-a-copy\n",
      "\n"
     ]
    },
    {
     "name": "stdout",
     "output_type": "stream",
     "text": [
      "17296\n"
     ]
    },
    {
     "name": "stderr",
     "output_type": "stream",
     "text": [
      "/var/folders/8g/rym67m5d29dcjm2td47sgb_m0000gn/T/ipykernel_29122/413030651.py:16: FutureWarning:\n",
      "\n",
      "Passing 'suffixes' which cause duplicate columns {'Z_y', 'type_geo_y'} in the result is deprecated and will raise a MergeError in a future version.\n",
      "\n",
      "/opt/homebrew/Caskroom/miniforge/base/envs/py3/lib/python3.9/site-packages/sklearn/neighbors/_classification.py:198: DataConversionWarning:\n",
      "\n",
      "A column-vector y was passed when a 1d array was expected. Please change the shape of y to (n_samples,), for example using ravel().\n",
      "\n",
      "/var/folders/8g/rym67m5d29dcjm2td47sgb_m0000gn/T/ipykernel_29122/413030651.py:25: SettingWithCopyWarning:\n",
      "\n",
      "\n",
      "A value is trying to be set on a copy of a slice from a DataFrame.\n",
      "Try using .loc[row_indexer,col_indexer] = value instead\n",
      "\n",
      "See the caveats in the documentation: https://pandas.pydata.org/pandas-docs/stable/user_guide/indexing.html#returning-a-view-versus-a-copy\n",
      "\n"
     ]
    },
    {
     "name": "stdout",
     "output_type": "stream",
     "text": [
      "14788\n"
     ]
    },
    {
     "name": "stderr",
     "output_type": "stream",
     "text": [
      "/var/folders/8g/rym67m5d29dcjm2td47sgb_m0000gn/T/ipykernel_29122/413030651.py:16: FutureWarning:\n",
      "\n",
      "Passing 'suffixes' which cause duplicate columns {'type_geo_y'} in the result is deprecated and will raise a MergeError in a future version.\n",
      "\n",
      "/opt/homebrew/Caskroom/miniforge/base/envs/py3/lib/python3.9/site-packages/sklearn/neighbors/_classification.py:198: DataConversionWarning:\n",
      "\n",
      "A column-vector y was passed when a 1d array was expected. Please change the shape of y to (n_samples,), for example using ravel().\n",
      "\n",
      "/var/folders/8g/rym67m5d29dcjm2td47sgb_m0000gn/T/ipykernel_29122/413030651.py:25: SettingWithCopyWarning:\n",
      "\n",
      "\n",
      "A value is trying to be set on a copy of a slice from a DataFrame.\n",
      "Try using .loc[row_indexer,col_indexer] = value instead\n",
      "\n",
      "See the caveats in the documentation: https://pandas.pydata.org/pandas-docs/stable/user_guide/indexing.html#returning-a-view-versus-a-copy\n",
      "\n"
     ]
    },
    {
     "name": "stdout",
     "output_type": "stream",
     "text": [
      "17296\n"
     ]
    },
    {
     "name": "stderr",
     "output_type": "stream",
     "text": [
      "/var/folders/8g/rym67m5d29dcjm2td47sgb_m0000gn/T/ipykernel_29122/413030651.py:16: FutureWarning:\n",
      "\n",
      "Passing 'suffixes' which cause duplicate columns {'Z_y', 'type_geo_y'} in the result is deprecated and will raise a MergeError in a future version.\n",
      "\n",
      "/opt/homebrew/Caskroom/miniforge/base/envs/py3/lib/python3.9/site-packages/sklearn/neighbors/_classification.py:198: DataConversionWarning:\n",
      "\n",
      "A column-vector y was passed when a 1d array was expected. Please change the shape of y to (n_samples,), for example using ravel().\n",
      "\n",
      "/var/folders/8g/rym67m5d29dcjm2td47sgb_m0000gn/T/ipykernel_29122/413030651.py:25: SettingWithCopyWarning:\n",
      "\n",
      "\n",
      "A value is trying to be set on a copy of a slice from a DataFrame.\n",
      "Try using .loc[row_indexer,col_indexer] = value instead\n",
      "\n",
      "See the caveats in the documentation: https://pandas.pydata.org/pandas-docs/stable/user_guide/indexing.html#returning-a-view-versus-a-copy\n",
      "\n"
     ]
    },
    {
     "name": "stdout",
     "output_type": "stream",
     "text": [
      "14788\n"
     ]
    },
    {
     "name": "stderr",
     "output_type": "stream",
     "text": [
      "/var/folders/8g/rym67m5d29dcjm2td47sgb_m0000gn/T/ipykernel_29122/413030651.py:16: FutureWarning:\n",
      "\n",
      "Passing 'suffixes' which cause duplicate columns {'type_geo_y'} in the result is deprecated and will raise a MergeError in a future version.\n",
      "\n",
      "/opt/homebrew/Caskroom/miniforge/base/envs/py3/lib/python3.9/site-packages/sklearn/neighbors/_classification.py:198: DataConversionWarning:\n",
      "\n",
      "A column-vector y was passed when a 1d array was expected. Please change the shape of y to (n_samples,), for example using ravel().\n",
      "\n",
      "/var/folders/8g/rym67m5d29dcjm2td47sgb_m0000gn/T/ipykernel_29122/413030651.py:25: SettingWithCopyWarning:\n",
      "\n",
      "\n",
      "A value is trying to be set on a copy of a slice from a DataFrame.\n",
      "Try using .loc[row_indexer,col_indexer] = value instead\n",
      "\n",
      "See the caveats in the documentation: https://pandas.pydata.org/pandas-docs/stable/user_guide/indexing.html#returning-a-view-versus-a-copy\n",
      "\n"
     ]
    },
    {
     "name": "stdout",
     "output_type": "stream",
     "text": [
      "17296\n"
     ]
    },
    {
     "name": "stderr",
     "output_type": "stream",
     "text": [
      "/var/folders/8g/rym67m5d29dcjm2td47sgb_m0000gn/T/ipykernel_29122/413030651.py:16: FutureWarning:\n",
      "\n",
      "Passing 'suffixes' which cause duplicate columns {'Z_y', 'type_geo_y'} in the result is deprecated and will raise a MergeError in a future version.\n",
      "\n",
      "/opt/homebrew/Caskroom/miniforge/base/envs/py3/lib/python3.9/site-packages/sklearn/neighbors/_classification.py:198: DataConversionWarning:\n",
      "\n",
      "A column-vector y was passed when a 1d array was expected. Please change the shape of y to (n_samples,), for example using ravel().\n",
      "\n",
      "/var/folders/8g/rym67m5d29dcjm2td47sgb_m0000gn/T/ipykernel_29122/413030651.py:25: SettingWithCopyWarning:\n",
      "\n",
      "\n",
      "A value is trying to be set on a copy of a slice from a DataFrame.\n",
      "Try using .loc[row_indexer,col_indexer] = value instead\n",
      "\n",
      "See the caveats in the documentation: https://pandas.pydata.org/pandas-docs/stable/user_guide/indexing.html#returning-a-view-versus-a-copy\n",
      "\n"
     ]
    },
    {
     "name": "stdout",
     "output_type": "stream",
     "text": [
      "14788\n"
     ]
    },
    {
     "name": "stderr",
     "output_type": "stream",
     "text": [
      "/var/folders/8g/rym67m5d29dcjm2td47sgb_m0000gn/T/ipykernel_29122/413030651.py:16: FutureWarning:\n",
      "\n",
      "Passing 'suffixes' which cause duplicate columns {'type_geo_y'} in the result is deprecated and will raise a MergeError in a future version.\n",
      "\n",
      "/opt/homebrew/Caskroom/miniforge/base/envs/py3/lib/python3.9/site-packages/sklearn/neighbors/_classification.py:198: DataConversionWarning:\n",
      "\n",
      "A column-vector y was passed when a 1d array was expected. Please change the shape of y to (n_samples,), for example using ravel().\n",
      "\n",
      "/var/folders/8g/rym67m5d29dcjm2td47sgb_m0000gn/T/ipykernel_29122/413030651.py:25: SettingWithCopyWarning:\n",
      "\n",
      "\n",
      "A value is trying to be set on a copy of a slice from a DataFrame.\n",
      "Try using .loc[row_indexer,col_indexer] = value instead\n",
      "\n",
      "See the caveats in the documentation: https://pandas.pydata.org/pandas-docs/stable/user_guide/indexing.html#returning-a-view-versus-a-copy\n",
      "\n"
     ]
    },
    {
     "name": "stdout",
     "output_type": "stream",
     "text": [
      "17296\n"
     ]
    },
    {
     "name": "stderr",
     "output_type": "stream",
     "text": [
      "/var/folders/8g/rym67m5d29dcjm2td47sgb_m0000gn/T/ipykernel_29122/413030651.py:16: FutureWarning:\n",
      "\n",
      "Passing 'suffixes' which cause duplicate columns {'Z_y', 'type_geo_y'} in the result is deprecated and will raise a MergeError in a future version.\n",
      "\n",
      "/opt/homebrew/Caskroom/miniforge/base/envs/py3/lib/python3.9/site-packages/sklearn/neighbors/_classification.py:198: DataConversionWarning:\n",
      "\n",
      "A column-vector y was passed when a 1d array was expected. Please change the shape of y to (n_samples,), for example using ravel().\n",
      "\n",
      "/var/folders/8g/rym67m5d29dcjm2td47sgb_m0000gn/T/ipykernel_29122/413030651.py:25: SettingWithCopyWarning:\n",
      "\n",
      "\n",
      "A value is trying to be set on a copy of a slice from a DataFrame.\n",
      "Try using .loc[row_indexer,col_indexer] = value instead\n",
      "\n",
      "See the caveats in the documentation: https://pandas.pydata.org/pandas-docs/stable/user_guide/indexing.html#returning-a-view-versus-a-copy\n",
      "\n"
     ]
    },
    {
     "name": "stdout",
     "output_type": "stream",
     "text": [
      "14788\n"
     ]
    },
    {
     "name": "stderr",
     "output_type": "stream",
     "text": [
      "/var/folders/8g/rym67m5d29dcjm2td47sgb_m0000gn/T/ipykernel_29122/413030651.py:16: FutureWarning:\n",
      "\n",
      "Passing 'suffixes' which cause duplicate columns {'type_geo_y'} in the result is deprecated and will raise a MergeError in a future version.\n",
      "\n",
      "/opt/homebrew/Caskroom/miniforge/base/envs/py3/lib/python3.9/site-packages/sklearn/neighbors/_classification.py:198: DataConversionWarning:\n",
      "\n",
      "A column-vector y was passed when a 1d array was expected. Please change the shape of y to (n_samples,), for example using ravel().\n",
      "\n",
      "/var/folders/8g/rym67m5d29dcjm2td47sgb_m0000gn/T/ipykernel_29122/413030651.py:25: SettingWithCopyWarning:\n",
      "\n",
      "\n",
      "A value is trying to be set on a copy of a slice from a DataFrame.\n",
      "Try using .loc[row_indexer,col_indexer] = value instead\n",
      "\n",
      "See the caveats in the documentation: https://pandas.pydata.org/pandas-docs/stable/user_guide/indexing.html#returning-a-view-versus-a-copy\n",
      "\n",
      "/var/folders/8g/rym67m5d29dcjm2td47sgb_m0000gn/T/ipykernel_29122/413030651.py:16: FutureWarning:\n",
      "\n",
      "Passing 'suffixes' which cause duplicate columns {'Z_y', 'type_geo_y'} in the result is deprecated and will raise a MergeError in a future version.\n",
      "\n"
     ]
    },
    {
     "name": "stdout",
     "output_type": "stream",
     "text": [
      "17296\n"
     ]
    },
    {
     "name": "stderr",
     "output_type": "stream",
     "text": [
      "/opt/homebrew/Caskroom/miniforge/base/envs/py3/lib/python3.9/site-packages/sklearn/neighbors/_classification.py:198: DataConversionWarning:\n",
      "\n",
      "A column-vector y was passed when a 1d array was expected. Please change the shape of y to (n_samples,), for example using ravel().\n",
      "\n",
      "/var/folders/8g/rym67m5d29dcjm2td47sgb_m0000gn/T/ipykernel_29122/413030651.py:25: SettingWithCopyWarning:\n",
      "\n",
      "\n",
      "A value is trying to be set on a copy of a slice from a DataFrame.\n",
      "Try using .loc[row_indexer,col_indexer] = value instead\n",
      "\n",
      "See the caveats in the documentation: https://pandas.pydata.org/pandas-docs/stable/user_guide/indexing.html#returning-a-view-versus-a-copy\n",
      "\n"
     ]
    },
    {
     "name": "stdout",
     "output_type": "stream",
     "text": [
      "14788\n"
     ]
    },
    {
     "name": "stderr",
     "output_type": "stream",
     "text": [
      "/var/folders/8g/rym67m5d29dcjm2td47sgb_m0000gn/T/ipykernel_29122/413030651.py:16: FutureWarning:\n",
      "\n",
      "Passing 'suffixes' which cause duplicate columns {'type_geo_y'} in the result is deprecated and will raise a MergeError in a future version.\n",
      "\n",
      "/opt/homebrew/Caskroom/miniforge/base/envs/py3/lib/python3.9/site-packages/sklearn/neighbors/_classification.py:198: DataConversionWarning:\n",
      "\n",
      "A column-vector y was passed when a 1d array was expected. Please change the shape of y to (n_samples,), for example using ravel().\n",
      "\n",
      "/var/folders/8g/rym67m5d29dcjm2td47sgb_m0000gn/T/ipykernel_29122/413030651.py:25: SettingWithCopyWarning:\n",
      "\n",
      "\n",
      "A value is trying to be set on a copy of a slice from a DataFrame.\n",
      "Try using .loc[row_indexer,col_indexer] = value instead\n",
      "\n",
      "See the caveats in the documentation: https://pandas.pydata.org/pandas-docs/stable/user_guide/indexing.html#returning-a-view-versus-a-copy\n",
      "\n"
     ]
    },
    {
     "name": "stdout",
     "output_type": "stream",
     "text": [
      "17296\n"
     ]
    },
    {
     "name": "stderr",
     "output_type": "stream",
     "text": [
      "/var/folders/8g/rym67m5d29dcjm2td47sgb_m0000gn/T/ipykernel_29122/413030651.py:16: FutureWarning:\n",
      "\n",
      "Passing 'suffixes' which cause duplicate columns {'Z_y', 'type_geo_y'} in the result is deprecated and will raise a MergeError in a future version.\n",
      "\n",
      "/opt/homebrew/Caskroom/miniforge/base/envs/py3/lib/python3.9/site-packages/sklearn/neighbors/_classification.py:198: DataConversionWarning:\n",
      "\n",
      "A column-vector y was passed when a 1d array was expected. Please change the shape of y to (n_samples,), for example using ravel().\n",
      "\n",
      "/var/folders/8g/rym67m5d29dcjm2td47sgb_m0000gn/T/ipykernel_29122/413030651.py:25: SettingWithCopyWarning:\n",
      "\n",
      "\n",
      "A value is trying to be set on a copy of a slice from a DataFrame.\n",
      "Try using .loc[row_indexer,col_indexer] = value instead\n",
      "\n",
      "See the caveats in the documentation: https://pandas.pydata.org/pandas-docs/stable/user_guide/indexing.html#returning-a-view-versus-a-copy\n",
      "\n"
     ]
    },
    {
     "name": "stdout",
     "output_type": "stream",
     "text": [
      "14788\n"
     ]
    },
    {
     "name": "stderr",
     "output_type": "stream",
     "text": [
      "/var/folders/8g/rym67m5d29dcjm2td47sgb_m0000gn/T/ipykernel_29122/413030651.py:16: FutureWarning:\n",
      "\n",
      "Passing 'suffixes' which cause duplicate columns {'type_geo_y'} in the result is deprecated and will raise a MergeError in a future version.\n",
      "\n",
      "/opt/homebrew/Caskroom/miniforge/base/envs/py3/lib/python3.9/site-packages/sklearn/neighbors/_classification.py:198: DataConversionWarning:\n",
      "\n",
      "A column-vector y was passed when a 1d array was expected. Please change the shape of y to (n_samples,), for example using ravel().\n",
      "\n",
      "/var/folders/8g/rym67m5d29dcjm2td47sgb_m0000gn/T/ipykernel_29122/413030651.py:25: SettingWithCopyWarning:\n",
      "\n",
      "\n",
      "A value is trying to be set on a copy of a slice from a DataFrame.\n",
      "Try using .loc[row_indexer,col_indexer] = value instead\n",
      "\n",
      "See the caveats in the documentation: https://pandas.pydata.org/pandas-docs/stable/user_guide/indexing.html#returning-a-view-versus-a-copy\n",
      "\n"
     ]
    },
    {
     "name": "stdout",
     "output_type": "stream",
     "text": [
      "17296\n"
     ]
    },
    {
     "name": "stderr",
     "output_type": "stream",
     "text": [
      "/var/folders/8g/rym67m5d29dcjm2td47sgb_m0000gn/T/ipykernel_29122/413030651.py:16: FutureWarning:\n",
      "\n",
      "Passing 'suffixes' which cause duplicate columns {'Z_y', 'type_geo_y'} in the result is deprecated and will raise a MergeError in a future version.\n",
      "\n",
      "/opt/homebrew/Caskroom/miniforge/base/envs/py3/lib/python3.9/site-packages/sklearn/neighbors/_classification.py:198: DataConversionWarning:\n",
      "\n",
      "A column-vector y was passed when a 1d array was expected. Please change the shape of y to (n_samples,), for example using ravel().\n",
      "\n",
      "/var/folders/8g/rym67m5d29dcjm2td47sgb_m0000gn/T/ipykernel_29122/413030651.py:25: SettingWithCopyWarning:\n",
      "\n",
      "\n",
      "A value is trying to be set on a copy of a slice from a DataFrame.\n",
      "Try using .loc[row_indexer,col_indexer] = value instead\n",
      "\n",
      "See the caveats in the documentation: https://pandas.pydata.org/pandas-docs/stable/user_guide/indexing.html#returning-a-view-versus-a-copy\n",
      "\n"
     ]
    },
    {
     "name": "stdout",
     "output_type": "stream",
     "text": [
      "14788\n"
     ]
    },
    {
     "name": "stderr",
     "output_type": "stream",
     "text": [
      "/var/folders/8g/rym67m5d29dcjm2td47sgb_m0000gn/T/ipykernel_29122/413030651.py:16: FutureWarning:\n",
      "\n",
      "Passing 'suffixes' which cause duplicate columns {'type_geo_y'} in the result is deprecated and will raise a MergeError in a future version.\n",
      "\n",
      "/opt/homebrew/Caskroom/miniforge/base/envs/py3/lib/python3.9/site-packages/sklearn/neighbors/_classification.py:198: DataConversionWarning:\n",
      "\n",
      "A column-vector y was passed when a 1d array was expected. Please change the shape of y to (n_samples,), for example using ravel().\n",
      "\n",
      "/var/folders/8g/rym67m5d29dcjm2td47sgb_m0000gn/T/ipykernel_29122/413030651.py:25: SettingWithCopyWarning:\n",
      "\n",
      "\n",
      "A value is trying to be set on a copy of a slice from a DataFrame.\n",
      "Try using .loc[row_indexer,col_indexer] = value instead\n",
      "\n",
      "See the caveats in the documentation: https://pandas.pydata.org/pandas-docs/stable/user_guide/indexing.html#returning-a-view-versus-a-copy\n",
      "\n",
      "/var/folders/8g/rym67m5d29dcjm2td47sgb_m0000gn/T/ipykernel_29122/413030651.py:16: FutureWarning:\n",
      "\n",
      "Passing 'suffixes' which cause duplicate columns {'Z_y', 'type_geo_y'} in the result is deprecated and will raise a MergeError in a future version.\n",
      "\n"
     ]
    },
    {
     "name": "stdout",
     "output_type": "stream",
     "text": [
      "17296\n"
     ]
    },
    {
     "name": "stderr",
     "output_type": "stream",
     "text": [
      "/opt/homebrew/Caskroom/miniforge/base/envs/py3/lib/python3.9/site-packages/sklearn/neighbors/_classification.py:198: DataConversionWarning:\n",
      "\n",
      "A column-vector y was passed when a 1d array was expected. Please change the shape of y to (n_samples,), for example using ravel().\n",
      "\n",
      "/var/folders/8g/rym67m5d29dcjm2td47sgb_m0000gn/T/ipykernel_29122/413030651.py:25: SettingWithCopyWarning:\n",
      "\n",
      "\n",
      "A value is trying to be set on a copy of a slice from a DataFrame.\n",
      "Try using .loc[row_indexer,col_indexer] = value instead\n",
      "\n",
      "See the caveats in the documentation: https://pandas.pydata.org/pandas-docs/stable/user_guide/indexing.html#returning-a-view-versus-a-copy\n",
      "\n"
     ]
    },
    {
     "name": "stdout",
     "output_type": "stream",
     "text": [
      "14788\n"
     ]
    },
    {
     "name": "stderr",
     "output_type": "stream",
     "text": [
      "/var/folders/8g/rym67m5d29dcjm2td47sgb_m0000gn/T/ipykernel_29122/413030651.py:16: FutureWarning:\n",
      "\n",
      "Passing 'suffixes' which cause duplicate columns {'type_geo_y'} in the result is deprecated and will raise a MergeError in a future version.\n",
      "\n",
      "/opt/homebrew/Caskroom/miniforge/base/envs/py3/lib/python3.9/site-packages/sklearn/neighbors/_classification.py:198: DataConversionWarning:\n",
      "\n",
      "A column-vector y was passed when a 1d array was expected. Please change the shape of y to (n_samples,), for example using ravel().\n",
      "\n",
      "/var/folders/8g/rym67m5d29dcjm2td47sgb_m0000gn/T/ipykernel_29122/413030651.py:25: SettingWithCopyWarning:\n",
      "\n",
      "\n",
      "A value is trying to be set on a copy of a slice from a DataFrame.\n",
      "Try using .loc[row_indexer,col_indexer] = value instead\n",
      "\n",
      "See the caveats in the documentation: https://pandas.pydata.org/pandas-docs/stable/user_guide/indexing.html#returning-a-view-versus-a-copy\n",
      "\n"
     ]
    },
    {
     "name": "stdout",
     "output_type": "stream",
     "text": [
      "17296\n"
     ]
    },
    {
     "name": "stderr",
     "output_type": "stream",
     "text": [
      "/var/folders/8g/rym67m5d29dcjm2td47sgb_m0000gn/T/ipykernel_29122/413030651.py:16: FutureWarning:\n",
      "\n",
      "Passing 'suffixes' which cause duplicate columns {'Z_y', 'type_geo_y'} in the result is deprecated and will raise a MergeError in a future version.\n",
      "\n",
      "/opt/homebrew/Caskroom/miniforge/base/envs/py3/lib/python3.9/site-packages/sklearn/neighbors/_classification.py:198: DataConversionWarning:\n",
      "\n",
      "A column-vector y was passed when a 1d array was expected. Please change the shape of y to (n_samples,), for example using ravel().\n",
      "\n",
      "/var/folders/8g/rym67m5d29dcjm2td47sgb_m0000gn/T/ipykernel_29122/413030651.py:25: SettingWithCopyWarning:\n",
      "\n",
      "\n",
      "A value is trying to be set on a copy of a slice from a DataFrame.\n",
      "Try using .loc[row_indexer,col_indexer] = value instead\n",
      "\n",
      "See the caveats in the documentation: https://pandas.pydata.org/pandas-docs/stable/user_guide/indexing.html#returning-a-view-versus-a-copy\n",
      "\n"
     ]
    },
    {
     "name": "stdout",
     "output_type": "stream",
     "text": [
      "14788\n"
     ]
    },
    {
     "name": "stderr",
     "output_type": "stream",
     "text": [
      "/var/folders/8g/rym67m5d29dcjm2td47sgb_m0000gn/T/ipykernel_29122/413030651.py:16: FutureWarning:\n",
      "\n",
      "Passing 'suffixes' which cause duplicate columns {'type_geo_y'} in the result is deprecated and will raise a MergeError in a future version.\n",
      "\n",
      "/opt/homebrew/Caskroom/miniforge/base/envs/py3/lib/python3.9/site-packages/sklearn/neighbors/_classification.py:198: DataConversionWarning:\n",
      "\n",
      "A column-vector y was passed when a 1d array was expected. Please change the shape of y to (n_samples,), for example using ravel().\n",
      "\n",
      "/var/folders/8g/rym67m5d29dcjm2td47sgb_m0000gn/T/ipykernel_29122/413030651.py:25: SettingWithCopyWarning:\n",
      "\n",
      "\n",
      "A value is trying to be set on a copy of a slice from a DataFrame.\n",
      "Try using .loc[row_indexer,col_indexer] = value instead\n",
      "\n",
      "See the caveats in the documentation: https://pandas.pydata.org/pandas-docs/stable/user_guide/indexing.html#returning-a-view-versus-a-copy\n",
      "\n"
     ]
    },
    {
     "name": "stdout",
     "output_type": "stream",
     "text": [
      "17296\n"
     ]
    },
    {
     "name": "stderr",
     "output_type": "stream",
     "text": [
      "/var/folders/8g/rym67m5d29dcjm2td47sgb_m0000gn/T/ipykernel_29122/413030651.py:16: FutureWarning:\n",
      "\n",
      "Passing 'suffixes' which cause duplicate columns {'Z_y', 'type_geo_y'} in the result is deprecated and will raise a MergeError in a future version.\n",
      "\n",
      "/opt/homebrew/Caskroom/miniforge/base/envs/py3/lib/python3.9/site-packages/sklearn/neighbors/_classification.py:198: DataConversionWarning:\n",
      "\n",
      "A column-vector y was passed when a 1d array was expected. Please change the shape of y to (n_samples,), for example using ravel().\n",
      "\n",
      "/var/folders/8g/rym67m5d29dcjm2td47sgb_m0000gn/T/ipykernel_29122/413030651.py:25: SettingWithCopyWarning:\n",
      "\n",
      "\n",
      "A value is trying to be set on a copy of a slice from a DataFrame.\n",
      "Try using .loc[row_indexer,col_indexer] = value instead\n",
      "\n",
      "See the caveats in the documentation: https://pandas.pydata.org/pandas-docs/stable/user_guide/indexing.html#returning-a-view-versus-a-copy\n",
      "\n"
     ]
    },
    {
     "name": "stdout",
     "output_type": "stream",
     "text": [
      "14788\n"
     ]
    },
    {
     "name": "stderr",
     "output_type": "stream",
     "text": [
      "/var/folders/8g/rym67m5d29dcjm2td47sgb_m0000gn/T/ipykernel_29122/413030651.py:16: FutureWarning:\n",
      "\n",
      "Passing 'suffixes' which cause duplicate columns {'type_geo_y'} in the result is deprecated and will raise a MergeError in a future version.\n",
      "\n",
      "/opt/homebrew/Caskroom/miniforge/base/envs/py3/lib/python3.9/site-packages/sklearn/neighbors/_classification.py:198: DataConversionWarning:\n",
      "\n",
      "A column-vector y was passed when a 1d array was expected. Please change the shape of y to (n_samples,), for example using ravel().\n",
      "\n",
      "/var/folders/8g/rym67m5d29dcjm2td47sgb_m0000gn/T/ipykernel_29122/413030651.py:25: SettingWithCopyWarning:\n",
      "\n",
      "\n",
      "A value is trying to be set on a copy of a slice from a DataFrame.\n",
      "Try using .loc[row_indexer,col_indexer] = value instead\n",
      "\n",
      "See the caveats in the documentation: https://pandas.pydata.org/pandas-docs/stable/user_guide/indexing.html#returning-a-view-versus-a-copy\n",
      "\n",
      "/var/folders/8g/rym67m5d29dcjm2td47sgb_m0000gn/T/ipykernel_29122/413030651.py:16: FutureWarning:\n",
      "\n",
      "Passing 'suffixes' which cause duplicate columns {'Z_y', 'type_geo_y'} in the result is deprecated and will raise a MergeError in a future version.\n",
      "\n"
     ]
    },
    {
     "name": "stdout",
     "output_type": "stream",
     "text": [
      "17296\n"
     ]
    },
    {
     "name": "stderr",
     "output_type": "stream",
     "text": [
      "/opt/homebrew/Caskroom/miniforge/base/envs/py3/lib/python3.9/site-packages/sklearn/neighbors/_classification.py:198: DataConversionWarning:\n",
      "\n",
      "A column-vector y was passed when a 1d array was expected. Please change the shape of y to (n_samples,), for example using ravel().\n",
      "\n",
      "/var/folders/8g/rym67m5d29dcjm2td47sgb_m0000gn/T/ipykernel_29122/413030651.py:25: SettingWithCopyWarning:\n",
      "\n",
      "\n",
      "A value is trying to be set on a copy of a slice from a DataFrame.\n",
      "Try using .loc[row_indexer,col_indexer] = value instead\n",
      "\n",
      "See the caveats in the documentation: https://pandas.pydata.org/pandas-docs/stable/user_guide/indexing.html#returning-a-view-versus-a-copy\n",
      "\n"
     ]
    },
    {
     "name": "stdout",
     "output_type": "stream",
     "text": [
      "14788\n"
     ]
    },
    {
     "name": "stderr",
     "output_type": "stream",
     "text": [
      "/var/folders/8g/rym67m5d29dcjm2td47sgb_m0000gn/T/ipykernel_29122/413030651.py:16: FutureWarning:\n",
      "\n",
      "Passing 'suffixes' which cause duplicate columns {'type_geo_y'} in the result is deprecated and will raise a MergeError in a future version.\n",
      "\n",
      "/opt/homebrew/Caskroom/miniforge/base/envs/py3/lib/python3.9/site-packages/sklearn/neighbors/_classification.py:198: DataConversionWarning:\n",
      "\n",
      "A column-vector y was passed when a 1d array was expected. Please change the shape of y to (n_samples,), for example using ravel().\n",
      "\n",
      "/var/folders/8g/rym67m5d29dcjm2td47sgb_m0000gn/T/ipykernel_29122/413030651.py:25: SettingWithCopyWarning:\n",
      "\n",
      "\n",
      "A value is trying to be set on a copy of a slice from a DataFrame.\n",
      "Try using .loc[row_indexer,col_indexer] = value instead\n",
      "\n",
      "See the caveats in the documentation: https://pandas.pydata.org/pandas-docs/stable/user_guide/indexing.html#returning-a-view-versus-a-copy\n",
      "\n",
      "/var/folders/8g/rym67m5d29dcjm2td47sgb_m0000gn/T/ipykernel_29122/413030651.py:16: FutureWarning:\n",
      "\n",
      "Passing 'suffixes' which cause duplicate columns {'Z_y', 'type_geo_y'} in the result is deprecated and will raise a MergeError in a future version.\n",
      "\n"
     ]
    },
    {
     "name": "stdout",
     "output_type": "stream",
     "text": [
      "17296\n"
     ]
    },
    {
     "name": "stderr",
     "output_type": "stream",
     "text": [
      "/opt/homebrew/Caskroom/miniforge/base/envs/py3/lib/python3.9/site-packages/sklearn/neighbors/_classification.py:198: DataConversionWarning:\n",
      "\n",
      "A column-vector y was passed when a 1d array was expected. Please change the shape of y to (n_samples,), for example using ravel().\n",
      "\n",
      "/var/folders/8g/rym67m5d29dcjm2td47sgb_m0000gn/T/ipykernel_29122/413030651.py:25: SettingWithCopyWarning:\n",
      "\n",
      "\n",
      "A value is trying to be set on a copy of a slice from a DataFrame.\n",
      "Try using .loc[row_indexer,col_indexer] = value instead\n",
      "\n",
      "See the caveats in the documentation: https://pandas.pydata.org/pandas-docs/stable/user_guide/indexing.html#returning-a-view-versus-a-copy\n",
      "\n"
     ]
    },
    {
     "name": "stdout",
     "output_type": "stream",
     "text": [
      "14788\n"
     ]
    },
    {
     "name": "stderr",
     "output_type": "stream",
     "text": [
      "/var/folders/8g/rym67m5d29dcjm2td47sgb_m0000gn/T/ipykernel_29122/413030651.py:16: FutureWarning:\n",
      "\n",
      "Passing 'suffixes' which cause duplicate columns {'type_geo_y'} in the result is deprecated and will raise a MergeError in a future version.\n",
      "\n",
      "/opt/homebrew/Caskroom/miniforge/base/envs/py3/lib/python3.9/site-packages/sklearn/neighbors/_classification.py:198: DataConversionWarning:\n",
      "\n",
      "A column-vector y was passed when a 1d array was expected. Please change the shape of y to (n_samples,), for example using ravel().\n",
      "\n",
      "/var/folders/8g/rym67m5d29dcjm2td47sgb_m0000gn/T/ipykernel_29122/413030651.py:25: SettingWithCopyWarning:\n",
      "\n",
      "\n",
      "A value is trying to be set on a copy of a slice from a DataFrame.\n",
      "Try using .loc[row_indexer,col_indexer] = value instead\n",
      "\n",
      "See the caveats in the documentation: https://pandas.pydata.org/pandas-docs/stable/user_guide/indexing.html#returning-a-view-versus-a-copy\n",
      "\n"
     ]
    },
    {
     "name": "stdout",
     "output_type": "stream",
     "text": [
      "17296\n"
     ]
    },
    {
     "name": "stderr",
     "output_type": "stream",
     "text": [
      "/var/folders/8g/rym67m5d29dcjm2td47sgb_m0000gn/T/ipykernel_29122/413030651.py:16: FutureWarning:\n",
      "\n",
      "Passing 'suffixes' which cause duplicate columns {'Z_y', 'type_geo_y'} in the result is deprecated and will raise a MergeError in a future version.\n",
      "\n",
      "/opt/homebrew/Caskroom/miniforge/base/envs/py3/lib/python3.9/site-packages/sklearn/neighbors/_classification.py:198: DataConversionWarning:\n",
      "\n",
      "A column-vector y was passed when a 1d array was expected. Please change the shape of y to (n_samples,), for example using ravel().\n",
      "\n",
      "/var/folders/8g/rym67m5d29dcjm2td47sgb_m0000gn/T/ipykernel_29122/413030651.py:25: SettingWithCopyWarning:\n",
      "\n",
      "\n",
      "A value is trying to be set on a copy of a slice from a DataFrame.\n",
      "Try using .loc[row_indexer,col_indexer] = value instead\n",
      "\n",
      "See the caveats in the documentation: https://pandas.pydata.org/pandas-docs/stable/user_guide/indexing.html#returning-a-view-versus-a-copy\n",
      "\n"
     ]
    },
    {
     "name": "stdout",
     "output_type": "stream",
     "text": [
      "14788\n"
     ]
    },
    {
     "name": "stderr",
     "output_type": "stream",
     "text": [
      "/var/folders/8g/rym67m5d29dcjm2td47sgb_m0000gn/T/ipykernel_29122/413030651.py:16: FutureWarning:\n",
      "\n",
      "Passing 'suffixes' which cause duplicate columns {'type_geo_y'} in the result is deprecated and will raise a MergeError in a future version.\n",
      "\n",
      "/opt/homebrew/Caskroom/miniforge/base/envs/py3/lib/python3.9/site-packages/sklearn/neighbors/_classification.py:198: DataConversionWarning:\n",
      "\n",
      "A column-vector y was passed when a 1d array was expected. Please change the shape of y to (n_samples,), for example using ravel().\n",
      "\n",
      "/var/folders/8g/rym67m5d29dcjm2td47sgb_m0000gn/T/ipykernel_29122/413030651.py:25: SettingWithCopyWarning:\n",
      "\n",
      "\n",
      "A value is trying to be set on a copy of a slice from a DataFrame.\n",
      "Try using .loc[row_indexer,col_indexer] = value instead\n",
      "\n",
      "See the caveats in the documentation: https://pandas.pydata.org/pandas-docs/stable/user_guide/indexing.html#returning-a-view-versus-a-copy\n",
      "\n",
      "/var/folders/8g/rym67m5d29dcjm2td47sgb_m0000gn/T/ipykernel_29122/413030651.py:16: FutureWarning:\n",
      "\n",
      "Passing 'suffixes' which cause duplicate columns {'Z_y', 'type_geo_y'} in the result is deprecated and will raise a MergeError in a future version.\n",
      "\n"
     ]
    },
    {
     "name": "stdout",
     "output_type": "stream",
     "text": [
      "17296\n"
     ]
    },
    {
     "name": "stderr",
     "output_type": "stream",
     "text": [
      "/opt/homebrew/Caskroom/miniforge/base/envs/py3/lib/python3.9/site-packages/sklearn/neighbors/_classification.py:198: DataConversionWarning:\n",
      "\n",
      "A column-vector y was passed when a 1d array was expected. Please change the shape of y to (n_samples,), for example using ravel().\n",
      "\n",
      "/var/folders/8g/rym67m5d29dcjm2td47sgb_m0000gn/T/ipykernel_29122/413030651.py:25: SettingWithCopyWarning:\n",
      "\n",
      "\n",
      "A value is trying to be set on a copy of a slice from a DataFrame.\n",
      "Try using .loc[row_indexer,col_indexer] = value instead\n",
      "\n",
      "See the caveats in the documentation: https://pandas.pydata.org/pandas-docs/stable/user_guide/indexing.html#returning-a-view-versus-a-copy\n",
      "\n"
     ]
    },
    {
     "name": "stdout",
     "output_type": "stream",
     "text": [
      "14788\n"
     ]
    },
    {
     "name": "stderr",
     "output_type": "stream",
     "text": [
      "/var/folders/8g/rym67m5d29dcjm2td47sgb_m0000gn/T/ipykernel_29122/413030651.py:16: FutureWarning:\n",
      "\n",
      "Passing 'suffixes' which cause duplicate columns {'type_geo_y'} in the result is deprecated and will raise a MergeError in a future version.\n",
      "\n",
      "/opt/homebrew/Caskroom/miniforge/base/envs/py3/lib/python3.9/site-packages/sklearn/neighbors/_classification.py:198: DataConversionWarning:\n",
      "\n",
      "A column-vector y was passed when a 1d array was expected. Please change the shape of y to (n_samples,), for example using ravel().\n",
      "\n",
      "/var/folders/8g/rym67m5d29dcjm2td47sgb_m0000gn/T/ipykernel_29122/413030651.py:25: SettingWithCopyWarning:\n",
      "\n",
      "\n",
      "A value is trying to be set on a copy of a slice from a DataFrame.\n",
      "Try using .loc[row_indexer,col_indexer] = value instead\n",
      "\n",
      "See the caveats in the documentation: https://pandas.pydata.org/pandas-docs/stable/user_guide/indexing.html#returning-a-view-versus-a-copy\n",
      "\n"
     ]
    },
    {
     "name": "stdout",
     "output_type": "stream",
     "text": [
      "17296\n"
     ]
    },
    {
     "name": "stderr",
     "output_type": "stream",
     "text": [
      "/var/folders/8g/rym67m5d29dcjm2td47sgb_m0000gn/T/ipykernel_29122/413030651.py:16: FutureWarning:\n",
      "\n",
      "Passing 'suffixes' which cause duplicate columns {'Z_y', 'type_geo_y'} in the result is deprecated and will raise a MergeError in a future version.\n",
      "\n",
      "/opt/homebrew/Caskroom/miniforge/base/envs/py3/lib/python3.9/site-packages/sklearn/neighbors/_classification.py:198: DataConversionWarning:\n",
      "\n",
      "A column-vector y was passed when a 1d array was expected. Please change the shape of y to (n_samples,), for example using ravel().\n",
      "\n",
      "/var/folders/8g/rym67m5d29dcjm2td47sgb_m0000gn/T/ipykernel_29122/413030651.py:25: SettingWithCopyWarning:\n",
      "\n",
      "\n",
      "A value is trying to be set on a copy of a slice from a DataFrame.\n",
      "Try using .loc[row_indexer,col_indexer] = value instead\n",
      "\n",
      "See the caveats in the documentation: https://pandas.pydata.org/pandas-docs/stable/user_guide/indexing.html#returning-a-view-versus-a-copy\n",
      "\n"
     ]
    },
    {
     "name": "stdout",
     "output_type": "stream",
     "text": [
      "14788\n"
     ]
    },
    {
     "name": "stderr",
     "output_type": "stream",
     "text": [
      "/var/folders/8g/rym67m5d29dcjm2td47sgb_m0000gn/T/ipykernel_29122/413030651.py:16: FutureWarning:\n",
      "\n",
      "Passing 'suffixes' which cause duplicate columns {'type_geo_y'} in the result is deprecated and will raise a MergeError in a future version.\n",
      "\n",
      "/opt/homebrew/Caskroom/miniforge/base/envs/py3/lib/python3.9/site-packages/sklearn/neighbors/_classification.py:198: DataConversionWarning:\n",
      "\n",
      "A column-vector y was passed when a 1d array was expected. Please change the shape of y to (n_samples,), for example using ravel().\n",
      "\n",
      "/var/folders/8g/rym67m5d29dcjm2td47sgb_m0000gn/T/ipykernel_29122/413030651.py:25: SettingWithCopyWarning:\n",
      "\n",
      "\n",
      "A value is trying to be set on a copy of a slice from a DataFrame.\n",
      "Try using .loc[row_indexer,col_indexer] = value instead\n",
      "\n",
      "See the caveats in the documentation: https://pandas.pydata.org/pandas-docs/stable/user_guide/indexing.html#returning-a-view-versus-a-copy\n",
      "\n"
     ]
    },
    {
     "name": "stdout",
     "output_type": "stream",
     "text": [
      "17296\n"
     ]
    },
    {
     "name": "stderr",
     "output_type": "stream",
     "text": [
      "/var/folders/8g/rym67m5d29dcjm2td47sgb_m0000gn/T/ipykernel_29122/413030651.py:16: FutureWarning:\n",
      "\n",
      "Passing 'suffixes' which cause duplicate columns {'Z_y', 'type_geo_y'} in the result is deprecated and will raise a MergeError in a future version.\n",
      "\n",
      "/opt/homebrew/Caskroom/miniforge/base/envs/py3/lib/python3.9/site-packages/sklearn/neighbors/_classification.py:198: DataConversionWarning:\n",
      "\n",
      "A column-vector y was passed when a 1d array was expected. Please change the shape of y to (n_samples,), for example using ravel().\n",
      "\n",
      "/var/folders/8g/rym67m5d29dcjm2td47sgb_m0000gn/T/ipykernel_29122/413030651.py:25: SettingWithCopyWarning:\n",
      "\n",
      "\n",
      "A value is trying to be set on a copy of a slice from a DataFrame.\n",
      "Try using .loc[row_indexer,col_indexer] = value instead\n",
      "\n",
      "See the caveats in the documentation: https://pandas.pydata.org/pandas-docs/stable/user_guide/indexing.html#returning-a-view-versus-a-copy\n",
      "\n"
     ]
    },
    {
     "name": "stdout",
     "output_type": "stream",
     "text": [
      "14788\n"
     ]
    },
    {
     "name": "stderr",
     "output_type": "stream",
     "text": [
      "/var/folders/8g/rym67m5d29dcjm2td47sgb_m0000gn/T/ipykernel_29122/413030651.py:16: FutureWarning:\n",
      "\n",
      "Passing 'suffixes' which cause duplicate columns {'type_geo_y'} in the result is deprecated and will raise a MergeError in a future version.\n",
      "\n",
      "/opt/homebrew/Caskroom/miniforge/base/envs/py3/lib/python3.9/site-packages/sklearn/neighbors/_classification.py:198: DataConversionWarning:\n",
      "\n",
      "A column-vector y was passed when a 1d array was expected. Please change the shape of y to (n_samples,), for example using ravel().\n",
      "\n",
      "/var/folders/8g/rym67m5d29dcjm2td47sgb_m0000gn/T/ipykernel_29122/413030651.py:25: SettingWithCopyWarning:\n",
      "\n",
      "\n",
      "A value is trying to be set on a copy of a slice from a DataFrame.\n",
      "Try using .loc[row_indexer,col_indexer] = value instead\n",
      "\n",
      "See the caveats in the documentation: https://pandas.pydata.org/pandas-docs/stable/user_guide/indexing.html#returning-a-view-versus-a-copy\n",
      "\n",
      "/var/folders/8g/rym67m5d29dcjm2td47sgb_m0000gn/T/ipykernel_29122/413030651.py:16: FutureWarning:\n",
      "\n",
      "Passing 'suffixes' which cause duplicate columns {'Z_y', 'type_geo_y'} in the result is deprecated and will raise a MergeError in a future version.\n",
      "\n"
     ]
    },
    {
     "name": "stdout",
     "output_type": "stream",
     "text": [
      "17296\n"
     ]
    },
    {
     "name": "stderr",
     "output_type": "stream",
     "text": [
      "/opt/homebrew/Caskroom/miniforge/base/envs/py3/lib/python3.9/site-packages/sklearn/neighbors/_classification.py:198: DataConversionWarning:\n",
      "\n",
      "A column-vector y was passed when a 1d array was expected. Please change the shape of y to (n_samples,), for example using ravel().\n",
      "\n",
      "/var/folders/8g/rym67m5d29dcjm2td47sgb_m0000gn/T/ipykernel_29122/413030651.py:25: SettingWithCopyWarning:\n",
      "\n",
      "\n",
      "A value is trying to be set on a copy of a slice from a DataFrame.\n",
      "Try using .loc[row_indexer,col_indexer] = value instead\n",
      "\n",
      "See the caveats in the documentation: https://pandas.pydata.org/pandas-docs/stable/user_guide/indexing.html#returning-a-view-versus-a-copy\n",
      "\n"
     ]
    },
    {
     "name": "stdout",
     "output_type": "stream",
     "text": [
      "14788\n"
     ]
    },
    {
     "name": "stderr",
     "output_type": "stream",
     "text": [
      "/var/folders/8g/rym67m5d29dcjm2td47sgb_m0000gn/T/ipykernel_29122/413030651.py:16: FutureWarning:\n",
      "\n",
      "Passing 'suffixes' which cause duplicate columns {'type_geo_y'} in the result is deprecated and will raise a MergeError in a future version.\n",
      "\n",
      "/opt/homebrew/Caskroom/miniforge/base/envs/py3/lib/python3.9/site-packages/sklearn/neighbors/_classification.py:198: DataConversionWarning:\n",
      "\n",
      "A column-vector y was passed when a 1d array was expected. Please change the shape of y to (n_samples,), for example using ravel().\n",
      "\n",
      "/var/folders/8g/rym67m5d29dcjm2td47sgb_m0000gn/T/ipykernel_29122/413030651.py:25: SettingWithCopyWarning:\n",
      "\n",
      "\n",
      "A value is trying to be set on a copy of a slice from a DataFrame.\n",
      "Try using .loc[row_indexer,col_indexer] = value instead\n",
      "\n",
      "See the caveats in the documentation: https://pandas.pydata.org/pandas-docs/stable/user_guide/indexing.html#returning-a-view-versus-a-copy\n",
      "\n",
      "/var/folders/8g/rym67m5d29dcjm2td47sgb_m0000gn/T/ipykernel_29122/413030651.py:16: FutureWarning:\n",
      "\n",
      "Passing 'suffixes' which cause duplicate columns {'Z_y', 'type_geo_y'} in the result is deprecated and will raise a MergeError in a future version.\n",
      "\n"
     ]
    },
    {
     "name": "stdout",
     "output_type": "stream",
     "text": [
      "17296\n"
     ]
    },
    {
     "name": "stderr",
     "output_type": "stream",
     "text": [
      "/opt/homebrew/Caskroom/miniforge/base/envs/py3/lib/python3.9/site-packages/sklearn/neighbors/_classification.py:198: DataConversionWarning:\n",
      "\n",
      "A column-vector y was passed when a 1d array was expected. Please change the shape of y to (n_samples,), for example using ravel().\n",
      "\n",
      "/var/folders/8g/rym67m5d29dcjm2td47sgb_m0000gn/T/ipykernel_29122/413030651.py:25: SettingWithCopyWarning:\n",
      "\n",
      "\n",
      "A value is trying to be set on a copy of a slice from a DataFrame.\n",
      "Try using .loc[row_indexer,col_indexer] = value instead\n",
      "\n",
      "See the caveats in the documentation: https://pandas.pydata.org/pandas-docs/stable/user_guide/indexing.html#returning-a-view-versus-a-copy\n",
      "\n"
     ]
    },
    {
     "name": "stdout",
     "output_type": "stream",
     "text": [
      "14788\n"
     ]
    },
    {
     "name": "stderr",
     "output_type": "stream",
     "text": [
      "/var/folders/8g/rym67m5d29dcjm2td47sgb_m0000gn/T/ipykernel_29122/413030651.py:16: FutureWarning:\n",
      "\n",
      "Passing 'suffixes' which cause duplicate columns {'type_geo_y'} in the result is deprecated and will raise a MergeError in a future version.\n",
      "\n",
      "/opt/homebrew/Caskroom/miniforge/base/envs/py3/lib/python3.9/site-packages/sklearn/neighbors/_classification.py:198: DataConversionWarning:\n",
      "\n",
      "A column-vector y was passed when a 1d array was expected. Please change the shape of y to (n_samples,), for example using ravel().\n",
      "\n",
      "/var/folders/8g/rym67m5d29dcjm2td47sgb_m0000gn/T/ipykernel_29122/413030651.py:25: SettingWithCopyWarning:\n",
      "\n",
      "\n",
      "A value is trying to be set on a copy of a slice from a DataFrame.\n",
      "Try using .loc[row_indexer,col_indexer] = value instead\n",
      "\n",
      "See the caveats in the documentation: https://pandas.pydata.org/pandas-docs/stable/user_guide/indexing.html#returning-a-view-versus-a-copy\n",
      "\n"
     ]
    },
    {
     "name": "stdout",
     "output_type": "stream",
     "text": [
      "17296\n"
     ]
    },
    {
     "name": "stderr",
     "output_type": "stream",
     "text": [
      "/var/folders/8g/rym67m5d29dcjm2td47sgb_m0000gn/T/ipykernel_29122/413030651.py:16: FutureWarning:\n",
      "\n",
      "Passing 'suffixes' which cause duplicate columns {'Z_y', 'type_geo_y'} in the result is deprecated and will raise a MergeError in a future version.\n",
      "\n",
      "/opt/homebrew/Caskroom/miniforge/base/envs/py3/lib/python3.9/site-packages/sklearn/neighbors/_classification.py:198: DataConversionWarning:\n",
      "\n",
      "A column-vector y was passed when a 1d array was expected. Please change the shape of y to (n_samples,), for example using ravel().\n",
      "\n",
      "/var/folders/8g/rym67m5d29dcjm2td47sgb_m0000gn/T/ipykernel_29122/413030651.py:25: SettingWithCopyWarning:\n",
      "\n",
      "\n",
      "A value is trying to be set on a copy of a slice from a DataFrame.\n",
      "Try using .loc[row_indexer,col_indexer] = value instead\n",
      "\n",
      "See the caveats in the documentation: https://pandas.pydata.org/pandas-docs/stable/user_guide/indexing.html#returning-a-view-versus-a-copy\n",
      "\n"
     ]
    },
    {
     "name": "stdout",
     "output_type": "stream",
     "text": [
      "14788\n"
     ]
    },
    {
     "name": "stderr",
     "output_type": "stream",
     "text": [
      "/var/folders/8g/rym67m5d29dcjm2td47sgb_m0000gn/T/ipykernel_29122/413030651.py:16: FutureWarning:\n",
      "\n",
      "Passing 'suffixes' which cause duplicate columns {'type_geo_y'} in the result is deprecated and will raise a MergeError in a future version.\n",
      "\n",
      "/opt/homebrew/Caskroom/miniforge/base/envs/py3/lib/python3.9/site-packages/sklearn/neighbors/_classification.py:198: DataConversionWarning:\n",
      "\n",
      "A column-vector y was passed when a 1d array was expected. Please change the shape of y to (n_samples,), for example using ravel().\n",
      "\n",
      "/var/folders/8g/rym67m5d29dcjm2td47sgb_m0000gn/T/ipykernel_29122/413030651.py:25: SettingWithCopyWarning:\n",
      "\n",
      "\n",
      "A value is trying to be set on a copy of a slice from a DataFrame.\n",
      "Try using .loc[row_indexer,col_indexer] = value instead\n",
      "\n",
      "See the caveats in the documentation: https://pandas.pydata.org/pandas-docs/stable/user_guide/indexing.html#returning-a-view-versus-a-copy\n",
      "\n",
      "/var/folders/8g/rym67m5d29dcjm2td47sgb_m0000gn/T/ipykernel_29122/413030651.py:16: FutureWarning:\n",
      "\n",
      "Passing 'suffixes' which cause duplicate columns {'Z_y', 'type_geo_y'} in the result is deprecated and will raise a MergeError in a future version.\n",
      "\n"
     ]
    },
    {
     "name": "stdout",
     "output_type": "stream",
     "text": [
      "17296\n"
     ]
    },
    {
     "name": "stderr",
     "output_type": "stream",
     "text": [
      "/opt/homebrew/Caskroom/miniforge/base/envs/py3/lib/python3.9/site-packages/sklearn/neighbors/_classification.py:198: DataConversionWarning:\n",
      "\n",
      "A column-vector y was passed when a 1d array was expected. Please change the shape of y to (n_samples,), for example using ravel().\n",
      "\n",
      "/var/folders/8g/rym67m5d29dcjm2td47sgb_m0000gn/T/ipykernel_29122/413030651.py:25: SettingWithCopyWarning:\n",
      "\n",
      "\n",
      "A value is trying to be set on a copy of a slice from a DataFrame.\n",
      "Try using .loc[row_indexer,col_indexer] = value instead\n",
      "\n",
      "See the caveats in the documentation: https://pandas.pydata.org/pandas-docs/stable/user_guide/indexing.html#returning-a-view-versus-a-copy\n",
      "\n"
     ]
    },
    {
     "name": "stdout",
     "output_type": "stream",
     "text": [
      "14788\n"
     ]
    },
    {
     "name": "stderr",
     "output_type": "stream",
     "text": [
      "/var/folders/8g/rym67m5d29dcjm2td47sgb_m0000gn/T/ipykernel_29122/413030651.py:16: FutureWarning:\n",
      "\n",
      "Passing 'suffixes' which cause duplicate columns {'type_geo_y'} in the result is deprecated and will raise a MergeError in a future version.\n",
      "\n",
      "/opt/homebrew/Caskroom/miniforge/base/envs/py3/lib/python3.9/site-packages/sklearn/neighbors/_classification.py:198: DataConversionWarning:\n",
      "\n",
      "A column-vector y was passed when a 1d array was expected. Please change the shape of y to (n_samples,), for example using ravel().\n",
      "\n",
      "/var/folders/8g/rym67m5d29dcjm2td47sgb_m0000gn/T/ipykernel_29122/413030651.py:25: SettingWithCopyWarning:\n",
      "\n",
      "\n",
      "A value is trying to be set on a copy of a slice from a DataFrame.\n",
      "Try using .loc[row_indexer,col_indexer] = value instead\n",
      "\n",
      "See the caveats in the documentation: https://pandas.pydata.org/pandas-docs/stable/user_guide/indexing.html#returning-a-view-versus-a-copy\n",
      "\n",
      "/var/folders/8g/rym67m5d29dcjm2td47sgb_m0000gn/T/ipykernel_29122/413030651.py:16: FutureWarning:\n",
      "\n",
      "Passing 'suffixes' which cause duplicate columns {'Z_y', 'type_geo_y'} in the result is deprecated and will raise a MergeError in a future version.\n",
      "\n"
     ]
    },
    {
     "name": "stdout",
     "output_type": "stream",
     "text": [
      "17296\n"
     ]
    },
    {
     "name": "stderr",
     "output_type": "stream",
     "text": [
      "/opt/homebrew/Caskroom/miniforge/base/envs/py3/lib/python3.9/site-packages/sklearn/neighbors/_classification.py:198: DataConversionWarning:\n",
      "\n",
      "A column-vector y was passed when a 1d array was expected. Please change the shape of y to (n_samples,), for example using ravel().\n",
      "\n",
      "/var/folders/8g/rym67m5d29dcjm2td47sgb_m0000gn/T/ipykernel_29122/413030651.py:25: SettingWithCopyWarning:\n",
      "\n",
      "\n",
      "A value is trying to be set on a copy of a slice from a DataFrame.\n",
      "Try using .loc[row_indexer,col_indexer] = value instead\n",
      "\n",
      "See the caveats in the documentation: https://pandas.pydata.org/pandas-docs/stable/user_guide/indexing.html#returning-a-view-versus-a-copy\n",
      "\n",
      "/var/folders/8g/rym67m5d29dcjm2td47sgb_m0000gn/T/ipykernel_29122/413030651.py:16: FutureWarning:\n",
      "\n",
      "Passing 'suffixes' which cause duplicate columns {'type_geo_y'} in the result is deprecated and will raise a MergeError in a future version.\n",
      "\n"
     ]
    },
    {
     "name": "stdout",
     "output_type": "stream",
     "text": [
      "14788\n"
     ]
    },
    {
     "ename": "KeyboardInterrupt",
     "evalue": "",
     "output_type": "error",
     "traceback": [
      "\u001b[0;31m---------------------------------------------------------------------------\u001b[0m",
      "\u001b[0;31mKeyboardInterrupt\u001b[0m                         Traceback (most recent call last)",
      "\u001b[1;32m/Users/joaoalmeida/Desktop/dport/2/geography.ipynb Cell 4\u001b[0m in \u001b[0;36m<module>\u001b[0;34m\u001b[0m\n\u001b[1;32m     <a href='vscode-notebook-cell:/Users/joaoalmeida/Desktop/dport/2/geography.ipynb#W3sZmlsZQ%3D%3D?line=13'>14</a>\u001b[0m neigh \u001b[39m=\u001b[39m KNeighborsClassifier(n_neighbors\u001b[39m=\u001b[39mk)\n\u001b[1;32m     <a href='vscode-notebook-cell:/Users/joaoalmeida/Desktop/dport/2/geography.ipynb#W3sZmlsZQ%3D%3D?line=15'>16</a>\u001b[0m country_merg \u001b[39m=\u001b[39m country\u001b[39m.\u001b[39mmerge(unknown, on\u001b[39m=\u001b[39m[\u001b[39m'\u001b[39m\u001b[39mX\u001b[39m\u001b[39m'\u001b[39m,\u001b[39m'\u001b[39m\u001b[39mY\u001b[39m\u001b[39m'\u001b[39m], how\u001b[39m=\u001b[39m\u001b[39m'\u001b[39m\u001b[39mleft\u001b[39m\u001b[39m'\u001b[39m)\n\u001b[0;32m---> <a href='vscode-notebook-cell:/Users/joaoalmeida/Desktop/dport/2/geography.ipynb#W3sZmlsZQ%3D%3D?line=16'>17</a>\u001b[0m country_merg[\u001b[39m'\u001b[39m\u001b[39mtype_geo_x\u001b[39m\u001b[39m'\u001b[39m] \u001b[39m=\u001b[39m country_merg[[\u001b[39m'\u001b[39;49m\u001b[39mtype_geo_x\u001b[39;49m\u001b[39m'\u001b[39;49m, \u001b[39m'\u001b[39;49m\u001b[39mtype_geo_y\u001b[39;49m\u001b[39m'\u001b[39;49m]]\u001b[39m.\u001b[39;49mmax(axis\u001b[39m=\u001b[39;49m\u001b[39m1\u001b[39;49m)\n\u001b[1;32m     <a href='vscode-notebook-cell:/Users/joaoalmeida/Desktop/dport/2/geography.ipynb#W3sZmlsZQ%3D%3D?line=17'>18</a>\u001b[0m country_merg[\u001b[39m'\u001b[39m\u001b[39mtype_geo_x\u001b[39m\u001b[39m'\u001b[39m] \u001b[39m=\u001b[39m country_merg[\u001b[39m'\u001b[39m\u001b[39mtype_geo_x\u001b[39m\u001b[39m'\u001b[39m]\u001b[39m.\u001b[39mfillna(\u001b[39m0\u001b[39m)\n\u001b[1;32m     <a href='vscode-notebook-cell:/Users/joaoalmeida/Desktop/dport/2/geography.ipynb#W3sZmlsZQ%3D%3D?line=18'>19</a>\u001b[0m country_merg\u001b[39m.\u001b[39mdrop([\u001b[39m'\u001b[39m\u001b[39mtype_geo_y\u001b[39m\u001b[39m'\u001b[39m, \u001b[39m'\u001b[39m\u001b[39mZ_y\u001b[39m\u001b[39m'\u001b[39m], axis\u001b[39m=\u001b[39m\u001b[39m1\u001b[39m)\n",
      "File \u001b[0;32m/opt/homebrew/Caskroom/miniforge/base/envs/py3/lib/python3.9/site-packages/pandas/core/generic.py:11212\u001b[0m, in \u001b[0;36mNDFrame._add_numeric_operations.<locals>.max\u001b[0;34m(self, axis, skipna, level, numeric_only, **kwargs)\u001b[0m\n\u001b[1;32m  11192\u001b[0m \u001b[39m@doc\u001b[39m(  \u001b[39m# type: ignore[misc]\u001b[39;00m\n\u001b[1;32m  11193\u001b[0m     _num_doc,\n\u001b[1;32m  11194\u001b[0m     desc\u001b[39m=\u001b[39m\u001b[39m\"\u001b[39m\u001b[39mReturn the maximum of the values over the requested axis.\u001b[39m\u001b[39m\\n\u001b[39;00m\u001b[39m\\n\u001b[39;00m\u001b[39m\"\u001b[39m\n\u001b[0;32m   (...)\u001b[0m\n\u001b[1;32m  11210\u001b[0m     \u001b[39m*\u001b[39m\u001b[39m*\u001b[39mkwargs,\n\u001b[1;32m  11211\u001b[0m ):\n\u001b[0;32m> 11212\u001b[0m     \u001b[39mreturn\u001b[39;00m NDFrame\u001b[39m.\u001b[39;49mmax(\u001b[39mself\u001b[39;49m, axis, skipna, level, numeric_only, \u001b[39m*\u001b[39;49m\u001b[39m*\u001b[39;49mkwargs)\n",
      "File \u001b[0;32m/opt/homebrew/Caskroom/miniforge/base/envs/py3/lib/python3.9/site-packages/pandas/core/generic.py:10669\u001b[0m, in \u001b[0;36mNDFrame.max\u001b[0;34m(self, axis, skipna, level, numeric_only, **kwargs)\u001b[0m\n\u001b[1;32m  10661\u001b[0m \u001b[39mdef\u001b[39;00m \u001b[39mmax\u001b[39m(\n\u001b[1;32m  10662\u001b[0m     \u001b[39mself\u001b[39m,\n\u001b[1;32m  10663\u001b[0m     axis: Axis \u001b[39m|\u001b[39m \u001b[39mNone\u001b[39;00m \u001b[39m|\u001b[39m lib\u001b[39m.\u001b[39mNoDefault \u001b[39m=\u001b[39m lib\u001b[39m.\u001b[39mno_default,\n\u001b[0;32m   (...)\u001b[0m\n\u001b[1;32m  10667\u001b[0m     \u001b[39m*\u001b[39m\u001b[39m*\u001b[39mkwargs,\n\u001b[1;32m  10668\u001b[0m ):\n\u001b[0;32m> 10669\u001b[0m     \u001b[39mreturn\u001b[39;00m \u001b[39mself\u001b[39;49m\u001b[39m.\u001b[39;49m_stat_function(\n\u001b[1;32m  10670\u001b[0m         \u001b[39m\"\u001b[39;49m\u001b[39mmax\u001b[39;49m\u001b[39m\"\u001b[39;49m,\n\u001b[1;32m  10671\u001b[0m         nanops\u001b[39m.\u001b[39;49mnanmax,\n\u001b[1;32m  10672\u001b[0m         axis,\n\u001b[1;32m  10673\u001b[0m         skipna,\n\u001b[1;32m  10674\u001b[0m         level,\n\u001b[1;32m  10675\u001b[0m         numeric_only,\n\u001b[1;32m  10676\u001b[0m         \u001b[39m*\u001b[39;49m\u001b[39m*\u001b[39;49mkwargs,\n\u001b[1;32m  10677\u001b[0m     )\n",
      "File \u001b[0;32m/opt/homebrew/Caskroom/miniforge/base/envs/py3/lib/python3.9/site-packages/pandas/core/generic.py:10639\u001b[0m, in \u001b[0;36mNDFrame._stat_function\u001b[0;34m(self, name, func, axis, skipna, level, numeric_only, **kwargs)\u001b[0m\n\u001b[1;32m  10629\u001b[0m     warnings\u001b[39m.\u001b[39mwarn(\n\u001b[1;32m  10630\u001b[0m         \u001b[39m\"\u001b[39m\u001b[39mUsing the level keyword in DataFrame and Series aggregations is \u001b[39m\u001b[39m\"\u001b[39m\n\u001b[1;32m  10631\u001b[0m         \u001b[39m\"\u001b[39m\u001b[39mdeprecated and will be removed in a future version. Use groupby \u001b[39m\u001b[39m\"\u001b[39m\n\u001b[0;32m   (...)\u001b[0m\n\u001b[1;32m  10634\u001b[0m         stacklevel\u001b[39m=\u001b[39mfind_stack_level(),\n\u001b[1;32m  10635\u001b[0m     )\n\u001b[1;32m  10636\u001b[0m     \u001b[39mreturn\u001b[39;00m \u001b[39mself\u001b[39m\u001b[39m.\u001b[39m_agg_by_level(\n\u001b[1;32m  10637\u001b[0m         name, axis\u001b[39m=\u001b[39maxis, level\u001b[39m=\u001b[39mlevel, skipna\u001b[39m=\u001b[39mskipna, numeric_only\u001b[39m=\u001b[39mnumeric_only\n\u001b[1;32m  10638\u001b[0m     )\n\u001b[0;32m> 10639\u001b[0m \u001b[39mreturn\u001b[39;00m \u001b[39mself\u001b[39;49m\u001b[39m.\u001b[39;49m_reduce(\n\u001b[1;32m  10640\u001b[0m     func, name\u001b[39m=\u001b[39;49mname, axis\u001b[39m=\u001b[39;49maxis, skipna\u001b[39m=\u001b[39;49mskipna, numeric_only\u001b[39m=\u001b[39;49mnumeric_only\n\u001b[1;32m  10641\u001b[0m )\n",
      "File \u001b[0;32m/opt/homebrew/Caskroom/miniforge/base/envs/py3/lib/python3.9/site-packages/pandas/core/frame.py:10045\u001b[0m, in \u001b[0;36mDataFrame._reduce\u001b[0;34m(self, op, name, axis, skipna, numeric_only, filter_type, **kwds)\u001b[0m\n\u001b[1;32m  10042\u001b[0m values \u001b[39m=\u001b[39m data\u001b[39m.\u001b[39mvalues\n\u001b[1;32m  10044\u001b[0m \u001b[39mtry\u001b[39;00m:\n\u001b[0;32m> 10045\u001b[0m     result \u001b[39m=\u001b[39m func(values)\n\u001b[1;32m  10047\u001b[0m \u001b[39mexcept\u001b[39;00m \u001b[39mTypeError\u001b[39;00m:\n\u001b[1;32m  10048\u001b[0m     \u001b[39m# e.g. in nanops trying to convert strs to float\u001b[39;00m\n\u001b[1;32m  10050\u001b[0m     data \u001b[39m=\u001b[39m _get_data()\n",
      "File \u001b[0;32m/opt/homebrew/Caskroom/miniforge/base/envs/py3/lib/python3.9/site-packages/pandas/core/frame.py:9976\u001b[0m, in \u001b[0;36mDataFrame._reduce.<locals>.func\u001b[0;34m(values)\u001b[0m\n\u001b[1;32m   9974\u001b[0m \u001b[39mdef\u001b[39;00m \u001b[39mfunc\u001b[39m(values: np\u001b[39m.\u001b[39mndarray):\n\u001b[1;32m   9975\u001b[0m     \u001b[39m# We only use this in the case that operates on self.values\u001b[39;00m\n\u001b[0;32m-> 9976\u001b[0m     \u001b[39mreturn\u001b[39;00m op(values, axis\u001b[39m=\u001b[39;49maxis, skipna\u001b[39m=\u001b[39;49mskipna, \u001b[39m*\u001b[39;49m\u001b[39m*\u001b[39;49mkwds)\n",
      "File \u001b[0;32m/opt/homebrew/Caskroom/miniforge/base/envs/py3/lib/python3.9/site-packages/pandas/core/nanops.py:155\u001b[0m, in \u001b[0;36mbottleneck_switch.__call__.<locals>.f\u001b[0;34m(values, axis, skipna, **kwds)\u001b[0m\n\u001b[1;32m    153\u001b[0m         result \u001b[39m=\u001b[39m alt(values, axis\u001b[39m=\u001b[39maxis, skipna\u001b[39m=\u001b[39mskipna, \u001b[39m*\u001b[39m\u001b[39m*\u001b[39mkwds)\n\u001b[1;32m    154\u001b[0m \u001b[39melse\u001b[39;00m:\n\u001b[0;32m--> 155\u001b[0m     result \u001b[39m=\u001b[39m alt(values, axis\u001b[39m=\u001b[39;49maxis, skipna\u001b[39m=\u001b[39;49mskipna, \u001b[39m*\u001b[39;49m\u001b[39m*\u001b[39;49mkwds)\n\u001b[1;32m    157\u001b[0m \u001b[39mreturn\u001b[39;00m result\n",
      "File \u001b[0;32m/opt/homebrew/Caskroom/miniforge/base/envs/py3/lib/python3.9/site-packages/pandas/core/nanops.py:410\u001b[0m, in \u001b[0;36m_datetimelike_compat.<locals>.new_func\u001b[0;34m(values, axis, skipna, mask, **kwargs)\u001b[0m\n\u001b[1;32m    407\u001b[0m \u001b[39mif\u001b[39;00m datetimelike \u001b[39mand\u001b[39;00m mask \u001b[39mis\u001b[39;00m \u001b[39mNone\u001b[39;00m:\n\u001b[1;32m    408\u001b[0m     mask \u001b[39m=\u001b[39m isna(values)\n\u001b[0;32m--> 410\u001b[0m result \u001b[39m=\u001b[39m func(values, axis\u001b[39m=\u001b[39;49maxis, skipna\u001b[39m=\u001b[39;49mskipna, mask\u001b[39m=\u001b[39;49mmask, \u001b[39m*\u001b[39;49m\u001b[39m*\u001b[39;49mkwargs)\n\u001b[1;32m    412\u001b[0m \u001b[39mif\u001b[39;00m datetimelike:\n\u001b[1;32m    413\u001b[0m     result \u001b[39m=\u001b[39m _wrap_results(result, orig_values\u001b[39m.\u001b[39mdtype, fill_value\u001b[39m=\u001b[39miNaT)\n",
      "File \u001b[0;32m/opt/homebrew/Caskroom/miniforge/base/envs/py3/lib/python3.9/site-packages/pandas/core/nanops.py:1032\u001b[0m, in \u001b[0;36m_nanminmax.<locals>.reduction\u001b[0;34m(values, axis, skipna, mask)\u001b[0m\n\u001b[1;32m   1022\u001b[0m \u001b[39m@bottleneck_switch\u001b[39m(name\u001b[39m=\u001b[39m\u001b[39m\"\u001b[39m\u001b[39mnan\u001b[39m\u001b[39m\"\u001b[39m \u001b[39m+\u001b[39m meth)\n\u001b[1;32m   1023\u001b[0m \u001b[39m@_datetimelike_compat\u001b[39m\n\u001b[1;32m   1024\u001b[0m \u001b[39mdef\u001b[39;00m \u001b[39mreduction\u001b[39m(\n\u001b[0;32m   (...)\u001b[0m\n\u001b[1;32m   1029\u001b[0m     mask: npt\u001b[39m.\u001b[39mNDArray[np\u001b[39m.\u001b[39mbool_] \u001b[39m|\u001b[39m \u001b[39mNone\u001b[39;00m \u001b[39m=\u001b[39m \u001b[39mNone\u001b[39;00m,\n\u001b[1;32m   1030\u001b[0m ) \u001b[39m-\u001b[39m\u001b[39m>\u001b[39m Dtype:\n\u001b[0;32m-> 1032\u001b[0m     values, mask, dtype, dtype_max, fill_value \u001b[39m=\u001b[39m _get_values(\n\u001b[1;32m   1033\u001b[0m         values, skipna, fill_value_typ\u001b[39m=\u001b[39;49mfill_value_typ, mask\u001b[39m=\u001b[39;49mmask\n\u001b[1;32m   1034\u001b[0m     )\n\u001b[1;32m   1036\u001b[0m     \u001b[39mif\u001b[39;00m (axis \u001b[39mis\u001b[39;00m \u001b[39mnot\u001b[39;00m \u001b[39mNone\u001b[39;00m \u001b[39mand\u001b[39;00m values\u001b[39m.\u001b[39mshape[axis] \u001b[39m==\u001b[39m \u001b[39m0\u001b[39m) \u001b[39mor\u001b[39;00m values\u001b[39m.\u001b[39msize \u001b[39m==\u001b[39m \u001b[39m0\u001b[39m:\n\u001b[1;32m   1037\u001b[0m         \u001b[39mtry\u001b[39;00m:\n",
      "File \u001b[0;32m/opt/homebrew/Caskroom/miniforge/base/envs/py3/lib/python3.9/site-packages/pandas/core/nanops.py:330\u001b[0m, in \u001b[0;36m_get_values\u001b[0;34m(values, skipna, fill_value, fill_value_typ, mask)\u001b[0m\n\u001b[1;32m    328\u001b[0m \u001b[39mif\u001b[39;00m mask\u001b[39m.\u001b[39many():\n\u001b[1;32m    329\u001b[0m     \u001b[39mif\u001b[39;00m dtype_ok \u001b[39mor\u001b[39;00m datetimelike:\n\u001b[0;32m--> 330\u001b[0m         values \u001b[39m=\u001b[39m values\u001b[39m.\u001b[39;49mcopy()\n\u001b[1;32m    331\u001b[0m         np\u001b[39m.\u001b[39mputmask(values, mask, fill_value)\n\u001b[1;32m    332\u001b[0m     \u001b[39melse\u001b[39;00m:\n\u001b[1;32m    333\u001b[0m         \u001b[39m# np.where will promote if needed\u001b[39;00m\n",
      "\u001b[0;31mKeyboardInterrupt\u001b[0m: "
     ]
    }
   ],
   "source": [
    "from sklearn.neighbors import KNeighborsClassifier\n",
    "unknown = country[country['type_geo'] == 0]\n",
    "\n",
    "k= 8\n",
    "neigh = KNeighborsClassifier(n_neighbors=k)\n",
    "neigh.fit(country[['X','Y']], country[['type_geo']])\n",
    "unknown['type_geo'] = neigh.predict(unknown[['X','Y']])\n",
    "\n",
    "anyUnknown = True\n",
    "\n",
    "while anyUnknown:\n",
    "    anyUnknown = False\n",
    "    \n",
    "    neigh = KNeighborsClassifier(n_neighbors=k)\n",
    "    \n",
    "    country_merg = country.merge(unknown, on=['X','Y'], how='left')\n",
    "    country_merg['type_geo_x'] = country_merg[['type_geo_x', 'type_geo_y']].max(axis=1)\n",
    "    country_merg['type_geo_x'] = country_merg['type_geo_x'].fillna(0)\n",
    "    country_merg.drop(['type_geo_y', 'Z_y'], axis=1)\n",
    "    country_merg=country_merg.rename(columns = {'type_geo_x':'type_geo'})\n",
    "\n",
    "    unknown = country_merg[country_merg['type_geo'] == 0]\n",
    "\n",
    "    neigh.fit(country_merg[['X','Y']], country_merg[['type_geo']])\n",
    "    unknown['type_geo'] = neigh.predict(unknown[['X','Y']])\n",
    "\n",
    "    print((country_merg['type_geo'] == 0).sum())\n",
    "    \n",
    "    if (0 in set(country_merg['type_geo'])) == True:\n",
    "        anyUnknown = True\n",
    "\n",
    "#country_merg.drop(columns=['type_geo_y'])\n",
    "\n",
    "# HOW TO: python set converging point\n",
    "# EXPECTATION MAXIMIZATION ??\n"
   ]
  },
  {
   "cell_type": "code",
   "execution_count": 7,
   "metadata": {},
   "outputs": [
    {
     "data": {
      "text/plain": [
       "array([2, 0, 1])"
      ]
     },
     "execution_count": 7,
     "metadata": {},
     "output_type": "execute_result"
    }
   ],
   "source": [
    "country[\"type_geo\"].unique()"
   ]
  },
  {
   "cell_type": "code",
   "execution_count": null,
   "metadata": {},
   "outputs": [],
   "source": []
  }
 ],
 "metadata": {
  "kernelspec": {
   "display_name": "Python 3.9.10 ('py3')",
   "language": "python",
   "name": "python3"
  },
  "language_info": {
   "codemirror_mode": {
    "name": "ipython",
    "version": 3
   },
   "file_extension": ".py",
   "mimetype": "text/x-python",
   "name": "python",
   "nbconvert_exporter": "python",
   "pygments_lexer": "ipython3",
   "version": "3.9.10"
  },
  "orig_nbformat": 4,
  "vscode": {
   "interpreter": {
    "hash": "decfb96486dd89f89c2598b4e0cc278601247f7ab503e483e1f0537bf3d725c0"
   }
  }
 },
 "nbformat": 4,
 "nbformat_minor": 2
}
