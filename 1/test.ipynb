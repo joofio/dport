{
 "cells": [
  {
   "cell_type": "code",
   "execution_count": 11,
   "metadata": {},
   "outputs": [],
   "source": [
    "import pandas as pd\n",
    "import geopandas\n",
    "from shapely.geometry import shape, Point\n",
    "import pandas as pd\n",
    "from geopandas.tools import sjoin\n",
    "import xarray as xr\n",
    "import numpy as np\n",
    "\n",
    "ds = xr.open_dataset('PM25/GWRwSPEC_PM25_EU_199801_199812-RH35.nc')\n",
    "df = ds.to_dataframe()\n",
    "df = df.reset_index()\n",
    "df = df[df.PM25 > 0]\n",
    "df = df.head(1000)\n",
    "\n",
    "nuts = geopandas.read_file('nuts/NUTS_RG_20M_2021_3035.shp')\n",
    "nuts = nuts.set_crs(\"EPSG:3035\").to_crs(\"WGS84\")"
   ]
  },
  {
   "cell_type": "code",
   "execution_count": 25,
   "metadata": {},
   "outputs": [
    {
     "name": "stderr",
     "output_type": "stream",
     "text": [
      "/var/folders/8g/rym67m5d29dcjm2td47sgb_m0000gn/T/ipykernel_27843/1825436319.py:4: UserWarning: Geometry is in a geographic CRS. Results from 'distance' are likely incorrect. Use 'GeoSeries.to_crs()' to re-project geometries to a projected CRS before this operation.\n",
      "\n",
      "  sum(nuts[\"geometry\"].distance(point))\n"
     ]
    },
    {
     "data": {
      "text/plain": [
       "65039.873334505224"
      ]
     },
     "execution_count": 25,
     "metadata": {},
     "output_type": "execute_result"
    }
   ],
   "source": [
    "point=Point(-14.994999885559082, 66.34500122070312)\n",
    "sum(nuts[\"geometry\"].covers(point))\n",
    "sum(nuts[\"geometry\"].within(point))\n",
    "\n"
   ]
  },
  {
   "cell_type": "code",
   "execution_count": 38,
   "metadata": {},
   "outputs": [],
   "source": [
    "THRESHOLD=5"
   ]
  },
  {
   "cell_type": "code",
   "execution_count": 44,
   "metadata": {},
   "outputs": [
    {
     "name": "stdout",
     "output_type": "stream",
     "text": [
      "Not one polygon contains the point, checking distance...\n",
      "Not one polygon contains the point, checking distance...\n"
     ]
    },
    {
     "name": "stderr",
     "output_type": "stream",
     "text": [
      "/var/folders/8g/rym67m5d29dcjm2td47sgb_m0000gn/T/ipykernel_27843/180472959.py:14: UserWarning: Geometry is in a geographic CRS. Results from 'distance' are likely incorrect. Use 'GeoSeries.to_crs()' to re-project geometries to a projected CRS before this operation.\n",
      "\n",
      "  min_distance= nuts_inside[\"geometry\"].distance(point).min()\n",
      "/var/folders/8g/rym67m5d29dcjm2td47sgb_m0000gn/T/ipykernel_27843/180472959.py:15: UserWarning: Geometry is in a geographic CRS. Results from 'distance' are likely incorrect. Use 'GeoSeries.to_crs()' to re-project geometries to a projected CRS before this operation.\n",
      "\n",
      "  argx_min=nuts_inside[\"geometry\"].distance(point).idxmin()\n",
      "/var/folders/8g/rym67m5d29dcjm2td47sgb_m0000gn/T/ipykernel_27843/180472959.py:14: UserWarning: Geometry is in a geographic CRS. Results from 'distance' are likely incorrect. Use 'GeoSeries.to_crs()' to re-project geometries to a projected CRS before this operation.\n",
      "\n",
      "  min_distance= nuts_inside[\"geometry\"].distance(point).min()\n",
      "/var/folders/8g/rym67m5d29dcjm2td47sgb_m0000gn/T/ipykernel_27843/180472959.py:15: UserWarning: Geometry is in a geographic CRS. Results from 'distance' are likely incorrect. Use 'GeoSeries.to_crs()' to re-project geometries to a projected CRS before this operation.\n",
      "\n",
      "  argx_min=nuts_inside[\"geometry\"].distance(point).idxmin()\n"
     ]
    },
    {
     "data": {
      "text/plain": [
       "65    I\n",
       "66    I\n",
       "dtype: object"
      ]
     },
     "execution_count": 44,
     "metadata": {},
     "output_type": "execute_result"
    }
   ],
   "source": [
    "def findPointOnNUTS(nuts, lon:float, lat:float):\n",
    "    nuts_inside=nuts.copy()\n",
    "    point = Point(lon, lat)\n",
    "    #print(point)\n",
    "    # Filter level code NUTS III\n",
    "    nuts_inside = nuts_inside[nuts_inside.LEVL_CODE == 3]#[r.CNTR_CODE == 'PT']\n",
    "    #print(nuts_inside)\n",
    "    # Filter polygons containing the point\n",
    "    nuts_inside['contains'] = nuts_inside[\"geometry\"].contains(point)\n",
    "    nuts_val = nuts_inside[nuts_inside['contains']]\n",
    "    #print(nuts_val)\n",
    "    if len(nuts_val)==0:\n",
    "        print(\"Not one polygon contains the point, checking distance...\")\n",
    "        min_distance= nuts_inside[\"geometry\"].distance(point).min()\n",
    "        argx_min=nuts_inside[\"geometry\"].distance(point).idxmin()\n",
    "        if min_distance<THRESHOLD:\n",
    "            return nuts_inside.loc[argx_min].values[0]\n",
    "        else:\n",
    "            return None\n",
    "    else:\n",
    "        return nuts_val.values[0] \n",
    "\n",
    "#print(findPointOnNUTS(-9.255000114440918, 52.345001220703125))\n",
    "\n",
    "def coordinates(row,nuts_file=nuts):\n",
    "\n",
    "    result = findPointOnNUTS(nuts,row[\"LON\"].astype('float32'), row[\"LAT\"].astype('float32'))\n",
    "    \n",
    "    #print( row[\"LON\"], row[\"LAT\"], result)\n",
    "\n",
    "    if(result != None):\n",
    "        return result[0]\n",
    "    else:\n",
    "        return None\n",
    "\n",
    "#df[\"COUNTRY\"]=\n",
    "df.iloc[1:3,:].apply(lambda x: coordinates(x), axis=1)\n",
    "\n"
   ]
  },
  {
   "cell_type": "code",
   "execution_count": null,
   "metadata": {},
   "outputs": [],
   "source": []
  }
 ],
 "metadata": {
  "kernelspec": {
   "display_name": "Python 3.10.6 ('diana')",
   "language": "python",
   "name": "python3"
  },
  "language_info": {
   "codemirror_mode": {
    "name": "ipython",
    "version": 3
   },
   "file_extension": ".py",
   "mimetype": "text/x-python",
   "name": "python",
   "nbconvert_exporter": "python",
   "pygments_lexer": "ipython3",
   "version": "3.10.6"
  },
  "orig_nbformat": 4,
  "vscode": {
   "interpreter": {
    "hash": "f1ba91471f74444c56ca9b6e3b76b1f3927537e7995d4c38a2b95af52b72f64f"
   }
  }
 },
 "nbformat": 4,
 "nbformat_minor": 2
}
